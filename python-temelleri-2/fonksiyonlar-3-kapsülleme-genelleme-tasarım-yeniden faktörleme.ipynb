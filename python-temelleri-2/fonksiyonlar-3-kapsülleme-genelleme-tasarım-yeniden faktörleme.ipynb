{
  "cells": [
    {
      "cell_type": "markdown",
      "source": [
        "#Chapter 4- Case study: interface design\n",
        "\n",
        "https://greenteapress.com/thinkpython2/thinkpython2.pdf\n",
        "\n",
        "This chapter presents a case study that demonstrates a process for designing functions that\n",
        "work together.\n",
        "It introduces the turtle module, which allows you to create images using turtle graphics.\n",
        "The turtle module is included in most Python installations, but if you are running Python\n",
        "using PythonAnywhere, you won’t be able to run the turtle examples (at least you couldn’t\n",
        "when I wrote this).\n",
        "\n",
        "Code examples from this chapter are available from https://thinkpython.com/code/polygon.py.\n"
      ],
      "metadata": {
        "id": "YHhrEDJSZZt0"
      }
    },
    {
      "cell_type": "markdown",
      "source": [],
      "metadata": {
        "id": "Ou3EJo5LZlmq"
      }
    },
    {
      "cell_type": "code",
      "source": [
        "!pip3 install ColabTurtle\n",
        "# !pip3 install ColabTurtle komutu ile colab da çalışacak ColabTurtle modülünün kurulumu yapıldı."
      ],
      "metadata": {
        "id": "TauE7TRQZZ-G",
        "outputId": "bc95c0e5-a8f3-4418-9c30-7e4add18a7b0",
        "colab": {
          "base_uri": "https://localhost:8080/"
        }
      },
      "execution_count": 10,
      "outputs": [
        {
          "output_type": "stream",
          "name": "stdout",
          "text": [
            "Collecting ColabTurtle\n",
            "  Downloading ColabTurtle-2.1.0.tar.gz (6.8 kB)\n",
            "  Preparing metadata (setup.py) ... \u001b[?25l\u001b[?25hdone\n",
            "Building wheels for collected packages: ColabTurtle\n",
            "  Building wheel for ColabTurtle (setup.py) ... \u001b[?25l\u001b[?25hdone\n",
            "  Created wheel for ColabTurtle: filename=ColabTurtle-2.1.0-py3-none-any.whl size=7642 sha256=11d4dd46f33e33d1716701e77fd136d208f1bbbc4da822328bd7e66c06c948cf\n",
            "  Stored in directory: /root/.cache/pip/wheels/5b/86/e8/54f5c8c853606e3a3060bb2e60363cbed632374a12e0f33ffc\n",
            "Successfully built ColabTurtle\n",
            "Installing collected packages: ColabTurtle\n",
            "Successfully installed ColabTurtle-2.1.0\n"
          ]
        }
      ]
    },
    {
      "cell_type": "code",
      "source": [
        "#from ColabTurtle.Turtle import *"
      ],
      "metadata": {
        "id": "ARvnGk55auap"
      },
      "execution_count": null,
      "outputs": []
    },
    {
      "cell_type": "code",
      "source": [
        "#initializeTurtle()"
      ],
      "metadata": {
        "id": "XhKaQclxauSw"
      },
      "execution_count": null,
      "outputs": []
    },
    {
      "cell_type": "code",
      "source": [
        "import ColabTurtle.Turtle as bob\n",
        "\n",
        "#ColabTurtle modülünün içindeki Turtle fonksiyonunu(dosyasını) bob adlı bir değişkene atayıp içe aktarıyoruz.\n",
        "#bob olarak adlandırdığımız bir değişkene bir Turtle nesnesini atıyor.\n",
        ""
      ],
      "metadata": {
        "id": "GEX4KnF_a8za"
      },
      "execution_count": null,
      "outputs": []
    },
    {
      "cell_type": "code",
      "source": [
        "# bob'u yazdırmak istediğimizde, aşağıdaki gibi bir şey görüntülenir.Bu çıktı içe aktarılan modülün konumunu gösterir.\n",
        "print(bob)"
      ],
      "metadata": {
        "id": "XxZ-g9uUf2IQ",
        "outputId": "e37b42e6-000e-4577-c900-579076e37a8c",
        "colab": {
          "base_uri": "https://localhost:8080/"
        }
      },
      "execution_count": 5,
      "outputs": [
        {
          "output_type": "stream",
          "name": "stdout",
          "text": [
            "<module 'ColabTurtle.Turtle' from '/usr/local/lib/python3.10/dist-packages/ColabTurtle/Turtle.py'>\n"
          ]
        }
      ]
    },
    {
      "cell_type": "code",
      "source": [
        "# bob'u başlatmak için initializeTurtle() kodu kullanıyoruz.\n",
        "bob.initializeTurtle(initial_speed=1)"
      ],
      "metadata": {
        "id": "7Vls-hJja9qD",
        "outputId": "bcac5907-52f5-4934-a5a4-922268a184f1",
        "colab": {
          "base_uri": "https://localhost:8080/",
          "height": 521
        }
      },
      "execution_count": 9,
      "outputs": [
        {
          "output_type": "display_data",
          "data": {
            "text/plain": [
              "<IPython.core.display.HTML object>"
            ],
            "text/html": [
              "\n",
              "      <svg width=\"800\" height=\"500\">\n",
              "        <rect width=\"100%\" height=\"100%\" fill=\"black\"/>\n",
              "        \n",
              "        <g visibility=visible transform=\"rotate(360,400,250) translate(382, 232)\">\n",
              "<path style=\" stroke:none;fill-rule:evenodd;fill:white;fill-opacity:1;\" d=\"M 18.214844 0.632812 C 16.109375 1.800781 15.011719 4.074219 15.074219 7.132812 L 15.085938 7.652344 L 14.785156 7.496094 C 13.476562 6.824219 11.957031 6.671875 10.40625 7.066406 C 8.46875 7.550781 6.515625 9.15625 4.394531 11.992188 C 3.0625 13.777344 2.679688 14.636719 3.042969 15.027344 L 3.15625 15.152344 L 3.519531 15.152344 C 4.238281 15.152344 4.828125 14.886719 8.1875 13.039062 C 9.386719 12.378906 10.371094 11.839844 10.378906 11.839844 C 10.386719 11.839844 10.355469 11.929688 10.304688 12.035156 C 9.832031 13.09375 9.257812 14.820312 8.96875 16.078125 C 7.914062 20.652344 8.617188 24.53125 11.070312 27.660156 C 11.351562 28.015625 11.363281 27.914062 10.972656 28.382812 C 8.925781 30.84375 7.945312 33.28125 8.238281 35.1875 C 8.289062 35.527344 8.28125 35.523438 8.917969 35.523438 C 10.941406 35.523438 13.074219 34.207031 15.136719 31.6875 C 15.359375 31.417969 15.328125 31.425781 15.5625 31.574219 C 16.292969 32.042969 18.023438 32.964844 18.175781 32.964844 C 18.335938 32.964844 19.941406 32.210938 20.828125 31.71875 C 20.996094 31.625 21.136719 31.554688 21.136719 31.558594 C 21.203125 31.664062 21.898438 32.414062 22.222656 32.730469 C 23.835938 34.300781 25.5625 35.132812 27.582031 35.300781 C 27.90625 35.328125 27.9375 35.308594 28.007812 34.984375 C 28.382812 33.242188 27.625 30.925781 25.863281 28.425781 L 25.542969 27.96875 L 25.699219 27.785156 C 28.945312 23.960938 29.132812 18.699219 26.257812 11.96875 L 26.207031 11.84375 L 27.945312 12.703125 C 31.53125 14.476562 32.316406 14.800781 33.03125 14.800781 C 33.976562 14.800781 33.78125 13.9375 32.472656 12.292969 C 28.519531 7.355469 25.394531 5.925781 21.921875 7.472656 L 21.558594 7.636719 L 21.578125 7.542969 C 21.699219 6.992188 21.761719 5.742188 21.699219 5.164062 C 21.496094 3.296875 20.664062 1.964844 19.003906 0.855469 C 18.480469 0.503906 18.457031 0.5 18.214844 0.632812\"/>\n",
              "</g>\n",
              "      </svg>\n",
              "    "
            ]
          },
          "metadata": {}
        }
      ]
    },
    {
      "cell_type": "markdown",
      "source": [
        "Bir Kaplumbağa oluşturduğunuzda, onu pencerede hareket ettirmek için bir yöntem çağırabilirsiniz. Bir yöntem, bir fonksiyona benzer, ancak biraz farklı sözdizimi kullanır. Örneğin, kaplumbağayı ileri hareket ettirmek için:"
      ],
      "metadata": {
        "id": "q2roePOrjot5"
      }
    },
    {
      "cell_type": "code",
      "source": [
        "bob.fd(100)"
      ],
      "metadata": {
        "id": "pIRBR-ghjm6f",
        "outputId": "bb6689f0-51e3-418d-e38b-da9e0b6fa3d9",
        "colab": {
          "base_uri": "https://localhost:8080/",
          "height": 521
        }
      },
      "execution_count": 7,
      "outputs": [
        {
          "output_type": "display_data",
          "data": {
            "text/plain": [
              "<IPython.core.display.HTML object>"
            ],
            "text/html": [
              "\n",
              "      <svg width=\"800\" height=\"500\">\n",
              "        <rect width=\"100%\" height=\"100%\" fill=\"black\"/>\n",
              "        <line x1=\"400\" y1=\"250\" x2=\"400.0\" y2=\"150.0\" stroke-linecap=\"round\" style=\"stroke:white;stroke-width:4\"/>\n",
              "        <g visibility=visible transform=\"rotate(360,400.0,150.0) translate(382.0, 132.0)\">\n",
              "<path style=\" stroke:none;fill-rule:evenodd;fill:white;fill-opacity:1;\" d=\"M 18.214844 0.632812 C 16.109375 1.800781 15.011719 4.074219 15.074219 7.132812 L 15.085938 7.652344 L 14.785156 7.496094 C 13.476562 6.824219 11.957031 6.671875 10.40625 7.066406 C 8.46875 7.550781 6.515625 9.15625 4.394531 11.992188 C 3.0625 13.777344 2.679688 14.636719 3.042969 15.027344 L 3.15625 15.152344 L 3.519531 15.152344 C 4.238281 15.152344 4.828125 14.886719 8.1875 13.039062 C 9.386719 12.378906 10.371094 11.839844 10.378906 11.839844 C 10.386719 11.839844 10.355469 11.929688 10.304688 12.035156 C 9.832031 13.09375 9.257812 14.820312 8.96875 16.078125 C 7.914062 20.652344 8.617188 24.53125 11.070312 27.660156 C 11.351562 28.015625 11.363281 27.914062 10.972656 28.382812 C 8.925781 30.84375 7.945312 33.28125 8.238281 35.1875 C 8.289062 35.527344 8.28125 35.523438 8.917969 35.523438 C 10.941406 35.523438 13.074219 34.207031 15.136719 31.6875 C 15.359375 31.417969 15.328125 31.425781 15.5625 31.574219 C 16.292969 32.042969 18.023438 32.964844 18.175781 32.964844 C 18.335938 32.964844 19.941406 32.210938 20.828125 31.71875 C 20.996094 31.625 21.136719 31.554688 21.136719 31.558594 C 21.203125 31.664062 21.898438 32.414062 22.222656 32.730469 C 23.835938 34.300781 25.5625 35.132812 27.582031 35.300781 C 27.90625 35.328125 27.9375 35.308594 28.007812 34.984375 C 28.382812 33.242188 27.625 30.925781 25.863281 28.425781 L 25.542969 27.96875 L 25.699219 27.785156 C 28.945312 23.960938 29.132812 18.699219 26.257812 11.96875 L 26.207031 11.84375 L 27.945312 12.703125 C 31.53125 14.476562 32.316406 14.800781 33.03125 14.800781 C 33.976562 14.800781 33.78125 13.9375 32.472656 12.292969 C 28.519531 7.355469 25.394531 5.925781 21.921875 7.472656 L 21.558594 7.636719 L 21.578125 7.542969 C 21.699219 6.992188 21.761719 5.742188 21.699219 5.164062 C 21.496094 3.296875 20.664062 1.964844 19.003906 0.855469 C 18.480469 0.503906 18.457031 0.5 18.214844 0.632812\"/>\n",
              "</g>\n",
              "      </svg>\n",
              "    "
            ]
          },
          "metadata": {}
        }
      ]
    },
    {
      "cell_type": "markdown",
      "source": [
        "fd yöntemi, bob adını verdiğimiz kaplumbağa nesnesiyle ilişkilidir. Bir yöntemi çağırmak bir istekte bulunmak gibidir: bob'dan ilerlemesini istiyorsunuz. fd argümanı piksel cinsinden bir mesafedir, bu nedenle gerçek boyut ekranınıza bağlıdır. Bir Kaplumbağa üzerinde çağırabileceğiniz diğer yöntemler, geriye doğru hareket etmek için bk, sola dönüş için lt ve sağa dönüş için rt'dir. lt ve rt argümanı derece cinsinden bir açıdır. Ayrıca, her Kaplumbağa aşağı veya yukarı doğru bir kalem tutmaktadır; kalem aşağıdaysa, Kaplumbağa hareket ettiğinde bir iz bırakır. pu ve pd yöntemleri “pen up” ve “pen down”  anlamına gelir.\n",
        "\n",
        "Dik açı çizmek için programa şu çizgileri ekleyin :"
      ],
      "metadata": {
        "id": "krjJDpstj8Ex"
      }
    },
    {
      "cell_type": "code",
      "source": [
        "bob.initializeTurtle(initial_speed=1)\n",
        "bob.fd(100)\n",
        "bob.lt(90)\n",
        "bob.fd(100)"
      ],
      "metadata": {
        "id": "DkFXuZX3lCKH",
        "outputId": "da435411-752e-4b1e-93a7-88dd61db6c82",
        "colab": {
          "base_uri": "https://localhost:8080/",
          "height": 521
        }
      },
      "execution_count": 10,
      "outputs": [
        {
          "output_type": "display_data",
          "data": {
            "text/plain": [
              "<IPython.core.display.HTML object>"
            ],
            "text/html": [
              "\n",
              "      <svg width=\"800\" height=\"500\">\n",
              "        <rect width=\"100%\" height=\"100%\" fill=\"black\"/>\n",
              "        <line x1=\"400\" y1=\"250\" x2=\"400.0\" y2=\"150.0\" stroke-linecap=\"round\" style=\"stroke:white;stroke-width:4\"/><line x1=\"400.0\" y1=\"150.0\" x2=\"300.0\" y2=\"150.0\" stroke-linecap=\"round\" style=\"stroke:white;stroke-width:4\"/>\n",
              "        <g visibility=visible transform=\"rotate(270,300.0,150.0) translate(282.0, 132.0)\">\n",
              "<path style=\" stroke:none;fill-rule:evenodd;fill:white;fill-opacity:1;\" d=\"M 18.214844 0.632812 C 16.109375 1.800781 15.011719 4.074219 15.074219 7.132812 L 15.085938 7.652344 L 14.785156 7.496094 C 13.476562 6.824219 11.957031 6.671875 10.40625 7.066406 C 8.46875 7.550781 6.515625 9.15625 4.394531 11.992188 C 3.0625 13.777344 2.679688 14.636719 3.042969 15.027344 L 3.15625 15.152344 L 3.519531 15.152344 C 4.238281 15.152344 4.828125 14.886719 8.1875 13.039062 C 9.386719 12.378906 10.371094 11.839844 10.378906 11.839844 C 10.386719 11.839844 10.355469 11.929688 10.304688 12.035156 C 9.832031 13.09375 9.257812 14.820312 8.96875 16.078125 C 7.914062 20.652344 8.617188 24.53125 11.070312 27.660156 C 11.351562 28.015625 11.363281 27.914062 10.972656 28.382812 C 8.925781 30.84375 7.945312 33.28125 8.238281 35.1875 C 8.289062 35.527344 8.28125 35.523438 8.917969 35.523438 C 10.941406 35.523438 13.074219 34.207031 15.136719 31.6875 C 15.359375 31.417969 15.328125 31.425781 15.5625 31.574219 C 16.292969 32.042969 18.023438 32.964844 18.175781 32.964844 C 18.335938 32.964844 19.941406 32.210938 20.828125 31.71875 C 20.996094 31.625 21.136719 31.554688 21.136719 31.558594 C 21.203125 31.664062 21.898438 32.414062 22.222656 32.730469 C 23.835938 34.300781 25.5625 35.132812 27.582031 35.300781 C 27.90625 35.328125 27.9375 35.308594 28.007812 34.984375 C 28.382812 33.242188 27.625 30.925781 25.863281 28.425781 L 25.542969 27.96875 L 25.699219 27.785156 C 28.945312 23.960938 29.132812 18.699219 26.257812 11.96875 L 26.207031 11.84375 L 27.945312 12.703125 C 31.53125 14.476562 32.316406 14.800781 33.03125 14.800781 C 33.976562 14.800781 33.78125 13.9375 32.472656 12.292969 C 28.519531 7.355469 25.394531 5.925781 21.921875 7.472656 L 21.558594 7.636719 L 21.578125 7.542969 C 21.699219 6.992188 21.761719 5.742188 21.699219 5.164062 C 21.496094 3.296875 20.664062 1.964844 19.003906 0.855469 C 18.480469 0.503906 18.457031 0.5 18.214844 0.632812\"/>\n",
              "</g>\n",
              "      </svg>\n",
              "    "
            ]
          },
          "metadata": {}
        }
      ]
    },
    {
      "cell_type": "markdown",
      "source": [
        "Bu programı çalıştırdığınızda, bob'un doğuya ve sonra kuzeye hareket ettiğini ve arkasında iki doğru parçası bıraktığını görmelisiniz. Şimdi programı bir kare çizecek şekilde değiştirin. Çalışır hale gelene kadar devam etmeyin!\n",
        "\n",
        "Büyük ihtimalle buna benzer bir şey yazmışsınızdır:\n",
        "\n",
        "bob.fd(100)\n",
        "\n",
        "bob.lt(90)\n",
        "\n",
        "\n",
        "bob.fd(100)\n",
        "\n",
        "bob.lt(90)\n",
        "\n",
        "\n",
        "bob.fd(100)\n",
        "\n",
        "bob.lt(90)\n",
        "\n",
        "\n",
        "bob.fd(100)\n"
      ],
      "metadata": {
        "id": "YeQBtUEGj9CJ"
      }
    },
    {
      "cell_type": "markdown",
      "source": [
        "Aynı şeyi for ifadesiyle daha özlü bir şekilde yapabiliriz:"
      ],
      "metadata": {
        "id": "R9r5o19umblv"
      }
    },
    {
      "cell_type": "code",
      "source": [
        "for i in range(4):\n",
        "    print('Hello!')\n"
      ],
      "metadata": {
        "id": "XC_mCyMvma3o",
        "outputId": "cbf29060-c839-421b-9ed9-2042e00a93c4",
        "colab": {
          "base_uri": "https://localhost:8080/"
        }
      },
      "execution_count": 14,
      "outputs": [
        {
          "output_type": "stream",
          "name": "stdout",
          "text": [
            "Hello!\n",
            "Hello!\n",
            "Hello!\n",
            "Hello!\n"
          ]
        }
      ]
    },
    {
      "cell_type": "markdown",
      "source": [
        "Bu, for ifadesinin en basit kullanımıdır; daha sonra daha fazlasını göreceğiz. Ancak bu, kare çizim programınızı yeniden yazmanıza yetecektir.\n",
        "\n",
        "İşte bir kare çizen for ifadesi:"
      ],
      "metadata": {
        "id": "E9W2aXD5nA_u"
      }
    },
    {
      "cell_type": "code",
      "source": [
        "\n",
        "bob.initializeTurtle(initial_speed=1)\n",
        "for i in range(4):\n",
        "    bob.fd(100)\n",
        "    bob.lt(90)\n"
      ],
      "metadata": {
        "id": "A-tdSelXlXYe",
        "outputId": "00816d7d-1c92-4a52-ab88-2a31d8b3544c",
        "colab": {
          "base_uri": "https://localhost:8080/",
          "height": 521
        }
      },
      "execution_count": 15,
      "outputs": [
        {
          "output_type": "display_data",
          "data": {
            "text/plain": [
              "<IPython.core.display.HTML object>"
            ],
            "text/html": [
              "\n",
              "      <svg width=\"800\" height=\"500\">\n",
              "        <rect width=\"100%\" height=\"100%\" fill=\"black\"/>\n",
              "        <line x1=\"400\" y1=\"250\" x2=\"400.0\" y2=\"150.0\" stroke-linecap=\"round\" style=\"stroke:white;stroke-width:4\"/><line x1=\"400.0\" y1=\"150.0\" x2=\"300.0\" y2=\"150.0\" stroke-linecap=\"round\" style=\"stroke:white;stroke-width:4\"/><line x1=\"300.0\" y1=\"150.0\" x2=\"300.0\" y2=\"250.0\" stroke-linecap=\"round\" style=\"stroke:white;stroke-width:4\"/><line x1=\"300.0\" y1=\"250.0\" x2=\"400.0\" y2=\"250.0\" stroke-linecap=\"round\" style=\"stroke:white;stroke-width:4\"/>\n",
              "        <g visibility=visible transform=\"rotate(360,400.0,250.0) translate(382.0, 232.0)\">\n",
              "<path style=\" stroke:none;fill-rule:evenodd;fill:white;fill-opacity:1;\" d=\"M 18.214844 0.632812 C 16.109375 1.800781 15.011719 4.074219 15.074219 7.132812 L 15.085938 7.652344 L 14.785156 7.496094 C 13.476562 6.824219 11.957031 6.671875 10.40625 7.066406 C 8.46875 7.550781 6.515625 9.15625 4.394531 11.992188 C 3.0625 13.777344 2.679688 14.636719 3.042969 15.027344 L 3.15625 15.152344 L 3.519531 15.152344 C 4.238281 15.152344 4.828125 14.886719 8.1875 13.039062 C 9.386719 12.378906 10.371094 11.839844 10.378906 11.839844 C 10.386719 11.839844 10.355469 11.929688 10.304688 12.035156 C 9.832031 13.09375 9.257812 14.820312 8.96875 16.078125 C 7.914062 20.652344 8.617188 24.53125 11.070312 27.660156 C 11.351562 28.015625 11.363281 27.914062 10.972656 28.382812 C 8.925781 30.84375 7.945312 33.28125 8.238281 35.1875 C 8.289062 35.527344 8.28125 35.523438 8.917969 35.523438 C 10.941406 35.523438 13.074219 34.207031 15.136719 31.6875 C 15.359375 31.417969 15.328125 31.425781 15.5625 31.574219 C 16.292969 32.042969 18.023438 32.964844 18.175781 32.964844 C 18.335938 32.964844 19.941406 32.210938 20.828125 31.71875 C 20.996094 31.625 21.136719 31.554688 21.136719 31.558594 C 21.203125 31.664062 21.898438 32.414062 22.222656 32.730469 C 23.835938 34.300781 25.5625 35.132812 27.582031 35.300781 C 27.90625 35.328125 27.9375 35.308594 28.007812 34.984375 C 28.382812 33.242188 27.625 30.925781 25.863281 28.425781 L 25.542969 27.96875 L 25.699219 27.785156 C 28.945312 23.960938 29.132812 18.699219 26.257812 11.96875 L 26.207031 11.84375 L 27.945312 12.703125 C 31.53125 14.476562 32.316406 14.800781 33.03125 14.800781 C 33.976562 14.800781 33.78125 13.9375 32.472656 12.292969 C 28.519531 7.355469 25.394531 5.925781 21.921875 7.472656 L 21.558594 7.636719 L 21.578125 7.542969 C 21.699219 6.992188 21.761719 5.742188 21.699219 5.164062 C 21.496094 3.296875 20.664062 1.964844 19.003906 0.855469 C 18.480469 0.503906 18.457031 0.5 18.214844 0.632812\"/>\n",
              "</g>\n",
              "      </svg>\n",
              "    "
            ]
          },
          "metadata": {}
        }
      ]
    },
    {
      "cell_type": "markdown",
      "source": [
        "Bir for ifadesinin sözdizimi bir fonksiyon tanımına benzer. İki nokta üst üste ile biten bir başlığı ve girintili bir gövdesi vardır. Gövde herhangi sayıda ifade içerebilir.\n",
        "\n",
        "Bir for ifadesi aynı zamanda döngü olarak da adlandırılır çünkü yürütme akışı gövdeden geçer ve sonra tekrar en üste döner. Bu durumda, gövdeyi dört kez çalıştırır. Bu versiyon aslında önceki kare çizme kodundan biraz farklıdır çünkü karenin son kenarını çizdikten sonra bir dönüş daha yapar. Ekstra dönüş daha fazla zaman alır, ancak döngü boyunca her seferinde aynı şeyi yaparsak kodu basitleştirir. Bu versiyon ayrıca kaplumbağayı başlangıç ​​pozisyonunda, başlangıç ​​yönüne bakacak şekilde bırakma etkisine sahiptir."
      ],
      "metadata": {
        "id": "alQOR0pbnl34"
      }
    },
    {
      "cell_type": "markdown",
      "source": [
        "#Exercises\n",
        "\n",
        "The following is a series of exercises using the turtle module. They are meant to be fun,\n",
        "but they have a point, too. While you are working on them, think about what the point is.\n",
        "The following sections have solutions to the exercises, so don’t look until you have finished\n",
        "(or at least tried).\n",
        "1. Write a function called square that takes a parameter named t, which is a turtle. It\n",
        "should use the turtle to draw a square.\n",
        "Write a function call that passes bob as an argument to square, and then run the\n",
        "program again.\n",
        "2. Add another parameter, named length, to square. Modify the body so length of the\n",
        "sides is length, and then modify the function call to provide a second argument. Run\n",
        "the program again. Test your program with a range of values for length.\n",
        "3. Make a copy of square and change the name to polygon. Add another parameter\n",
        "named n and modify the body so it draws an n-sided regular polygon. Hint: The\n",
        "exterior angles of an n-sided regular polygon are 360/n degrees.\n",
        "4. Write a function called circle that takes a turtle, t, and radius, r, as parameters and\n",
        "that draws an approximate circle by calling polygon with an appropriate length and\n",
        "number of sides. Test your function with a range of values of r.\n",
        "Hint: figure out the circumference of the circle and make sure that length * n =\n",
        "circumference.\n",
        "5. Make a more general version of circle called arc that takes an additional parameter\n",
        "angle, which determines what fraction of a circle to draw. angle is in units of degrees,\n",
        "so when angle=360, arc should draw a complete circle."
      ],
      "metadata": {
        "id": "L5D9PV8woEzW"
      }
    },
    {
      "cell_type": "markdown",
      "source": [
        "#Encapsulation\n",
        "\n",
        "The first exercise asks you to put your square-drawing code into a function definition and\n",
        "then call the function, passing the turtle as a parameter. Here is a solution:\n",
        "\n",
        "    def square(t):\n",
        "        for i in range(4):\n",
        "            t.fd(100)\n",
        "            t.lt(90)\n",
        "    square(bob)\n",
        "The innermost statements, fd and lt are indented twice to show that they are inside the\n",
        "for loop, which is inside the function definition. The next line, square(bob), is flush with\n",
        "the left margin, which indicates the end of both the for loop and the function definition.\n",
        "\n",
        "Inside the function, t refers to the same turtle bob, so t.lt(90) has the same effect as\n",
        "bob.lt(90). In that case, why not call the parameter bob? The idea is that t can be any\n",
        "turtle, not just bob, so you could create a second turtle and pass it as an argument to square:\n",
        "\n",
        "    alice = ColabTurtle.Turtle()\n",
        "    square(alice)\n",
        "\n",
        "Wrapping a piece of code up in a function is called **encapsulation**. One of the benefits of\n",
        "encapsulation is that it attaches a name to the code, which serves as a kind of documentation. Another advantage is that if you re-use the code, it is more concise to call a function\n",
        "twice than to copy and paste the body!\n"
      ],
      "metadata": {
        "id": "xCRj5pB9oIsO"
      }
    },
    {
      "cell_type": "markdown",
      "source": [
        "#Generalization\n",
        "\n",
        "The next step is to add a length parameter to square. Here is a solution:\n",
        "\n",
        "    def square(t, length):\n",
        "        for i in range(4):\n",
        "            t.fd(length)\n",
        "            t.lt(90)\n",
        "    square(bob, 100)\n",
        "\n",
        "Adding a parameter to a function is called **generalization** because it makes the function more general: in the previous version, the square is always the same size; in this version it can be any size.\n",
        "\n",
        "The next step is also a generalization. Instead of drawing squares, polygon draws regular polygons with any number of sides. Here is a solution:\n",
        "\n",
        "    def polygon(t, n, length):\n",
        "        angle = 360 / n\n",
        "        for i in range(n):\n",
        "            t.fd(length)\n",
        "            t.lt(angle)\n",
        "\n",
        "    polygon(bob, 7, 70)\n",
        "\n",
        "This example draws a 7-sided polygon with side length 70.\n",
        "\n",
        "If you are using Python 2, the value of angle might be off because of integer division. A\n",
        "simple solution is to compute angle = 360.0 / n. Because the numerator is a floatingpoint number, the result is floating point.\n",
        "\n",
        "When a function has more than a few numeric arguments, it is easy to forget what they are,\n",
        "or what order they should be in. In that case it is often a good idea to include the names of\n",
        "the parameters in the argument list:\n",
        "\n",
        "polygon(bob, n=7, length=70)\n",
        "\n",
        "These are called keyword arguments because they include the parameter names as “keywords” (not to be confused with Python keywords like while and def).\n",
        "\n",
        "This syntax makes the program more readable. It is also a reminder about how arguments\n",
        "and parameters work: when you call a function, the arguments are assigned to the parameters."
      ],
      "metadata": {
        "id": "3-Ltk3QUrBF9"
      }
    },
    {
      "cell_type": "code",
      "source": [
        "bob.initializeTurtle(initial_speed=1)\n",
        "def polygon(t, n, length):\n",
        "    angle = 360 / n\n",
        "    for i in range(n):\n",
        "        t.fd(length)\n",
        "        t.lt(angle)\n",
        "\n",
        "polygon(bob, 7, 70)"
      ],
      "metadata": {
        "id": "tLrcY_DXoRi0",
        "outputId": "4c292990-a5ec-46a1-ded5-a600c5d4f7a2",
        "colab": {
          "base_uri": "https://localhost:8080/",
          "height": 521
        }
      },
      "execution_count": 25,
      "outputs": [
        {
          "output_type": "display_data",
          "data": {
            "text/plain": [
              "<IPython.core.display.HTML object>"
            ],
            "text/html": [
              "\n",
              "      <svg width=\"800\" height=\"500\">\n",
              "        <rect width=\"100%\" height=\"100%\" fill=\"black\"/>\n",
              "        <line x1=\"400\" y1=\"250\" x2=\"400.0\" y2=\"180.0\" stroke-linecap=\"round\" style=\"stroke:white;stroke-width:4\"/><line x1=\"400.0\" y1=\"180.0\" x2=\"345.272\" y2=\"136.356\" stroke-linecap=\"round\" style=\"stroke:white;stroke-width:4\"/><line x1=\"345.272\" y1=\"136.356\" x2=\"277.027\" y2=\"151.932\" stroke-linecap=\"round\" style=\"stroke:white;stroke-width:4\"/><line x1=\"277.027\" y1=\"151.932\" x2=\"246.655\" y2=\"215.0\" stroke-linecap=\"round\" style=\"stroke:white;stroke-width:4\"/><line x1=\"246.655\" y1=\"215.0\" x2=\"277.027\" y2=\"278.068\" stroke-linecap=\"round\" style=\"stroke:white;stroke-width:4\"/><line x1=\"277.027\" y1=\"278.068\" x2=\"345.272\" y2=\"293.644\" stroke-linecap=\"round\" style=\"stroke:white;stroke-width:4\"/><line x1=\"345.272\" y1=\"293.644\" x2=\"400.0\" y2=\"250.0\" stroke-linecap=\"round\" style=\"stroke:white;stroke-width:4\"/>\n",
              "        <g visibility=visible transform=\"rotate(359.99999999999994,400.0,250.0) translate(382.0, 232.0)\">\n",
              "<path style=\" stroke:none;fill-rule:evenodd;fill:white;fill-opacity:1;\" d=\"M 18.214844 0.632812 C 16.109375 1.800781 15.011719 4.074219 15.074219 7.132812 L 15.085938 7.652344 L 14.785156 7.496094 C 13.476562 6.824219 11.957031 6.671875 10.40625 7.066406 C 8.46875 7.550781 6.515625 9.15625 4.394531 11.992188 C 3.0625 13.777344 2.679688 14.636719 3.042969 15.027344 L 3.15625 15.152344 L 3.519531 15.152344 C 4.238281 15.152344 4.828125 14.886719 8.1875 13.039062 C 9.386719 12.378906 10.371094 11.839844 10.378906 11.839844 C 10.386719 11.839844 10.355469 11.929688 10.304688 12.035156 C 9.832031 13.09375 9.257812 14.820312 8.96875 16.078125 C 7.914062 20.652344 8.617188 24.53125 11.070312 27.660156 C 11.351562 28.015625 11.363281 27.914062 10.972656 28.382812 C 8.925781 30.84375 7.945312 33.28125 8.238281 35.1875 C 8.289062 35.527344 8.28125 35.523438 8.917969 35.523438 C 10.941406 35.523438 13.074219 34.207031 15.136719 31.6875 C 15.359375 31.417969 15.328125 31.425781 15.5625 31.574219 C 16.292969 32.042969 18.023438 32.964844 18.175781 32.964844 C 18.335938 32.964844 19.941406 32.210938 20.828125 31.71875 C 20.996094 31.625 21.136719 31.554688 21.136719 31.558594 C 21.203125 31.664062 21.898438 32.414062 22.222656 32.730469 C 23.835938 34.300781 25.5625 35.132812 27.582031 35.300781 C 27.90625 35.328125 27.9375 35.308594 28.007812 34.984375 C 28.382812 33.242188 27.625 30.925781 25.863281 28.425781 L 25.542969 27.96875 L 25.699219 27.785156 C 28.945312 23.960938 29.132812 18.699219 26.257812 11.96875 L 26.207031 11.84375 L 27.945312 12.703125 C 31.53125 14.476562 32.316406 14.800781 33.03125 14.800781 C 33.976562 14.800781 33.78125 13.9375 32.472656 12.292969 C 28.519531 7.355469 25.394531 5.925781 21.921875 7.472656 L 21.558594 7.636719 L 21.578125 7.542969 C 21.699219 6.992188 21.761719 5.742188 21.699219 5.164062 C 21.496094 3.296875 20.664062 1.964844 19.003906 0.855469 C 18.480469 0.503906 18.457031 0.5 18.214844 0.632812\"/>\n",
              "</g>\n",
              "      </svg>\n",
              "    "
            ]
          },
          "metadata": {}
        }
      ]
    },
    {
      "cell_type": "markdown",
      "source": [
        "#Interface design\n",
        "\n",
        "\n",
        "The next step is to write circle, which takes a radius, r, as a parameter. Here is a simple\n",
        "solution that uses polygon to draw a 50-sided polygon:\n",
        "\n",
        "    import math\n",
        "\n",
        "    def circle(t, r):\n",
        "        circumference = 2 * math.pi * r\n",
        "        n = 50\n",
        "        length = circumference / n\n",
        "        polygon(t, n, length)\n",
        "\n",
        "The first line computes the circumference of a circle with radius r using the formula 2πr.\n",
        "Since we use math.pi, we have to import math. By convention, import statements are\n",
        "usually at the beginning of the script.\n",
        "\n",
        "n is the number of line segments in our approximation of a circle, so length is the length\n",
        "of each segment. Thus, polygon draws a 50-sided polygon that approximates a circle with\n",
        "radius r.\n",
        "\n",
        "One limitation of this solution is that n is a constant, which means that for very big circles,\n",
        "the line segments are too long, and for small circles, we waste time drawing very small\n",
        "segments. One solution would be to generalize the function by taking n as a parameter. This would give the user (whoever calls circle) more control, but the interface would be\n",
        "less clean.\n",
        "\n",
        "The **interface** of a function is a summary of how it is used: what are the parameters? What\n",
        "does the function do? And what is the return value? An interface is “clean” if it allows the\n",
        "caller to do what they want without dealing with unnecessary details.\n",
        "\n",
        "In this example, r belongs in the interface because it specifies the circle to be drawn. n is\n",
        "less appropriate because it pertains to the details of how the circle should be rendered.\n",
        "Rather than clutter up the interface, it is better to choose an appropriate value of n depending on circumference:\n",
        "\n",
        "    def circle(t, r):\n",
        "        circumference = 2 * math.pi * r\n",
        "        n = int(circumference / 3) + 3\n",
        "        length = circumference / n\n",
        "        polygon(t, n, length)\n",
        "\n",
        "Now the number of segments is an integer near circumference/3, so the length of each\n",
        "segment is approximately 3, which is small enough that the circles look good, but big\n",
        "enough to be efficient, and acceptable for any size circle.\n",
        "\n",
        "Adding 3 to n guarantees that the polygon has at least 3 sides.\n"
      ],
      "metadata": {
        "id": "uxlVxc7ctiRH"
      }
    },
    {
      "cell_type": "code",
      "source": [
        "bob.initializeTurtle(initial_speed=10)\n",
        "import math\n",
        "\n",
        "def circle(t, r):\n",
        "    circumference = 2 * math.pi * r\n",
        "    n = 50\n",
        "    length = circumference / n\n",
        "    polygon(t, n, length)\n",
        "\n",
        "circle(bob, 100)\n"
      ],
      "metadata": {
        "id": "k0zxN9o_tzLu",
        "outputId": "cbdcfb56-b82c-4e15-c804-d9dda2a7e6e3",
        "colab": {
          "base_uri": "https://localhost:8080/",
          "height": 521
        }
      },
      "execution_count": 21,
      "outputs": [
        {
          "output_type": "display_data",
          "data": {
            "text/plain": [
              "<IPython.core.display.HTML object>"
            ],
            "text/html": [
              "\n",
              "      <svg width=\"800\" height=\"500\">\n",
              "        <rect width=\"100%\" height=\"100%\" fill=\"black\"/>\n",
              "        <line x1=\"400\" y1=\"250\" x2=\"400.0\" y2=\"237.434\" stroke-linecap=\"round\" style=\"stroke:white;stroke-width:4\"/><line x1=\"400.0\" y1=\"237.434\" x2=\"398.425\" y2=\"224.967\" stroke-linecap=\"round\" style=\"stroke:white;stroke-width:4\"/><line x1=\"398.425\" y1=\"224.967\" x2=\"395.3\" y2=\"212.795\" stroke-linecap=\"round\" style=\"stroke:white;stroke-width:4\"/><line x1=\"395.3\" y1=\"212.795\" x2=\"390.674\" y2=\"201.111\" stroke-linecap=\"round\" style=\"stroke:white;stroke-width:4\"/><line x1=\"390.674\" y1=\"201.111\" x2=\"384.62\" y2=\"190.099\" stroke-linecap=\"round\" style=\"stroke:white;stroke-width:4\"/><line x1=\"384.62\" y1=\"190.099\" x2=\"377.234\" y2=\"179.933\" stroke-linecap=\"round\" style=\"stroke:white;stroke-width:4\"/><line x1=\"377.234\" y1=\"179.933\" x2=\"368.632\" y2=\"170.773\" stroke-linecap=\"round\" style=\"stroke:white;stroke-width:4\"/><line x1=\"368.632\" y1=\"170.773\" x2=\"358.949\" y2=\"162.763\" stroke-linecap=\"round\" style=\"stroke:white;stroke-width:4\"/><line x1=\"358.949\" y1=\"162.763\" x2=\"348.339\" y2=\"156.03\" stroke-linecap=\"round\" style=\"stroke:white;stroke-width:4\"/><line x1=\"348.339\" y1=\"156.03\" x2=\"336.969\" y2=\"150.679\" stroke-linecap=\"round\" style=\"stroke:white;stroke-width:4\"/><line x1=\"336.969\" y1=\"150.679\" x2=\"325.018\" y2=\"146.796\" stroke-linecap=\"round\" style=\"stroke:white;stroke-width:4\"/><line x1=\"325.018\" y1=\"146.796\" x2=\"312.674\" y2=\"144.441\" stroke-linecap=\"round\" style=\"stroke:white;stroke-width:4\"/><line x1=\"312.674\" y1=\"144.441\" x2=\"300.132\" y2=\"143.652\" stroke-linecap=\"round\" style=\"stroke:white;stroke-width:4\"/><line x1=\"300.132\" y1=\"143.652\" x2=\"287.59\" y2=\"144.441\" stroke-linecap=\"round\" style=\"stroke:white;stroke-width:4\"/><line x1=\"287.59\" y1=\"144.441\" x2=\"275.246\" y2=\"146.796\" stroke-linecap=\"round\" style=\"stroke:white;stroke-width:4\"/><line x1=\"275.246\" y1=\"146.796\" x2=\"263.295\" y2=\"150.679\" stroke-linecap=\"round\" style=\"stroke:white;stroke-width:4\"/><line x1=\"263.295\" y1=\"150.679\" x2=\"251.925\" y2=\"156.03\" stroke-linecap=\"round\" style=\"stroke:white;stroke-width:4\"/><line x1=\"251.925\" y1=\"156.03\" x2=\"241.315\" y2=\"162.763\" stroke-linecap=\"round\" style=\"stroke:white;stroke-width:4\"/><line x1=\"241.315\" y1=\"162.763\" x2=\"231.632\" y2=\"170.773\" stroke-linecap=\"round\" style=\"stroke:white;stroke-width:4\"/><line x1=\"231.632\" y1=\"170.773\" x2=\"223.03\" y2=\"179.933\" stroke-linecap=\"round\" style=\"stroke:white;stroke-width:4\"/><line x1=\"223.03\" y1=\"179.933\" x2=\"215.644\" y2=\"190.099\" stroke-linecap=\"round\" style=\"stroke:white;stroke-width:4\"/><line x1=\"215.644\" y1=\"190.099\" x2=\"209.59\" y2=\"201.111\" stroke-linecap=\"round\" style=\"stroke:white;stroke-width:4\"/><line x1=\"209.59\" y1=\"201.111\" x2=\"204.964\" y2=\"212.795\" stroke-linecap=\"round\" style=\"stroke:white;stroke-width:4\"/><line x1=\"204.964\" y1=\"212.795\" x2=\"201.839\" y2=\"224.967\" stroke-linecap=\"round\" style=\"stroke:white;stroke-width:4\"/><line x1=\"201.839\" y1=\"224.967\" x2=\"200.264\" y2=\"237.434\" stroke-linecap=\"round\" style=\"stroke:white;stroke-width:4\"/><line x1=\"200.264\" y1=\"237.434\" x2=\"200.264\" y2=\"250.0\" stroke-linecap=\"round\" style=\"stroke:white;stroke-width:4\"/><line x1=\"200.264\" y1=\"250.0\" x2=\"201.839\" y2=\"262.467\" stroke-linecap=\"round\" style=\"stroke:white;stroke-width:4\"/><line x1=\"201.839\" y1=\"262.467\" x2=\"204.964\" y2=\"274.639\" stroke-linecap=\"round\" style=\"stroke:white;stroke-width:4\"/><line x1=\"204.964\" y1=\"274.639\" x2=\"209.59\" y2=\"286.323\" stroke-linecap=\"round\" style=\"stroke:white;stroke-width:4\"/><line x1=\"209.59\" y1=\"286.323\" x2=\"215.644\" y2=\"297.335\" stroke-linecap=\"round\" style=\"stroke:white;stroke-width:4\"/><line x1=\"215.644\" y1=\"297.335\" x2=\"223.03\" y2=\"307.501\" stroke-linecap=\"round\" style=\"stroke:white;stroke-width:4\"/><line x1=\"223.03\" y1=\"307.501\" x2=\"231.632\" y2=\"316.661\" stroke-linecap=\"round\" style=\"stroke:white;stroke-width:4\"/><line x1=\"231.632\" y1=\"316.661\" x2=\"241.315\" y2=\"324.671\" stroke-linecap=\"round\" style=\"stroke:white;stroke-width:4\"/><line x1=\"241.315\" y1=\"324.671\" x2=\"251.925\" y2=\"331.404\" stroke-linecap=\"round\" style=\"stroke:white;stroke-width:4\"/><line x1=\"251.925\" y1=\"331.404\" x2=\"263.295\" y2=\"336.755\" stroke-linecap=\"round\" style=\"stroke:white;stroke-width:4\"/><line x1=\"263.295\" y1=\"336.755\" x2=\"275.246\" y2=\"340.638\" stroke-linecap=\"round\" style=\"stroke:white;stroke-width:4\"/><line x1=\"275.246\" y1=\"340.638\" x2=\"287.59\" y2=\"342.993\" stroke-linecap=\"round\" style=\"stroke:white;stroke-width:4\"/><line x1=\"287.59\" y1=\"342.993\" x2=\"300.132\" y2=\"343.782\" stroke-linecap=\"round\" style=\"stroke:white;stroke-width:4\"/><line x1=\"300.132\" y1=\"343.782\" x2=\"312.674\" y2=\"342.993\" stroke-linecap=\"round\" style=\"stroke:white;stroke-width:4\"/><line x1=\"312.674\" y1=\"342.993\" x2=\"325.018\" y2=\"340.638\" stroke-linecap=\"round\" style=\"stroke:white;stroke-width:4\"/><line x1=\"325.018\" y1=\"340.638\" x2=\"336.969\" y2=\"336.755\" stroke-linecap=\"round\" style=\"stroke:white;stroke-width:4\"/><line x1=\"336.969\" y1=\"336.755\" x2=\"348.339\" y2=\"331.404\" stroke-linecap=\"round\" style=\"stroke:white;stroke-width:4\"/><line x1=\"348.339\" y1=\"331.404\" x2=\"358.949\" y2=\"324.671\" stroke-linecap=\"round\" style=\"stroke:white;stroke-width:4\"/><line x1=\"358.949\" y1=\"324.671\" x2=\"368.632\" y2=\"316.661\" stroke-linecap=\"round\" style=\"stroke:white;stroke-width:4\"/><line x1=\"368.632\" y1=\"316.661\" x2=\"377.234\" y2=\"307.501\" stroke-linecap=\"round\" style=\"stroke:white;stroke-width:4\"/><line x1=\"377.234\" y1=\"307.501\" x2=\"384.62\" y2=\"297.335\" stroke-linecap=\"round\" style=\"stroke:white;stroke-width:4\"/><line x1=\"384.62\" y1=\"297.335\" x2=\"390.674\" y2=\"286.323\" stroke-linecap=\"round\" style=\"stroke:white;stroke-width:4\"/><line x1=\"390.674\" y1=\"286.323\" x2=\"395.3\" y2=\"274.639\" stroke-linecap=\"round\" style=\"stroke:white;stroke-width:4\"/><line x1=\"395.3\" y1=\"274.639\" x2=\"398.425\" y2=\"262.467\" stroke-linecap=\"round\" style=\"stroke:white;stroke-width:4\"/><line x1=\"398.425\" y1=\"262.467\" x2=\"400.0\" y2=\"250.0\" stroke-linecap=\"round\" style=\"stroke:white;stroke-width:4\"/>\n",
              "        <g visibility=visible transform=\"rotate(360.00000000000034,400.0,250.0) translate(382.0, 232.0)\">\n",
              "<path style=\" stroke:none;fill-rule:evenodd;fill:white;fill-opacity:1;\" d=\"M 18.214844 0.632812 C 16.109375 1.800781 15.011719 4.074219 15.074219 7.132812 L 15.085938 7.652344 L 14.785156 7.496094 C 13.476562 6.824219 11.957031 6.671875 10.40625 7.066406 C 8.46875 7.550781 6.515625 9.15625 4.394531 11.992188 C 3.0625 13.777344 2.679688 14.636719 3.042969 15.027344 L 3.15625 15.152344 L 3.519531 15.152344 C 4.238281 15.152344 4.828125 14.886719 8.1875 13.039062 C 9.386719 12.378906 10.371094 11.839844 10.378906 11.839844 C 10.386719 11.839844 10.355469 11.929688 10.304688 12.035156 C 9.832031 13.09375 9.257812 14.820312 8.96875 16.078125 C 7.914062 20.652344 8.617188 24.53125 11.070312 27.660156 C 11.351562 28.015625 11.363281 27.914062 10.972656 28.382812 C 8.925781 30.84375 7.945312 33.28125 8.238281 35.1875 C 8.289062 35.527344 8.28125 35.523438 8.917969 35.523438 C 10.941406 35.523438 13.074219 34.207031 15.136719 31.6875 C 15.359375 31.417969 15.328125 31.425781 15.5625 31.574219 C 16.292969 32.042969 18.023438 32.964844 18.175781 32.964844 C 18.335938 32.964844 19.941406 32.210938 20.828125 31.71875 C 20.996094 31.625 21.136719 31.554688 21.136719 31.558594 C 21.203125 31.664062 21.898438 32.414062 22.222656 32.730469 C 23.835938 34.300781 25.5625 35.132812 27.582031 35.300781 C 27.90625 35.328125 27.9375 35.308594 28.007812 34.984375 C 28.382812 33.242188 27.625 30.925781 25.863281 28.425781 L 25.542969 27.96875 L 25.699219 27.785156 C 28.945312 23.960938 29.132812 18.699219 26.257812 11.96875 L 26.207031 11.84375 L 27.945312 12.703125 C 31.53125 14.476562 32.316406 14.800781 33.03125 14.800781 C 33.976562 14.800781 33.78125 13.9375 32.472656 12.292969 C 28.519531 7.355469 25.394531 5.925781 21.921875 7.472656 L 21.558594 7.636719 L 21.578125 7.542969 C 21.699219 6.992188 21.761719 5.742188 21.699219 5.164062 C 21.496094 3.296875 20.664062 1.964844 19.003906 0.855469 C 18.480469 0.503906 18.457031 0.5 18.214844 0.632812\"/>\n",
              "</g>\n",
              "      </svg>\n",
              "    "
            ]
          },
          "metadata": {}
        }
      ]
    },
    {
      "cell_type": "code",
      "source": [
        "bob.initializeTurtle(initial_speed=10)\n",
        "import math\n",
        "\n",
        "def circle(t, r):\n",
        "    circumference = 2 * math.pi * r\n",
        "    n = int(circumference / 3) + 3\n",
        "    length = circumference / n\n",
        "    polygon(t, n, length)\n",
        "\n",
        "circle(bob, 100)"
      ],
      "metadata": {
        "id": "LOOLuLRyw_OC",
        "outputId": "e630f3c7-69a0-45b8-8b27-1bff9759392e",
        "colab": {
          "base_uri": "https://localhost:8080/",
          "height": 521
        }
      },
      "execution_count": 23,
      "outputs": [
        {
          "output_type": "display_data",
          "data": {
            "text/plain": [
              "<IPython.core.display.HTML object>"
            ],
            "text/html": [
              "\n",
              "      <svg width=\"800\" height=\"500\">\n",
              "        <rect width=\"100%\" height=\"100%\" fill=\"black\"/>\n",
              "        <line x1=\"400\" y1=\"250\" x2=\"400.0\" y2=\"247.036\" stroke-linecap=\"round\" style=\"stroke:white;stroke-width:4\"/><line x1=\"400.0\" y1=\"247.036\" x2=\"399.912\" y2=\"244.074\" stroke-linecap=\"round\" style=\"stroke:white;stroke-width:4\"/><line x1=\"399.912\" y1=\"244.074\" x2=\"399.736\" y2=\"241.115\" stroke-linecap=\"round\" style=\"stroke:white;stroke-width:4\"/><line x1=\"399.736\" y1=\"241.115\" x2=\"399.473\" y2=\"238.163\" stroke-linecap=\"round\" style=\"stroke:white;stroke-width:4\"/><line x1=\"399.473\" y1=\"238.163\" x2=\"399.122\" y2=\"235.22\" stroke-linecap=\"round\" style=\"stroke:white;stroke-width:4\"/><line x1=\"399.122\" y1=\"235.22\" x2=\"398.684\" y2=\"232.289\" stroke-linecap=\"round\" style=\"stroke:white;stroke-width:4\"/><line x1=\"398.684\" y1=\"232.289\" x2=\"398.16\" y2=\"229.372\" stroke-linecap=\"round\" style=\"stroke:white;stroke-width:4\"/><line x1=\"398.16\" y1=\"229.372\" x2=\"397.55\" y2=\"226.472\" stroke-linecap=\"round\" style=\"stroke:white;stroke-width:4\"/><line x1=\"397.55\" y1=\"226.472\" x2=\"396.854\" y2=\"223.591\" stroke-linecap=\"round\" style=\"stroke:white;stroke-width:4\"/><line x1=\"396.854\" y1=\"223.591\" x2=\"396.073\" y2=\"220.732\" stroke-linecap=\"round\" style=\"stroke:white;stroke-width:4\"/><line x1=\"396.073\" y1=\"220.732\" x2=\"395.207\" y2=\"217.897\" stroke-linecap=\"round\" style=\"stroke:white;stroke-width:4\"/><line x1=\"395.207\" y1=\"217.897\" x2=\"394.258\" y2=\"215.089\" stroke-linecap=\"round\" style=\"stroke:white;stroke-width:4\"/><line x1=\"394.258\" y1=\"215.089\" x2=\"393.226\" y2=\"212.311\" stroke-linecap=\"round\" style=\"stroke:white;stroke-width:4\"/><line x1=\"393.226\" y1=\"212.311\" x2=\"392.112\" y2=\"209.565\" stroke-linecap=\"round\" style=\"stroke:white;stroke-width:4\"/><line x1=\"392.112\" y1=\"209.565\" x2=\"390.917\" y2=\"206.853\" stroke-linecap=\"round\" style=\"stroke:white;stroke-width:4\"/><line x1=\"390.917\" y1=\"206.853\" x2=\"389.642\" y2=\"204.177\" stroke-linecap=\"round\" style=\"stroke:white;stroke-width:4\"/><line x1=\"389.642\" y1=\"204.177\" x2=\"388.289\" y2=\"201.54\" stroke-linecap=\"round\" style=\"stroke:white;stroke-width:4\"/><line x1=\"388.289\" y1=\"201.54\" x2=\"386.858\" y2=\"198.945\" stroke-linecap=\"round\" style=\"stroke:white;stroke-width:4\"/><line x1=\"386.858\" y1=\"198.945\" x2=\"385.351\" y2=\"196.393\" stroke-linecap=\"round\" style=\"stroke:white;stroke-width:4\"/><line x1=\"385.351\" y1=\"196.393\" x2=\"383.769\" y2=\"193.887\" stroke-linecap=\"round\" style=\"stroke:white;stroke-width:4\"/><line x1=\"383.769\" y1=\"193.887\" x2=\"382.113\" y2=\"191.429\" stroke-linecap=\"round\" style=\"stroke:white;stroke-width:4\"/><line x1=\"382.113\" y1=\"191.429\" x2=\"380.385\" y2=\"189.021\" stroke-linecap=\"round\" style=\"stroke:white;stroke-width:4\"/><line x1=\"380.385\" y1=\"189.021\" x2=\"378.587\" y2=\"186.665\" stroke-linecap=\"round\" style=\"stroke:white;stroke-width:4\"/><line x1=\"378.587\" y1=\"186.665\" x2=\"376.72\" y2=\"184.364\" stroke-linecap=\"round\" style=\"stroke:white;stroke-width:4\"/><line x1=\"376.72\" y1=\"184.364\" x2=\"374.785\" y2=\"182.119\" stroke-linecap=\"round\" style=\"stroke:white;stroke-width:4\"/><line x1=\"374.785\" y1=\"182.119\" x2=\"372.785\" y2=\"179.932\" stroke-linecap=\"round\" style=\"stroke:white;stroke-width:4\"/><line x1=\"372.785\" y1=\"179.932\" x2=\"370.721\" y2=\"177.805\" stroke-linecap=\"round\" style=\"stroke:white;stroke-width:4\"/><line x1=\"370.721\" y1=\"177.805\" x2=\"368.594\" y2=\"175.741\" stroke-linecap=\"round\" style=\"stroke:white;stroke-width:4\"/><line x1=\"368.594\" y1=\"175.741\" x2=\"366.407\" y2=\"173.741\" stroke-linecap=\"round\" style=\"stroke:white;stroke-width:4\"/><line x1=\"366.407\" y1=\"173.741\" x2=\"364.162\" y2=\"171.806\" stroke-linecap=\"round\" style=\"stroke:white;stroke-width:4\"/><line x1=\"364.162\" y1=\"171.806\" x2=\"361.861\" y2=\"169.939\" stroke-linecap=\"round\" style=\"stroke:white;stroke-width:4\"/><line x1=\"361.861\" y1=\"169.939\" x2=\"359.505\" y2=\"168.141\" stroke-linecap=\"round\" style=\"stroke:white;stroke-width:4\"/><line x1=\"359.505\" y1=\"168.141\" x2=\"357.097\" y2=\"166.413\" stroke-linecap=\"round\" style=\"stroke:white;stroke-width:4\"/><line x1=\"357.097\" y1=\"166.413\" x2=\"354.639\" y2=\"164.757\" stroke-linecap=\"round\" style=\"stroke:white;stroke-width:4\"/><line x1=\"354.639\" y1=\"164.757\" x2=\"352.133\" y2=\"163.175\" stroke-linecap=\"round\" style=\"stroke:white;stroke-width:4\"/><line x1=\"352.133\" y1=\"163.175\" x2=\"349.581\" y2=\"161.668\" stroke-linecap=\"round\" style=\"stroke:white;stroke-width:4\"/><line x1=\"349.581\" y1=\"161.668\" x2=\"346.986\" y2=\"160.237\" stroke-linecap=\"round\" style=\"stroke:white;stroke-width:4\"/><line x1=\"346.986\" y1=\"160.237\" x2=\"344.349\" y2=\"158.884\" stroke-linecap=\"round\" style=\"stroke:white;stroke-width:4\"/><line x1=\"344.349\" y1=\"158.884\" x2=\"341.673\" y2=\"157.609\" stroke-linecap=\"round\" style=\"stroke:white;stroke-width:4\"/><line x1=\"341.673\" y1=\"157.609\" x2=\"338.961\" y2=\"156.414\" stroke-linecap=\"round\" style=\"stroke:white;stroke-width:4\"/><line x1=\"338.961\" y1=\"156.414\" x2=\"336.215\" y2=\"155.3\" stroke-linecap=\"round\" style=\"stroke:white;stroke-width:4\"/><line x1=\"336.215\" y1=\"155.3\" x2=\"333.437\" y2=\"154.268\" stroke-linecap=\"round\" style=\"stroke:white;stroke-width:4\"/><line x1=\"333.437\" y1=\"154.268\" x2=\"330.629\" y2=\"153.319\" stroke-linecap=\"round\" style=\"stroke:white;stroke-width:4\"/><line x1=\"330.629\" y1=\"153.319\" x2=\"327.794\" y2=\"152.453\" stroke-linecap=\"round\" style=\"stroke:white;stroke-width:4\"/><line x1=\"327.794\" y1=\"152.453\" x2=\"324.935\" y2=\"151.672\" stroke-linecap=\"round\" style=\"stroke:white;stroke-width:4\"/><line x1=\"324.935\" y1=\"151.672\" x2=\"322.054\" y2=\"150.976\" stroke-linecap=\"round\" style=\"stroke:white;stroke-width:4\"/><line x1=\"322.054\" y1=\"150.976\" x2=\"319.154\" y2=\"150.366\" stroke-linecap=\"round\" style=\"stroke:white;stroke-width:4\"/><line x1=\"319.154\" y1=\"150.366\" x2=\"316.237\" y2=\"149.842\" stroke-linecap=\"round\" style=\"stroke:white;stroke-width:4\"/><line x1=\"316.237\" y1=\"149.842\" x2=\"313.306\" y2=\"149.404\" stroke-linecap=\"round\" style=\"stroke:white;stroke-width:4\"/><line x1=\"313.306\" y1=\"149.404\" x2=\"310.363\" y2=\"149.053\" stroke-linecap=\"round\" style=\"stroke:white;stroke-width:4\"/><line x1=\"310.363\" y1=\"149.053\" x2=\"307.411\" y2=\"148.79\" stroke-linecap=\"round\" style=\"stroke:white;stroke-width:4\"/><line x1=\"307.411\" y1=\"148.79\" x2=\"304.452\" y2=\"148.614\" stroke-linecap=\"round\" style=\"stroke:white;stroke-width:4\"/><line x1=\"304.452\" y1=\"148.614\" x2=\"301.49\" y2=\"148.526\" stroke-linecap=\"round\" style=\"stroke:white;stroke-width:4\"/><line x1=\"301.49\" y1=\"148.526\" x2=\"298.526\" y2=\"148.526\" stroke-linecap=\"round\" style=\"stroke:white;stroke-width:4\"/><line x1=\"298.526\" y1=\"148.526\" x2=\"295.564\" y2=\"148.614\" stroke-linecap=\"round\" style=\"stroke:white;stroke-width:4\"/><line x1=\"295.564\" y1=\"148.614\" x2=\"292.605\" y2=\"148.79\" stroke-linecap=\"round\" style=\"stroke:white;stroke-width:4\"/><line x1=\"292.605\" y1=\"148.79\" x2=\"289.653\" y2=\"149.053\" stroke-linecap=\"round\" style=\"stroke:white;stroke-width:4\"/><line x1=\"289.653\" y1=\"149.053\" x2=\"286.71\" y2=\"149.404\" stroke-linecap=\"round\" style=\"stroke:white;stroke-width:4\"/><line x1=\"286.71\" y1=\"149.404\" x2=\"283.779\" y2=\"149.842\" stroke-linecap=\"round\" style=\"stroke:white;stroke-width:4\"/><line x1=\"283.779\" y1=\"149.842\" x2=\"280.862\" y2=\"150.366\" stroke-linecap=\"round\" style=\"stroke:white;stroke-width:4\"/><line x1=\"280.862\" y1=\"150.366\" x2=\"277.962\" y2=\"150.976\" stroke-linecap=\"round\" style=\"stroke:white;stroke-width:4\"/><line x1=\"277.962\" y1=\"150.976\" x2=\"275.081\" y2=\"151.672\" stroke-linecap=\"round\" style=\"stroke:white;stroke-width:4\"/><line x1=\"275.081\" y1=\"151.672\" x2=\"272.222\" y2=\"152.453\" stroke-linecap=\"round\" style=\"stroke:white;stroke-width:4\"/><line x1=\"272.222\" y1=\"152.453\" x2=\"269.387\" y2=\"153.319\" stroke-linecap=\"round\" style=\"stroke:white;stroke-width:4\"/><line x1=\"269.387\" y1=\"153.319\" x2=\"266.579\" y2=\"154.268\" stroke-linecap=\"round\" style=\"stroke:white;stroke-width:4\"/><line x1=\"266.579\" y1=\"154.268\" x2=\"263.801\" y2=\"155.3\" stroke-linecap=\"round\" style=\"stroke:white;stroke-width:4\"/><line x1=\"263.801\" y1=\"155.3\" x2=\"261.055\" y2=\"156.414\" stroke-linecap=\"round\" style=\"stroke:white;stroke-width:4\"/><line x1=\"261.055\" y1=\"156.414\" x2=\"258.343\" y2=\"157.609\" stroke-linecap=\"round\" style=\"stroke:white;stroke-width:4\"/><line x1=\"258.343\" y1=\"157.609\" x2=\"255.667\" y2=\"158.884\" stroke-linecap=\"round\" style=\"stroke:white;stroke-width:4\"/><line x1=\"255.667\" y1=\"158.884\" x2=\"253.03\" y2=\"160.237\" stroke-linecap=\"round\" style=\"stroke:white;stroke-width:4\"/><line x1=\"253.03\" y1=\"160.237\" x2=\"250.435\" y2=\"161.668\" stroke-linecap=\"round\" style=\"stroke:white;stroke-width:4\"/><line x1=\"250.435\" y1=\"161.668\" x2=\"247.883\" y2=\"163.175\" stroke-linecap=\"round\" style=\"stroke:white;stroke-width:4\"/><line x1=\"247.883\" y1=\"163.175\" x2=\"245.377\" y2=\"164.757\" stroke-linecap=\"round\" style=\"stroke:white;stroke-width:4\"/><line x1=\"245.377\" y1=\"164.757\" x2=\"242.919\" y2=\"166.413\" stroke-linecap=\"round\" style=\"stroke:white;stroke-width:4\"/><line x1=\"242.919\" y1=\"166.413\" x2=\"240.511\" y2=\"168.141\" stroke-linecap=\"round\" style=\"stroke:white;stroke-width:4\"/><line x1=\"240.511\" y1=\"168.141\" x2=\"238.155\" y2=\"169.939\" stroke-linecap=\"round\" style=\"stroke:white;stroke-width:4\"/><line x1=\"238.155\" y1=\"169.939\" x2=\"235.854\" y2=\"171.806\" stroke-linecap=\"round\" style=\"stroke:white;stroke-width:4\"/><line x1=\"235.854\" y1=\"171.806\" x2=\"233.609\" y2=\"173.741\" stroke-linecap=\"round\" style=\"stroke:white;stroke-width:4\"/><line x1=\"233.609\" y1=\"173.741\" x2=\"231.422\" y2=\"175.741\" stroke-linecap=\"round\" style=\"stroke:white;stroke-width:4\"/><line x1=\"231.422\" y1=\"175.741\" x2=\"229.295\" y2=\"177.805\" stroke-linecap=\"round\" style=\"stroke:white;stroke-width:4\"/><line x1=\"229.295\" y1=\"177.805\" x2=\"227.231\" y2=\"179.932\" stroke-linecap=\"round\" style=\"stroke:white;stroke-width:4\"/><line x1=\"227.231\" y1=\"179.932\" x2=\"225.231\" y2=\"182.119\" stroke-linecap=\"round\" style=\"stroke:white;stroke-width:4\"/><line x1=\"225.231\" y1=\"182.119\" x2=\"223.296\" y2=\"184.364\" stroke-linecap=\"round\" style=\"stroke:white;stroke-width:4\"/><line x1=\"223.296\" y1=\"184.364\" x2=\"221.429\" y2=\"186.665\" stroke-linecap=\"round\" style=\"stroke:white;stroke-width:4\"/><line x1=\"221.429\" y1=\"186.665\" x2=\"219.631\" y2=\"189.021\" stroke-linecap=\"round\" style=\"stroke:white;stroke-width:4\"/><line x1=\"219.631\" y1=\"189.021\" x2=\"217.903\" y2=\"191.429\" stroke-linecap=\"round\" style=\"stroke:white;stroke-width:4\"/><line x1=\"217.903\" y1=\"191.429\" x2=\"216.247\" y2=\"193.887\" stroke-linecap=\"round\" style=\"stroke:white;stroke-width:4\"/><line x1=\"216.247\" y1=\"193.887\" x2=\"214.665\" y2=\"196.393\" stroke-linecap=\"round\" style=\"stroke:white;stroke-width:4\"/><line x1=\"214.665\" y1=\"196.393\" x2=\"213.158\" y2=\"198.945\" stroke-linecap=\"round\" style=\"stroke:white;stroke-width:4\"/><line x1=\"213.158\" y1=\"198.945\" x2=\"211.727\" y2=\"201.54\" stroke-linecap=\"round\" style=\"stroke:white;stroke-width:4\"/><line x1=\"211.727\" y1=\"201.54\" x2=\"210.374\" y2=\"204.177\" stroke-linecap=\"round\" style=\"stroke:white;stroke-width:4\"/><line x1=\"210.374\" y1=\"204.177\" x2=\"209.099\" y2=\"206.853\" stroke-linecap=\"round\" style=\"stroke:white;stroke-width:4\"/><line x1=\"209.099\" y1=\"206.853\" x2=\"207.904\" y2=\"209.565\" stroke-linecap=\"round\" style=\"stroke:white;stroke-width:4\"/><line x1=\"207.904\" y1=\"209.565\" x2=\"206.79\" y2=\"212.311\" stroke-linecap=\"round\" style=\"stroke:white;stroke-width:4\"/><line x1=\"206.79\" y1=\"212.311\" x2=\"205.758\" y2=\"215.089\" stroke-linecap=\"round\" style=\"stroke:white;stroke-width:4\"/><line x1=\"205.758\" y1=\"215.089\" x2=\"204.809\" y2=\"217.897\" stroke-linecap=\"round\" style=\"stroke:white;stroke-width:4\"/><line x1=\"204.809\" y1=\"217.897\" x2=\"203.943\" y2=\"220.732\" stroke-linecap=\"round\" style=\"stroke:white;stroke-width:4\"/><line x1=\"203.943\" y1=\"220.732\" x2=\"203.162\" y2=\"223.591\" stroke-linecap=\"round\" style=\"stroke:white;stroke-width:4\"/><line x1=\"203.162\" y1=\"223.591\" x2=\"202.466\" y2=\"226.472\" stroke-linecap=\"round\" style=\"stroke:white;stroke-width:4\"/><line x1=\"202.466\" y1=\"226.472\" x2=\"201.856\" y2=\"229.372\" stroke-linecap=\"round\" style=\"stroke:white;stroke-width:4\"/><line x1=\"201.856\" y1=\"229.372\" x2=\"201.332\" y2=\"232.289\" stroke-linecap=\"round\" style=\"stroke:white;stroke-width:4\"/><line x1=\"201.332\" y1=\"232.289\" x2=\"200.894\" y2=\"235.22\" stroke-linecap=\"round\" style=\"stroke:white;stroke-width:4\"/><line x1=\"200.894\" y1=\"235.22\" x2=\"200.543\" y2=\"238.163\" stroke-linecap=\"round\" style=\"stroke:white;stroke-width:4\"/><line x1=\"200.543\" y1=\"238.163\" x2=\"200.28\" y2=\"241.115\" stroke-linecap=\"round\" style=\"stroke:white;stroke-width:4\"/><line x1=\"200.28\" y1=\"241.115\" x2=\"200.104\" y2=\"244.074\" stroke-linecap=\"round\" style=\"stroke:white;stroke-width:4\"/><line x1=\"200.104\" y1=\"244.074\" x2=\"200.016\" y2=\"247.036\" stroke-linecap=\"round\" style=\"stroke:white;stroke-width:4\"/><line x1=\"200.016\" y1=\"247.036\" x2=\"200.016\" y2=\"250.0\" stroke-linecap=\"round\" style=\"stroke:white;stroke-width:4\"/><line x1=\"200.016\" y1=\"250.0\" x2=\"200.104\" y2=\"252.962\" stroke-linecap=\"round\" style=\"stroke:white;stroke-width:4\"/><line x1=\"200.104\" y1=\"252.962\" x2=\"200.28\" y2=\"255.921\" stroke-linecap=\"round\" style=\"stroke:white;stroke-width:4\"/><line x1=\"200.28\" y1=\"255.921\" x2=\"200.543\" y2=\"258.873\" stroke-linecap=\"round\" style=\"stroke:white;stroke-width:4\"/><line x1=\"200.543\" y1=\"258.873\" x2=\"200.894\" y2=\"261.816\" stroke-linecap=\"round\" style=\"stroke:white;stroke-width:4\"/><line x1=\"200.894\" y1=\"261.816\" x2=\"201.332\" y2=\"264.747\" stroke-linecap=\"round\" style=\"stroke:white;stroke-width:4\"/><line x1=\"201.332\" y1=\"264.747\" x2=\"201.856\" y2=\"267.664\" stroke-linecap=\"round\" style=\"stroke:white;stroke-width:4\"/><line x1=\"201.856\" y1=\"267.664\" x2=\"202.466\" y2=\"270.564\" stroke-linecap=\"round\" style=\"stroke:white;stroke-width:4\"/><line x1=\"202.466\" y1=\"270.564\" x2=\"203.162\" y2=\"273.445\" stroke-linecap=\"round\" style=\"stroke:white;stroke-width:4\"/><line x1=\"203.162\" y1=\"273.445\" x2=\"203.943\" y2=\"276.304\" stroke-linecap=\"round\" style=\"stroke:white;stroke-width:4\"/><line x1=\"203.943\" y1=\"276.304\" x2=\"204.809\" y2=\"279.139\" stroke-linecap=\"round\" style=\"stroke:white;stroke-width:4\"/><line x1=\"204.809\" y1=\"279.139\" x2=\"205.758\" y2=\"281.947\" stroke-linecap=\"round\" style=\"stroke:white;stroke-width:4\"/><line x1=\"205.758\" y1=\"281.947\" x2=\"206.79\" y2=\"284.725\" stroke-linecap=\"round\" style=\"stroke:white;stroke-width:4\"/><line x1=\"206.79\" y1=\"284.725\" x2=\"207.904\" y2=\"287.471\" stroke-linecap=\"round\" style=\"stroke:white;stroke-width:4\"/><line x1=\"207.904\" y1=\"287.471\" x2=\"209.099\" y2=\"290.183\" stroke-linecap=\"round\" style=\"stroke:white;stroke-width:4\"/><line x1=\"209.099\" y1=\"290.183\" x2=\"210.374\" y2=\"292.859\" stroke-linecap=\"round\" style=\"stroke:white;stroke-width:4\"/><line x1=\"210.374\" y1=\"292.859\" x2=\"211.727\" y2=\"295.496\" stroke-linecap=\"round\" style=\"stroke:white;stroke-width:4\"/><line x1=\"211.727\" y1=\"295.496\" x2=\"213.158\" y2=\"298.091\" stroke-linecap=\"round\" style=\"stroke:white;stroke-width:4\"/><line x1=\"213.158\" y1=\"298.091\" x2=\"214.665\" y2=\"300.643\" stroke-linecap=\"round\" style=\"stroke:white;stroke-width:4\"/><line x1=\"214.665\" y1=\"300.643\" x2=\"216.247\" y2=\"303.149\" stroke-linecap=\"round\" style=\"stroke:white;stroke-width:4\"/><line x1=\"216.247\" y1=\"303.149\" x2=\"217.903\" y2=\"305.607\" stroke-linecap=\"round\" style=\"stroke:white;stroke-width:4\"/><line x1=\"217.903\" y1=\"305.607\" x2=\"219.631\" y2=\"308.015\" stroke-linecap=\"round\" style=\"stroke:white;stroke-width:4\"/><line x1=\"219.631\" y1=\"308.015\" x2=\"221.429\" y2=\"310.371\" stroke-linecap=\"round\" style=\"stroke:white;stroke-width:4\"/><line x1=\"221.429\" y1=\"310.371\" x2=\"223.296\" y2=\"312.672\" stroke-linecap=\"round\" style=\"stroke:white;stroke-width:4\"/><line x1=\"223.296\" y1=\"312.672\" x2=\"225.231\" y2=\"314.917\" stroke-linecap=\"round\" style=\"stroke:white;stroke-width:4\"/><line x1=\"225.231\" y1=\"314.917\" x2=\"227.231\" y2=\"317.104\" stroke-linecap=\"round\" style=\"stroke:white;stroke-width:4\"/><line x1=\"227.231\" y1=\"317.104\" x2=\"229.295\" y2=\"319.231\" stroke-linecap=\"round\" style=\"stroke:white;stroke-width:4\"/><line x1=\"229.295\" y1=\"319.231\" x2=\"231.422\" y2=\"321.295\" stroke-linecap=\"round\" style=\"stroke:white;stroke-width:4\"/><line x1=\"231.422\" y1=\"321.295\" x2=\"233.609\" y2=\"323.295\" stroke-linecap=\"round\" style=\"stroke:white;stroke-width:4\"/><line x1=\"233.609\" y1=\"323.295\" x2=\"235.854\" y2=\"325.23\" stroke-linecap=\"round\" style=\"stroke:white;stroke-width:4\"/><line x1=\"235.854\" y1=\"325.23\" x2=\"238.155\" y2=\"327.097\" stroke-linecap=\"round\" style=\"stroke:white;stroke-width:4\"/><line x1=\"238.155\" y1=\"327.097\" x2=\"240.511\" y2=\"328.895\" stroke-linecap=\"round\" style=\"stroke:white;stroke-width:4\"/><line x1=\"240.511\" y1=\"328.895\" x2=\"242.919\" y2=\"330.623\" stroke-linecap=\"round\" style=\"stroke:white;stroke-width:4\"/><line x1=\"242.919\" y1=\"330.623\" x2=\"245.377\" y2=\"332.279\" stroke-linecap=\"round\" style=\"stroke:white;stroke-width:4\"/><line x1=\"245.377\" y1=\"332.279\" x2=\"247.883\" y2=\"333.861\" stroke-linecap=\"round\" style=\"stroke:white;stroke-width:4\"/><line x1=\"247.883\" y1=\"333.861\" x2=\"250.435\" y2=\"335.368\" stroke-linecap=\"round\" style=\"stroke:white;stroke-width:4\"/><line x1=\"250.435\" y1=\"335.368\" x2=\"253.03\" y2=\"336.799\" stroke-linecap=\"round\" style=\"stroke:white;stroke-width:4\"/><line x1=\"253.03\" y1=\"336.799\" x2=\"255.667\" y2=\"338.152\" stroke-linecap=\"round\" style=\"stroke:white;stroke-width:4\"/><line x1=\"255.667\" y1=\"338.152\" x2=\"258.343\" y2=\"339.427\" stroke-linecap=\"round\" style=\"stroke:white;stroke-width:4\"/><line x1=\"258.343\" y1=\"339.427\" x2=\"261.055\" y2=\"340.622\" stroke-linecap=\"round\" style=\"stroke:white;stroke-width:4\"/><line x1=\"261.055\" y1=\"340.622\" x2=\"263.801\" y2=\"341.736\" stroke-linecap=\"round\" style=\"stroke:white;stroke-width:4\"/><line x1=\"263.801\" y1=\"341.736\" x2=\"266.579\" y2=\"342.768\" stroke-linecap=\"round\" style=\"stroke:white;stroke-width:4\"/><line x1=\"266.579\" y1=\"342.768\" x2=\"269.387\" y2=\"343.717\" stroke-linecap=\"round\" style=\"stroke:white;stroke-width:4\"/><line x1=\"269.387\" y1=\"343.717\" x2=\"272.222\" y2=\"344.583\" stroke-linecap=\"round\" style=\"stroke:white;stroke-width:4\"/><line x1=\"272.222\" y1=\"344.583\" x2=\"275.081\" y2=\"345.364\" stroke-linecap=\"round\" style=\"stroke:white;stroke-width:4\"/><line x1=\"275.081\" y1=\"345.364\" x2=\"277.962\" y2=\"346.06\" stroke-linecap=\"round\" style=\"stroke:white;stroke-width:4\"/><line x1=\"277.962\" y1=\"346.06\" x2=\"280.862\" y2=\"346.67\" stroke-linecap=\"round\" style=\"stroke:white;stroke-width:4\"/><line x1=\"280.862\" y1=\"346.67\" x2=\"283.779\" y2=\"347.194\" stroke-linecap=\"round\" style=\"stroke:white;stroke-width:4\"/><line x1=\"283.779\" y1=\"347.194\" x2=\"286.71\" y2=\"347.632\" stroke-linecap=\"round\" style=\"stroke:white;stroke-width:4\"/><line x1=\"286.71\" y1=\"347.632\" x2=\"289.653\" y2=\"347.983\" stroke-linecap=\"round\" style=\"stroke:white;stroke-width:4\"/><line x1=\"289.653\" y1=\"347.983\" x2=\"292.605\" y2=\"348.246\" stroke-linecap=\"round\" style=\"stroke:white;stroke-width:4\"/><line x1=\"292.605\" y1=\"348.246\" x2=\"295.564\" y2=\"348.422\" stroke-linecap=\"round\" style=\"stroke:white;stroke-width:4\"/><line x1=\"295.564\" y1=\"348.422\" x2=\"298.526\" y2=\"348.51\" stroke-linecap=\"round\" style=\"stroke:white;stroke-width:4\"/><line x1=\"298.526\" y1=\"348.51\" x2=\"301.49\" y2=\"348.51\" stroke-linecap=\"round\" style=\"stroke:white;stroke-width:4\"/><line x1=\"301.49\" y1=\"348.51\" x2=\"304.452\" y2=\"348.422\" stroke-linecap=\"round\" style=\"stroke:white;stroke-width:4\"/><line x1=\"304.452\" y1=\"348.422\" x2=\"307.411\" y2=\"348.246\" stroke-linecap=\"round\" style=\"stroke:white;stroke-width:4\"/><line x1=\"307.411\" y1=\"348.246\" x2=\"310.363\" y2=\"347.983\" stroke-linecap=\"round\" style=\"stroke:white;stroke-width:4\"/><line x1=\"310.363\" y1=\"347.983\" x2=\"313.306\" y2=\"347.632\" stroke-linecap=\"round\" style=\"stroke:white;stroke-width:4\"/><line x1=\"313.306\" y1=\"347.632\" x2=\"316.237\" y2=\"347.194\" stroke-linecap=\"round\" style=\"stroke:white;stroke-width:4\"/><line x1=\"316.237\" y1=\"347.194\" x2=\"319.154\" y2=\"346.67\" stroke-linecap=\"round\" style=\"stroke:white;stroke-width:4\"/><line x1=\"319.154\" y1=\"346.67\" x2=\"322.054\" y2=\"346.06\" stroke-linecap=\"round\" style=\"stroke:white;stroke-width:4\"/><line x1=\"322.054\" y1=\"346.06\" x2=\"324.935\" y2=\"345.364\" stroke-linecap=\"round\" style=\"stroke:white;stroke-width:4\"/><line x1=\"324.935\" y1=\"345.364\" x2=\"327.794\" y2=\"344.583\" stroke-linecap=\"round\" style=\"stroke:white;stroke-width:4\"/><line x1=\"327.794\" y1=\"344.583\" x2=\"330.629\" y2=\"343.717\" stroke-linecap=\"round\" style=\"stroke:white;stroke-width:4\"/><line x1=\"330.629\" y1=\"343.717\" x2=\"333.437\" y2=\"342.768\" stroke-linecap=\"round\" style=\"stroke:white;stroke-width:4\"/><line x1=\"333.437\" y1=\"342.768\" x2=\"336.215\" y2=\"341.736\" stroke-linecap=\"round\" style=\"stroke:white;stroke-width:4\"/><line x1=\"336.215\" y1=\"341.736\" x2=\"338.961\" y2=\"340.622\" stroke-linecap=\"round\" style=\"stroke:white;stroke-width:4\"/><line x1=\"338.961\" y1=\"340.622\" x2=\"341.673\" y2=\"339.427\" stroke-linecap=\"round\" style=\"stroke:white;stroke-width:4\"/><line x1=\"341.673\" y1=\"339.427\" x2=\"344.349\" y2=\"338.152\" stroke-linecap=\"round\" style=\"stroke:white;stroke-width:4\"/><line x1=\"344.349\" y1=\"338.152\" x2=\"346.986\" y2=\"336.799\" stroke-linecap=\"round\" style=\"stroke:white;stroke-width:4\"/><line x1=\"346.986\" y1=\"336.799\" x2=\"349.581\" y2=\"335.368\" stroke-linecap=\"round\" style=\"stroke:white;stroke-width:4\"/><line x1=\"349.581\" y1=\"335.368\" x2=\"352.133\" y2=\"333.861\" stroke-linecap=\"round\" style=\"stroke:white;stroke-width:4\"/><line x1=\"352.133\" y1=\"333.861\" x2=\"354.639\" y2=\"332.279\" stroke-linecap=\"round\" style=\"stroke:white;stroke-width:4\"/><line x1=\"354.639\" y1=\"332.279\" x2=\"357.097\" y2=\"330.623\" stroke-linecap=\"round\" style=\"stroke:white;stroke-width:4\"/><line x1=\"357.097\" y1=\"330.623\" x2=\"359.505\" y2=\"328.895\" stroke-linecap=\"round\" style=\"stroke:white;stroke-width:4\"/><line x1=\"359.505\" y1=\"328.895\" x2=\"361.861\" y2=\"327.097\" stroke-linecap=\"round\" style=\"stroke:white;stroke-width:4\"/><line x1=\"361.861\" y1=\"327.097\" x2=\"364.162\" y2=\"325.23\" stroke-linecap=\"round\" style=\"stroke:white;stroke-width:4\"/><line x1=\"364.162\" y1=\"325.23\" x2=\"366.407\" y2=\"323.295\" stroke-linecap=\"round\" style=\"stroke:white;stroke-width:4\"/><line x1=\"366.407\" y1=\"323.295\" x2=\"368.594\" y2=\"321.295\" stroke-linecap=\"round\" style=\"stroke:white;stroke-width:4\"/><line x1=\"368.594\" y1=\"321.295\" x2=\"370.721\" y2=\"319.231\" stroke-linecap=\"round\" style=\"stroke:white;stroke-width:4\"/><line x1=\"370.721\" y1=\"319.231\" x2=\"372.785\" y2=\"317.104\" stroke-linecap=\"round\" style=\"stroke:white;stroke-width:4\"/><line x1=\"372.785\" y1=\"317.104\" x2=\"374.785\" y2=\"314.917\" stroke-linecap=\"round\" style=\"stroke:white;stroke-width:4\"/><line x1=\"374.785\" y1=\"314.917\" x2=\"376.72\" y2=\"312.672\" stroke-linecap=\"round\" style=\"stroke:white;stroke-width:4\"/><line x1=\"376.72\" y1=\"312.672\" x2=\"378.587\" y2=\"310.371\" stroke-linecap=\"round\" style=\"stroke:white;stroke-width:4\"/><line x1=\"378.587\" y1=\"310.371\" x2=\"380.385\" y2=\"308.015\" stroke-linecap=\"round\" style=\"stroke:white;stroke-width:4\"/><line x1=\"380.385\" y1=\"308.015\" x2=\"382.113\" y2=\"305.607\" stroke-linecap=\"round\" style=\"stroke:white;stroke-width:4\"/><line x1=\"382.113\" y1=\"305.607\" x2=\"383.769\" y2=\"303.149\" stroke-linecap=\"round\" style=\"stroke:white;stroke-width:4\"/><line x1=\"383.769\" y1=\"303.149\" x2=\"385.351\" y2=\"300.643\" stroke-linecap=\"round\" style=\"stroke:white;stroke-width:4\"/><line x1=\"385.351\" y1=\"300.643\" x2=\"386.858\" y2=\"298.091\" stroke-linecap=\"round\" style=\"stroke:white;stroke-width:4\"/><line x1=\"386.858\" y1=\"298.091\" x2=\"388.289\" y2=\"295.496\" stroke-linecap=\"round\" style=\"stroke:white;stroke-width:4\"/><line x1=\"388.289\" y1=\"295.496\" x2=\"389.642\" y2=\"292.859\" stroke-linecap=\"round\" style=\"stroke:white;stroke-width:4\"/><line x1=\"389.642\" y1=\"292.859\" x2=\"390.917\" y2=\"290.183\" stroke-linecap=\"round\" style=\"stroke:white;stroke-width:4\"/><line x1=\"390.917\" y1=\"290.183\" x2=\"392.112\" y2=\"287.471\" stroke-linecap=\"round\" style=\"stroke:white;stroke-width:4\"/><line x1=\"392.112\" y1=\"287.471\" x2=\"393.226\" y2=\"284.725\" stroke-linecap=\"round\" style=\"stroke:white;stroke-width:4\"/><line x1=\"393.226\" y1=\"284.725\" x2=\"394.258\" y2=\"281.947\" stroke-linecap=\"round\" style=\"stroke:white;stroke-width:4\"/><line x1=\"394.258\" y1=\"281.947\" x2=\"395.207\" y2=\"279.139\" stroke-linecap=\"round\" style=\"stroke:white;stroke-width:4\"/><line x1=\"395.207\" y1=\"279.139\" x2=\"396.073\" y2=\"276.304\" stroke-linecap=\"round\" style=\"stroke:white;stroke-width:4\"/><line x1=\"396.073\" y1=\"276.304\" x2=\"396.854\" y2=\"273.445\" stroke-linecap=\"round\" style=\"stroke:white;stroke-width:4\"/><line x1=\"396.854\" y1=\"273.445\" x2=\"397.55\" y2=\"270.564\" stroke-linecap=\"round\" style=\"stroke:white;stroke-width:4\"/><line x1=\"397.55\" y1=\"270.564\" x2=\"398.16\" y2=\"267.664\" stroke-linecap=\"round\" style=\"stroke:white;stroke-width:4\"/><line x1=\"398.16\" y1=\"267.664\" x2=\"398.684\" y2=\"264.747\" stroke-linecap=\"round\" style=\"stroke:white;stroke-width:4\"/><line x1=\"398.684\" y1=\"264.747\" x2=\"399.122\" y2=\"261.816\" stroke-linecap=\"round\" style=\"stroke:white;stroke-width:4\"/><line x1=\"399.122\" y1=\"261.816\" x2=\"399.473\" y2=\"258.873\" stroke-linecap=\"round\" style=\"stroke:white;stroke-width:4\"/><line x1=\"399.473\" y1=\"258.873\" x2=\"399.736\" y2=\"255.921\" stroke-linecap=\"round\" style=\"stroke:white;stroke-width:4\"/><line x1=\"399.736\" y1=\"255.921\" x2=\"399.912\" y2=\"252.962\" stroke-linecap=\"round\" style=\"stroke:white;stroke-width:4\"/><line x1=\"399.912\" y1=\"252.962\" x2=\"400.0\" y2=\"250.0\" stroke-linecap=\"round\" style=\"stroke:white;stroke-width:4\"/>\n",
              "        <g visibility=visible transform=\"rotate(359.99999999999875,400.0,250.0) translate(382.0, 232.0)\">\n",
              "<path style=\" stroke:none;fill-rule:evenodd;fill:white;fill-opacity:1;\" d=\"M 18.214844 0.632812 C 16.109375 1.800781 15.011719 4.074219 15.074219 7.132812 L 15.085938 7.652344 L 14.785156 7.496094 C 13.476562 6.824219 11.957031 6.671875 10.40625 7.066406 C 8.46875 7.550781 6.515625 9.15625 4.394531 11.992188 C 3.0625 13.777344 2.679688 14.636719 3.042969 15.027344 L 3.15625 15.152344 L 3.519531 15.152344 C 4.238281 15.152344 4.828125 14.886719 8.1875 13.039062 C 9.386719 12.378906 10.371094 11.839844 10.378906 11.839844 C 10.386719 11.839844 10.355469 11.929688 10.304688 12.035156 C 9.832031 13.09375 9.257812 14.820312 8.96875 16.078125 C 7.914062 20.652344 8.617188 24.53125 11.070312 27.660156 C 11.351562 28.015625 11.363281 27.914062 10.972656 28.382812 C 8.925781 30.84375 7.945312 33.28125 8.238281 35.1875 C 8.289062 35.527344 8.28125 35.523438 8.917969 35.523438 C 10.941406 35.523438 13.074219 34.207031 15.136719 31.6875 C 15.359375 31.417969 15.328125 31.425781 15.5625 31.574219 C 16.292969 32.042969 18.023438 32.964844 18.175781 32.964844 C 18.335938 32.964844 19.941406 32.210938 20.828125 31.71875 C 20.996094 31.625 21.136719 31.554688 21.136719 31.558594 C 21.203125 31.664062 21.898438 32.414062 22.222656 32.730469 C 23.835938 34.300781 25.5625 35.132812 27.582031 35.300781 C 27.90625 35.328125 27.9375 35.308594 28.007812 34.984375 C 28.382812 33.242188 27.625 30.925781 25.863281 28.425781 L 25.542969 27.96875 L 25.699219 27.785156 C 28.945312 23.960938 29.132812 18.699219 26.257812 11.96875 L 26.207031 11.84375 L 27.945312 12.703125 C 31.53125 14.476562 32.316406 14.800781 33.03125 14.800781 C 33.976562 14.800781 33.78125 13.9375 32.472656 12.292969 C 28.519531 7.355469 25.394531 5.925781 21.921875 7.472656 L 21.558594 7.636719 L 21.578125 7.542969 C 21.699219 6.992188 21.761719 5.742188 21.699219 5.164062 C 21.496094 3.296875 20.664062 1.964844 19.003906 0.855469 C 18.480469 0.503906 18.457031 0.5 18.214844 0.632812\"/>\n",
              "</g>\n",
              "      </svg>\n",
              "    "
            ]
          },
          "metadata": {}
        }
      ]
    },
    {
      "cell_type": "markdown",
      "source": [
        "#Refactoring\n",
        "\n",
        "When I wrote circle, I was able to re-use polygon because a many-sided polygon is a good\n",
        "approximation of a circle. But arc is not as cooperative; we can’t use polygon or circle to\n",
        "draw an arc.\n",
        "One alternative is to start with a copy of polygon and transform it into arc. The result\n",
        "might look like this:\n",
        "\n",
        "    def arc(t, r, angle):\n",
        "        arc_length = 2 * math.pi * r * angle / 360\n",
        "        n = int(arc_length / 3) + 1\n",
        "        step_length = arc_length / n\n",
        "        step_angle = angle / n\n",
        "\n",
        "        for i in range(n):\n",
        "            t.fd(step_length)\n",
        "            t.lt(step_angle)\n",
        "\n",
        "The second half of this function looks like polygon, but we can’t re-use polygon without\n",
        "changing the interface. We could generalize polygon to take an angle as a third argument,\n",
        "but then polygon would no longer be an appropriate name! Instead, let’s call the more\n",
        "general function polyline:\n",
        "\n",
        "    def polyline(t, n, length, angle):\n",
        "        for i in range(n):\n",
        "            t.fd(length)\n",
        "            t.lt(angle)\n",
        "\n",
        "Now we can rewrite polygon and arc to use polyline:\n",
        "\n",
        "    def polygon(t, n, length):\n",
        "        angle = 360.0 / n\n",
        "        polyline(t, n, length, angle)\n",
        "\n",
        "    def arc(t, r, angle):\n",
        "        arc_length = 2 * math.pi * r * angle / 360\n",
        "        n = int(arc_length / 3) + 1\n",
        "        step_length = arc_length / n\n",
        "        step_angle = float(angle) / n\n",
        "        polyline(t, n, step_length, step_angle)\n",
        "\n",
        "Finally, we can rewrite circle to use arc:\n",
        "\n",
        "    def circle(t, r):\n",
        "        arc(t, r, 360)\n",
        "\n",
        "This process—rearranging a program to improve interfaces and facilitate code re-use—is\n",
        "called **refactoring**. In this case, we noticed that there was similar code in arc and polygon,\n",
        "so we “factored it out” into polyline.\n",
        "If we had planned ahead, we might have written polyline first and avoided refactoring,\n",
        "but often you don’t know enough at the beginning of a project to design all the interfaces.\n",
        "Once you start coding, you understand the problem better. Sometimes refactoring is a sign\n",
        "that you have learned something."
      ],
      "metadata": {
        "id": "p351ZgvA2iWF"
      }
    },
    {
      "cell_type": "code",
      "source": [],
      "metadata": {
        "id": "wo_wSct83XEb"
      },
      "execution_count": null,
      "outputs": []
    },
    {
      "cell_type": "markdown",
      "source": [
        "#A development plan\n",
        "\n",
        "A development plan is a process for writing programs. The process we used in this case\n",
        "study is “encapsulation and generalization”. The steps of this process are:\n",
        "1. Start by writing a small program with no function definitions.\n",
        "2. Once you get the program working, identify a coherent piece of it, encapsulate the\n",
        "piece in a function and give it a name.\n",
        "3. Generalize the function by adding appropriate parameters.\n",
        "4. Repeat steps 1–3 until you have a set of working functions. Copy and paste working\n",
        "code to avoid retyping (and re-debugging).\n",
        "5. Look for opportunities to improve the program by refactoring. For example, if you\n",
        "have similar code in several places, consider factoring it into an appropriately general\n",
        "function.\n",
        "This process has some drawbacks—we will see alternatives later—but it can be useful if\n",
        "you don’t know ahead of time how to divide the program into functions. This approach\n",
        "lets you design as you go along"
      ],
      "metadata": {
        "id": "17vkJGG9AtQK"
      }
    },
    {
      "cell_type": "markdown",
      "source": [
        "#docstring\n",
        "\n",
        "A docstring is a string at the beginning of a function that explains the interface (“doc” is\n",
        "short for “documentation”). Here is an example:\n",
        "\n",
        "    def polyline(t, n, length, angle):\n",
        "        \"\"\"Draws n line segments with the given length and\n",
        "        angle (in degrees) between them. t is a turtle.\n",
        "        \"\"\"\n",
        "    for i in range(n):\n",
        "        t.fd(length)\n",
        "        t.lt(angle)\n",
        "\n",
        "By convention, all docstrings are triple-quoted strings, also known as multiline strings\n",
        "because the triple quotes allow the string to span more than one line.\n",
        "\n",
        "It is terse, but it contains the essential information someone would need to use this function. It explains concisely what the function does (without getting into the details of how\n",
        "it does it). It explains what effect each parameter has on the behavior of the function and\n",
        "what type each parameter should be (if it is not obvious).\n",
        "\n",
        "Writing this kind of documentation is an important part of interface design. A welldesigned interface should be simple to explain; if you have a hard time explaining one\n",
        "of your functions, maybe the interface could be improved."
      ],
      "metadata": {
        "id": "XuCeevdwA1QD"
      }
    },
    {
      "cell_type": "code",
      "source": [],
      "metadata": {
        "id": "KiHXF2ThBCnk"
      },
      "execution_count": null,
      "outputs": []
    },
    {
      "cell_type": "markdown",
      "source": [
        "#Debugging\n",
        "\n",
        "An interface is like a contract between a function and a caller. The caller agrees to provide\n",
        "certain parameters and the function agrees to do certain work.\n",
        "\n",
        "For example, polyline requires four arguments: t has to be a Turtle; n has to be an integer;\n",
        "length should be a positive number; and angle has to be a number, which is understood\n",
        "to be in degrees.\n",
        "\n",
        "These requirements are called **preconditions** because they are supposed to be true before\n",
        "the function starts executing. Conversely, conditions at the end of the function are postconditions. Postconditions include the intended effect of the function (like drawing line\n",
        "segments) and any side effects (like moving the Turtle or making other changes).\n",
        "\n",
        "Preconditions are the responsibility of the caller. If the caller violates a (properly documented!) precondition and the function doesn’t work correctly, the bug is in the caller, not\n",
        "the function.\n",
        "\n",
        "If the preconditions are satisfied and the postconditions are not, the bug is in the function.\n",
        "If your pre- and postconditions are clear, they can help with debugging."
      ],
      "metadata": {
        "id": "dl282W5TBGa5"
      }
    },
    {
      "cell_type": "markdown",
      "source": [
        "#Exercises\n",
        "\n",
        "Exercise 4.1. Download the code in this chapter from https: // thinkpython. com/ code/\n",
        "polygon. py .\n",
        "1. Draw a stack diagram that shows the state of the program while executing circle(bob,\n",
        "radius). You can do the arithmetic by hand or add print statements to the code.\n",
        "2. The version of arc in Section 4.7 is not very accurate because the linear approximation of the\n",
        "circle is always outside the true circle. As a result, the Turtle ends up a few pixels away from\n",
        "the correct destination. My solution shows a way to reduce the effect of this error. Read the\n",
        "code and see if it makes sense to you. If you draw a diagram, you might see how it works."
      ],
      "metadata": {
        "id": "l39CmZKTpkZt"
      }
    },
    {
      "cell_type": "code",
      "source": [
        "\"\"\"This module contains a code example related to\n",
        "\n",
        "Think Python, 2nd Edition\n",
        "by Allen Downey\n",
        "http://thinkpython2.com\n",
        "\n",
        "Copyright 2015 Allen Downey\n",
        "\n",
        "License: http://creativecommons.org/licenses/by/4.0/\n",
        "\"\"\"\n",
        "\n",
        "from __future__ import print_function, division\n",
        "\n",
        "import math\n",
        "\n",
        "import ColabTurtle.Turtle as bob\n",
        "\n",
        "def square(t, length):\n",
        "    \"\"\"Draws a square with sides of the given length.\n",
        "\n",
        "    Returns the Turtle to the starting position and location.\n",
        "    \"\"\"\n",
        "    for i in range(4):\n",
        "        t.fd(length)\n",
        "        t.lt(90)\n",
        "\n",
        "\n",
        "def polyline(t, n, length, angle):\n",
        "    \"\"\"Draws n line segments.\n",
        "\n",
        "    t: Turtle object\n",
        "    n: number of line segments\n",
        "    length: length of each segment\n",
        "    angle: degrees between segments\n",
        "    \"\"\"\n",
        "    for i in range(n):\n",
        "        t.fd(length)\n",
        "        t.lt(angle)\n",
        "\n",
        "\n",
        "def polygon(t, n, length):\n",
        "    \"\"\"Draws a polygon with n sides.\n",
        "\n",
        "    t: Turtle\n",
        "    n: number of sides\n",
        "    length: length of each side.\n",
        "    \"\"\"\n",
        "    angle = 360.0/n\n",
        "    polyline(t, n, length, angle)\n",
        "\n",
        "\n",
        "def arc(t, r, angle):\n",
        "    \"\"\"Draws an arc with the given radius and angle.\n",
        "\n",
        "    t: Turtle\n",
        "    r: radius\n",
        "    angle: angle subtended by the arc, in degrees\n",
        "    \"\"\"\n",
        "    arc_length = 2 * math.pi * r * abs(angle) / 360\n",
        "    n = int(arc_length / 4) + 3\n",
        "    step_length = arc_length / n\n",
        "    step_angle = float(angle) / n\n",
        "\n",
        "    # making a slight left turn before starting reduces\n",
        "    # the error caused by the linear approximation of the arc\n",
        "    t.lt(step_angle/2)\n",
        "    polyline(t, n, step_length, step_angle)\n",
        "    t.rt(step_angle/2)\n",
        "\n",
        "\n",
        "def circle(t, r):\n",
        "    \"\"\"Draws a circle with the given radius.\n",
        "\n",
        "    t: Turtle\n",
        "    r: radius\n",
        "    \"\"\"\n",
        "    arc(t, r, 360)\n",
        "\n",
        "\n",
        "# the following condition checks whether we are\n",
        "# running as a script, in which case run the test code,\n",
        "# or being imported, in which case don't.\n",
        "\n",
        "if __name__ == '__main__':\n",
        "    #bob.initializeTurtle(initial_speed=10)\n",
        "\n",
        "    # draw a circle centered on the origin\n",
        "    radius = 100\n",
        "    bob.pu()\n",
        "    bob.fd(radius)\n",
        "    bob.lt(90)\n",
        "    bob.pd()\n",
        "    circle(bob, radius)\n",
        "\n",
        "    # wait for the user to close the window\n",
        "   # turtle.mainloop()"
      ],
      "metadata": {
        "id": "cGwV3aqcBT42"
      },
      "execution_count": null,
      "outputs": []
    }
  ],
  "metadata": {
    "colab": {
      "name": "Colaboratory'ye Hoş Geldiniz",
      "toc_visible": true,
      "provenance": []
    },
    "kernelspec": {
      "display_name": "Python 3",
      "name": "python3"
    }
  },
  "nbformat": 4,
  "nbformat_minor": 0
}