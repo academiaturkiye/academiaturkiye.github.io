{
  "cells": [
    {
      "cell_type": "markdown",
      "source": [
        "**Sınıflar - Classes**\n",
        "\n",
        "https://goalkicker.com/PythonBook/PythonNotesForProfessionals.pdf s 209\n",
        "\n",
        "Python, kendisini yalnızca popüler bir betik dili olarak sunmakla kalmaz, aynı zamanda nesne yönelimli programlama paradigmasını da destekler. Sınıflar, verileri tanımlar ve bu verileri işlemek için yöntemler sağlar, hepsi tek bir nesne altında kapsanır. Dahası, sınıflar somut uygulama ayrıntılarını verilerin soyut temsillerinden ayırarak soyutlamaya izin verir.\n",
        "\n",
        "Sınıfları kullanan kod genellikle okunması, anlaşılması ve sürdürülmesi daha kolaydır.\n"
      ],
      "metadata": {
        "id": "jyLVG8OzrTGE"
      }
    },
    {
      "cell_type": "markdown",
      "source": [
        "**Introduction to classes**\n",
        "\n",
        "Bir sınıf, belirli bir nesnenin temel özelliklerini tanımlayan bir şablon işlevi görür. İşte bir örnek:"
      ],
      "metadata": {
        "id": "W4wnhKMs8_3L"
      }
    },
    {
      "cell_type": "code",
      "source": [
        "class Person(object):\n",
        "    \"\"\"A simple class.\"\"\"        # docstring\n",
        "    species = \"Homo Sapiens\"     # class attribute\n",
        "\n",
        "    def __init__(self, name):    # special method\n",
        "        \"\"\"This is the initializer. It's a special\n",
        "       method (see below).\n",
        "        \"\"\"\n",
        "        self.name = name             # instance attribute\n",
        "\n",
        "    def __str__(self):           # special method\n",
        "        \"\"\"This method is run when Python tries\n",
        "    to cast the object to a string. Return\n",
        "    this string when using print(), etc.\n",
        "        \"\"\"\n",
        "        return self.name\n",
        "\n",
        "    def rename(self, renamed):   # regular method\n",
        "        \"\"\"Reassign and print the name attribute.\"\"\"\n",
        "        self.name = renamed\n",
        "        print(\"Now my name is {}\".format(self.name))"
      ],
      "metadata": {
        "id": "7U70QMPR8_kP"
      },
      "execution_count": 62,
      "outputs": []
    },
    {
      "cell_type": "markdown",
      "source": [
        "There are a few things to note when looking at the above example.\n",
        "1. The class is made up of attributes (data) and methods (functions).\n",
        "2. Attributes and methods are simply defined as normal variables and functions.\n",
        "3. As noted in the corresponding docstring, the  __ init__() method is called the initializer. It's equivalent to the\n",
        "constructor in other object oriented languages, and is the method that is first run when you create a new\n",
        "object, or new instance of the class.\n",
        "4. Attributes that apply to the whole class are defined first, and are called class attributes.\n",
        "5. Attributes that apply to a specific instance of a class (an object) are called instance attributes. They are\n",
        "generally defined inside __init__(); this is not necessary, but it is recommended (since attributes defined\n",
        "outside of __init__() run the risk of being accessed before they are defined).\n",
        "6. Every method, included in the class definition passes the object in question as its first parameter. The word\n",
        "self is used for this parameter (usage of self is actually by convention, as the word self has no inherent\n",
        "meaning in Python, but this is one of Python's most respected conventions, and you should always follow it).\n",
        "7. Those used to object-oriented programming in other languages may be surprised by a few things. One is that\n",
        "Python has no real concept of private elements, so everything, by default, imitates the behavior of the\n",
        "C++/Java public keyword. For more information, see the \"Private Class Members\" example on this page.\n",
        "8. Some of the class's methods have the following form: __functionname__(self, other_stuff). All such\n",
        "methods are called \"magic methods\" and are an important part of classes in Python. For instance, operator\n",
        "overloading in Python is implemented with magic methods. For more information, see the relevant documentation.\n"
      ],
      "metadata": {
        "id": "cPt4ehbR8hmv"
      }
    },
    {
      "cell_type": "code",
      "source": [
        "# Now let's make a few instances of our Person class!\n",
        "\n",
        "# Instances\n",
        "kelly = Person(\"Kelly\")\n",
        "joseph = Person(\"Joseph\")\n",
        "john_doe = Person(\"John Doe\")\n",
        "#We currently have three Person objects, kelly, joseph, and john_doe."
      ],
      "metadata": {
        "id": "YdIy3T6jAxAi"
      },
      "execution_count": 63,
      "outputs": []
    },
    {
      "cell_type": "code",
      "source": [
        "# We can access the attributes of the class from each instance using the dot operator . Note again the difference between class and instance attributes:\n",
        "\n",
        "# Attributes\n",
        "kelly.species\n",
        "john_doe.species\n",
        "joseph.species\n",
        "kelly.name\n",
        "joseph.name"
      ],
      "metadata": {
        "id": "qfkmz9kxBM4F",
        "outputId": "e19705fd-367e-49d8-89bf-2a6d535467c9",
        "colab": {
          "base_uri": "https://localhost:8080/",
          "height": 35
        }
      },
      "execution_count": 64,
      "outputs": [
        {
          "output_type": "execute_result",
          "data": {
            "text/plain": [
              "'Joseph'"
            ],
            "application/vnd.google.colaboratory.intrinsic+json": {
              "type": "string"
            }
          },
          "metadata": {},
          "execution_count": 64
        }
      ]
    },
    {
      "cell_type": "code",
      "source": [
        "# We can execute the methods of the class using the same dot operator .:\n",
        "\n",
        "# Methods\n",
        "john_doe.__str__()\n",
        "print(john_doe)\n",
        "john_doe.rename(\"John\")"
      ],
      "metadata": {
        "id": "BbMWooTKBgGr"
      },
      "execution_count": null,
      "outputs": []
    },
    {
      "cell_type": "markdown",
      "source": [
        "**Bound, unbound, and static methods**\n",
        "\n",
        "The idea of bound and unbound methods was removed in Python 3. In Python 3 when you declare a method within\n",
        "a class, you are using a def keyword, thus creating a function object. This is a regular function, and the surrounding\n",
        "class works as its namespace. In the following example we declare method f within class A, and it becomes a\n",
        "function A.f:"
      ],
      "metadata": {
        "id": "tCaj6AnOByS7"
      }
    },
    {
      "cell_type": "code",
      "source": [
        "class A(object):\n",
        "    def f(self, x):\n",
        "        return 2 * x\n",
        "A.f\n",
        "# <function A.f at ...> (in Python 3.x)"
      ],
      "metadata": {
        "id": "_90VZBo3Bx2U"
      },
      "execution_count": null,
      "outputs": []
    },
    {
      "cell_type": "markdown",
      "source": [
        "In Python 2 the behavior was different: function objects within the class were implicitly replaced with objects of type instancemethod, which were called unbound methods because they were not bound to any particular class instance.\n",
        "It was possible to access the underlying function using ._ _func_ _ property."
      ],
      "metadata": {
        "id": "r0M9r7SvAvxi"
      }
    },
    {
      "cell_type": "code",
      "source": [
        "A.f\n",
        "# <unbound method A.f> (in Python 2.x)\n",
        "A.f.__class__\n",
        "# <type 'instancemethod'>\n",
        "A.f.__func__\n",
        "# <function f at ...>"
      ],
      "metadata": {
        "id": "z2e6G5LDCBdX"
      },
      "execution_count": null,
      "outputs": []
    },
    {
      "cell_type": "markdown",
      "source": [
        "The latter behaviors are confirmed by inspection - methods are recognized as functions in Python 3, while the distinction is upheld in Python 2."
      ],
      "metadata": {
        "id": "tUrNQBSHCgV7"
      }
    },
    {
      "cell_type": "code",
      "source": [
        "import inspect\n",
        "inspect.isfunction(A.f)\n",
        "# True\n",
        "inspect.ismethod(A.f)\n",
        "# False"
      ],
      "metadata": {
        "id": "VWADTzEMCkTS"
      },
      "execution_count": null,
      "outputs": []
    },
    {
      "cell_type": "code",
      "source": [
        "# Python 2.x Version ≥ 2.3\n",
        "import inspect\n",
        "inspect.isfunction(A.f)\n",
        "# False\n",
        "inspect.ismethod(A.f)\n",
        "# True"
      ],
      "metadata": {
        "id": "nnpt0kWVCow9"
      },
      "execution_count": null,
      "outputs": []
    },
    {
      "cell_type": "markdown",
      "source": [
        "In both versions of Python function/method A.f can be called directly, provided that you pass an instance of class A as the first argument.\n"
      ],
      "metadata": {
        "id": "Ose-ntXVCwFX"
      }
    },
    {
      "cell_type": "code",
      "source": [
        "A.f(1, 7)\n",
        "# Python 2: TypeError: unbound method f() must be called with\n",
        "# A instance as first argument (got int instance instead)\n",
        "# Python 3: 14\n",
        "a = A()\n",
        "A.f(a, 20)\n",
        "# Python 2 & 3: 40"
      ],
      "metadata": {
        "id": "Mq3v-AQ5CzMR"
      },
      "execution_count": null,
      "outputs": []
    },
    {
      "cell_type": "markdown",
      "source": [
        "Now suppose a is an instance of class A, what is a.f then? Well, intuitively this should be the same method f of class A, only it should somehow \"know\" that it was applied to the object a – in Python this is called method bound to a.\n",
        "\n",
        "The nitty-gritty details are as follows: writing a.f invokes the magic _ _ getattribute_ _ method of a, which first checks whether a has an attribute named f (it doesn't), then checks the class A whether it contains a method with\n",
        "such a name (it does), and creates a new object m of type method which has the reference to the original A.f in m. _ _ func _ _ , and a reference to the object a in m. _ _self _ _. When this object is called as a function, it simply does\n",
        "the following: m(...) => m. _ _func _ _ (m. _ _ self _ _ , ...). Thus this object is called a bound method because when invoked it knows to supply the object it was bound to as the first argument. (These things work same way in Python 2 and 3)."
      ],
      "metadata": {
        "id": "lxfaJCmDDLSG"
      }
    },
    {
      "cell_type": "code",
      "source": [
        "a = A()\n",
        "a.f\n",
        "# <bound method A.f of <__main__.A object at ...>>\n",
        "a.f(2)\n",
        "# 4\n",
        "# Note: the bound method object a.f is recreated *every time* you call it:\n",
        "a.f is a.f # False\n",
        "# As a performance optimization you can store the bound method in the object's\n",
        "# __dict__, in which case the method object will remain fixed:\n",
        "a.f = a.f"
      ],
      "metadata": {
        "id": "lOsusCvXD8cw"
      },
      "execution_count": null,
      "outputs": []
    },
    {
      "cell_type": "markdown",
      "source": [
        "Finally, Python has class methods and static methods – special kinds of methods. Class methods work the same way as regular methods, except that when invoked on an object they bind to the class of the object instead of to the\n",
        "object. Thus m. _ _ self _ _ = type(a). When you call such bound method, it passes the class of a as the first argument. Static methods are even simpler: they don't bind anything at all, and simply return the underlying function without any transformations."
      ],
      "metadata": {
        "id": "15PZML2GDRf6"
      }
    },
    {
      "cell_type": "code",
      "source": [
        "class D(object):\n",
        "    multiplier = 2\n",
        "\n",
        "    @classmethod\n",
        "    def f(cls, x):\n",
        "        return cls.multiplier * x\n",
        "\n",
        "    @staticmethod\n",
        "    def g(name):\n",
        "        print(\"Hello, %s\" % name)\n",
        "\n",
        "D.f\n",
        "# <bound method type.f of <class '__main__.D'>>\n",
        "D.f(12)\n",
        "# 24\n",
        "D.g\n",
        "# <function D.g at ...>\n",
        "D.g(\"world\")\n",
        "# Hello, world\n"
      ],
      "metadata": {
        "id": "zpmcrcZwENPZ"
      },
      "execution_count": null,
      "outputs": []
    },
    {
      "cell_type": "code",
      "source": [
        "# Note that class methods are bound to the class even when accessed on the instance:\n",
        "\n",
        "d = D()\n",
        "d.multiplier = 1337\n",
        "(D.multiplier, d.multiplier)\n",
        "# (2, 1337)\n",
        "d.f\n",
        "# <bound method D.f of <class '__main__.D'>>\n",
        "d.f(10)\n",
        "# 20\n"
      ],
      "metadata": {
        "id": "ndIfsyMaEkpG"
      },
      "execution_count": null,
      "outputs": []
    },
    {
      "cell_type": "markdown",
      "source": [
        "It is worth noting that at the lowest level, functions, methods, staticmethods, etc. are actually descriptors that invoke _ _ get _ _ , _ _ set _ _ and optionally __ del__ special methods. For more details on classmethods and\n",
        "staticmethods:\n",
        "\n",
        "What is the difference between @staticmethod and @classmethod in Python?\n",
        "https://stackoverflow.com/questions/136097/what-is-the-difference-between-staticmethod-and-classmethod-in-python\n",
        "\n",
        "Meaning of @classmethod and @staticmethod for beginner?\n",
        "https://stackoverflow.com/questions/12179271/meaning-of-classmethod-and-staticmethod-for-beginner"
      ],
      "metadata": {
        "id": "9pg393u1EFFA"
      }
    }
  ],
  "metadata": {
    "colab": {
      "name": "Colaboratory'ye Hoş Geldiniz",
      "toc_visible": true,
      "provenance": []
    },
    "kernelspec": {
      "display_name": "Python 3",
      "name": "python3"
    }
  },
  "nbformat": 4,
  "nbformat_minor": 0
}