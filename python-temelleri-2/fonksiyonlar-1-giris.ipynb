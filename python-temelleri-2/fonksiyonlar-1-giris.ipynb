{
  "cells": [
    {
      "cell_type": "markdown",
      "source": [
        "**Functions**\n",
        "\n",
        "**Parameter            Details**\n",
        "\n",
        "arg1, ..., argN    :  Regular arguments\n",
        "\n",
        "*args Unnamed      :  positional arguments\n",
        "\n",
        "kw1, ..., kwN      :  Keyword-only arguments\n",
        "\n",
        "**kwargs           :  The rest of keyword arguments\n",
        "\n",
        "\n",
        "\n",
        "Functions in Python provide organized, reusable and modular code to perform a set of specific actions. Functions\n",
        "simplify the coding process, prevent redundant logic, and make the code easier to follow. This topic describes the\n",
        "declaration and utilization of functions in Python.\n",
        "\n",
        "Python has many built-in functions like print(), input(), len(). Besides built-ins you can also create your own\n",
        "functions to do more specific jobs—these are called user-defined functions.\n",
        "\n",
        "**Defining and calling simple functions**\n",
        "\n",
        "Using the def statement is the most common way to define a function in python. This statement is a so called single\n",
        "clause compound statement with the following syntax:\n"
      ],
      "metadata": {
        "id": "CDgRUOH0c8mM"
      }
    },
    {
      "cell_type": "code",
      "source": [
        " def function_name(parameters):\n",
        "      statement(s)"
      ],
      "metadata": {
        "id": "DRejcHlUe9zv"
      },
      "execution_count": 14,
      "outputs": []
    },
    {
      "cell_type": "markdown",
      "source": [
        "\n",
        "\n",
        "**function_name** is known as the identifier of the function. Since a function definition is an executable statement its\n",
        "execution binds the function name to the function object which can be called later on using the identifier.\n",
        "\n",
        "**parameters** is an optional list of identifiers that get bound to the values supplied as arguments when the function is\n",
        "called. A function may have an arbitrary number of arguments which are separated by commas.\n",
        "\n",
        "**statement(s**) – also known as the function body – are a nonempty sequence of statements executed each time the\n",
        "function is called. This means a function body cannot be empty, just like any indented block.\n"
      ],
      "metadata": {
        "id": "kzQTP5C-oIdf"
      }
    },
    {
      "cell_type": "code",
      "source": [
        "#Here’s an example of a simple function definition which purpose is to print Hello each time it’s called:\n",
        "def greet():\n",
        "    print(\"Hello\")\n",
        "greet()\n"
      ],
      "metadata": {
        "colab": {
          "base_uri": "https://localhost:8080/"
        },
        "id": "oy8ru4GxgfGb",
        "outputId": "af8709ed-0a98-45cd-fd83-537254755275"
      },
      "execution_count": 22,
      "outputs": [
        {
          "output_type": "stream",
          "name": "stdout",
          "text": [
            "Hello\n"
          ]
        }
      ]
    },
    {
      "cell_type": "code",
      "source": [
        "#That’s another example of a function definition which takes one single argument and displays the passed in value each time the function is called:\n",
        "\n",
        "def greet_two(greeting):\n",
        "    print(greeting)\n",
        "greet_two(\"merhaba\")\n"
      ],
      "metadata": {
        "colab": {
          "base_uri": "https://localhost:8080/"
        },
        "id": "Tvd9pQ_4gfJp",
        "outputId": "04280fa2-6371-4662-8e2a-4e14e12a2d66"
      },
      "execution_count": 23,
      "outputs": [
        {
          "output_type": "stream",
          "name": "stdout",
          "text": [
            "merhaba\n"
          ]
        }
      ]
    },
    {
      "cell_type": "code",
      "source": [
        "#Also you can give a default value to that function argument:\n",
        "\n",
        "def greet_two(greeting=\"Howdy\"):\n",
        "    print(greeting)\n",
        "greet_two()"
      ],
      "metadata": {
        "id": "wY5RCXdhpWnb",
        "outputId": "0799fadb-ab2f-47bc-b909-581d357d8f03",
        "colab": {
          "base_uri": "https://localhost:8080/"
        }
      },
      "execution_count": 24,
      "outputs": [
        {
          "output_type": "stream",
          "name": "stdout",
          "text": [
            "Howdy\n"
          ]
        }
      ]
    },
    {
      "cell_type": "code",
      "source": [
        "#You'll notice that unlike many other languages, you do not need to explicitly declare a return type of the function.\n",
        "#Python functions can return values of any type via the return keyword. One function can return any number of\n",
        "#different types!\n",
        "\n",
        "def many_types(x):\n",
        "    if x < 0:\n",
        "        return \"Hello!\"\n",
        "    else:\n",
        "        return 0\n",
        "print(many_types(1))\n",
        "print(many_types(-1))"
      ],
      "metadata": {
        "id": "xDOJJUE8ptcV",
        "outputId": "72cce8b4-8c71-478d-a032-ac8a95bbdb86",
        "colab": {
          "base_uri": "https://localhost:8080/"
        }
      },
      "execution_count": 25,
      "outputs": [
        {
          "output_type": "stream",
          "name": "stdout",
          "text": [
            "0\n",
            "Hello!\n"
          ]
        }
      ]
    },
    {
      "cell_type": "code",
      "source": [
        "#As long as this is handled correctly by the caller, this is perfectly valid Python code.\n",
        "#A function that reaches the end of execution without a return statement will always return None:\n",
        "\n",
        "def do_nothing():\n",
        "    pass\n",
        "print(do_nothing())\n"
      ],
      "metadata": {
        "id": "-VdMU1W6qtCb",
        "outputId": "2fa695c0-c56e-4bbc-88a8-352d15542bc1",
        "colab": {
          "base_uri": "https://localhost:8080/"
        }
      },
      "execution_count": 26,
      "outputs": [
        {
          "output_type": "stream",
          "name": "stdout",
          "text": [
            "None\n"
          ]
        }
      ]
    }
  ],
  "metadata": {
    "colab": {
      "name": "Colaboratory'ye Hoş Geldiniz",
      "toc_visible": true,
      "provenance": []
    },
    "kernelspec": {
      "display_name": "Python 3",
      "name": "python3"
    }
  },
  "nbformat": 4,
  "nbformat_minor": 0
}