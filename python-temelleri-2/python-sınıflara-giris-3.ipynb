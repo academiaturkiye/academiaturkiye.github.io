{
  "cells": [
    {
      "cell_type": "markdown",
      "source": [
        "**Sınıflar/Nesneler - Classes/Objects**\n",
        "\n",
        "https://www.w3schools.com/python/python_classes.asp\n",
        "\n",
        "Python nesne yönelimli bir programlama dilidir. Python'daki hemen hemen her şey, özellikleri ve yöntemleriyle birlikte bir nesnedir. Bir Sınıf, bir nesne yapıcısı veya nesneleri yaratmaya yönelik bir \"plan\" gibidir."
      ],
      "metadata": {
        "id": "jyLVG8OzrTGE"
      }
    },
    {
      "cell_type": "markdown",
      "source": [
        "To **create a class**, use the keyword class:\n",
        "\n",
        "Example\n",
        "\n",
        "Create a class named MyClass, with a property named x:"
      ],
      "metadata": {
        "id": "5hER3r1wy0Fo"
      }
    },
    {
      "cell_type": "code",
      "source": [
        "class MyClass:\n",
        "    x = 5"
      ],
      "metadata": {
        "id": "V8VyvUtUzIco"
      },
      "execution_count": 2,
      "outputs": []
    },
    {
      "cell_type": "markdown",
      "source": [
        "**Create Object**\n",
        "\n",
        "Now we can use the class named MyClass to create objects:"
      ],
      "metadata": {
        "id": "vod6BF87zMJM"
      }
    },
    {
      "cell_type": "code",
      "source": [
        "p1 = MyClass()\n",
        "print(p1.x)"
      ],
      "metadata": {
        "id": "c0xYq9dAzNbE",
        "outputId": "612207cd-5117-4525-b972-44af2c86e374",
        "colab": {
          "base_uri": "https://localhost:8080/"
        }
      },
      "execution_count": 3,
      "outputs": [
        {
          "output_type": "stream",
          "name": "stdout",
          "text": [
            "5\n"
          ]
        }
      ]
    },
    {
      "cell_type": "markdown",
      "source": [
        "The  _ _init__() Function\n",
        "\n",
        "The examples above are classes and objects in their simplest form, and are not really useful in real life applications.\n",
        "\n",
        "To understand the meaning of classes we have to understand the built-in __init__() function.\n",
        "\n",
        "All classes have a function called __init__(), which is always executed when the class is being initiated.\n",
        "\n",
        "Use the __init__() function to assign values to object properties, or other operations that are necessary to do when the object is being created:"
      ],
      "metadata": {
        "id": "UM4jOdcszXzL"
      }
    },
    {
      "cell_type": "code",
      "source": [
        "#Create a class named Person, use the __init__() function to assign values for name and age:\n",
        "\n",
        "class Person:\n",
        "    def __init__(self, name, age):\n",
        "        self.name = name\n",
        "        self.age = age\n",
        "\n",
        "p1 = Person(\"John\", 36)\n",
        "\n",
        "print(p1.name)\n",
        "print(p1.age)\n",
        "\n",
        "#Note: The __init__() function is called automatically every time the class is being used to create a new object."
      ],
      "metadata": {
        "id": "J4j07xG0zaJZ",
        "outputId": "b6015168-86f0-408b-a14f-5ec7d17cda66",
        "colab": {
          "base_uri": "https://localhost:8080/"
        }
      },
      "execution_count": 4,
      "outputs": [
        {
          "output_type": "stream",
          "name": "stdout",
          "text": [
            "John\n",
            "36\n"
          ]
        }
      ]
    },
    {
      "cell_type": "markdown",
      "source": [
        "The _ _str__() Function\n",
        "\n",
        "The __str__() function controls what should be returned when the class object is represented as a string.\n",
        "\n",
        "If the __str__() function is not set, the string representation of the object is returned:\n",
        "\n",
        "Example\n",
        "The string representation of an object WITHOUT the __str__() function:"
      ],
      "metadata": {
        "id": "BFLzb9dv1FxW"
      }
    },
    {
      "cell_type": "code",
      "source": [
        "class Person:\n",
        "    def __init__(self, name, age):\n",
        "        self.name = name\n",
        "        self.age = age\n",
        "\n",
        "p1 = Person(\"John\", 36)\n",
        "\n",
        "print(p1)"
      ],
      "metadata": {
        "id": "v1DK8FJg1M82",
        "outputId": "7d7b8c84-55a4-4299-8a2c-0959deaf1e17",
        "colab": {
          "base_uri": "https://localhost:8080/"
        }
      },
      "execution_count": 5,
      "outputs": [
        {
          "output_type": "stream",
          "name": "stdout",
          "text": [
            "<__main__.Person object at 0x7dc6c0f49d50>\n"
          ]
        }
      ]
    },
    {
      "cell_type": "markdown",
      "source": [
        "Example\n",
        "\n",
        "The string representation of an object WITH the __str__() function:"
      ],
      "metadata": {
        "id": "lEdZppLH1wem"
      }
    },
    {
      "cell_type": "code",
      "source": [
        "class Person:\n",
        "    def __init__(self, name, age):\n",
        "        self.name = name\n",
        "        self.age = age\n",
        "\n",
        "    def __str__(self):\n",
        "        return f\"{self.name}({self.age})\"\n",
        "\n",
        "p1 = Person(\"John\", 36)\n",
        "\n",
        "print(p1)"
      ],
      "metadata": {
        "id": "EkREahNu1y8A",
        "outputId": "40cf9811-74b8-4c85-ff2a-07bd8da8b9db",
        "colab": {
          "base_uri": "https://localhost:8080/"
        }
      },
      "execution_count": 6,
      "outputs": [
        {
          "output_type": "stream",
          "name": "stdout",
          "text": [
            "John(36)\n"
          ]
        }
      ]
    },
    {
      "cell_type": "markdown",
      "source": [
        "**Object Methods**\n",
        "\n",
        "Objects can also contain methods. Methods in objects are functions that belong to the object.\n",
        "\n",
        "Let us create a method in the Person class:\n",
        "\n",
        "Example\n",
        "Insert a function that prints a greeting, and execute it on the p1 object:"
      ],
      "metadata": {
        "id": "rNHfiLBD2b84"
      }
    },
    {
      "cell_type": "code",
      "source": [
        "class Person:\n",
        "    def __init__(self, name, age):\n",
        "        self.name = name\n",
        "        self.age = age\n",
        "\n",
        "    def myfunc(self):\n",
        "        print(\"Hello my name is \" + self.name)\n",
        "\n",
        "p1 = Person(\"John\", 36)\n",
        "p1.myfunc()\n",
        "\n",
        "# Note: The self parameter is a reference to the current instance of the class, and is used to access variables that belong to the class."
      ],
      "metadata": {
        "id": "zj6C8S6m2ke1"
      },
      "execution_count": null,
      "outputs": []
    },
    {
      "cell_type": "markdown",
      "source": [
        "**The self Parameter**\n",
        "\n",
        "The self parameter is a reference to the current instance of the class, and is used to access variables that belongs to the class.\n",
        "\n",
        "It does not have to be named self , you can call it whatever you like, but it has to be the first parameter of any function in the class:\n",
        "\n",
        "Example\n",
        "\n",
        "Use the words mysillyobject and abc instead of self:"
      ],
      "metadata": {
        "id": "SdLVK_7n2wFk"
      }
    },
    {
      "cell_type": "code",
      "source": [
        "class Person:\n",
        "    def __init__(mysillyobject, name, age):\n",
        "        mysillyobject.name = name\n",
        "        mysillyobject.age = age\n",
        "\n",
        "    def myfunc(abc):\n",
        "        print(\"Hello my name is \" + abc.name)\n",
        "\n",
        "p1 = Person(\"John\", 36)\n",
        "p1.myfunc()"
      ],
      "metadata": {
        "id": "ZGM3qy1B27X7"
      },
      "execution_count": null,
      "outputs": []
    },
    {
      "cell_type": "markdown",
      "source": [
        "**Modify Object Properties**\n",
        "\n",
        "You can modify properties on objects like this:\n",
        "\n",
        "Example\n",
        "\n",
        "Set the age of p1 to 40:"
      ],
      "metadata": {
        "id": "4lXpKVJT3GxU"
      }
    },
    {
      "cell_type": "code",
      "source": [
        "p1.age = 40"
      ],
      "metadata": {
        "id": "ke5XpdR53NCx"
      },
      "execution_count": null,
      "outputs": []
    },
    {
      "cell_type": "markdown",
      "source": [
        "**Delete Object Properties**\n",
        "\n",
        "You can delete properties on objects by using the del keyword:\n",
        "\n",
        "Example\n",
        "\n",
        "Delete the age property from the p1 object:"
      ],
      "metadata": {
        "id": "zbYqLjfA3Qvo"
      }
    },
    {
      "cell_type": "code",
      "source": [
        "del p1"
      ],
      "metadata": {
        "id": "oZmhMTWL3Y3r"
      },
      "execution_count": null,
      "outputs": []
    },
    {
      "cell_type": "markdown",
      "source": [
        "**The pass Statement**\n",
        "\n",
        "class definitions cannot be empty, but if you for some reason have a class definition with no content, put in the pass statement to avoid getting an error."
      ],
      "metadata": {
        "id": "ETF-zcaH3YCu"
      }
    },
    {
      "cell_type": "code",
      "source": [
        "class Person:\n",
        "  pass"
      ],
      "metadata": {
        "id": "AXUU45203nD3"
      },
      "execution_count": null,
      "outputs": []
    },
    {
      "cell_type": "markdown",
      "source": [
        "**Python Inheritance**\n",
        "\n",
        "Inheritance allows us to define a class that inherits all the methods and properties from another class.\n",
        "\n",
        "Parent class is the class being inherited from, also called base class.\n",
        "\n",
        "Child class is the class that inherits from another class, also called derived class.\n",
        "\n",
        "Create a Parent Class\n",
        "\n",
        "Any class can be a parent class, so the syntax is the same as creating any other class:\n",
        "\n",
        "Example\n",
        "\n",
        "Create a class named Person, with firstname and lastname properties, and a printname method:"
      ],
      "metadata": {
        "id": "xPvNRe-X4RNo"
      }
    },
    {
      "cell_type": "code",
      "source": [
        "class Person:\n",
        "    def __init__(self, fname, lname):\n",
        "        self.firstname = fname\n",
        "        self.lastname = lname\n",
        "\n",
        "    def printname(self):\n",
        "        print(self.firstname, self.lastname)\n",
        "\n",
        "#Use the Person class to create an object, and then execute the printname method:\n",
        "\n",
        "x = Person(\"John\", \"Doe\")\n",
        "x.printname()"
      ],
      "metadata": {
        "id": "vJYMkJgB4Qwi"
      },
      "execution_count": null,
      "outputs": []
    },
    {
      "cell_type": "markdown",
      "source": [
        "Create a Child Class\n",
        "\n",
        "To create a class that inherits the functionality from another class, send the parent class as a parameter when creating the child class:\n",
        "\n",
        "Example\n",
        "\n",
        "Create a class named Student, which will inherit the properties and methods from the Person class:"
      ],
      "metadata": {
        "id": "W3hdu8GL4ndi"
      }
    },
    {
      "cell_type": "code",
      "source": [
        "class Student(Person):\n",
        "    pass\n",
        "# Note: Use the pass keyword when you do not want to add any other properties or methods to the class."
      ],
      "metadata": {
        "id": "nv1tql1W4tRP"
      },
      "execution_count": null,
      "outputs": []
    },
    {
      "cell_type": "markdown",
      "source": [
        "Now the Student class has the same properties and methods as the Person class.\n",
        "\n",
        "Example\n",
        "\n",
        "Use the Student class to create an object, and then execute the printname method:"
      ],
      "metadata": {
        "id": "5xgS6Xi24vat"
      }
    },
    {
      "cell_type": "code",
      "source": [
        "x = Student(\"Mike\", \"Olsen\")\n",
        "x.printname()"
      ],
      "metadata": {
        "id": "s3DrGe_g5ElX"
      },
      "execution_count": null,
      "outputs": []
    },
    {
      "cell_type": "markdown",
      "source": [
        "**Add the _ _init__() Function**\n",
        "\n",
        "So far we have created a child class that inherits the properties and methods from its parent.\n",
        "\n",
        "We want to add the __init__() function to the child class (instead of the pass keyword).\n",
        "\n",
        "Note: The __init__() function is called automatically every time the class is being used to create a new object.\n",
        "\n",
        "Example\n",
        "\n",
        "Add the __init__() function to the Student class:"
      ],
      "metadata": {
        "id": "mGcZ01sD5Hkb"
      }
    },
    {
      "cell_type": "code",
      "source": [
        "class Student(Person):\n",
        "    def __init__(self, fname, lname):\n",
        "        #add properties etc."
      ],
      "metadata": {
        "id": "aSZVYi_g5SvV"
      },
      "execution_count": null,
      "outputs": []
    },
    {
      "cell_type": "markdown",
      "source": [
        "When you add the __init__() function, the child class will no longer inherit the parent's __init__() function.\n",
        "\n",
        "Note: The child's __init__() function overrides the inheritance of the parent's __init__() function.\n",
        "\n",
        "To keep the inheritance of the parent's __init__() function, add a call to the parent's __init__() function:"
      ],
      "metadata": {
        "id": "jfhqcOGp5gDY"
      }
    },
    {
      "cell_type": "code",
      "source": [
        "class Student(Person):\n",
        "    def __init__(self, fname, lname):\n",
        "        Person.__init__(self, fname, lname)\n",
        "\n",
        "# Now we have successfully added the __init__() function, and kept the inheritance of the parent class, and we are ready to add functionality in the __init__() function"
      ],
      "metadata": {
        "id": "jnWJapjw5jAr"
      },
      "execution_count": null,
      "outputs": []
    },
    {
      "cell_type": "markdown",
      "source": [
        "**Use the super() Function**\n",
        "\n",
        "Python also has a super() function that will make the child class inherit all the methods and properties from its parent:"
      ],
      "metadata": {
        "id": "ux4mAeD15qmb"
      }
    },
    {
      "cell_type": "code",
      "source": [
        "class Student(Person):\n",
        "    def __init__(self, fname, lname):\n",
        "    super().__init__(fname, lname)\n",
        "# By using the super() function, you do not have to use the name of the parent element, it will automatically inherit the methods and properties from its parent."
      ],
      "metadata": {
        "id": "SD3krhQ955Ll"
      },
      "execution_count": null,
      "outputs": []
    },
    {
      "cell_type": "markdown",
      "source": [
        "**Add Properties**\n",
        "\n",
        "Example\n",
        "\n",
        "Add a property called graduationyear to the Student class:"
      ],
      "metadata": {
        "id": "nCNK3Pcy6Jhu"
      }
    },
    {
      "cell_type": "code",
      "source": [
        "class Student(Person):\n",
        "    def __init__(self, fname, lname):\n",
        "        super().__init__(fname, lname)\n",
        "        self.graduationyear = 2019"
      ],
      "metadata": {
        "id": "dwiuxM-k6GoQ"
      },
      "execution_count": null,
      "outputs": []
    },
    {
      "cell_type": "markdown",
      "source": [
        "In the example below, the year 2019 should be a variable, and passed into the Student class when creating student objects. To do so, add another parameter in the __init__() function:\n",
        "\n",
        "Example\n",
        "Add a year parameter, and pass the correct year when creating objects:"
      ],
      "metadata": {
        "id": "03fLqQs36Yeu"
      }
    },
    {
      "cell_type": "code",
      "source": [
        "class Student(Person):\n",
        "    def __init__(self, fname, lname, year):\n",
        "        super().__init__(fname, lname)\n",
        "        self.graduationyear = year\n",
        "\n",
        "x = Student(\"Mike\", \"Olsen\", 2019)"
      ],
      "metadata": {
        "id": "H8raA5Bk6Zks"
      },
      "execution_count": null,
      "outputs": []
    },
    {
      "cell_type": "markdown",
      "source": [
        "**Add Methods**\n",
        "\n",
        "Example\n",
        "\n",
        "Add a method called welcome to the Student class:"
      ],
      "metadata": {
        "id": "Ns_kILDF6j7q"
      }
    },
    {
      "cell_type": "code",
      "source": [
        "class Student(Person):\n",
        "    def __init__(self, fname, lname, year):\n",
        "        super().__init__(fname, lname)\n",
        "        self.graduationyear = year\n",
        "\n",
        "    def welcome(self):\n",
        "        print(\"Welcome\", self.firstname, self.lastname, \"to the class of\", self.graduationyear)"
      ],
      "metadata": {
        "id": "M2IZc7-26pt-"
      },
      "execution_count": null,
      "outputs": []
    },
    {
      "cell_type": "markdown",
      "source": [
        "If you add a method in the child class with the same name as a function in the parent class, the inheritance of the parent method will be overridden."
      ],
      "metadata": {
        "id": "bMjcIjyK6y17"
      }
    }
  ],
  "metadata": {
    "colab": {
      "name": "Colaboratory'ye Hoş Geldiniz",
      "toc_visible": true,
      "provenance": []
    },
    "kernelspec": {
      "display_name": "Python 3",
      "name": "python3"
    }
  },
  "nbformat": 4,
  "nbformat_minor": 0
}