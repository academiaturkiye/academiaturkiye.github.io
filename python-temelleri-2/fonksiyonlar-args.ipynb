{
  "cells": [
    {
      "cell_type": "markdown",
      "source": [
        "Defining a function with an arbitrary number of\n",
        "arguments"
      ],
      "metadata": {
        "id": "CDgRUOH0c8mM"
      }
    },
    {
      "cell_type": "markdown",
      "source": [
        "Arbitrary number of positional arguments:\n",
        "Defining a function capable of taking an arbitrary number of arguments can be done by prefixing one of the\n",
        "arguments with a *"
      ],
      "metadata": {
        "id": "GpVdO2fSdEIa"
      }
    },
    {
      "cell_type": "code",
      "source": [
        "def func(*args):\n",
        " # args will be a tuple containing all values that are passed in\n",
        "    for i in args:\n",
        "        print(i)\n",
        "func(1, 2, 3) # Calling it with 3 arguments"
      ],
      "metadata": {
        "id": "gQKJOgHGc2N5",
        "outputId": "3722f13c-1e0e-4a3a-af9d-0744b160927f",
        "colab": {
          "base_uri": "https://localhost:8080/"
        }
      },
      "execution_count": 5,
      "outputs": [
        {
          "output_type": "stream",
          "name": "stdout",
          "text": [
            "1\n",
            "2\n",
            "3\n"
          ]
        }
      ]
    },
    {
      "cell_type": "code",
      "source": [
        "def func(*k):\n",
        " # args will be a tuple containing all values that are passed in\n",
        "    for i in k:\n",
        "        print(i)\n",
        "func(1, 2, 3) # Calling it with 3 arguments"
      ],
      "metadata": {
        "id": "T5ApvEVvdrhB",
        "outputId": "4ee31eec-9a89-4316-a780-af33942b3715",
        "colab": {
          "base_uri": "https://localhost:8080/"
        }
      },
      "execution_count": 6,
      "outputs": [
        {
          "output_type": "stream",
          "name": "stdout",
          "text": [
            "1\n",
            "2\n",
            "3\n"
          ]
        }
      ]
    },
    {
      "cell_type": "code",
      "source": [
        "func()"
      ],
      "metadata": {
        "id": "DRejcHlUe9zv"
      },
      "execution_count": 14,
      "outputs": []
    },
    {
      "cell_type": "code",
      "source": [
        "def func(**kwargs):\n",
        " # kwargs will be a dictionary containing the names as keys and the values as values\n",
        "    for name, value in kwargs.items():\n",
        "        print(name, value)\n",
        "func(value1=1, value2=2, value3=3) # Calling it with 3 arguments"
      ],
      "metadata": {
        "id": "Hkh0tIzSd1fP",
        "outputId": "cff13fd3-fba8-4306-bdaf-3649d80f40e7",
        "colab": {
          "base_uri": "https://localhost:8080/"
        }
      },
      "execution_count": 12,
      "outputs": [
        {
          "output_type": "stream",
          "name": "stdout",
          "text": [
            "value1 1\n",
            "value2 2\n",
            "value3 3\n"
          ]
        }
      ]
    },
    {
      "cell_type": "code",
      "source": [
        "my_dict = {'foo': 1, 'bar': 2}\n",
        "func(**my_dict) # Calling it with a dictionary\n",
        "# Out: foo 1\n",
        "# bar 2\n"
      ],
      "metadata": {
        "id": "Zciz2zq9fH45",
        "outputId": "743a5a27-95c9-446e-c5a0-a90e2a71ce9d",
        "colab": {
          "base_uri": "https://localhost:8080/"
        }
      },
      "execution_count": 15,
      "outputs": [
        {
          "output_type": "stream",
          "name": "stdout",
          "text": [
            "foo 1\n",
            "bar 2\n"
          ]
        }
      ]
    },
    {
      "cell_type": "code",
      "source": [
        "# |-positional-|-optional-|---keyword-only--|-optional-|\n",
        "def func(arg1, arg2=10 , *args, kwarg1, kwarg2=2, **kwargs):\n",
        " pass"
      ],
      "metadata": {
        "id": "4MUJpCAzgLK2"
      },
      "execution_count": null,
      "outputs": []
    },
    {
      "cell_type": "markdown",
      "source": [
        "- arg1 must be given, otherwise a TypeError is raised. It can be given as positional (func(10)) or keyword argument (func(arg1=10)).\n",
        "\n",
        "- kwarg1 must also be given, but it can only be provided as keyword-argument: func(kwarg1=10).\n",
        "\n",
        "- arg2 and kwarg2 are optional. If the value is to be changed the same rules as for arg1 (either positional or keyword) and kwarg1 (only keyword) apply.\n",
        "\n",
        "- *args catches additional positional parameters. But note, that arg1 and arg2 must be provided as positional arguments to pass arguments to *args: func(1, 1, 1, 1).\n",
        "- **kwargs catches all additional keyword parameters. In this case any parameter that is not arg1, arg2, kwarg1 or kwarg2. For example: func(kwarg3=10).\n",
        "- In Python 3, you can use * alone to indicate that all subsequent arguments must be specified as keywords.\n",
        "For instance the math.isclose function in Python 3.5 and higher is defined using def math.isclose (a, b,*, rel_tol=1e-09, abs_tol=0.0), which means the first two arguments can be supplied positionally but the optional third and fourth parameters can only be supplied as keyword arguments."
      ],
      "metadata": {
        "id": "f4e7tRM8c9Qq"
      }
    },
    {
      "cell_type": "markdown",
      "source": [
        "**Note on Naming**\n",
        "The convention of naming optional positional arguments args and optional keyword arguments kwargs is just a\n",
        "convention you can use any names you like but it is useful to follow the convention so that others know what you\n",
        "are doing, or even yourself later so please do.\n",
        "\n",
        "**Note on Uniqueness**\n",
        "Any function can be defined with none or one *args and none or one **kwargs but not with more than one of\n",
        "each. Also *args must be the last positional argument and **kwargs must be the last parameter. Attempting to use\n",
        "more than one of either will result in a Syntax Error exception.\n",
        "\n",
        "**Note on Nesting Functions with Optional Arguments**\n",
        "It is possible to nest such functions and the usual convention is to remove the items that the code has already\n",
        "handled but if you are passing down the parameters you need to pass optional positional args with a * prefix and\n",
        "optional keyword args with a ** prefix, otherwise args with be passed as a list or tuple and kwargs as a single\n",
        "dictionary. e.g.:\n"
      ],
      "metadata": {
        "id": "kp-ubwR7igOd"
      }
    },
    {
      "cell_type": "code",
      "source": [
        "def fn(**kwargs):\n",
        "    print(kwargs)\n",
        "    f1(**kwargs)"
      ],
      "metadata": {
        "id": "4i5CNzp8ge5y"
      },
      "execution_count": 17,
      "outputs": []
    },
    {
      "cell_type": "code",
      "source": [
        "def f1(**kwargs):\n",
        "    print(len(kwargs))\n",
        "fn(a=1, b=2)\n",
        "# Out:\n",
        "# {'a': 1, 'b': 2}\n",
        "# 2\n"
      ],
      "metadata": {
        "id": "Co30rA8LgfCb",
        "outputId": "b1a36793-e704-499d-cae1-49b2aa18ae70",
        "colab": {
          "base_uri": "https://localhost:8080/"
        }
      },
      "execution_count": 19,
      "outputs": [
        {
          "output_type": "stream",
          "name": "stdout",
          "text": [
            "{'a': 1, 'b': 2}\n",
            "2\n"
          ]
        }
      ]
    },
    {
      "cell_type": "code",
      "source": [],
      "metadata": {
        "id": "oy8ru4GxgfGb"
      },
      "execution_count": null,
      "outputs": []
    },
    {
      "cell_type": "code",
      "source": [],
      "metadata": {
        "id": "Tvd9pQ_4gfJp"
      },
      "execution_count": null,
      "outputs": []
    }
  ],
  "metadata": {
    "colab": {
      "name": "Colaboratory'ye Hoş Geldiniz",
      "toc_visible": true,
      "provenance": []
    },
    "kernelspec": {
      "display_name": "Python 3",
      "name": "python3"
    }
  },
  "nbformat": 4,
  "nbformat_minor": 0
}