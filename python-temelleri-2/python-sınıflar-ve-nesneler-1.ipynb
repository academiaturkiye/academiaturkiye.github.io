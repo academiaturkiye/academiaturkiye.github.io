{
  "cells": [
    {
      "cell_type": "markdown",
      "source": [
        "**Classes and objects**\n",
        "\n",
        "**https://greenteapress.com/thinkpython2/thinkpython2.pdf** s 147\n",
        "\n",
        "Bu noktada, veri düzenlemek için kod ve yerleşik türleri düzenlemek için işlevleri nasıl kullanacağınızı biliyorsunuz. Bir sonraki adım, hem kodu hem de verileri düzenlemek için programcı tanımlı türleri kullanan “nesne yönelimli programlama” ı öğrenmektir. Nesne odaklı programlama büyük bir konudur; Oraya ulaşmak için birkaç bölüm alacak.\n",
        "\n",
        "Code examples from this chapter are available from https://thinkpython.com/code/Point1.py;\n",
        "\n",
        "solutions to the exercises are available from https://thinkpython.com/code/Point1_soln.py.\n"
      ],
      "metadata": {
        "id": "gturV6J8eWOo"
      }
    },
    {
      "cell_type": "markdown",
      "source": [
        "**Programmer-defined types**\n",
        "\n",
        "Python'un yerleşik tiplerinin çoğunu kullandık; şimdi yeni bir tip tanımlayacağız. Örnek olarak, iki boyutlu uzayda bir noktayı temsil eden Point adlı bir tip oluşturacağız.\n",
        "\n",
        "Matematiksel gösterimde, noktalar genellikle koordinatları virgülle ayırarak parantez içinde yazılır. Örneğin, (0, 0) orijini temsil eder ve (x, y) orijinden x birim sağda ve y birim yukarıda olan noktayı temsil eder.\n",
        "\n",
        "Python'da noktaları temsil etmenin birkaç yolu vardır:\n",
        "\n",
        "• Koordinatları x ve y olmak üzere iki değişkende ayrı ayrı saklayabiliriz.\n",
        "\n",
        "• Koordinatları bir liste veya tuple'daki elemanlar olarak saklayabiliriz.\n",
        "\n",
        "• Noktaları nesneler olarak temsil etmek için yeni bir tür oluşturabiliriz.\n",
        "\n",
        "\n",
        "\n"
      ],
      "metadata": {
        "id": "57PXcOOB-E5w"
      }
    },
    {
      "cell_type": "markdown",
      "source": [
        "Yeni bir tip oluşturmak diğer seçeneklerden daha karmaşıktır, ancak yakında görülecek avantajları vardır. Programcı tarafından tanımlanan bir tipe sınıf da denir.\n",
        "\n",
        "Bir sınıf tanımı şu şekilde görünür:\n",
        "\n",
        "    class Point:\n",
        "\n",
        "        \"\"\"2 boyutlu uzayda bir noktayı temsil eder.\"\"\"\n",
        "\n",
        "   ![class.JPG](data:image/jpeg;base64,/9j/4AAQSkZJRgABAQEAYABgAAD/4REYRXhpZgAATU0AKgAAAAgABAE7AAIAAAAaAAAISodpAAQAAAABAAAIZJydAAEAAAA0AAAQ3OocAAcAAAgMAAAAPgAAAAAc6gAAAAgAAAAAAAAAAAAAAAAAAAAAAAAAAAAAAAAAAAAAAAAAAAAAAAAAAAAAAAAAAAAAAAAAAAAAAAAAAAAAAAAAAAAAAAAAAAAAAAAAAAAAAAAAAAAAAAAAAAAAAAAAAAAAAAAAAAAAAAAAAAAAAAAAAAAAAAAAAAAAAAAAAAAAAAAAAAAAAAAAAAAAAAAAAAAAAAAAAAAAAAAAAAAAAAAAAAAAAAAAAAAAAAAAAAAAAAAAAAAAAAAAAAAAAAAAAAAAAAAAAAAAAAAAAAAAAAAAAAAAAAAAAAAAAAAAAAAAAAAAAAAAAAAAAAAAAAAAAAAAAAAAAAAAAAAAAAAAAAAAAAAAAAAAAAAAAAAAAAAAAAAAAAAAAAAAAAAAAAAAAAAAAAAAAAAAAAAAAAAAAAAAAAAAAAAAAAAAAAAAAAAAAAAAAAAAAAAAAAAAAAAAAAAAAAAAAAAAAAAAAAAAAAAAAAAAAAAAAAAAAAAAAAAAAAAAAAAAAAAAAAAAAAAAAAAAAAAAAAAAAAAAAAAAAAAAAAAAAAAAAAAAAAAAAAAAAAAAAAAAAAAAAAAAAAAAAAAAAAAAAAAAAAAAAAAAAAAAAAAAAAAAAAAAAAAAAAAAAAAAAAAAAAAAAAAAAAAAAAAAAAAAAAAAAAAAAAAAAAAAAAAAAAAAAAAAAAAAAAAAAAAAAAAAAAAAAAAAAAAAAAAAAAAAAAAAAAAAAAAAAAAAAAAAAAAAAAAAAAAAAAAAAAAAAAAAAAAAAAAAAAAAAAAAAAAAAAAAAAAAAAAAAAAAAAAAAAAAAAAAAAAAAAAAAAAAAAAAAAAAAAAAAAAAAAAAAAAAAAAAAAAAAAAAAAAAAAAAAAAAAAAAAAAAAAAAAAAAAAAAAAAAAAAAAAAAAAAAAAAAAAAAAAAAAAAAAAAAAAAAAAAAAAAAAAAAAAAAAAAAAAAAAAAAAAAAAAAAAAAAAAAAAAAAAAAAAAAAAAAAAAAAAAAAAAAAAAAAAAAAAAAAAAAAAAAAAAAAAAAAAAAAAAAAAAAAAAAAAAAAAAAAAAAAAAAAAAAAAAAAAAAAAAAAAAAAAAAAAAAAAAAAAAAAAAAAAAAAAAAAAAAAAAAAAAAAAAAAAAAAAAAAAAAAAAAAAAAAAAAAAAAAAAAAAAAAAAAAAAAAAAAAAAAAAAAAAAAAAAAAAAAAAAAAAAAAAAAAAAAAAAAAAAAAAAAAAAAAAAAAAAAAAAAAAAAAAAAAAAAAAAAAAAAAAAAAAAAAAAAAAAAAAAAAAAAAAAAAAAAAAAAAAAAAAAAAAAAAAAAAAAAAAAAAAAAAAAAAAAAAAAAAAAAAAAAAAAAAAAAAAAAAAAAAAAAAAAAAAAAAAAAAAAAAAAAAAAAAAAAAAAAAAAAAAAAAAAAAAAAAAAAAAAAAAAAAAAAAAAAAAAAAAAAAAAAAAAAAAAAAAAAAAAAAAAAAAAAAAAAAAAAAAAAAAAAAAAAAAAAAAAAAAAAAAAAAAAAAAAAAAAAAAAAAAAAAAAAAAAAAAAAAAAAAAAAAAAAAAAAAAAAAAAAAAAAAAAAAAAAAAAAAAAAAAAAAAAAAAAAAAAAAAAAAAAAAAAAAAAAAAAAAAAAAAAAAAAAAAAAAAAAAAAAAAAAAAAAAAAAAAAAAAAAAAAAAAAAAAAAAAAAAAAAAAAAAAAAAAAAAAAAAAAAAAAAAAAAAAAAAAAAAAAAAAAAAAAAAAAAAAAAAAAAAAAAAAAAAAAAAAAAAAAAAAAAAAAAAAAAAAAAAAAAAAAAAAAAAAAAAAAAAAAAAAAAAAAAAAAAAAAAAAAAAAAAAAAAAAAAAAAAAAAAAAAAAAAAAAAAAAAAAAAAAAAAAAAAAAAAAAAAAAAAAAAAAAAAAAAAAAAAAAAAAAAAAAAAAAAAAAAAAAAAAAAAAAAAAAAAAAAAAAAAAAAAAAAAAAAAAAAAAAAAAAAAAAAAAAAAAAAAAAAAAAAAAAAAAAAAAAAAAAAAAAAAAAAAAAAAAAAAAAAAAAAAAAAAAAAAAAAAAAAAAAAAAAAAAAAAAAAAAAAAAAAAAAAAAAAAAAAAAAAAAAAAAAAAAAAAAAAAAAAAAAAAAAAAAAAAAAAAAAAAAAAAAAAAAAAAAAAAAAAAAAAAAAAAAAAAAAAAAAAAAAAAAAAAAAAAAAAAAAAAAAAAAAAAAAAAAAAAAAAAAAAAAAAAAAAAAAAAAAAAAAAAAAAAAAAAAAAAAAAAAAAAAAAAAAAAAAAAAAAAAAAAAAAAAAAAAAAAAAAAAAAAAAAAAAAAAAAAAAAAAAAAAAAAAAAAAAAAAAAAAAAAAAAAAAAAAAAAAAAAAAAAAAAAAAAAAAAAAAAAAAAAAAAAAAAAAAAAAAAAAAAAAAAAAAAAAAAAAAAAAAAAAAAAAAAAAAAAAAAAAAAAAAAAAAAAAAAAAAAAAAAAAAAAAAAAAAAAAAAAAAAAAAAAAAAAAAAAAAAAAAAAAAAAAAAAAAAAAAAAAAAAAAAAAAAAAAAAAAAAAAAAAAAAAAAAAAAAAAAAAAAAAAAAAAAAAAAAAAAAAAAAAAAAAAAAAAAAAAAAAAAAAAAAAAAAAAAAAAAAAAAAAAAAAAAAAAAAAAAAAAAAAAAAAAAAAAAAAAAAAAAAAAAAAAAAAAAAAAAAAAAAAAAAAAAAAAAAAAAAAAAAAAAAAAAAAAAAAAAAAAAAAAAAAAAAAAAAAAAAAAAAAAAAAAAAAAAAAAAAAAAAAAAAAAAAAAE1laG1ldCBNZWtpbiBZSUtJTiBTYXltYW4AAAWQAwACAAAAFAAAELKQBAACAAAAFAAAEMaSkQACAAAAAzc4AACSkgACAAAAAzc4AADqHAAHAAAIDAAACKYAAAAAHOoAAAAIAAAAAAAAAAAAAAAAAAAAAAAAAAAAAAAAAAAAAAAAAAAAAAAAAAAAAAAAAAAAAAAAAAAAAAAAAAAAAAAAAAAAAAAAAAAAAAAAAAAAAAAAAAAAAAAAAAAAAAAAAAAAAAAAAAAAAAAAAAAAAAAAAAAAAAAAAAAAAAAAAAAAAAAAAAAAAAAAAAAAAAAAAAAAAAAAAAAAAAAAAAAAAAAAAAAAAAAAAAAAAAAAAAAAAAAAAAAAAAAAAAAAAAAAAAAAAAAAAAAAAAAAAAAAAAAAAAAAAAAAAAAAAAAAAAAAAAAAAAAAAAAAAAAAAAAAAAAAAAAAAAAAAAAAAAAAAAAAAAAAAAAAAAAAAAAAAAAAAAAAAAAAAAAAAAAAAAAAAAAAAAAAAAAAAAAAAAAAAAAAAAAAAAAAAAAAAAAAAAAAAAAAAAAAAAAAAAAAAAAAAAAAAAAAAAAAAAAAAAAAAAAAAAAAAAAAAAAAAAAAAAAAAAAAAAAAAAAAAAAAAAAAAAAAAAAAAAAAAAAAAAAAAAAAAAAAAAAAAAAAAAAAAAAAAAAAAAAAAAAAAAAAAAAAAAAAAAAAAAAAAAAAAAAAAAAAAAAAAAAAAAAAAAAAAAAAAAAAAAAAAAAAAAAAAAAAAAAAAAAAAAAAAAAAAAAAAAAAAAAAAAAAAAAAAAAAAAAAAAAAAAAAAAAAAAAAAAAAAAAAAAAAAAAAAAAAAAAAAAAAAAAAAAAAAAAAAAAAAAAAAAAAAAAAAAAAAAAAAAAAAAAAAAAAAAAAAAAAAAAAAAAAAAAAAAAAAAAAAAAAAAAAAAAAAAAAAAAAAAAAAAAAAAAAAAAAAAAAAAAAAAAAAAAAAAAAAAAAAAAAAAAAAAAAAAAAAAAAAAAAAAAAAAAAAAAAAAAAAAAAAAAAAAAAAAAAAAAAAAAAAAAAAAAAAAAAAAAAAAAAAAAAAAAAAAAAAAAAAAAAAAAAAAAAAAAAAAAAAAAAAAAAAAAAAAAAAAAAAAAAAAAAAAAAAAAAAAAAAAAAAAAAAAAAAAAAAAAAAAAAAAAAAAAAAAAAAAAAAAAAAAAAAAAAAAAAAAAAAAAAAAAAAAAAAAAAAAAAAAAAAAAAAAAAAAAAAAAAAAAAAAAAAAAAAAAAAAAAAAAAAAAAAAAAAAAAAAAAAAAAAAAAAAAAAAAAAAAAAAAAAAAAAAAAAAAAAAAAAAAAAAAAAAAAAAAAAAAAAAAAAAAAAAAAAAAAAAAAAAAAAAAAAAAAAAAAAAAAAAAAAAAAAAAAAAAAAAAAAAAAAAAAAAAAAAAAAAAAAAAAAAAAAAAAAAAAAAAAAAAAAAAAAAAAAAAAAAAAAAAAAAAAAAAAAAAAAAAAAAAAAAAAAAAAAAAAAAAAAAAAAAAAAAAAAAAAAAAAAAAAAAAAAAAAAAAAAAAAAAAAAAAAAAAAAAAAAAAAAAAAAAAAAAAAAAAAAAAAAAAAAAAAAAAAAAAAAAAAAAAAAAAAAAAAAAAAAAAAAAAAAAAAAAAAAAAAAAAAAAAAAAAAAAAAAAAAAAAAAAAAAAAAAAAAAAAAAAAAAAAAAAAAAAAAAAAAAAAAAAAAAAAAAAAAAAAAAAAAAAAAAAAAAAAAAAAAAAAAAAAAAAAAAAAAAAAAAAAAAAAAAAAAAAAAAAAAAAAAAAAAAAAAAAAAAAAAAAAAAAAAAAAAAAAAAAAAAAAAAAAAAAAAAAAAAAAAAAAAAAAAAAAAAAAAAAAAAAAAAAAAAAAAAAAAAAAAAAAAAAAAAAAAAAAAAAAAAAAAAAAAAAAAAAAAAAAAAAAAAAAAAAAAAAAAAAAAAAAAAAAAAAAAAAAAAAAAAAAAAAAAAAAAAAAAAAAAAAAAAAAAAAAAAAAAAAAAAAAAAAAAAAAAAAAAAAAAAAAAAAAAAAAAAAAAAAAAAAAAAAAAAAAAAAAAAAAAAAAAAAAAAAAAAAAAAAAAAAAAAAAAAAAAAAAAAAAAAAAAAAAAAAAAAAAAAAAAAAAAAAAAAAAAAAAAAAAAAAAAAAAAAAAAAAAAAAAAAAAAAAAAAAAAAAAAAAAAAAAAAAAAAAAAAAAAAAAAAAAAAAAAAAAAAAAAAAAAAAAAAAAAAAAAAAAAAAAAAAAAAAAAAAAAAAAAAAAAAAAAAAAAAAAAAAAAAAAAAAAAAAAAAAAAAAAAAAAAAAAAAAAAAAAAAAAAAAAAAAAAAAAAAAAAAAAAAAAAAAAAAAAAAAAAAAAAAAAAAAAAAAAAAAAAAAAAAAAAAAAAAAAAAAAAAAAAAAAAAAAAAAAAAAAAAAAAAAAAAAAAAAAAAAAAAAAAAAAAAAAAAAAAAAAAAAAAAAAAAAAAAAAAAAAAAAAAAAAAAAAAAAAAAAAAAAAAAAAAAAAAAAAAAAAAAAAAAAAAAAAAAAAAAAAAAAAAAAAAAAAAAAAAAAAAAAAAAAAAAAAAAAAAAAAAAAAAAAAAAAAAAAAAAAAAAAAAAAAAAAAAAAAAAAAAAAAAAAAAAAAAAAAAAAAAAAAAAAAAAAAAAAAAAAAAAAAAAAAAAAAAAAAAAAAAAAAAAAAAAAAAAAAAAAAAAAAAAAAAAAAAAAAAAAAAAAAAAAAAAAAAAAAAAAAAAAAAAAAAAAAAAAAAAAAAAAAAAAAAAAAAAAAAAAAAAAAAAAAAAAAAAAAAAAAAAAAAAAAAAAAAAAAAAAAAAAAAAAAAAAAAAAAAAAAAAAAAAAAAAAAAAAAAAAAAAAAAAAAAAAAAAAAyMDI0OjA5OjAyIDEyOjA3OjUxADIwMjQ6MDk6MDIgMTI6MDc6NTEAAABNAGUAaABtAGUAdAAgAE0AZQBrAGkAbgAgAFkASQBLAEkATgAgAFMAYQB5AG0AYQBuAAAA/+ELLGh0dHA6Ly9ucy5hZG9iZS5jb20veGFwLzEuMC8APD94cGFja2V0IGJlZ2luPSfvu78nIGlkPSdXNU0wTXBDZWhpSHpyZVN6TlRjemtjOWQnPz4NCjx4OnhtcG1ldGEgeG1sbnM6eD0iYWRvYmU6bnM6bWV0YS8iPjxyZGY6UkRGIHhtbG5zOnJkZj0iaHR0cDovL3d3dy53My5vcmcvMTk5OS8wMi8yMi1yZGYtc3ludGF4LW5zIyI+PHJkZjpEZXNjcmlwdGlvbiByZGY6YWJvdXQ9InV1aWQ6ZmFmNWJkZDUtYmEzZC0xMWRhLWFkMzEtZDMzZDc1MTgyZjFiIiB4bWxuczpkYz0iaHR0cDovL3B1cmwub3JnL2RjL2VsZW1lbnRzLzEuMS8iLz48cmRmOkRlc2NyaXB0aW9uIHJkZjphYm91dD0idXVpZDpmYWY1YmRkNS1iYTNkLTExZGEtYWQzMS1kMzNkNzUxODJmMWIiIHhtbG5zOnhtcD0iaHR0cDovL25zLmFkb2JlLmNvbS94YXAvMS4wLyI+PHhtcDpDcmVhdGVEYXRlPjIwMjQtMDktMDJUMTI6MDc6NTEuNzgzPC94bXA6Q3JlYXRlRGF0ZT48L3JkZjpEZXNjcmlwdGlvbj48cmRmOkRlc2NyaXB0aW9uIHJkZjphYm91dD0idXVpZDpmYWY1YmRkNS1iYTNkLTExZGEtYWQzMS1kMzNkNzUxODJmMWIiIHhtbG5zOmRjPSJodHRwOi8vcHVybC5vcmcvZGMvZWxlbWVudHMvMS4xLyI+PGRjOmNyZWF0b3I+PHJkZjpTZXEgeG1sbnM6cmRmPSJodHRwOi8vd3d3LnczLm9yZy8xOTk5LzAyLzIyLXJkZi1zeW50YXgtbnMjIj48cmRmOmxpPk1laG1ldCBNZWtpbiBZSUtJTiBTYXltYW48L3JkZjpsaT48L3JkZjpTZXE+DQoJCQk8L2RjOmNyZWF0b3I+PC9yZGY6RGVzY3JpcHRpb24+PC9yZGY6UkRGPjwveDp4bXBtZXRhPg0KICAgICAgICAgICAgICAgICAgICAgICAgICAgICAgICAgICAgICAgICAgICAgICAgICAgICAgICAgICAgICAgICAgICAgICAgICAgICAgICAgICAgICAgICAgICAgICAgICAgIAogICAgICAgICAgICAgICAgICAgICAgICAgICAgICAgICAgICAgICAgICAgICAgICAgICAgICAgICAgICAgICAgICAgICAgICAgICAgICAgICAgICAgICAgICAgICAgICAgICAgCiAgICAgICAgICAgICAgICAgICAgICAgICAgICAgICAgICAgICAgICAgICAgICAgICAgICAgICAgICAgICAgICAgICAgICAgICAgICAgICAgICAgICAgICAgICAgICAgICAgICAKICAgICAgICAgICAgICAgICAgICAgICAgICAgICAgICAgICAgICAgICAgICAgICAgICAgICAgICAgICAgICAgICAgICAgICAgICAgICAgICAgICAgICAgICAgICAgICAgICAgIAogICAgICAgICAgICAgICAgICAgICAgICAgICAgICAgICAgICAgICAgICAgICAgICAgICAgICAgICAgICAgICAgICAgICAgICAgICAgICAgICAgICAgICAgICAgICAgICAgICAgCiAgICAgICAgICAgICAgICAgICAgICAgICAgICAgICAgICAgICAgICAgICAgICAgICAgICAgICAgICAgICAgICAgICAgICAgICAgICAgICAgICAgICAgICAgICAgICAgICAgICAKICAgICAgICAgICAgICAgICAgICAgICAgICAgICAgICAgICAgICAgICAgICAgICAgICAgICAgICAgICAgICAgICAgICAgICAgICAgICAgICAgICAgICAgICAgICAgICAgICAgIAogICAgICAgICAgICAgICAgICAgICAgICAgICAgICAgICAgICAgICAgICAgICAgICAgICAgICAgICAgICAgICAgICAgICAgICAgICAgICAgICAgICAgICAgICAgICAgICAgICAgCiAgICAgICAgICAgICAgICAgICAgICAgICAgICAgICAgICAgICAgICAgICAgICAgICAgICAgICAgICAgICAgICAgICAgICAgICAgICAgICAgICAgICAgICAgICAgICAgICAgICAKICAgICAgICAgICAgICAgICAgICAgICAgICAgICAgICAgICAgICAgICAgICAgICAgICAgICAgICAgICAgICAgICAgICAgICAgICAgICAgICAgICAgICAgICAgICAgICAgICAgIAogICAgICAgICAgICAgICAgICAgICAgICAgICAgICAgICAgICAgICAgICAgICAgICAgICAgICAgICAgICAgICAgICAgICAgICAgICAgICAgICAgICAgICAgICAgICAgICAgICAgCiAgICAgICAgICAgICAgICAgICAgICAgICAgICAgICAgICAgICAgICAgICAgICAgICAgICAgICAgICAgICAgICAgICAgICAgICAgICAgICAgICAgICAgICAgICAgICAgICAgICAKICAgICAgICAgICAgICAgICAgICAgICAgICAgICAgICAgICAgICAgICAgICAgICAgICAgICAgICAgICAgICAgICAgICAgICAgICAgICAgICAgICAgICAgICAgICAgICAgICAgIAogICAgICAgICAgICAgICAgICAgICAgICAgICAgICAgICAgICAgICAgICAgICAgICAgICAgICAgICAgICAgICAgICAgICAgICAgICAgICAgICAgICAgICAgICAgICAgICAgICAgCiAgICAgICAgICAgICAgICAgICAgICAgICAgICAgICAgICAgICAgICAgICAgICAgICAgICAgICAgICAgICAgICAgICAgICAgICAgICAgICAgICAgICAgICAgICAgICAgICAgICAKICAgICAgICAgICAgICAgICAgICAgICAgICAgICAgICAgICAgICAgICAgICAgICAgICAgICAgICAgICAgICAgICAgICAgICAgICAgICAgICAgICAgICAgICAgICAgICAgICAgIAogICAgICAgICAgICAgICAgICAgICAgICAgICAgICAgICAgICAgICAgICAgICAgICAgICAgICAgICAgICAgICAgICAgICAgICAgICAgICAgICAgICAgICAgICAgICAgICAgICAgCiAgICAgICAgICAgICAgICAgICAgICAgICAgICAgICAgICAgICAgICAgICAgICAgICAgICAgICAgICAgICAgICAgICAgICAgICAgICAgICAgICAgICAgICAgICAgICAgICAgICAKICAgICAgICAgICAgICAgICAgICAgICAgICAgICAgICAgICAgICAgICAgICAgICAgICAgICAgICAgICAgICAgICAgICAgICAgICAgICAgICAgICAgICAgICAgICAgICAgICAgIAogICAgICAgICAgICAgICAgICAgICAgICAgICAgICAgICAgICAgICAgICAgICAgICAgICAgICAgICAgICAgICAgICAgICAgICAgICAgICAgICAgICAgICAgICAgICAgICAgICAgCiAgICAgICAgICAgICAgICAgICAgICAgICAgICA8P3hwYWNrZXQgZW5kPSd3Jz8+/9sAQwAHBQUGBQQHBgUGCAcHCAoRCwoJCQoVDxAMERgVGhkYFRgXGx4nIRsdJR0XGCIuIiUoKSssKxogLzMvKjInKisq/9sAQwEHCAgKCQoUCwsUKhwYHCoqKioqKioqKioqKioqKioqKioqKioqKioqKioqKioqKioqKioqKioqKioqKioqKioq/8AAEQgAvAFEAwEiAAIRAQMRAf/EAB8AAAEFAQEBAQEBAAAAAAAAAAABAgMEBQYHCAkKC//EALUQAAIBAwMCBAMFBQQEAAABfQECAwAEEQUSITFBBhNRYQcicRQygZGhCCNCscEVUtHwJDNicoIJChYXGBkaJSYnKCkqNDU2Nzg5OkNERUZHSElKU1RVVldYWVpjZGVmZ2hpanN0dXZ3eHl6g4SFhoeIiYqSk5SVlpeYmZqio6Slpqeoqaqys7S1tre4ubrCw8TFxsfIycrS09TV1tfY2drh4uPk5ebn6Onq8fLz9PX29/j5+v/EAB8BAAMBAQEBAQEBAQEAAAAAAAABAgMEBQYHCAkKC//EALURAAIBAgQEAwQHBQQEAAECdwABAgMRBAUhMQYSQVEHYXETIjKBCBRCkaGxwQkjM1LwFWJy0QoWJDThJfEXGBkaJicoKSo1Njc4OTpDREVGR0hJSlNUVVZXWFlaY2RlZmdoaWpzdHV2d3h5eoKDhIWGh4iJipKTlJWWl5iZmqKjpKWmp6ipqrKztLW2t7i5usLDxMXGx8jJytLT1NXW19jZ2uLj5OXm5+jp6vLz9PX29/j5+v/aAAwDAQACEQMRAD8A+kaKKKACiiigAooooAKKKKACiiigAooooAKKKKACiiigAooooAKKKKACiiigAooooAKKKKACiiigAooooAKKKKACiiigAooooAKKKKACiiigAooooAKKKKACiiigAooooAKKKKACiiigAooooAKKKKACiiigAooooAK8qjm8Z+KPiZ4s0vS/GcmiWOjyWywwpplvPnzItx+Z1z1B7nrXqteMab4Ri8UfGXx8Zda1vTPs8tmANKv2tg+Yf4tvXGOPqaS+L5P80P7P3HReDfEXiCz8e614P8W6nb6s1jZx30GpJAtuxjY4KyIvygjrx2rU0/4seCNU1mPS7HXopLmaQxQkxSLHK/8AdSQqEY/QnPasDxN8P7Hwn8KfF3/CMpdz6pfWTtcXlzO01xOAOQXPP3c8Csrx3qXh27/Z5s7fRp7aR5obSPSoYGBk88Mm0KByGHOe/XNNPv0t+Lf9eYrfjf5Wt/w/kd9Hrcdn4r8Q/b/EEclnp9nDO+n/AGbBsV2sWkLgZfcBnHOMVWX4seCX1K3sl12My3LKkT+TJ5RZgCFMm3YG56E5HeuM1ISDxN8URNzIPDVvv+vkS5qPxNZ29t+yvpccEKIq2unSKAvRjJESfqSTz701vZ+X4tr9BN/18ov9TrLX4l2Vx8W7vweXjCRWymNxDJva43MGQnGMADOenvXd159YMB+0Pq4JAJ8P2+Bnr++evQaS+BP1/Njfxten5IKKKKACiiigAooooAKKKKACiiigAooooAKKKKACiiigAooooAKKKKACiiigAooooAKKKKACiiigAooooAKKKKACiiigAqtBp1la3lzd21nbw3N2VNxNHEqvMVGF3sBlsDgZ6UzWJHi0O/kiYo6W0jKynBBCnBFcFoPhqC88Oabc3OreIHmmtIpJG/t68G5igJPEvqaAPSevWuesvAHhLTdbOr2HhzTbfUNxYXEduoZSepHofcVjf8IjZ/8AQT8Qf+D+9/8AjtH/AAiNn/0E/EH/AIP73/47R1uHSx1z6Rpsk13LJp9q8l7GIrp2gUtOgBAVzj5hgkYORyaJtI0240tdMn060lsEVVW0eBTEoXBUBCMYGBjjjArkf+ERs/8AoJ+IP/B/e/8Ax2j/AIRGz/6CfiD/AMH97/8AHaAOmu/DOi32vWut3emW8up2a7YLtk/eRjngH8T+ZrUrhf8AhEbP/oJ+IP8Awf3v/wAdo/4RGz/6CfiD/wAH97/8do8gO6orhf8AhEbP/oJ+IP8Awf3v/wAdo/4RGz/6CfiD/wAH97/8doA7qiuF/wCERs/+gn4g/wDB/e//AB2j/hEbP/oJ+IP/AAf3v/x2gDuqK4X/AIRGz/6CfiD/AMH97/8AHaP+ERs/+gn4g/8AB/e//HaAO6orhf8AhEbP/oJ+IP8Awf3v/wAdo/4RGz/6CfiD/wAH97/8doA7qivNdV0caLc6PdWOqa35h1a1iZZtZupUdGlCsrI8hUgg9xXpVABRRRQAUUUUAFFFFABRRRQAUUUUAFFFFAHm/wAcbxdP8E6feSJJIlvrVnKyRjLMFkzgDueKsWvxH1e08QaZYeMPCM2g2ury+TZXn21LgeaRlY5FUDYx+p549aPjNZ6neeDLP+xNNn1O7g1a1nW2hQsWCvk5x0HqTwKxNc19viZrHhzR9D0bVrdbLVIdQ1G4vrJ4FtFiyfLyw5ck4wM0Q7f3vwsrsJ9/L8bvQm8JeIB4Y8MeONUNlc37ReKbxY7W1TdJK7GNVUenJ5PYVtab4+1yPxXpmieLvCZ0U6sJBZTxail0rOi7ijgKNpx35FchdReKNF8C+K5NKtdTtHuPFs0s0ltbn7R9iZk3ywgj5uBwRnvjpWWBo8HxE8H65otj4pu7GC7liu9X1RLqXc0kRVFCyfMBk8sFC+/oqeqivJL8F/X4DqaczXm/xZ3C/EzWtTutag8MeDZdTbRbyW2uXkv0gRtnTYSpLMRk7cYHHPNZet+J7PxRd/DDxFbq1ta3WoSylZiAYsQuGBPTgg8+1b3w5069sU8Y/bbOe2Nz4gu5ofNiZPNQhcOuRyp7EcVwNn4Ju9Y8B/DHR9a0a/MEN/OdQgaGRDEh8wjzOMqp4HOMg+9Eb2j39x/fuDt73/b3/APVfCvi/wD4S64vJ9M0+RdFhfy7bUpHwLxhwxjTGdg6bieewrpa898BWGpeC/EmoeDprW6m0EZvNHvhGzRwxsfmt3fGAVPK5PIrudQsYtTsZLS5e4SOTG5ra5kgkGCDw8bKy9OxGenQ1Wlk0LW7TLNFc3/wgekf8/niD/wo9Q/+P0f8IHpH/P54g/8ACj1D/wCP0gOkrn38c+Hre8a11G//ALMmVygGowvaq5Bx8jSBVcHsVJzUf/CB6R/z+eIP/Cj1D/4/XN3fw+1fUpJoUu5tMtCxUPJ4h1S9kkTPUr58aqSO2WA96AO31aaOfwzfywSLLG1pIVdGBBGw9CK5/wAMf8ijo/8A14wf+ixXOaf8FdA8J6fqV/bajrU900EkjZ1GSNC209VQgsPZi2e+a6Pwx/yKOj/9eMH/AKLFAGrRSEBlIYZBGCD3rxGZTF4+Pw0TVQvh24uhdMQzb48gyGxD9Bkjd1ztOKFq7B0ue30U1EWONUjUKigBVAwAPSse91HX4bySOy0GG5gU/JK1+Iy3H93YcfnQBtUVz39q+KP+hZt//BoP/jdH9q+KP+hZt/8AwaD/AON0AdDRXB+JtV1ZLOObVLWPRFjYlLhPECwDPvuTa30YGuesfGfj1rgJo2nf8JBB/emhKFvpcBY4j+CmgD12sbxR4ms/CminUL6OabdIsMNvbpuknlY4VFHqan0K81W+0xZtd0qPSrok5tkuhcbR/vBQKTWG0bzNPj1z7IXa6X7EtyAczgHbsz/F1xjmgDC0bx7Jd+I4ND1/QL7Qb67jaW0Fw8ciThRlgGQnDAc4NdLqmp2mjaTc6lqMohtbWJpZXPZQMmvN7+LWdN+L3hy88XXNvqFrcPcW2l/Y08r7LIy5JdTkvlRjO7j0rY+M+7/hU2r7c7cw+Zj+55ybv0pPWKa9Px/4YaXv2Y7TPiWt1qWnQ6t4e1LR7XV226deXWwpMxGVVgrEoWHQHrXc1558Wdn/AAh+jfZ8eb/bFl9m2/3t4xj8M16HVaWfrb8v8yU9vNX/AD/yMHxV/q9G/wCw1Zf+jlruq4XxV/q9G/7DVl/6OWu6pDCiiigAooooAKKKKACiiigAooooAKKKKACiiigAooooAKKKKACiiigAooooAKKKKAKOuf8AIvaj/wBesv8A6Aa5zwx/yKOj/wDXjB/6LFdHrn/Ivaj/ANesv/oBrnPDH/Io6P8A9eMH/osUAabgsjKGKEjAYYyPfmuTPw20VvCz6K8l4xkuvtragZF+1faN27zd+3G7t0xjjFddRQAyNDHEiM7SFVALtjLe5xgZ+lPoooAKKKKAIpLeCaSOSaGOR4jmNmUEofY9qloooAKxfFHhiy8V6StlfPPA0Uqz29zbPslglX7rqexFbVFAHH6T4B+za/bazr2vahr15Zqy2f2vYkdvuGCwRAAWI4ya0ovCVn9j1m0vrq91G21iR3mhvJt6xBhgpHwNq+g7VvUUPVWDZ3OJ0z4bx2moadNqmv6nrFtpLbtOtLspsgYDCsSqguwHQt0rtqKKd2FjB8Vf6vRv+w1Zf+jlruq4XxV/q9G/7DVl/wCjlruqQBRRRQAUUUUAFFFFABRRRQAUUUUAFFFFABRRRQAUUUUAFFFFABRRRQAUUUUAFFFFAFHXP+Re1H/r1l/9ANc54Y/5FHR/+vGD/wBFiuj1z/kXtR/69Zf/AEA1znhj/kUdH/68YP8A0WKANWimSp5kTpuZdykblOCM9wa8h/4SvWYfhrcaB9umfxQurHQo7hnPmFmfKy56/wCqOc+1G7sv61t+qH5v+uv6M9hoqG1hNtZwwGR5TEioZJGyz4GMk9yay73xVp9heSWs9tq7yRnDNBo13Mh4zw6RlT+BNDJWxtUVzv8Awm2l/wDPnrv/AIIL7/4zR/wm2l/8+eu/+CC+/wDjNAzoqK47VfGLSRxnRBqUEikl1u/DGoSrIPTKopU+/P0rAufjTbaHdxWviTRb6OSUhUa0tbj5vfZPFER9Bu/GgD1Cis/RtZttd09byziu4o2/hurWSBvydRn6jIrD+IfjBfCPh+N4pYIr6/lFraPcuEijc9XdjwFUZPvjHek3YaVzTtPFWlX3iy88O2k5l1CxhWa4VR8sYJwAT/e5HHvWpc3MNnay3N3KsMEKF5JHOFRQMkk14x4Bu/DGi/Fy4ttP1+yvftWkxIbv7SrG8ummLPznlyT07DFdl8ZpHj+E+riMlRJ5Ubkf3GlQN+hNN35Vbd/52BWcrdP+AXNG+Jnh3XNVt7C2kvIXuwTZy3VpJDHdgdfLZgA1ddXnXxWhitPCGhy2iBJLLV7I2u0Y2neFwPwJr0Wnpb52/L/Mm+3pf8/8jB8Vf6vRv+w1Zf8Ao5a7quF8Vf6vRv8AsNWX/o5a7qkMKKKKACiiigAooooAKKKKACiiigAooooAKKKKACiiigAooooAKKKKACiiigAooooAo65/yL2o/wDXrL/6Aa5zwx/yKOj/APXjB/6LFdHrn/Ivaj/16y/+gGuc8Mf8ijo//XjB/wCixQBqZx1rybQdP0vxT8eNQ8R6NP8AatN0+1j8ySM5ie8ZSmV7EiPr7161UUFvDbR+XbQxwpknbGoUZPfAoWjv/X9fqD2sS0UUUAFFFFAGfqujWmsxxx35uTHGSfLhupIVf2bYw3D2ORRpmgaRoqkaTplpZbvvGCFULfUgZP41oUUAFV7uws79FS+tYLlVOVWaMOAfXmrFFAHK2ngPTrPx7P4khjtVWSzS3jtFtFURMrFvMDZ6nOOg+tS3HhW41XR9d0vxHqz6lZ6o7+SggWI2kZ6ICCdxU8hjXS0UraW/ruO+tzgLXwLr97eaRH4s1+31DTdGlWa3hgtDFJcSIMI8zFiPl64A5Nd/RRVXZNkYPir/AFejf9hqy/8ARy13VcL4q/1ejf8AYasv/Ry13VIYUUUUAFFFFABRRRQAUUUUAFFFFABRRRQAUUUUAFFFFABRRRQAUUUUAFFFFABRRRQBV1SB7rSLy3hGZJYHRATjJKkCuH0eTxRp+h2FlN4PumktraOJit9bYJVQDj5+nFehUUAcV/aHiT/oTrz/AMDrb/45R/aHiT/oTrz/AMDrb/45Xa0UAcV/aHiT/oTrz/wOtv8A45R/aHiT/oTrz/wOtv8A45Xa0UAcV/aHiT/oTrz/AMDrb/45R/aHiT/oTrz/AMDrb/45Xa0UAcV/aHiT/oTrz/wOtv8A45R/aHiT/oTrz/wOtv8A45Xa0UAcV/aHiT/oTrz/AMDrb/45R/aHiT/oTrz/AMDrb/45Xa0UAcV/aHiT/oTrz/wOtv8A45R/aHiT/oTrz/wOtv8A45Xa0UAcV/aHiT/oTrz/AMDrb/45R/aHiT/oTrz/AMDrb/45Xa0UAefX0HiTWbrS4X8Mz2cUOpW9zLPLeQMESOQMeFcknA7CvQaKKACiiigAooooAKKKKACiiigAooooAKKKKACiiigAooooAKKKKACiiigAooooAKKKKACiiigAooooAKKKKACiiigAooooAKKKKACiiigAooooAKKKKACiiigAooooAKKKKACiiigAorzf41azrfhrwjFrPh3WrjT5xdw27RpFDIjK7YJIdGOfoe3Ste+0DX7SSxmsPGuqTSG7hD295HZhJ49wMijbApzsDHg54oWv32/L/MHp91zsaKwNJfUj4t1oXeu2V7ZYiNrp8KKJbPght5BydxBxn0q/ca/o9rqKafdatYw3shAS2kuUWRiemFJyaOwdzQoqC7vrTT4fOv7qG1izjfNIEXP1NFzfWll5f2y6ht/NcJH5sgXexOABnqSe1AE9FVptRsra4S3uLy3imdSyRySqrMAMkgE5IABNRx61pcul/wBpxalZvYc/6Ws6mLg4Pz5x1460AXaKq6fqdhq1t9o0u9t72DO3zbaVZFz6ZUkVX1r+2jBGmgmxjdifNnvA7iJcdVRcbz7Fl/Gk3ZXYLU0qK4v4SeIdT8U/Dax1bXJ1uL2eWcO6xhBhZnUAAcDAAFc1pen/ABC16yS/h+KMOnfa5pvIs30O2kZFWRlADEgtwvXFNpp2A9Zoqvp8Nzb6bbQ3919suo4lWa48sR+a4HLbRwuTzgdK4D4neIvFnhy1tbzTbjT7Oxl1S1tF2xmaeVJGAYkthU7jADHvkU/tKPfT9A6XPR6KjnuIbWEzXU0cMS4y8jBVGTgcmpKQBRXC3/iXUdf+IU/g/wAN3QsI9Ot1uNU1FY1kkQv9yKMMCoYjkswIA7Zp2v8AhrxLpmlT6h4T8U6jLqFuhkW01Ly54LrAzsI2AqTjAKkYpXSjzPYdteXqdxRXin/CwbzxVJ8Pdd0vULyxi1PVPseoaajjygyKSwPG4888nGCOK9cstd0nUrqW207VLK7nh/1sUFwjsn1AOR+NVZ/18n+pN/6+9foX6KwNCbUT4g1wX2vWepW3nIbWzgjVXskwcq5BySSO/ofoNCLXtIm1NtNh1WykvlzutUuEMox1+TOf0pDL9FVr/UrHSrU3OqXtvZQA4MtxKsag/ViBXOeMPHUHh3w3Y6tpkcOqx319DZxNFcDy8yNjduAOQPQUbu39agdZRSKysMqQR04NVtQ1Ow0q1Nxql9b2MGcebcyrGufqxAoAtUV5t8PNXu774j+NbN9cn1fT7M2Zs5JJVdVDxszbdgC9fQdhXVeFn1Jjqv8Aauu2WsYvn8j7Iir9miwCsT4PLAHvzzR/lcOpv0Vn2viDRr7UHsLLV7G4vI877aK5R5Fx1yoORU2oapp+k2/2jVb62soc48y5mWNc/ViBQBaoqG2vbW9s0u7O5huLZ13JNFIGRh6hhwRVUa/o5aFRq1iTcSmGEfaU/eSDqi88sPQc0dbAaFFZ9x4g0az1JNPu9XsYL2QgJbS3KLI2emFJyas3N9aWRjF5dQ25lcJGJZAu9icBRnqSe1AE9FULTXtIv5riGx1WxuZbXPnpDco7RY67gD8v40/TtY0zWInk0jUbS/jjba7Ws6yhT6EqTg0AXKKKKACiiigAooooA8s/aHXd8LApJGdSthkHBHz108fgdbfXNJ1GHWNVuPsMzSNDe3zzIwaJ04U8bssOfTNXfE/grQ/GUCQeI7e4uoIyGWFb2aJNw6MVR1BIz1Na9jZRafZpawNM8acAzzvK/wCLuSx/E0R0T9b/AIJfoEtWvS35nmngywhsvjR8RLbSYYbMG3sTGsUYVVcxMc4HHU5rndM0fUPEfwZvvA9xoclxra3MkM+oMyPbNP5u43HnZOSAeQMtkbcV6S/hDTPDk+reJdBsryfW5bdnYSahcSfamVCERlZyD6DjjtXnXhXwT4JvPAset33iG902a6Vri9Sz1aS2jtZ25eMR7vlKtkYOTxU6Ws+iV/6/rp5Fdbrv+lv6+fmW/ix4P0Pwz8HbaKx0yyhks720Pnx26o24yIrvkDgtjmtP40wWHmeDLl4rf7cfEdmkcpUeYU3EkA9duSDjp0rR8D+G7jX/AIQxaN4/S41KK5aTC3zMJmg8wmIueGD4Cn1HFX1+E/hH7DBaz2V1cC3mSaKabUJ2ljZM7dsm/coGfuggZ5xmtNVLXun+Wn4GenLZdmvz1/E5bx14d0rUvjx4Niu7GFkvLa9N2FQL9pCxjCyEfeHbB7cdKqanZnQvjZ4a8M6BY2UWl22mz3ljY3UrRwfaGkYuy4VvmAzgY4BOMV6FeeANB1DWbXVrtNQe/s0KW9wNUuVaJSMHGJAOQOfXvU/ifwXoni6G2XWbZ2ms332t1DM0U0DeqSKQR0FTHRR8r/jf8rlPW/nb9DH8N+EtX074iav4lvZLG2g1S1jjlsbN3dWmQ8Sksq87cjpXaSf6tvoay9F8N2Whb3glvbq4kUI9xfXclxIVHQZcnA9hgVc1LTodUszbXL3CRk5JtrmSBj/wJGBx+NKSvHlQLe7PPvgbcRWnwSsLm5kWKGF7p5HboqieQkn8Kg8ZfCfwUvgLVryOxSG7gtpbuHU/NYzJIAXDb89M9umOldn4d8EaF4VsXstDt7iCzdWU20l7NNENxy2FkdgCfb1NQWHgDRrCKOAyajd2kJBhs7y/lmhjx90BGbBAwMBs4wMU5+9foOLs7+bHeB729PgPw9/wkcwXVLiyj8xZmw8j7ATweS2OT+Nc18cf+RO0r/sO2X/oyuz1Twxo+tavpmp6nZrPeaTI0tnKXYeUzAAnAOD0HXPSqviPwPofi0x/2/Dd3KRusiRLfzxRq6/dYKjgbhnrjNU5Xmped/xuTFWjy+VvwsWPFGh6H4h0CXT/ABRDFNpzsjOsspjXIYFfmBBHOO9a0aLHGqRgKigBQOwFY2qeD9F1zw2dB1m3mv8AT2YOUuLqV3JDbhmQtv6+/tWzGixRrHGNqKAqgdgKnuPseQ+GJv8AhGf2kvFWnaofKHiKCG6sJH4E2wYKA+oy3H+zXq2p6hbaVpV1f38qxW1tE0srscBVAyaoeI/CWieLLSKDXrFbkQvvhlDMkkLf3kdSGU/Q1Ut/A2lp5Y1C41LVkiYNHFqV9JPGCOhKE7WI7FgSKVrwUe2g/tOXc8L0bwrLZ+Gfh5b61BJENY8Sy3jW5JRljkT5VOORlQDj0Nd/428J6ZpnxC8CXPhTTrbT9SbUWjmWzhWMSWgQmXeFABAGBz/exXe+JvBuh+L4raPX7RrgWrF4CkzxNE5x8wKEEEY4NP0bw1pfh1HltvPlmKbXu766kuJdg/h8yQkhR6AgVSav6O/4JW/Al3fzX5tv9TxLWZ5vDFl8ZH8NRrYtDLZLGLVQnlK6gOVA6cMxyPrXYXfg7WfFXgXQLPS00TS4rJre8sb61nkkePbg5UeWPvDr83fvV/wJpSap4m8fapcwJcaTrF8lvDvUMlwkUexyOzKSSM9Dg1saR8MvD+iFY7BtTWyR98envqU7W0ZzniMtgjPODke1KGiV+0X9yHLVu3eX4mD4PuIPEnxO8bReIYorq70y5itrSC4QMIbYp1RT03HkkdePasj4u+D9B0rwdodva6bbiH/hIoMI0a4VZpWZ0AxgKc4x6ACu+1z4f6FruuRa1Kt1ZarGnl/btPunt5XT+6xQjcPrUupeB9D1jwt/wj+qQ3F3ZbxLumu5Xl3g5D+aW3Zz7+3TihaKPlb52f6/mD1b87/iv0/I1dK0jTtDsVstGsLewtVJZYLaIRoCepwOK8/8DXMPiH4ieOP7dSO5vtPvltbaGdQ3kWu35dgPQMckkdeM9q9A0nSrbRdLhsLESeTCMAyytI7ZOSWZiSST3JrD1v4c+G9f1wazd2s8GpbBG91ZXcts8if3XMbDcO3NH2r/ANf109GH2bf1/X6nH/Diw0qD4sfEix0y1tUsfMtEaCFF8vJjbeu0cfeLZH1rM8JX2jeF/BvxOn1O3ZNJt9du4nt7UbCUZUQImMbc5AHTFek6f4D8PaTqt1qOlWc1lc3caxzm2u5o0dVXavyBtuQOhxkHnrzVe2+Gvha1sdUs0sJ5LbVyzX0M99PKs7MQS5DucPwPmGD70rO1v7tvy/yHpzXfe/4Hnniu0mttd+HmrnSdJ0WWTWIIYYbI7phE6HKs4CgjGAQARk9fXor+e90X45S3mo2M+qWWoaUsNgtrtlktSrZkzHnIViRl8YztBNbafCzwmtjZWz2VzL9hmWa2mkv5zNEy5C7ZN+4KM8LnA9K5HUdB0jxb8X9Vg8UzTaVPpVpDDprW949vLeQMCzuX3ZcBsjA6d81V/esu7fyasTb3deyX43NX4ffDDTtGbWdS1jQrBLjVL6eaC3kiSRra3fGIieRzjJAJAzisD4MeDvD114TfV7/T4pbqw1m5ktp2zm2EchwEx91epIHB71o+D/D5tfiLq1noGuatqHhb+zglw02oSSrHdl/uxSg5BCD5tp4yAT2ruvDngzRPCcMsOgwXEEExZnhkvZpkLMcs22R2AJ7kUlpZrtZfJ6fl+I3rdPvd/d/wfwPIfFr2Pif4Ia1rmkaJpthpOZbi1u7tjJdzSCU5kGANhLZxlmOOMdq2Pihp9pqnh/4e3l7bxyXVxrGnxSXGMSlGUll3j5gCeetdhD8JfBsFhe2K6XI1leFi9q93KYoy33jGu7EZPquD26Vcv/h34d1O00+2v4b6aHTGV7RTqdyPJZc7WBEmSwzgE5IHFCsvvi/u3B3f/k347HDeL/CehW3xo8CwWml21tb30V5DdQW8YjjnjSMMquq4DDPY8HvV7S9Ns9D/AGlLm20i2isre88OLPPDAgRHkWfaG2jjOK6+/wDAehanrFnqt8l9JfWK7bWcancqYcqFO3EgGSBye/fNWrnwno914pg8RywTLqsEAt0uI7qWPMYbdsZVYKwzzgg5ojpbyv8Ajf8AzCWt/l+DNWK4hnaRYZY5DE2yQIwOxvQ+h9qkrJ0bwxo/h+61K50ezW2m1S4NzdsHZvNkPfknHfgYHNa1ABRRRQAUUUUAFFFFABVQ6VpzXwvWsLU3Q6TmFfM/76xmrdFABRRRQAUUUUAFFFFABRRRQAUUUUAFFFFABRRRQAU2SNJY2jlVXRgVZWGQQexFOooAbHGkUaxxIqIowqqMAD0Ap1FFABRRRQAUUUUAFFFFABVe80+y1GNU1CzgukU5CzxK4B+hFWKKAGxRRwRLHCixxqMKiDAA9hTqKKACiiigAooooAKKKKACiiigD//Z)\n",
        "\n",
        "Başlık, yeni sınıfın Point olarak adlandırıldığını belirtir. Gövde, sınıfın ne için olduğunu açıklayan bir belge dizisidir. Bir sınıf tanımı içinde değişkenler ve yöntemler tanımlayabilirsiniz, ancak buna daha sonra geri döneceğiz.\n"
      ],
      "metadata": {
        "id": "RIGiJuCli8zs"
      }
    },
    {
      "cell_type": "markdown",
      "source": [
        "Point adında bir sınıf tanımlamak bir sınıf nesnesi yaratır.\n",
        "\n",
        "    >>> Point\n",
        "    <class '__main__.Point'>\n",
        "\n",
        "Point en üst seviyede tanımlandığı için “tam adı” _ _ main_ _.Point'tir.\n",
        "\n",
        "Sınıf nesnesi, nesneler oluşturmak için bir fabrika gibidir. Bir nokta oluşturmak için, Point i bir fonksiyonmuş gibi çağırırsınız.\n",
        "\n",
        "    >>> blank = Point()\n",
        "    >>> blank\n",
        "    <__main__.Point object at 0xb7e9d3ac>\n",
        "\n",
        "Dönüş değeri, blank'a atadığımız bir Point nesnesine referanstır.\n",
        "\n",
        "\n",
        "Yeni bir nesne oluşturmaya **örnek oluşturma -instantiation-** denir ve nesne, sınıfın bir örneğidir **-instance-**.\n",
        "\n",
        "Bir örneği yazdırdığınızda, Python size hangi sınıfa ait olduğunu ve bellekte nerede depolandığını söyler (0x öneki, takip eden sayının onaltılık olduğu anlamına gelir).\n",
        "\n",
        "Her nesne bir sınıfın örneğidir, bu nedenle \"nesne\" ve \"örnek\" birbirinin yerine kullanılabilir. Ancak bu bölümde, programcı tarafından tanımlanan bir tipten bahsettiğimi belirtmek için \"örnek\" terimini kullanıyorum."
      ],
      "metadata": {
        "id": "40u3F_Ta_Lmn"
      }
    },
    {
      "cell_type": "markdown",
      "source": [
        "**Nitelikler -Attributes-**\n",
        "\n",
        "Nokta gösterimini ( dot notation) kullanarak bir örneğe değerler atayabilirsiniz:\n",
        "\n",
        "    >>> blank.x = 3.0\n",
        "    >>> blank.y = 4.0\n",
        "\n",
        "Bu sözdizimi, math.pi veya string.whitespace gibi bir modülden değişken seçme sözdizimine benzer. Ancak bu durumda, bir nesnenin adlandırılmış öğelerine değerler atıyoruz. Bu öğelere **nitelikler-Attributes** denir.\n",
        "\n",
        "Bir isim olarak, “AT-trib-ute”, bir fiil olan “a-TRIB-ute”nin aksine, ilk heceye vurgu yapılarak telaffuz edilir.\n",
        "\n",
        "Şekil 15.1, bu atamaların sonucunu gösteren bir durum diyagramıdır. Bir nesneyi ve niteliklerini gösteren bir durum diyagramına **nesne diyagramı-object diagram** denir.\n",
        "\n",
        "blank değişkeni, iki nitelik içeren bir Point nesnesini ifade eder. Her nitelik bir kayan nokta sayısını ifade eder. Bir niteliğin değerini aynı sözdizimini kullanarak okuyabilirsiniz:\n",
        "\n",
        "    >>> blank.y\n",
        "    4.0\n",
        "    >>> x = blank.x\n",
        "    >>> x\n",
        "    3.0\n",
        "\n",
        "blank.x ifadesi, \"blank'in başvurduğu nesneye git ve x değerini al\" anlamına gelir. Örnekte, bu değeri x adlı bir değişkene atıyoruz. x değişkeni ile x niteliği arasında bir çakışma yoktur.\n",
        "\n",
        "Nokta gösterimini ( dot notation) herhangi bir ifadenin parçası olarak kullanabilirsiniz. Örneğin:\n",
        "\n",
        "    >>> '(%g, %g)' % (blank.x, blank.y)\n",
        "    '(3.0, 4.0)'\n",
        "    >>> distance = math.sqrt(blank.x**2 + blank.y**2)\n",
        "    >>> distance\n",
        "    5.0\n",
        "\n",
        "  Bir örneği her zamanki gibi bir argüman olarak geçirebilirsiniz. Örneğin:\n",
        "\n",
        "      def print_point(p):\n",
        "          print('(%g, %g)' % (p.x, p.y))\n",
        "\n",
        "print_point bir point i argüman olarak alır ve onu matematiksel gösterimle görüntüler. Bunu çağırmak için argüman olarak blank geçebilirsiniz:\n",
        "\n",
        "    >>> print_point(blank)\n",
        "    (3.0, 4.0)\n",
        "\n",
        "Fonksiyonun içinde, p blank için bir takma addır, bu yüzden fonksiyon p'yi değiştirirse, blank değişir.\n",
        "\n",
        "Bir alıştırma olarak, argüman olarak iki Point alan ve aralarındaki mesafeyi döndüren distance_between_points adlı bir fonksiyon yazın."
      ],
      "metadata": {
        "id": "_05eYZGsBArN"
      }
    },
    {
      "cell_type": "code",
      "source": [
        "class Point:\n",
        "    \"\"\"2 boyutlu uzayda bir noktayı temsil eder.\"\"\"\n",
        "\n",
        "Point"
      ],
      "metadata": {
        "id": "i2fnawMGFmRh",
        "outputId": "ab20e3b8-4b01-4ba5-b986-f10f31fc4a22",
        "colab": {
          "base_uri": "https://localhost:8080/"
        }
      },
      "execution_count": 2,
      "outputs": [
        {
          "output_type": "execute_result",
          "data": {
            "text/plain": [
              "__main__.Point"
            ]
          },
          "metadata": {},
          "execution_count": 2
        }
      ]
    },
    {
      "cell_type": "code",
      "source": [
        "blank = Point()\n",
        "blank"
      ],
      "metadata": {
        "id": "mqApiqYARO3g",
        "outputId": "20db8c3d-2b90-4df3-8361-bdf4c488cd83",
        "colab": {
          "base_uri": "https://localhost:8080/"
        }
      },
      "execution_count": 3,
      "outputs": [
        {
          "output_type": "execute_result",
          "data": {
            "text/plain": [
              "<__main__.Point at 0x7872d41423e0>"
            ]
          },
          "metadata": {},
          "execution_count": 3
        }
      ]
    },
    {
      "cell_type": "code",
      "source": [
        "blank.x = 3.0\n",
        "blank.y = 4.0"
      ],
      "metadata": {
        "id": "SbjdIOaVOKEv"
      },
      "execution_count": 4,
      "outputs": []
    },
    {
      "cell_type": "code",
      "source": [
        "blank.y"
      ],
      "metadata": {
        "id": "P00fMkqMfm5B",
        "outputId": "292afed3-43af-4fb1-fc3d-229f1f387323",
        "colab": {
          "base_uri": "https://localhost:8080/"
        }
      },
      "execution_count": 6,
      "outputs": [
        {
          "output_type": "execute_result",
          "data": {
            "text/plain": [
              "4.0"
            ]
          },
          "metadata": {},
          "execution_count": 6
        }
      ]
    },
    {
      "cell_type": "code",
      "source": [
        "x = blank.x\n",
        "x"
      ],
      "metadata": {
        "id": "KVknfJHmOWI7",
        "outputId": "a7feb358-f020-4592-f426-bdfd1c44b8c3",
        "colab": {
          "base_uri": "https://localhost:8080/"
        }
      },
      "execution_count": 7,
      "outputs": [
        {
          "output_type": "execute_result",
          "data": {
            "text/plain": [
              "3.0"
            ]
          },
          "metadata": {},
          "execution_count": 7
        }
      ]
    },
    {
      "cell_type": "code",
      "source": [
        "'(%g, %g)' % (blank.x, blank.y)"
      ],
      "metadata": {
        "id": "zztB13yHf2XS",
        "outputId": "bb17d370-9927-47b7-871c-8fb2112b59d6",
        "colab": {
          "base_uri": "https://localhost:8080/",
          "height": 35
        }
      },
      "execution_count": 9,
      "outputs": [
        {
          "output_type": "execute_result",
          "data": {
            "text/plain": [
              "'(3, 4)'"
            ],
            "application/vnd.google.colaboratory.intrinsic+json": {
              "type": "string"
            }
          },
          "metadata": {},
          "execution_count": 9
        }
      ]
    },
    {
      "cell_type": "code",
      "source": [
        "import math\n",
        "distance = math.sqrt(blank.x**2 + blank.y**2)\n",
        "distance"
      ],
      "metadata": {
        "id": "WBX5QiiFOqqJ",
        "outputId": "598d8817-4e5e-4a1b-a893-656c3074e2ed",
        "colab": {
          "base_uri": "https://localhost:8080/"
        }
      },
      "execution_count": 11,
      "outputs": [
        {
          "output_type": "execute_result",
          "data": {
            "text/plain": [
              "5.0"
            ]
          },
          "metadata": {},
          "execution_count": 11
        }
      ]
    },
    {
      "cell_type": "code",
      "source": [
        "def print_point(p):\n",
        "    print('(%g, %g)' % (p.x, p.y))"
      ],
      "metadata": {
        "id": "xe0a9i1HOzbj"
      },
      "execution_count": 13,
      "outputs": []
    },
    {
      "cell_type": "code",
      "source": [
        "print_point(blank)"
      ],
      "metadata": {
        "id": "H7JdBKBQO5tG",
        "outputId": "07f0915b-6f6e-4d28-c2db-8bf8f0053016",
        "colab": {
          "base_uri": "https://localhost:8080/"
        }
      },
      "execution_count": 14,
      "outputs": [
        {
          "output_type": "stream",
          "name": "stdout",
          "text": [
            "(3, 4)\n"
          ]
        }
      ]
    },
    {
      "cell_type": "markdown",
      "source": [
        "**Dikdörtgenler**\n",
        "\n",
        "Bazen bir nesnenin niteliklerinin ne olması gerektiği açıktır, ancak diğer zamanlarda kararlar almanız gerekir. Örneğin, dikdörtgenleri temsil eden bir sınıf tasarladığınızı düşünün. Bir dikdörtgenin konumunu ve boyutunu belirtmek için hangi nitelikleri kullanırdınız? Açıyı göz ardı edebilirsiniz; işleri basit tutmak için dikdörtgenin dikey veya yatay olduğunu varsayın.\n",
        "\n",
        "En az iki olasılık vardır:\n",
        "\n",
        "• Dikdörtgenin bir köşesini (veya merkezini), genişliğini ve yüksekliğini belirtebilirsiniz.\n",
        "\n",
        "• İki zıt köşe belirtebilirsiniz. Bu noktada hangisinin diğerinden daha iyi olduğunu söylemek zor, bu yüzden sadece bir örnek olarak ilkini uygulayacağız.\n",
        "\n",
        "İşte sınıf tanımı:\n",
        "\n",
        "    class Rectangle:\n",
        "        \"\"\"Represents a rectangle.\n",
        "        attributes: width, height, corner.\n",
        "        \"\"\"\n",
        "\n",
        "![image.png](data:image/png;base64,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)\n",
        "\n",
        "Belge dizisi (docstring) öznitelikleri listeler: genişlik ve yükseklik sayılardır; köşe, sol alt köşeyi belirten bir Nokta nesnesidir.\n",
        "\n",
        "Bir dikdörtgeni temsil etmek için, bir Dikdörtgen nesnesi örneği oluşturmalı ve özniteliklere değerler atamalısınız:\n",
        "\n",
        "    box = Rectangle()\n",
        "    box.width = 100.0\n",
        "    box.height = 200.0\n",
        "    box.corner = Point()\n",
        "    box.corner.x = 0.0\n",
        "    box.corner.y = 0.0\n",
        "\n",
        "box.corner.x ifadesi, \"Kutunun başvurduğu nesneye git ve corner adlı niteliği seç; sonra o nesneye git ve x adlı niteliği seç.\" anlamına gelir.\n",
        "\n",
        "Şekil 15.2 bu nesnenin durumunu gösterir. Başka bir nesnenin niteliği olan bir nesne gömülüdür."
      ],
      "metadata": {
        "id": "qD3gCwJmNs9O"
      }
    },
    {
      "cell_type": "code",
      "source": [
        "class Rectangle:\n",
        "    \"\"\"Represents a rectangle.\n",
        "    attributes: width, height, corner.\n",
        "    \"\"\""
      ],
      "metadata": {
        "id": "uhPOAlu5iYNu"
      },
      "execution_count": 16,
      "outputs": []
    },
    {
      "cell_type": "code",
      "source": [
        "box = Rectangle()\n",
        "box.width = 100.0\n",
        "box.height = 200.0\n",
        "box.corner = Point()"
      ],
      "metadata": {
        "id": "Ucrv874-ic06"
      },
      "execution_count": 17,
      "outputs": []
    },
    {
      "cell_type": "code",
      "source": [
        "box.corner.x = 0.0"
      ],
      "metadata": {
        "id": "WZ9Lt0RVieTH"
      },
      "execution_count": 18,
      "outputs": []
    },
    {
      "cell_type": "code",
      "source": [
        "box.corner.y = 0.0"
      ],
      "metadata": {
        "id": "lpoV_OSxieP5"
      },
      "execution_count": 19,
      "outputs": []
    },
    {
      "cell_type": "markdown",
      "source": [
        "**Dönüş değerleri olarak Örnekler- Instances as return values**\n",
        "\n",
        "Fonksiyonlar örnekler döndürebilir. Örneğin, find_center bir Rectangele'i argüman olarak alır ve Rectangele'in merkezinin koordinatlarını içeren bir Point döndürür:"
      ],
      "metadata": {
        "id": "LqaQQ767Ptjz"
      }
    },
    {
      "cell_type": "code",
      "source": [
        "def find_center(rect):\n",
        "    p = Point()\n",
        "    p.x = rect.corner.x + rect.width/2\n",
        "    p.y = rect.corner.y + rect.height/2\n",
        "    return p"
      ],
      "metadata": {
        "id": "irVDGaqSjfvO"
      },
      "execution_count": 21,
      "outputs": []
    },
    {
      "cell_type": "markdown",
      "source": [
        "İşte box'ı argüman olarak geçiren ve ortaya çıkan Point'i center'a atayan bir örnek:"
      ],
      "metadata": {
        "id": "XGjWQQ2ejoOf"
      }
    },
    {
      "cell_type": "code",
      "source": [
        "center = find_center(box)\n",
        "print_point(center)\n"
      ],
      "metadata": {
        "id": "1ycdgWWPjsZ-",
        "outputId": "7200a210-2f73-44c6-e69c-6c08ce0ccffc",
        "colab": {
          "base_uri": "https://localhost:8080/"
        }
      },
      "execution_count": 22,
      "outputs": [
        {
          "output_type": "stream",
          "name": "stdout",
          "text": [
            "(50, 100)\n"
          ]
        }
      ]
    },
    {
      "cell_type": "markdown",
      "source": [
        "**Nesneler değiştirilebilir - Objects are mutable**\n",
        "\n",
        "Bir nesnenin durumunu, niteliklerinden birine atama yaparak değiştirebilirsiniz. Örneğin, bir dikdörtgenin konumunu değiştirmeden boyutunu değiştirmek için genişlik ve yükseklik değerlerini değiştirebilirsiniz:"
      ],
      "metadata": {
        "id": "ZituQKsflKX4"
      }
    },
    {
      "cell_type": "code",
      "source": [
        "box.width = box.width + 50\n",
        "box.height = box.height + 100"
      ],
      "metadata": {
        "id": "AqaJn7J3lSki"
      },
      "execution_count": 45,
      "outputs": []
    },
    {
      "cell_type": "code",
      "source": [
        "#Etkisini gösteren bir örnek şöyledir:\n",
        "box.width, box.height"
      ],
      "metadata": {
        "id": "43BhdEpOnYzQ",
        "outputId": "a98c7964-62c1-4273-87b0-36407f042f04",
        "colab": {
          "base_uri": "https://localhost:8080/"
        }
      },
      "execution_count": 46,
      "outputs": [
        {
          "output_type": "execute_result",
          "data": {
            "text/plain": [
              "(350.0, 700.0)"
            ]
          },
          "metadata": {},
          "execution_count": 46
        }
      ]
    },
    {
      "cell_type": "markdown",
      "source": [
        "Nesneleri değiştiren fonksiyonlar da yazabilirsiniz. Örneğin, grow_rectangle bir Rectangle nesnesi ve iki sayı, dwidth ve dheight alır ve sayıları dikdörtgenin genişliğine ve yüksekliğine ekler:"
      ],
      "metadata": {
        "id": "CFNJUvWflTUc"
      }
    },
    {
      "cell_type": "code",
      "source": [
        "def grow_rectangle(rect, dwidth, dheight):\n",
        "    rect.width += dwidth\n",
        "    rect.height += dheight"
      ],
      "metadata": {
        "id": "49gGFdHynNlm"
      },
      "execution_count": 43,
      "outputs": []
    },
    {
      "cell_type": "code",
      "source": [
        "grow_rectangle(box, 50, 100)"
      ],
      "metadata": {
        "id": "zE6WiLF-no1M"
      },
      "execution_count": 28,
      "outputs": []
    },
    {
      "cell_type": "code",
      "source": [
        "box.width, box.height"
      ],
      "metadata": {
        "id": "Z59mojoBnouJ",
        "outputId": "b551d02c-8f4e-498e-b17b-8c0e2ac0adbd",
        "colab": {
          "base_uri": "https://localhost:8080/"
        }
      },
      "execution_count": 29,
      "outputs": [
        {
          "output_type": "execute_result",
          "data": {
            "text/plain": [
              "(300.0, 600.0)"
            ]
          },
          "metadata": {},
          "execution_count": 29
        }
      ]
    },
    {
      "cell_type": "markdown",
      "source": [
        "Fonksiyonun içinde, rect, box için bir takma addır, bu yüzden fonksiyon rect'i değiştirdiğinde, box değişir. Bir alıştırma olarak, bir Rectangle ve dx ve dy adlı iki sayı alan move_rectangle adlı bir fonksiyon yazın. Köşenin x koordinatına dx ve köşenin y koordinatına dy ekleyerek dikdörtgenin konumunu değiştirmelidir."
      ],
      "metadata": {
        "id": "csQojRV2oCrb"
      }
    },
    {
      "cell_type": "markdown",
      "source": [
        "**Kopyalama - Copying**\n",
        "\n",
        "Aliasing (takma ad), bir yerdeki değişikliklerin başka bir yerde beklenmedik etkilere yol açabileceği için bir programın okunmasını zorlaştırabilir. Belirli bir nesneye atıfta bulunabilecek tüm değişkenleri takip etmek zordur. Bir nesneyi kopyalamak genellikle aliasing'e bir alternatiftir. copy modülü, herhangi bir nesneyi kopyalayabilen copy adlı bir fonksiyon içerir:"
      ],
      "metadata": {
        "id": "b8MNoqWJoYx7"
      }
    },
    {
      "cell_type": "code",
      "source": [
        "p1 = Point()\n",
        "p1.x = 3.0\n",
        "p1.y = 4.0"
      ],
      "metadata": {
        "id": "69miRQiOof4B"
      },
      "execution_count": 32,
      "outputs": []
    },
    {
      "cell_type": "code",
      "source": [
        "import copy\n",
        "p2 = copy.copy(p1)\n",
        "#p1 ve p2 aynı verileri içerir, ancak aynı Nokta değildirler."
      ],
      "metadata": {
        "id": "6LXCyl9XopQJ"
      },
      "execution_count": 33,
      "outputs": []
    },
    {
      "cell_type": "code",
      "source": [
        "print_point(p1)\n",
        "print_point(p2)\n",
        "p1 is p2\n"
      ],
      "metadata": {
        "id": "iRt0PVCzo680",
        "outputId": "3668f595-4ce0-4da0-9125-3196bc49a5db",
        "colab": {
          "base_uri": "https://localhost:8080/"
        }
      },
      "execution_count": 36,
      "outputs": [
        {
          "output_type": "stream",
          "name": "stdout",
          "text": [
            "(3, 4)\n",
            "(3, 4)\n"
          ]
        },
        {
          "output_type": "execute_result",
          "data": {
            "text/plain": [
              "False"
            ]
          },
          "metadata": {},
          "execution_count": 36
        }
      ]
    },
    {
      "cell_type": "code",
      "source": [
        "p1 == p2"
      ],
      "metadata": {
        "id": "jT-0r657pIML",
        "outputId": "438ca106-2b90-4f18-bb8c-4f8920721c75",
        "colab": {
          "base_uri": "https://localhost:8080/"
        }
      },
      "execution_count": 37,
      "outputs": [
        {
          "output_type": "execute_result",
          "data": {
            "text/plain": [
              "False"
            ]
          },
          "metadata": {},
          "execution_count": 37
        }
      ]
    },
    {
      "cell_type": "markdown",
      "source": [
        "![image.png](data:image/png;base64,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)"
      ],
      "metadata": {
        "id": "awqKCbjOpO9E"
      }
    },
    {
      "cell_type": "markdown",
      "source": [
        "is operatörü p1 ve p2'nin aynı nesne olmadığını belirtir, ki bu beklediğimiz şeydir. Ancak bu noktalar aynı verileri içerdiğinden =='nin True sonucunu vermesini beklemiş olabilirsiniz. Bu durumda, örnekler için == operatörünün varsayılan davranışının is operatörüyle aynı olduğunu öğrenmek sizi hayal kırıklığına uğratacaktır; nesne eşdeğerliğini değil, nesne kimliğini kontrol eder. Bunun nedeni, programcı tarafından tanımlanan türler için Python'un neyin eşdeğer kabul edilmesi gerektiğini bilmemesidir. En azından henüz değil."
      ],
      "metadata": {
        "id": "WelAxX_xpeQG"
      }
    },
    {
      "cell_type": "markdown",
      "source": [
        "Bir Rectangle'ı kopyalamak için copy.copy komutunu kullanırsanız, Rectangle nesnesini kopyaladığını ancak gömülü Nokta nesnesini kopyalamadığını göreceksiniz."
      ],
      "metadata": {
        "id": "AnjHeSjfplUw"
      }
    },
    {
      "cell_type": "code",
      "source": [
        "box2 = copy.copy(box)\n",
        "box2 is box"
      ],
      "metadata": {
        "id": "eISnmO_GpQKt",
        "outputId": "3437901e-0287-4b2e-8097-7187440163c2",
        "colab": {
          "base_uri": "https://localhost:8080/"
        }
      },
      "execution_count": 47,
      "outputs": [
        {
          "output_type": "execute_result",
          "data": {
            "text/plain": [
              "False"
            ]
          },
          "metadata": {},
          "execution_count": 47
        }
      ]
    },
    {
      "cell_type": "code",
      "source": [
        "box2.corner is box.corner"
      ],
      "metadata": {
        "id": "ZpHR4rhWpwE5",
        "outputId": "55a59f60-3dd1-4be4-dc4f-927110dd30db",
        "colab": {
          "base_uri": "https://localhost:8080/"
        }
      },
      "execution_count": 48,
      "outputs": [
        {
          "output_type": "execute_result",
          "data": {
            "text/plain": [
              "True"
            ]
          },
          "metadata": {},
          "execution_count": 48
        }
      ]
    },
    {
      "cell_type": "markdown",
      "source": [
        "Şekil 15.3 nesne diyagramının nasıl göründüğünü gösterir. Bu işleme yüzeysel kopyalama denir çünkü nesneyi ve içerdiği tüm referansları kopyalar ancak gömülü nesneleri kopyalamaz.\n",
        "\n",
        "Çoğu uygulama için istediğiniz bu değildir. Bu örnekte, Rectangle'lardan birinde grow_rectangle'ı çağırmak diğerini etkilemez ancak her ikisinde move_rectangle'ı çağırmak her ikisini de etkiler! Bu davranış kafa karıştırıcı ve hataya açıktır.\n",
        "\n",
        "Neyse ki, copy modülü yalnızca nesneyi değil aynı zamanda başvurduğu nesneleri ve başvurdukları nesneleri vb. kopyalayan deepcopy adlı bir yöntem sağlar. Bu işlemin derin kopyalama olarak adlandırıldığını öğrenince şaşırmayacaksınız."
      ],
      "metadata": {
        "id": "cecgZka7p3p2"
      }
    },
    {
      "cell_type": "code",
      "source": [
        "box3 = copy.deepcopy(box)\n",
        "box3 is box"
      ],
      "metadata": {
        "id": "KyiMK70EqFVv",
        "outputId": "71d15eef-f529-46b5-9c62-6e9a7ca491b3",
        "colab": {
          "base_uri": "https://localhost:8080/"
        }
      },
      "execution_count": 49,
      "outputs": [
        {
          "output_type": "execute_result",
          "data": {
            "text/plain": [
              "False"
            ]
          },
          "metadata": {},
          "execution_count": 49
        }
      ]
    },
    {
      "cell_type": "code",
      "source": [
        "box3.corner is box.corner"
      ],
      "metadata": {
        "id": "YYqRrMCCqLz3",
        "outputId": "703c71a5-d628-4935-e824-bd1564325b63",
        "colab": {
          "base_uri": "https://localhost:8080/"
        }
      },
      "execution_count": 50,
      "outputs": [
        {
          "output_type": "execute_result",
          "data": {
            "text/plain": [
              "False"
            ]
          },
          "metadata": {},
          "execution_count": 50
        }
      ]
    },
    {
      "cell_type": "markdown",
      "source": [
        "box3 ve box tamamen ayrı nesnelerdir. Bir alıştırma olarak, eskisini değiştirmek yerine yeni bir Rectangle oluşturan ve döndüren bir move_rectangle sürümü yazın."
      ],
      "metadata": {
        "id": "4k3uNoLwqBYV"
      }
    },
    {
      "cell_type": "markdown",
      "source": [
        "**Hata Ayıklama - Debugging**\n",
        "\n",
        "Nesnelerle çalışmaya başladığınızda, bazı yeni istisnalarla karşılaşmanız olasıdır. Var olmayan bir özniteliğe erişmeye çalışırsanız, bir AttributeError alırsınız:"
      ],
      "metadata": {
        "id": "B0jWjrdOqY23"
      }
    },
    {
      "cell_type": "code",
      "source": [
        "p = Point()\n",
        "p.x = 3\n",
        "p.y = 4\n",
        "p.z\n",
        "#AttributeError: Point instance has no attribute 'z'"
      ],
      "metadata": {
        "id": "975Pt1a9qhqx",
        "outputId": "1e93991a-e85b-4beb-fe2f-f42162eabd82",
        "colab": {
          "base_uri": "https://localhost:8080/",
          "height": 193
        }
      },
      "execution_count": 51,
      "outputs": [
        {
          "output_type": "error",
          "ename": "AttributeError",
          "evalue": "'Point' object has no attribute 'z'",
          "traceback": [
            "\u001b[0;31m---------------------------------------------------------------------------\u001b[0m",
            "\u001b[0;31mAttributeError\u001b[0m                            Traceback (most recent call last)",
            "\u001b[0;32m<ipython-input-51-dcb9fb38cdf7>\u001b[0m in \u001b[0;36m<cell line: 4>\u001b[0;34m()\u001b[0m\n\u001b[1;32m      2\u001b[0m \u001b[0mp\u001b[0m\u001b[0;34m.\u001b[0m\u001b[0mx\u001b[0m \u001b[0;34m=\u001b[0m \u001b[0;36m3\u001b[0m\u001b[0;34m\u001b[0m\u001b[0;34m\u001b[0m\u001b[0m\n\u001b[1;32m      3\u001b[0m \u001b[0mp\u001b[0m\u001b[0;34m.\u001b[0m\u001b[0my\u001b[0m \u001b[0;34m=\u001b[0m \u001b[0;36m4\u001b[0m\u001b[0;34m\u001b[0m\u001b[0;34m\u001b[0m\u001b[0m\n\u001b[0;32m----> 4\u001b[0;31m \u001b[0mp\u001b[0m\u001b[0;34m.\u001b[0m\u001b[0mz\u001b[0m\u001b[0;34m\u001b[0m\u001b[0;34m\u001b[0m\u001b[0m\n\u001b[0m\u001b[1;32m      5\u001b[0m \u001b[0;31m#AttributeError: Point instance has no attribute 'z'\u001b[0m\u001b[0;34m\u001b[0m\u001b[0;34m\u001b[0m\u001b[0m\n",
            "\u001b[0;31mAttributeError\u001b[0m: 'Point' object has no attribute 'z'"
          ]
        }
      ]
    },
    {
      "cell_type": "code",
      "source": [
        "#If you are not sure what type an object is, you can ask:\n",
        "type(p)\n",
        "#<class '__main__.Point'>"
      ],
      "metadata": {
        "id": "rEMo3pAlq0Xg",
        "outputId": "c2e50542-d281-43cd-909c-d0a7420ff754",
        "colab": {
          "base_uri": "https://localhost:8080/"
        }
      },
      "execution_count": 52,
      "outputs": [
        {
          "output_type": "execute_result",
          "data": {
            "text/plain": [
              "__main__.Point"
            ]
          },
          "metadata": {},
          "execution_count": 52
        }
      ]
    },
    {
      "cell_type": "code",
      "source": [
        "#You can also use isinstance to check whether an object is an instance of a class:\n",
        "isinstance(p, Point)"
      ],
      "metadata": {
        "id": "IcC215PYq8Hl",
        "outputId": "db85f392-7e27-460e-92d3-337117c94d9b",
        "colab": {
          "base_uri": "https://localhost:8080/"
        }
      },
      "execution_count": 53,
      "outputs": [
        {
          "output_type": "execute_result",
          "data": {
            "text/plain": [
              "True"
            ]
          },
          "metadata": {},
          "execution_count": 53
        }
      ]
    },
    {
      "cell_type": "code",
      "source": [
        "#If you are not sure whether an object has a particular attribute, you can use the built-in function hasattr:\n",
        "hasattr(p, 'x')\n",
        "#hasattr(p, 'z')"
      ],
      "metadata": {
        "id": "feKvUtebrGoL",
        "outputId": "305133be-4f97-4506-cc6d-63d8a6c1f8a6",
        "colab": {
          "base_uri": "https://localhost:8080/"
        }
      },
      "execution_count": 54,
      "outputs": [
        {
          "output_type": "execute_result",
          "data": {
            "text/plain": [
              "True"
            ]
          },
          "metadata": {},
          "execution_count": 54
        }
      ]
    },
    {
      "cell_type": "code",
      "source": [
        "#İlk argüman herhangi bir nesne olabilir; ikinci argüman özniteliğin adını içeren bir dizedir.\n",
        "#Nesnenin ihtiyaç duyduğunuz özniteliklere sahip olup olmadığını görmek için bir try ifadesi de kullanabilirsiniz:\n",
        "\n",
        "try:\n",
        "    x = p.x\n",
        "except AttributeError:\n",
        "    x = 0"
      ],
      "metadata": {
        "id": "ySHO57G_rWof"
      },
      "execution_count": 55,
      "outputs": []
    },
    {
      "cell_type": "markdown",
      "source": [
        "Bu yaklaşım, farklı tiplerle çalışan fonksiyonlar yazmayı kolaylaştırabilir; bu konu hakkında daha fazla bilgi Bölüm 17.9'da yer alacaktır."
      ],
      "metadata": {
        "id": "jyLVG8OzrTGE"
      }
    }
  ],
  "metadata": {
    "colab": {
      "name": "Colaboratory'ye Hoş Geldiniz",
      "toc_visible": true,
      "provenance": []
    },
    "kernelspec": {
      "display_name": "Python 3",
      "name": "python3"
    }
  },
  "nbformat": 4,
  "nbformat_minor": 0
}