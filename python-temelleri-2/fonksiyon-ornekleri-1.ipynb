{
  "cells": [
    {
      "cell_type": "markdown",
      "source": [
        "**Fonksiyonlar: Örnekler**\n",
        "\n",
        "---\n",
        "https://greenteapress.com/thinkpython2/thinkpython2.pdf (p. 27)\n",
        "\n",
        "A function object is a value you can assign to a variable or pass as an argument. For\n",
        "example, do_twice is a function that takes a function object as an argument and calls it twice:\n",
        "\n"
      ],
      "metadata": {
        "id": "CDgRUOH0c8mM"
      }
    },
    {
      "cell_type": "code",
      "source": [
        "def do_twice(f):\n",
        "    f()\n",
        "    f()"
      ],
      "metadata": {
        "id": "oy8ru4GxgfGb",
        "colab": {
          "base_uri": "https://localhost:8080/",
          "height": 111
        },
        "outputId": "a99e43be-0e7d-41cb-c96e-f0036770459d"
      },
      "execution_count": 1,
      "outputs": [
        {
          "output_type": "error",
          "ename": "IndentationError",
          "evalue": "expected an indented block after function definition on line 1 (<ipython-input-1-2e03c1bd706b>, line 2)",
          "traceback": [
            "\u001b[0;36m  File \u001b[0;32m\"<ipython-input-1-2e03c1bd706b>\"\u001b[0;36m, line \u001b[0;32m2\u001b[0m\n\u001b[0;31m    f()\u001b[0m\n\u001b[0m    ^\u001b[0m\n\u001b[0;31mIndentationError\u001b[0m\u001b[0;31m:\u001b[0m expected an indented block after function definition on line 1\n"
          ]
        }
      ]
    },
    {
      "cell_type": "markdown",
      "source": [
        "Here’s an example that uses do_twice to call a function named print_spam twice."
      ],
      "metadata": {
        "id": "5NCIipllyl4M"
      }
    },
    {
      "cell_type": "code",
      "source": [
        "def print_spam():\n",
        "    print('spam')"
      ],
      "metadata": {
        "id": "Tvd9pQ_4gfJp"
      },
      "execution_count": null,
      "outputs": []
    },
    {
      "cell_type": "code",
      "source": [
        "do_twice(print_spam)\n"
      ],
      "metadata": {
        "id": "liCwUqOmUM4r"
      },
      "execution_count": null,
      "outputs": []
    },
    {
      "cell_type": "markdown",
      "source": [
        "\n",
        "1. Type this example into a script and test it.\n",
        "2. Modify do_twice so that it takes two arguments, a function object and a value, and calls the\n",
        "function twice, passing the value as an argument.\n",
        "3. Copy the definition of print_twice from earlier in this chapter to your script.\n",
        "4. Use the modified version of do_twice to call print_twice twice, passing 'spam' as an\n",
        "argument.\n",
        "5. Define a new function called do_four that takes a function object and a value and calls the\n",
        "function four times, passing the value as a parameter. There should be only two statements in\n",
        "the body of this function, not four.\n",
        "\n"
      ],
      "metadata": {
        "id": "fJ6CDEscURxi"
      }
    },
    {
      "cell_type": "code",
      "source": [
        "# çözüm:\n",
        "from __future__ import print_function, division\n",
        "\n",
        "\n",
        "def do_twice(func, arg):\n",
        "    \"\"\"Runs a function twice.\n",
        "\n",
        "    func: function object\n",
        "    arg: argument passed to the function\n",
        "    \"\"\"\n",
        "    func(arg)\n",
        "    func(arg)\n",
        "\n",
        "\n",
        "def print_twice(arg):\n",
        "    \"\"\"Prints the argument twice.\n",
        "\n",
        "    arg: anything printable\n",
        "    \"\"\"\n",
        "    print(arg)\n",
        "    print(arg)\n",
        "\n",
        "\n",
        "def do_four(func, arg):\n",
        "    \"\"\"Runs a function four times.\n",
        "\n",
        "    func: function object\n",
        "    arg: argument passed to the function\n",
        "    \"\"\"\n",
        "    do_twice(func, arg)\n",
        "    do_twice(func, arg)\n",
        "\n",
        "\n",
        "do_twice(print, 'spam')\n",
        "print('')\n",
        "\n",
        "do_four(print, 'spam')"
      ],
      "metadata": {
        "id": "-pPcm6bGzc9W",
        "outputId": "60c58b5d-fbf9-4a96-edb0-35268b63480f",
        "colab": {
          "base_uri": "https://localhost:8080/"
        }
      },
      "execution_count": 3,
      "outputs": [
        {
          "output_type": "stream",
          "name": "stdout",
          "text": [
            "spam\n",
            "spam\n",
            "\n",
            "spam\n",
            "spam\n",
            "spam\n",
            "spam\n"
          ]
        }
      ]
    }
  ],
  "metadata": {
    "colab": {
      "name": "Colaboratory'ye Hoş Geldiniz",
      "toc_visible": true,
      "provenance": []
    },
    "kernelspec": {
      "display_name": "Python 3",
      "name": "python3"
    }
  },
  "nbformat": 4,
  "nbformat_minor": 0
}
