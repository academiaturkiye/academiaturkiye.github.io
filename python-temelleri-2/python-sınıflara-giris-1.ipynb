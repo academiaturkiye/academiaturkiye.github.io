{
  "cells": [
    {
      "cell_type": "markdown",
      "source": [
        "**CLASS**\n",
        "\n",
        "**2020_Book_IntroductionToScientificProgra.pdf** s 115\n",
        "\n",
        "Bu bölümde, programlamada temel bir kavram olan sınıfları tanıtacağız. Çoğu modern programlama dili sınıfları veya benzer kavramları destekler ve bu kitapta daha önce sınıflarla karşılaşmıştık. Örneğin, Bölüm 2'de bir değişkenin türünü tür fonksiyonuyla nasıl kontrol edebileceğimizi ve çıktının <class 'int'>, <class 'float'> vb. biçiminde olacağını hatırlayın. Bu, basitçe bir nesnenin türünün bir sınıf biçiminde tanımlandığını belirtir. Örneğin, programımızda bir tamsayı değişkeni her oluşturduğumuzda, int sınıfının bir nesnesini veya örneğini oluştururuz. Sınıf, nesnelerin nasıl davrandığını ve hangi yöntemleri içerdiğini tanımlar. Liste nesneleri için append yöntemi ve dizeler için split yöntemi gibi nesnelere bağlı çok sayıda farklı yöntem kullandık. Bu tür tüm yöntemler, nesnenin ait olduğu sınıfın tanımının bir parçasıdır. Şimdiye kadar, nesneleri oluşturmak için yalnızca Python'un yerleşik sınıflarını kullandık, ancak bu bölümde kendi sınıflarımızı yazacağız ve bunları belirli ihtiyaçlarımıza göre uyarlanmış nesneler oluşturmak için kullanacağız.\n"
      ],
      "metadata": {
        "id": "gturV6J8eWOo"
      }
    },
    {
      "cell_type": "markdown",
      "source": [
        "**Sınıfların Temelleri**\n",
        "\n",
        "Bir sınıf, verileri ve işlevleri tek bir birimde bir araya getirir. Önceki bölümlerde görüldüğü gibi, bir sınıfa veya nesneye bağlı işlevlere genellikle yöntem denir ve bu bölümde bu gösterime bağlı kalacağız. Sınıflar, doğal olarak birbirine ait olan değişken ve işlev koleksiyonları olan modüllerle bazı benzerliklere sahiptir. Ancak, bir modülün yalnızca tek bir örneği olabilirken, bir sınıfın birden fazla örneğini oluşturabiliriz. Aynı sınıfın farklı örnekleri farklı veriler içerebilir, ancak hepsi aynı şekilde davranır ve aynı yöntemlere sahiptir. int gibi temel bir Python sınıfını düşünün; bir programda birçok tamsayı değişkeni oluşturabiliriz ve bunların açıkça farklı değerleri (verileri) vardır, ancak hepsinin aynı genel davranışa ve onlar için tanımlanmış aynı işlem kümesine sahip olduğunu biliyoruz. Aynısı listeler ve dizeler gibi daha karmaşık Python sınıfları için de geçerlidir; farklı nesneler farklı veriler içerir, ancak hepsi aynı yöntemlere sahiptir. Bu bölümde oluşturduğumuz sınıflar tam olarak aynı şekilde davranır."
      ],
      "metadata": {
        "id": "RIGiJuCli8zs"
      }
    },
    {
      "cell_type": "markdown",
      "source": [
        "**İlk örnek: Bir fonksiyonu temsil eden bir sınıf.**\n",
        "\n",
        "Tanıdık bir örnekle başlamak için, atmosfer basıncını p'yi irtifa h'nin bir fonksiyonu olarak hesaplayan formüle geri dönüyoruz. Kullandığımız formül, aşağıdaki şekilde verilen daha genel bir barometrik formülün basitleştirilmiş halidir:\n",
        "\n",
        "\n",
        "![MM.JPG](data:image/jpeg;base64,/9j/4AAQSkZJRgABAQEAYABgAAD/4REYRXhpZgAATU0AKgAAAAgABAE7AAIAAAAaAAAISodpAAQAAAABAAAIZJydAAEAAAA0AAAQ3OocAAcAAAgMAAAAPgAAAAAc6gAAAAgAAAAAAAAAAAAAAAAAAAAAAAAAAAAAAAAAAAAAAAAAAAAAAAAAAAAAAAAAAAAAAAAAAAAAAAAAAAAAAAAAAAAAAAAAAAAAAAAAAAAAAAAAAAAAAAAAAAAAAAAAAAAAAAAAAAAAAAAAAAAAAAAAAAAAAAAAAAAAAAAAAAAAAAAAAAAAAAAAAAAAAAAAAAAAAAAAAAAAAAAAAAAAAAAAAAAAAAAAAAAAAAAAAAAAAAAAAAAAAAAAAAAAAAAAAAAAAAAAAAAAAAAAAAAAAAAAAAAAAAAAAAAAAAAAAAAAAAAAAAAAAAAAAAAAAAAAAAAAAAAAAAAAAAAAAAAAAAAAAAAAAAAAAAAAAAAAAAAAAAAAAAAAAAAAAAAAAAAAAAAAAAAAAAAAAAAAAAAAAAAAAAAAAAAAAAAAAAAAAAAAAAAAAAAAAAAAAAAAAAAAAAAAAAAAAAAAAAAAAAAAAAAAAAAAAAAAAAAAAAAAAAAAAAAAAAAAAAAAAAAAAAAAAAAAAAAAAAAAAAAAAAAAAAAAAAAAAAAAAAAAAAAAAAAAAAAAAAAAAAAAAAAAAAAAAAAAAAAAAAAAAAAAAAAAAAAAAAAAAAAAAAAAAAAAAAAAAAAAAAAAAAAAAAAAAAAAAAAAAAAAAAAAAAAAAAAAAAAAAAAAAAAAAAAAAAAAAAAAAAAAAAAAAAAAAAAAAAAAAAAAAAAAAAAAAAAAAAAAAAAAAAAAAAAAAAAAAAAAAAAAAAAAAAAAAAAAAAAAAAAAAAAAAAAAAAAAAAAAAAAAAAAAAAAAAAAAAAAAAAAAAAAAAAAAAAAAAAAAAAAAAAAAAAAAAAAAAAAAAAAAAAAAAAAAAAAAAAAAAAAAAAAAAAAAAAAAAAAAAAAAAAAAAAAAAAAAAAAAAAAAAAAAAAAAAAAAAAAAAAAAAAAAAAAAAAAAAAAAAAAAAAAAAAAAAAAAAAAAAAAAAAAAAAAAAAAAAAAAAAAAAAAAAAAAAAAAAAAAAAAAAAAAAAAAAAAAAAAAAAAAAAAAAAAAAAAAAAAAAAAAAAAAAAAAAAAAAAAAAAAAAAAAAAAAAAAAAAAAAAAAAAAAAAAAAAAAAAAAAAAAAAAAAAAAAAAAAAAAAAAAAAAAAAAAAAAAAAAAAAAAAAAAAAAAAAAAAAAAAAAAAAAAAAAAAAAAAAAAAAAAAAAAAAAAAAAAAAAAAAAAAAAAAAAAAAAAAAAAAAAAAAAAAAAAAAAAAAAAAAAAAAAAAAAAAAAAAAAAAAAAAAAAAAAAAAAAAAAAAAAAAAAAAAAAAAAAAAAAAAAAAAAAAAAAAAAAAAAAAAAAAAAAAAAAAAAAAAAAAAAAAAAAAAAAAAAAAAAAAAAAAAAAAAAAAAAAAAAAAAAAAAAAAAAAAAAAAAAAAAAAAAAAAAAAAAAAAAAAAAAAAAAAAAAAAAAAAAAAAAAAAAAAAAAAAAAAAAAAAAAAAAAAAAAAAAAAAAAAAAAAAAAAAAAAAAAAAAAAAAAAAAAAAAAAAAAAAAAAAAAAAAAAAAAAAAAAAAAAAAAAAAAAAAAAAAAAAAAAAAAAAAAAAAAAAAAAAAAAAAAAAAAAAAAAAAAAAAAAAAAAAAAAAAAAAAAAAAAAAAAAAAAAAAAAAAAAAAAAAAAAAAAAAAAAAAAAAAAAAAAAAAAAAAAAAAAAAAAAAAAAAAAAAAAAAAAAAAAAAAAAAAAAAAAAAAAAAAAAAAAAAAAAAAAAAAAAAAAAAAAAAAAAAAAAAAAAAAAAAAAAAAAAAAAAAAAAAAAAAAAAAAAAAAAAAAAAAAAAAAAAAAAAAAAAAAAAAAAAAAAAAAAAAAAAAAAAAAAAAAAAAAAAAAAAAAAAAAAAAAAAAAAAAAAAAAAAAAAAAAAAAAAAAAAAAAAAAAAAAAAAAAAAAAAAAAAAAAAAAAAAAAAAAAAAAAAAAAAAAAAAAAAAAAAAAAAAAAAAAAAAAAAAAAAAAAAAAAAAAAAAAAAAAAAAAAAAAAAAAAAAAAAAAAAAAAAAAAAAAAAAAAAAAAAAAAAAAAAAAAAAAAAAAAAAAAAAAAAAAAAAAAAAAAAAAAAAAAAAAAAAAAAAAAAAAAAAAAAAAAAAAAAAAAAAAAAAAAAAAAAAAAAAAAAAAAAAAAAAAAAAAAAAAAAAAAAAAAAAAAAAAAAAAAAAAAAAAAAAAAAAAAAAAAAAAAAAAAAAAAAAAAAAAAAAAAAAAAAAAAAAAAAAAAAAAAAAAAAAAAAAAAAAAAAAAAAAAAAAAAAAAAAAAAAAAAAAAAAAAAAAAAAAAAAAAAAAAAAAAAAAAAAAAAAAAAAAAAAAAAAAAAAAAAAAAAAAAAAAAAAAAAAAAAAAAAAAAAAAAAAAAAAAAAAAAAAAAAAAAAAAAAAAAAAAAAAAAAAAAAAAAAAAAAAAAAAAAAAAAAAAAAAAAAAAAAAAAAAAAAAAAAAAAAAAAAAAAAAAAAAAAAAAAAAAAAAAAAAAAAAAAAAAAAAAAAAAAAAAAAAAAAAAAAAAAAAAAAAAAAAAAAAAAAAAAAAAAAAAAAAAAAAAAAAAAAAAAAAAAAAAAAAAAAAAAAAAAAAAAAAAAAAAAAAAAAAAAAAAAAAAAAAAAAAAAAAAAAAAAAAAAAAAAAAAAAAAAAAAAAAAAAAAAAAAAAAAAAAAAAAAAAAAAAAAAAAAAAAAAAAAAAAAAAAAAAAAAAAAAAAAAAAAAAAAAAAAAAAAAAAAAAAAAAAAAAAAAAAAAE1laG1ldCBNZWtpbiBZSUtJTiBTYXltYW4AAAWQAwACAAAAFAAAELKQBAACAAAAFAAAEMaSkQACAAAAAzgxAACSkgACAAAAAzgxAADqHAAHAAAIDAAACKYAAAAAHOoAAAAIAAAAAAAAAAAAAAAAAAAAAAAAAAAAAAAAAAAAAAAAAAAAAAAAAAAAAAAAAAAAAAAAAAAAAAAAAAAAAAAAAAAAAAAAAAAAAAAAAAAAAAAAAAAAAAAAAAAAAAAAAAAAAAAAAAAAAAAAAAAAAAAAAAAAAAAAAAAAAAAAAAAAAAAAAAAAAAAAAAAAAAAAAAAAAAAAAAAAAAAAAAAAAAAAAAAAAAAAAAAAAAAAAAAAAAAAAAAAAAAAAAAAAAAAAAAAAAAAAAAAAAAAAAAAAAAAAAAAAAAAAAAAAAAAAAAAAAAAAAAAAAAAAAAAAAAAAAAAAAAAAAAAAAAAAAAAAAAAAAAAAAAAAAAAAAAAAAAAAAAAAAAAAAAAAAAAAAAAAAAAAAAAAAAAAAAAAAAAAAAAAAAAAAAAAAAAAAAAAAAAAAAAAAAAAAAAAAAAAAAAAAAAAAAAAAAAAAAAAAAAAAAAAAAAAAAAAAAAAAAAAAAAAAAAAAAAAAAAAAAAAAAAAAAAAAAAAAAAAAAAAAAAAAAAAAAAAAAAAAAAAAAAAAAAAAAAAAAAAAAAAAAAAAAAAAAAAAAAAAAAAAAAAAAAAAAAAAAAAAAAAAAAAAAAAAAAAAAAAAAAAAAAAAAAAAAAAAAAAAAAAAAAAAAAAAAAAAAAAAAAAAAAAAAAAAAAAAAAAAAAAAAAAAAAAAAAAAAAAAAAAAAAAAAAAAAAAAAAAAAAAAAAAAAAAAAAAAAAAAAAAAAAAAAAAAAAAAAAAAAAAAAAAAAAAAAAAAAAAAAAAAAAAAAAAAAAAAAAAAAAAAAAAAAAAAAAAAAAAAAAAAAAAAAAAAAAAAAAAAAAAAAAAAAAAAAAAAAAAAAAAAAAAAAAAAAAAAAAAAAAAAAAAAAAAAAAAAAAAAAAAAAAAAAAAAAAAAAAAAAAAAAAAAAAAAAAAAAAAAAAAAAAAAAAAAAAAAAAAAAAAAAAAAAAAAAAAAAAAAAAAAAAAAAAAAAAAAAAAAAAAAAAAAAAAAAAAAAAAAAAAAAAAAAAAAAAAAAAAAAAAAAAAAAAAAAAAAAAAAAAAAAAAAAAAAAAAAAAAAAAAAAAAAAAAAAAAAAAAAAAAAAAAAAAAAAAAAAAAAAAAAAAAAAAAAAAAAAAAAAAAAAAAAAAAAAAAAAAAAAAAAAAAAAAAAAAAAAAAAAAAAAAAAAAAAAAAAAAAAAAAAAAAAAAAAAAAAAAAAAAAAAAAAAAAAAAAAAAAAAAAAAAAAAAAAAAAAAAAAAAAAAAAAAAAAAAAAAAAAAAAAAAAAAAAAAAAAAAAAAAAAAAAAAAAAAAAAAAAAAAAAAAAAAAAAAAAAAAAAAAAAAAAAAAAAAAAAAAAAAAAAAAAAAAAAAAAAAAAAAAAAAAAAAAAAAAAAAAAAAAAAAAAAAAAAAAAAAAAAAAAAAAAAAAAAAAAAAAAAAAAAAAAAAAAAAAAAAAAAAAAAAAAAAAAAAAAAAAAAAAAAAAAAAAAAAAAAAAAAAAAAAAAAAAAAAAAAAAAAAAAAAAAAAAAAAAAAAAAAAAAAAAAAAAAAAAAAAAAAAAAAAAAAAAAAAAAAAAAAAAAAAAAAAAAAAAAAAAAAAAAAAAAAAAAAAAAAAAAAAAAAAAAAAAAAAAAAAAAAAAAAAAAAAAAAAAAAAAAAAAAAAAAAAAAAAAAAAAAAAAAAAAAAAAAAAAAAAAAAAAAAAAAAAAAAAAAAAAAAAAAAAAAAAAAAAAAAAAAAAAAAAAAAAAAAAAAAAAAAAAAAAAAAAAAAAAAAAAAAAAAAAAAAAAAAAAAAAAAAAAAAAAAAAAAAAAAAAAAAAAAAAAAAAAAAAAAAAAAAAAAAAAAAAAAAAAAAAAAAAAAAAAAAAAAAAAAAAAAAAAAAAAAAAAAAAAAAAAAAAAAAAAAAAAAAAAAAAAAAAAAAAAAAAAAAAAAAAAAAAAAAAAAAAAAAAAAAAAAAAAAAAAAAAAAAAAAAAAAAAAAAAAAAAAAAAAAAAAAAAAAAAAAAAAAAAAAAAAAAAAAAAAAAAAAAAAAAAAAAAAAAAAAAAAAAAAAAAAAAAAAAAAAAAAAAAAAAAAAAAAAAAAAAAAAAAAAAAAAAAAAAAAAAAAAAAAAAAAAAAAAAAAAAAAAAAAAAAAAAAAAAAAAAAAAAAAAAAAAAAAAAAAAAAAAAAAAAAAAAAAAAAAAAAAAAAAAAAAAAAAAAAAAAAAAAAAAAAAAAAAAAAAAAAAAAAAAAAAAAAAAAAAAAAAAAAAAAAAAAAAAAAAAAAAAAAAAAAAAAAAAAAAAAAAAAAAAAAAAAAAAAAAAAAAAAAAAAAAAAAAAAAAAAAAAAAAAAAAAAAAAAAAAAAAAAAAAAAAAAAAAAAAAAAAAAAAAAAAAAAAAAAAAAAAAAAAAAAAAAAAAAAAAAAAAAAAAAAAAAAAAAAAAAAAAAAAAAAAAAAAAAAAAAAAAAAAAAAAAAAAAAAAAAAAAAAAAAAAAAAAAAAAAAAAAAAAAAAAAAAAAAAAAAAAAAAAAAAAAAAAAAAAAAAAAAAAAAAAAAAAAAAAAAAAAAAAAAAAAAAAAAAAAAAAAAAAAAAAAAAAAAAAAAAAAAAAAAAAAAAAAAAAAAAAAAAAAAAAAAAAAAAAAAAAAAAAAAAAAAAAAAAAAAAAAAAAAAAAAAAAAAAAAAAAAAAAAAAAAAAAAAAAAAAAAAAAAAAAAAAAAAAAAAAAAAAAAAAAAAAAAAAAAAAAAAAAAAAAAAAyMDI0OjA5OjAyIDEwOjA3OjI1ADIwMjQ6MDk6MDIgMTA6MDc6MjUAAABNAGUAaABtAGUAdAAgAE0AZQBrAGkAbgAgAFkASQBLAEkATgAgAFMAYQB5AG0AYQBuAAAA/+ELLGh0dHA6Ly9ucy5hZG9iZS5jb20veGFwLzEuMC8APD94cGFja2V0IGJlZ2luPSfvu78nIGlkPSdXNU0wTXBDZWhpSHpyZVN6TlRjemtjOWQnPz4NCjx4OnhtcG1ldGEgeG1sbnM6eD0iYWRvYmU6bnM6bWV0YS8iPjxyZGY6UkRGIHhtbG5zOnJkZj0iaHR0cDovL3d3dy53My5vcmcvMTk5OS8wMi8yMi1yZGYtc3ludGF4LW5zIyI+PHJkZjpEZXNjcmlwdGlvbiByZGY6YWJvdXQ9InV1aWQ6ZmFmNWJkZDUtYmEzZC0xMWRhLWFkMzEtZDMzZDc1MTgyZjFiIiB4bWxuczpkYz0iaHR0cDovL3B1cmwub3JnL2RjL2VsZW1lbnRzLzEuMS8iLz48cmRmOkRlc2NyaXB0aW9uIHJkZjphYm91dD0idXVpZDpmYWY1YmRkNS1iYTNkLTExZGEtYWQzMS1kMzNkNzUxODJmMWIiIHhtbG5zOnhtcD0iaHR0cDovL25zLmFkb2JlLmNvbS94YXAvMS4wLyI+PHhtcDpDcmVhdGVEYXRlPjIwMjQtMDktMDJUMTA6MDc6MjUuODEwPC94bXA6Q3JlYXRlRGF0ZT48L3JkZjpEZXNjcmlwdGlvbj48cmRmOkRlc2NyaXB0aW9uIHJkZjphYm91dD0idXVpZDpmYWY1YmRkNS1iYTNkLTExZGEtYWQzMS1kMzNkNzUxODJmMWIiIHhtbG5zOmRjPSJodHRwOi8vcHVybC5vcmcvZGMvZWxlbWVudHMvMS4xLyI+PGRjOmNyZWF0b3I+PHJkZjpTZXEgeG1sbnM6cmRmPSJodHRwOi8vd3d3LnczLm9yZy8xOTk5LzAyLzIyLXJkZi1zeW50YXgtbnMjIj48cmRmOmxpPk1laG1ldCBNZWtpbiBZSUtJTiBTYXltYW48L3JkZjpsaT48L3JkZjpTZXE+DQoJCQk8L2RjOmNyZWF0b3I+PC9yZGY6RGVzY3JpcHRpb24+PC9yZGY6UkRGPjwveDp4bXBtZXRhPg0KICAgICAgICAgICAgICAgICAgICAgICAgICAgICAgICAgICAgICAgICAgICAgICAgICAgICAgICAgICAgICAgICAgICAgICAgICAgICAgICAgICAgICAgICAgICAgICAgICAgIAogICAgICAgICAgICAgICAgICAgICAgICAgICAgICAgICAgICAgICAgICAgICAgICAgICAgICAgICAgICAgICAgICAgICAgICAgICAgICAgICAgICAgICAgICAgICAgICAgICAgCiAgICAgICAgICAgICAgICAgICAgICAgICAgICAgICAgICAgICAgICAgICAgICAgICAgICAgICAgICAgICAgICAgICAgICAgICAgICAgICAgICAgICAgICAgICAgICAgICAgICAKICAgICAgICAgICAgICAgICAgICAgICAgICAgICAgICAgICAgICAgICAgICAgICAgICAgICAgICAgICAgICAgICAgICAgICAgICAgICAgICAgICAgICAgICAgICAgICAgICAgIAogICAgICAgICAgICAgICAgICAgICAgICAgICAgICAgICAgICAgICAgICAgICAgICAgICAgICAgICAgICAgICAgICAgICAgICAgICAgICAgICAgICAgICAgICAgICAgICAgICAgCiAgICAgICAgICAgICAgICAgICAgICAgICAgICAgICAgICAgICAgICAgICAgICAgICAgICAgICAgICAgICAgICAgICAgICAgICAgICAgICAgICAgICAgICAgICAgICAgICAgICAKICAgICAgICAgICAgICAgICAgICAgICAgICAgICAgICAgICAgICAgICAgICAgICAgICAgICAgICAgICAgICAgICAgICAgICAgICAgICAgICAgICAgICAgICAgICAgICAgICAgIAogICAgICAgICAgICAgICAgICAgICAgICAgICAgICAgICAgICAgICAgICAgICAgICAgICAgICAgICAgICAgICAgICAgICAgICAgICAgICAgICAgICAgICAgICAgICAgICAgICAgCiAgICAgICAgICAgICAgICAgICAgICAgICAgICAgICAgICAgICAgICAgICAgICAgICAgICAgICAgICAgICAgICAgICAgICAgICAgICAgICAgICAgICAgICAgICAgICAgICAgICAKICAgICAgICAgICAgICAgICAgICAgICAgICAgICAgICAgICAgICAgICAgICAgICAgICAgICAgICAgICAgICAgICAgICAgICAgICAgICAgICAgICAgICAgICAgICAgICAgICAgIAogICAgICAgICAgICAgICAgICAgICAgICAgICAgICAgICAgICAgICAgICAgICAgICAgICAgICAgICAgICAgICAgICAgICAgICAgICAgICAgICAgICAgICAgICAgICAgICAgICAgCiAgICAgICAgICAgICAgICAgICAgICAgICAgICAgICAgICAgICAgICAgICAgICAgICAgICAgICAgICAgICAgICAgICAgICAgICAgICAgICAgICAgICAgICAgICAgICAgICAgICAKICAgICAgICAgICAgICAgICAgICAgICAgICAgICAgICAgICAgICAgICAgICAgICAgICAgICAgICAgICAgICAgICAgICAgICAgICAgICAgICAgICAgICAgICAgICAgICAgICAgIAogICAgICAgICAgICAgICAgICAgICAgICAgICAgICAgICAgICAgICAgICAgICAgICAgICAgICAgICAgICAgICAgICAgICAgICAgICAgICAgICAgICAgICAgICAgICAgICAgICAgCiAgICAgICAgICAgICAgICAgICAgICAgICAgICAgICAgICAgICAgICAgICAgICAgICAgICAgICAgICAgICAgICAgICAgICAgICAgICAgICAgICAgICAgICAgICAgICAgICAgICAKICAgICAgICAgICAgICAgICAgICAgICAgICAgICAgICAgICAgICAgICAgICAgICAgICAgICAgICAgICAgICAgICAgICAgICAgICAgICAgICAgICAgICAgICAgICAgICAgICAgIAogICAgICAgICAgICAgICAgICAgICAgICAgICAgICAgICAgICAgICAgICAgICAgICAgICAgICAgICAgICAgICAgICAgICAgICAgICAgICAgICAgICAgICAgICAgICAgICAgICAgCiAgICAgICAgICAgICAgICAgICAgICAgICAgICAgICAgICAgICAgICAgICAgICAgICAgICAgICAgICAgICAgICAgICAgICAgICAgICAgICAgICAgICAgICAgICAgICAgICAgICAKICAgICAgICAgICAgICAgICAgICAgICAgICAgICAgICAgICAgICAgICAgICAgICAgICAgICAgICAgICAgICAgICAgICAgICAgICAgICAgICAgICAgICAgICAgICAgICAgICAgIAogICAgICAgICAgICAgICAgICAgICAgICAgICAgICAgICAgICAgICAgICAgICAgICAgICAgICAgICAgICAgICAgICAgICAgICAgICAgICAgICAgICAgICAgICAgICAgICAgICAgCiAgICAgICAgICAgICAgICAgICAgICAgICAgICA8P3hwYWNrZXQgZW5kPSd3Jz8+/9sAQwAHBQUGBQQHBgUGCAcHCAoRCwoJCQoVDxAMERgVGhkYFRgXGx4nIRsdJR0XGCIuIiUoKSssKxogLzMvKjInKisq/9sAQwEHCAgKCQoUCwsUKhwYHCoqKioqKioqKioqKioqKioqKioqKioqKioqKioqKioqKioqKioqKioqKioqKioqKioq/8AAEQgANAC/AwEiAAIRAQMRAf/EAB8AAAEFAQEBAQEBAAAAAAAAAAABAgMEBQYHCAkKC//EALUQAAIBAwMCBAMFBQQEAAABfQECAwAEEQUSITFBBhNRYQcicRQygZGhCCNCscEVUtHwJDNicoIJChYXGBkaJSYnKCkqNDU2Nzg5OkNERUZHSElKU1RVVldYWVpjZGVmZ2hpanN0dXZ3eHl6g4SFhoeIiYqSk5SVlpeYmZqio6Slpqeoqaqys7S1tre4ubrCw8TFxsfIycrS09TV1tfY2drh4uPk5ebn6Onq8fLz9PX29/j5+v/EAB8BAAMBAQEBAQEBAQEAAAAAAAABAgMEBQYHCAkKC//EALURAAIBAgQEAwQHBQQEAAECdwABAgMRBAUhMQYSQVEHYXETIjKBCBRCkaGxwQkjM1LwFWJy0QoWJDThJfEXGBkaJicoKSo1Njc4OTpDREVGR0hJSlNUVVZXWFlaY2RlZmdoaWpzdHV2d3h5eoKDhIWGh4iJipKTlJWWl5iZmqKjpKWmp6ipqrKztLW2t7i5usLDxMXGx8jJytLT1NXW19jZ2uLj5OXm5+jp6vLz9PX29/j5+v/aAAwDAQACEQMRAD8A+kaKKKACiiigAooooAKKKKACiiigAooooAKKKKACiiigAooooAKKKge8gjvorN3xPMjyRpg8qpUMc9ONy/nQBPRRRQAUUUUAFFFFABRXI+I/GVxoet2NrBpj3kd1epp6KsoRnleMyZAK4KqAMnI+8fTm3pfiSV/GFz4Z1SFEvo7NL+N4Zd6NEzlCv3VIKkenIIPtQtdv66/lqD0/r5fmdHRXP+I/EGp6Ncwx6b4fuNVSRCzPE5AQ56cKaxv+E58Rf9CNff8Af1v/AI3QB3NFZmgand6tpv2jUNMl0yXeV8iViTgY55A/lWJ4j8ZXGh63Y2sGmPeR3V6mnoqyhGeV4zJkArgqoAycj7x9OTrYOlzrqK5SHxlHYeINQ0bxH5NrLZ2A1MzpLvj8ksVIPyqQVIx05BH0rWsfEVnfX6WRS4tbmSIzRRXUJjMsYIBZc9cZGR1GRkDNH9f19zDb+v67mrWN4i8XaH4Uihk1+/W0E7FYx5buWx14UE496oT+LDe6/qGjaJHG7aYinUL6eYRw2zMMqg+U7mxyRwAOpzxWtot8uuaJbX81uqeaCQpO8HBI3KcDKnGQcDIIo3V0Gz1Ocj+L/geWRY4taLu5Cqq2c5JJ6AfJW/4mmjTwrqDyQpOGgKpFKm5XduEUqfViBitIW8IORDGCOh2isrxBpOo6stpHYahbWkMNxHPKk1o0xl2MGVQRIu0ZA7GhpNWYJtO5y3w7kHhvQdb0Ni8zaRq8ttbxlss6yBZI1GfXzPwwfSk8Aaeuo+MPFPiG/CXNwl8LGCZlz5flRgSeXn7o3sy8dlGa6CLwl9l8T6trtnehbrUFiKRzQ74oXRNhfaGBYlcDqMD6mjwloE3g7ws9leXq6i0ck1w88Nq0bSF2LtldzZbJPT2GKL/afb/L/J/eFtLLv/n/AMAp6j8QrWz0y/1W1sJr3TdPufsks8TqGlm3hCsSn74DkKSSOc4zis7xeft3xU8JWVrYrd3FlHcag54XYAojTc+CVXc5PAOSo4NYdppP28eGdB8P3L3OiLqJ1W6ja0KvbxhmmWOZ9xG/zGUbcBuOeld/F4bZPFeq6414TLe2cVpAojwbZE3EkHPJLPnoOgo1ST7f5f5ho7pf1r/kWPDevReJNFXUIYWhHnSwMjHOGjkZGwe4ypwfT0qjov8AxNfE+qayeYbc/wBnWh7YQ5lYfWT5f+2QrOs9OuPh/wCAWtorsXtzDFHa2aiMorzMdqEjJ+ZpH3Mc9/aum0XS00XQ7TToWLC3iCF26u38TH3JyT9afW6/r+v1Dpb+v6/yOB8Txafqvxo0yC80z7bDpelS3Nysdp5xkaRtkauADkAK5APc0nh3SZPEeoa3e6FL/Y/hu8gWwFgnyOJVkImk8tTiFtuUxw3cgYFdPoHha+0rxZrWuahqdveyaqIlMcdm0XlCNdqqCZG45Ynjqah8JeEtR8LQ31tHqkU8E93cXaM9ud7SStuG/wCbkL04xn2pR0ST7P8AF7fc/wAAe+ndfl/mvxOcl8OaLd/Gaw0m00qzSw0jSXubmJYV2yySuEjD8fNgKxGc+td1oWgW2gfb0sUSKC6ujcJDGu1Ysoq7QO3Kk8etZXh/wpqWkeLdY1y+1a1vH1YxebGli0RjWNNqKrGVuOSTkHJJrqqFol/W7uHV/wBdLBRRRQB534hupr3406HbwWcl5BodhNfTpCRuR5v3SHBIyQA/Gc85rW8M+HbweLtY8Wa1H5F5qCJbW1ruDG2tk6BiMjczEscEgcDJrQ07wjaaZ4nvdeivL6S8vlVLgSyhkZVzsGNvAXJxj8c1vULRLvr+L/y0B6t9tPw/4OpmarpV5qEsb2mv6jpaquCloluwf3PmxOc/QiqH/CM6r/0O2vf9+bH/AORq6KigCpptlPYWnk3WpXWpPuJ8+6WJXx6fu0RcfhmuG8Q3U178adDt4LOS8g0Owmvp0hI3I837pDgkZIAfjOec16JWDp3hG00zxPe69FeX0l5fKqXAllDIyrnYMbeAuTjH45o+0n/WwfZa/rc868b+GtROgeKPF2qxGG7vWtIo7QMGNtZRTozBiMjc3zM2CQBxk11niYSTfFTwQLXkxi+ll29ovKVcn23FfxxXayRpNE0cqLJG4KsjDIYHqCKpafoemaVIz6dYw27soQsi8hR0UHso7AcChaaf1t/T+8Hrr/X9f8A43QvC48Pa14hkv/D39qyahqj39rdpHE5Kuq/IS7AqVIPXjGCO4rurI3bWaNqCRR3ByWSFiyrzwMnrgY5wM+lT0ULRJdg63CiiigAooooAKKKKAEKhsbgDg5GRS0UUAFFFFABSHOPlxn3paKHqAUUUUAFFFFABRRRQAUUUUAFFFFABRRRQAUUUUAFFFFABRRRQAUUUUAFFFFABRRRQB//Z)\n",
        "\n",
        "Burada M havanın mol kütlesi, g yer çekimi sabiti, R gaz sabiti, T sıcaklık ve p0 deniz seviyesindeki basınçtır.Daha önce kullanılan daha basit formülü, ölçek yüksekliğini h0 = RT/Mg olarak tanımlayarak elde ederiz. Yukarıdaki eşitliği farklı sıcaklıklar için değerlendirmek ve her T değeri için basıncın irtifaya göre nasıl değiştiğini gösteren bir tablo veya grafik oluşturmak ilginç olabilir. Her T değeri için, h'nin farklı değerleriyle fonksiyonu birçok kez çağırmamız gerekir. Bunu uygun bir şekilde nasıl uygulamalıyız? Olası bir çözüm, hem h hem de T'yi argüman olarak kullanmaktır:"
      ],
      "metadata": {
        "id": "-iMQobRSjqnO"
      }
    },
    {
      "cell_type": "code",
      "source": [
        "from math import exp\n",
        "def barometric(h, T):\n",
        "    g = 9.81 #m/(s*s)\n",
        "    R = 8.314 #J/(K*mol)\n",
        "    M = 0.02896 #kg/mol\n",
        "    p0 = 100.0 #kPa\n",
        "    return p0 * exp(-M*g*h/(R*T))"
      ],
      "metadata": {
        "id": "0nym69u2eYyg"
      },
      "execution_count": 12,
      "outputs": []
    },
    {
      "cell_type": "markdown",
      "source": [
        "Bu çözüm açıkça işe yarıyor, ancak fonksiyonu aynı T değeri için birçok kez çağırmak istiyorsak, her çağrıldığında onu yine de bir argüman olarak geçirmemiz gerekiyor. Ancak, fonksiyon yalnızca tek bir argüman almasını bekleyen başka bir fonksiyona argüman olarak geçirilecekse ne olur? Bu durumda, iki argümanlı fonksiyonumuz çalışmayacaktır. Kısmi bir çözüm, T argümanı için varsayılan bir değer eklemek olurdu, ancak farklı bir T değeri istiyorsak yine de bir sorun yaşardık."
      ],
      "metadata": {
        "id": "gzFOKCidmtzU"
      }
    },
    {
      "cell_type": "markdown",
      "source": [
        "Başka bir çözüm ise h'yi tek argüman, T'yi ise global değişken olarak kullanmak olabilir:"
      ],
      "metadata": {
        "id": "YDJeqM8Pm7a6"
      }
    },
    {
      "cell_type": "code",
      "source": [
        "T = 245.0\n",
        "def barometric(h):\n",
        "    g = 9.81 #m/(s*s)\n",
        "    R = 8.314 #J/(K*mol)\n",
        "    M = 0.02896 #kg/mol\n",
        "    p0 = 100.0 #kPa\n",
        "    return p0 * exp(-M*g*h/(R*T))"
      ],
      "metadata": {
        "id": "RroJimYinBY1"
      },
      "execution_count": 1,
      "outputs": []
    },
    {
      "cell_type": "markdown",
      "source": [
        "Şimdi tek bir argüman alan bir fonksiyonumuz var, ancak T'yi küresel bir değişken olarak tanımlamak, y(t)'yi farklı T değerleri için değerlendirmek istiyorsak çok kullanışlı değil. Ayrıca T'yi fonksiyon içinde yerel bir değişken olarak ayarlayabilir ve farklı T değerleri için barometric1(h), barometric2(h) vb. gibi farklı fonksiyonlar tanımlayabiliriz, ancak bu, T'nin birçok değerini istiyorsak açıkça elverişsizdir. Ancak, sınıflar ve nesnelerle programlamanın tam olarak ihtiyacımız olan şeyi sunduğunu göreceğiz: Hepsi kendi T değerine sahip benzer fonksiyonlardan oluşan bir aile oluşturmak için kullanışlı bir çözüm."
      ],
      "metadata": {
        "id": "9-5Shrldnw6f"
      }
    },
    {
      "cell_type": "code",
      "source": [
        "class Barometric:\n",
        "    def __init__(self, T):\n",
        "        self.T = T #K\n",
        "        self.g = 9.81 #m/(s*s)\n",
        "        self.R = 8.314 #J/(K*mol)\n",
        "        self.M = 0.02896 #kg/mol\n",
        "        self.p0 = 100.0 #kPa\n",
        "    def value(self, h):\n",
        "        return self.p0 * exp(-self.M*self.g*h/(self.R*self.T))"
      ],
      "metadata": {
        "id": "QQcbCykHsXFD"
      },
      "execution_count": null,
      "outputs": []
    },
    {
      "cell_type": "markdown",
      "source": [
        "Bu sınıfı tanımladıktan sonra, T parametresinin belirli değerlerine sahip sınıfın örneklerini oluşturabiliriz ve daha sonra h'yi tek argüman olarak kullanarak value metodunu çağırabiliriz:"
      ],
      "metadata": {
        "id": "L6NRXCxvs_0c"
      }
    },
    {
      "cell_type": "code",
      "source": [
        "b1 = Barometric(T=245) # create instance (object)\n",
        "p1 = b1.value(2469) # compute function value\n",
        "b2 = Barometric(T=273)\n",
        "p2 = b2.value(2469)"
      ],
      "metadata": {
        "id": "_nVGIiygtAya"
      },
      "execution_count": null,
      "outputs": []
    },
    {
      "cell_type": "markdown",
      "source": [
        "Bu kod parçaları, incelemeye değer bir dizi yeni kavram sunar. Öncelikle, Python'da her zaman sınıf kelimesiyle başlayan, ardından sınıfın adı ve iki nokta üst üste gelen bir sınıf tanımımız var. Aşağıdaki girintili kod bloğu, sınıfın içeriğini tanımlar. Fonksiyonları uygularken alıştığımız gibi, girinti, sınıf tanımının içinde neyin yer aldığını tanımlar. Sınıfımızın ve çoğu sınıfın ilk içeriği, sınıfın kurucusu olarak adlandırılan __init__ özel adlı bir yöntemdir. Bu yöntem, yukarıdaki b1 = Barometric(T=245) satırında olduğu gibi, sınıfta bir örnek oluşturduğumuz her seferinde otomatik olarak çağrılır.Yöntemin içerisinde formülde kullanılan tüm sabitleri tanımlıyoruz – self.T, self.g, vb. – burada self öneki, bu değişkenlerin oluşturulan nesneye bağlanacağı anlamına gelir. Bu tür bağlı değişkenlere öznitelikler denir. Son olarak, formülü önceden tanımlanmış ve nesneye bağlı self.T, self.g, self.R, self.M ve self.p0 parametrelerini kullanarak değerlendiren yöntem değerini tanımlarız. Sınıfı tanımladıktan sonra, her seferinde şu şekilde bir satır yazdığımızda\n",
        "\n",
        "b1 = Barometric(T=245)\n",
        "\n",
        "Barometric türünde yeni bir değişken (örnek) b1 oluşturuyoruz. Satır normal bir fonksiyon çağrısı gibi görünüyor, ancak Barometric bir sınıfın tanımı olduğundan ve bir fonksiyon olmadığından, Barometric(T=245) bunun yerine sınıfın kurucusuna bir çağrıdır.\n",
        "\n",
        "Oluşturucu, belirtilen parametre değerlerine sahip sınıfın bir örneğini oluşturur ve döndürür ve bu örneği b değişkenine atarız. Bu kitapta karşılaştığımız tüm __init__ işlevleri tam olarak aynı tarifi izleyecektir. Amaçları sınıf için bir dizi öznitelik tanımlamaktır ve genellikle self.A = A biçiminde bir veya daha fazla satır içereceklerdir, burada A, oluşturucuya geçirilen bir argüman veya içinde tanımlanan bir değerdir."
      ],
      "metadata": {
        "id": "Jy6J96YfuMwF"
      }
    },
    {
      "cell_type": "markdown",
      "source": [
        "Programlamada her zaman olduğu gibi, aynı şeyi başarmanın farklı yolları vardır ve yukarıdaki sınıfın farklı bir uygulamasını seçebilirdik. Oluşturucuya tek argüman T olduğundan, diğer nitelikler asla değişmez ve value metodunun içindeki yerel değişkenler olabilirlerdi:"
      ],
      "metadata": {
        "id": "W8ay9cy6vzXk"
      }
    },
    {
      "cell_type": "code",
      "source": [
        "class Barometric1:\n",
        "    def __init__(self, T):\n",
        "        self.T = T #K\n",
        "    def value(self, h):\n",
        "        g = 9.81; R = 9.314\n",
        "        M = 0.02896; p0 = 100.0\n",
        "        return p0 * exp(-M*g*h/(R*self.T))"
      ],
      "metadata": {
        "id": "VI8ZcyqBwrF0"
      },
      "execution_count": null,
      "outputs": []
    },
    {
      "cell_type": "markdown",
      "source": [
        "Değer yönteminin içinde, sınıf niteliği olan tek değişken olduğu için T için yalnızca self önekini kullandığımızı fark edin. Sınıfın bu sürümünde diğer değişkenler, yöntem içinde tanımlanan düzenli yerel değişkenlerdir. Bu sınıf, yukarıda tanımlanan sınıfla tam olarak aynı şeyi yapar ve bu uygulamanın daha iyi olduğu, çünkü yukarıdakinden daha kısa ve daha basit olduğu söylenebilir. Ancak, tüm fiziksel sabitleri tek bir yerde (oluşturucuda) tanımlamak, kodun okunmasını kolaylaştırabilir ve sınıfın daha fazla yöntemle genişletilmesini kolaylaştırabilir. Üçüncü olası uygulama olarak, hesaplamaların bir kısmını değer yönteminden oluşturucuya taşıyabiliriz:"
      ],
      "metadata": {
        "id": "sMDtpxhdxQ-B"
      }
    },
    {
      "cell_type": "code",
      "source": [
        "class Barometric2:\n",
        "    def __init__(self, T):\n",
        "        g = 9.81 #m/(s*s)\n",
        "        R = 8.314 #J/(K*mol)\n",
        "        M = 0.02896 #kg/mol\n",
        "        self.h0 = R*T/(M*g)\n",
        "        self.p0 = 100.0 #kPa\n",
        "    def value(self, h):\n",
        "        return self.p0 * exp(-h/self.h0)"
      ],
      "metadata": {
        "id": "qdkuMDMuxSQP"
      },
      "execution_count": null,
      "outputs": []
    },
    {
      "cell_type": "markdown",
      "source": [
        "Bu sınıfta, ölçek yüksekliğinin yukarıdaki tanımını kullanırız ve bu değeri oluşturucunun içinde bir öznitelik olarak hesaplayıp depolarız. Daha sonra self.h0 özniteliği value yönteminin içinde kullanılır. Bu durumda g, R ve M sabitlerinin oluşturucudaki yerel değişkenler olduğunu ve ne bunların ne de T'nin öznitelik olarak depolanmadığını fark edin. Bunlara yalnızca oluşturucunun içinde erişilebilirken, self.p0 ve self.h0 depolanır ve daha sonra diğer yöntemlerden erişilebilir."
      ],
      "metadata": {
        "id": "cuiOIgg0yl9S"
      }
    },
    {
      "cell_type": "markdown",
      "source": [
        "Bu noktada, birçok kişi self değişkeni ve __init__ ve value yöntemlerini tanımladığımızda iki argüman almaları, ancak onları çağırdığımızda yalnızca bir argüman almaları gerçeğiyle karıştırılacaktır. Bu davranışın açıklaması, self'in nesnenin kendisini temsil etmesi ve nesneye bağlı bir yöntemi çağırdığımızda otomatik olarak ilk argüman olarak geçirilmesidir.\n",
        "\n",
        "p1 = b1.value(2469) yazdığımızda p1 = Barometric.value(b1,2469) çağrısına eşdeğerdir.\n",
        "\n",
        "Burada Barometric sınıfına ait olan değer yöntemini açıkça çağırıyoruz ve b1 örneğini ilk argüman olarak geçiriyoruz. Yöntemin içinde b1, bir fonksiyona argüman geçirirken her zamanki gibi yerel değişken self olur ve onun T, g vb. niteliklerine erişebiliriz. Aynı şey b1.value(2469) çağırdığımızda da olur, ancak şimdi b1 nesnesi otomatik olarak yönteme ilk argüman olarak geçirilir. Yöntemi tek bir argümanla çağırıyormuşuz gibi görünür, ancak gerçekte iki argüman alır.\n",
        "\n",
        "Python sınıflarında self değişkeninin kullanımı birçok tartışmanın konusu olmuştur. Deneyimli programcılar bile bunu kafa karıştırıcı bulmaktadır ve birçoğu dilin neden bu şekilde tasarlandığını sorgulamıştır. Yaklaşımın bazı bariz avantajları vardır, örneğin, örnek nitelikleri (self önekiyle) ve bir yöntem içinde tanımlanan yerel değişkenler arasında çok açık bir şekilde ayrım yapar. Ancak, self değişkeninin arkasındaki mantığı anlamakta zorlanıyorsanız, aşağıdaki iki kuralı hatırlamak yeterlidir: (i) self her zaman bir yöntem tanımındaki ilk argümandır, ancak yöntem çağrıldığında asla eklenmez ve (ii) bir yöntem içindeki bir niteliğe erişmek için niteliğe self önekinin eklenmesi gerekir.\n",
        "\n",
        "Barometrik fonksiyonumuz için bir sınıf oluşturmanın bir avantajı, artık tek bir argüman alan bir fonksiyon argümanı f bekleyen herhangi bir başka fonksiyona argüman olarak b1.value gönderebilmemizdir. Örneğin, make_table fonksiyonunun kendisine geçirilen herhangi bir fonksiyon için fonksiyon değerlerinin bir tablosunu yazdırdığı aşağıdaki küçük örneği ele alalım:\n",
        "\n"
      ],
      "metadata": {
        "id": "HZHvYtW7yr26"
      }
    },
    {
      "cell_type": "code",
      "source": [
        "from math import sin, exp, pi\n",
        "from numpy import linspace\n",
        "\n",
        "def make_table(f, tstop, n):\n",
        "    for t in linspace(0, tstop, n):\n",
        "        print(t, f(t))\n",
        "def g(t):\n",
        "    return sin(t)*exp(-t)\n",
        "make_table(g, 2*pi, 11) # send ordinary function\n",
        "\n",
        "b1 = Barometric(2469)\n",
        "make_table(b1.value, 2*pi, 11) # send class method"
      ],
      "metadata": {
        "id": "35tJaaMUzRRW"
      },
      "execution_count": null,
      "outputs": []
    },
    {
      "cell_type": "markdown",
      "source": [
        "f(t)'nin fonksiyon içinde nasıl kullanıldığı nedeniyle, make_table'a tek bir argüman alan bir fonksiyon göndermemiz gerekir. b1.value yöntemimiz bu gereksinimi karşılar, ancak yine de birden fazla örnek oluşturarak T'nin farklı değerlerini kullanabiliriz."
      ],
      "metadata": {
        "id": "c7EgGBC2zZ1r"
      }
    },
    {
      "cell_type": "markdown",
      "source": [
        "**Daha genel Python sınıfları**\n",
        "\n",
        "Elbette, Python sınıfları matematiksel fonksiyonların gösteriminden çok daha genel uygulanabilirliğe sahiptir. Genel bir Python sınıf tanımı, yukarıdaki örnekte özetlenen tarifi şu şekilde takip eder:"
      ],
      "metadata": {
        "id": "SLzTuSPE6cdO"
      }
    },
    {
      "cell_type": "code",
      "source": [
        "class MyClass:\n",
        "    def __init__(self, p1, p2,...):\n",
        "        self.attr1 = p1\n",
        "        self.attr2 = p2\n",
        "...\n",
        "    def method1(self, arg):\n",
        "    #access attributes with self prefix\n",
        "        result = self.attr1 + ...\n",
        "    ...\n",
        "    #create new attributes if desired\n",
        "    self.attrx = arg\n",
        "    ...\n",
        "    return result\n",
        "    def method2(self):\n",
        "    ...\n",
        "    print(...)"
      ],
      "metadata": {
        "id": "zYtocwn86iN4"
      },
      "execution_count": null,
      "outputs": []
    },
    {
      "cell_type": "markdown",
      "source": [
        "Sınıfın içinde, argümanlarla veya argümansız istediğimiz kadar çok yöntem tanımlayabiliriz. Sınıfın bir örneğini oluşturduğumuzda, yöntemler örneğe bağlanır ve örneğin, m, MyClass'ın bir örneğiyse, m.method2() önekiyle erişilir. Niteliklerin başlatıldığı bir oluşturucuya sahip olmak yaygındır, ancak bu bir gereklilik değildir. Nitelikler istendiğinde tanımlanabilir, örneğin, yukarıdaki örnekte self.attrx = arg satırında olduğu gibi bir yöntemin içinde veya hatta sınıfın dışından:\n",
        "\n",
        "m = MyClass(p1,p2, ...)\n",
        "\n",
        "m.new_attr = p3\n",
        "\n",
        "Buradaki ikinci satır, MyClass'ın m örneği için yeni bir new_attr niteliği oluşturur. Niteliklerin bu şekilde eklenmesi tamamen geçerlidir, ancak aynı sınıfın örneklerinin farklı niteliklere sahip olmasıyla sonuçlanabileceğimizden nadiren iyi bir programlama uygulamasıdır. Bir sınıfı her zaman bir oluşturucuyla donatmak ve nitelikleri öncelikle oluşturucunun içinde tanımlamak iyi bir alışkanlıktır."
      ],
      "metadata": {
        "id": "J4-N-yI37B4Z"
      }
    },
    {
      "cell_type": "code",
      "source": [],
      "metadata": {
        "id": "C6b-8gxV7C89"
      },
      "execution_count": null,
      "outputs": []
    }
  ],
  "metadata": {
    "colab": {
      "name": "Colaboratory'ye Hoş Geldiniz",
      "toc_visible": true,
      "provenance": []
    },
    "kernelspec": {
      "display_name": "Python 3",
      "name": "python3"
    }
  },
  "nbformat": 4,
  "nbformat_minor": 0
}