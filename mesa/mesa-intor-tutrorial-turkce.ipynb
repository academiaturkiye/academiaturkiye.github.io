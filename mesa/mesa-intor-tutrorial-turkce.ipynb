{
  "cells": [
    {
      "cell_type": "markdown",
      "source": [
        "#MESA TUTORİAL: The Boltzmann Wealth Model\n",
        "\n",
        "https://www.youtube.com/watch?v=g2MIld_q894&t=3337s\n",
        "\n",
        "https://mesa.readthedocs.io/en/stable/tutorials/intro_tutorial.html\n",
        "\n",
        "Mesa, ajan tabanlı modelleme için bir Python çerçevesidir. Bu eğitim, başlamanıza yardımcı olacaktır. Eğitim boyunca çalışmak, Mesa'nın temel özelliklerini keşfetmenize yardımcı olacaktır. Eğitim boyunca, başlangıç ​​seviyesinde bir model oluşturma konusunda yönlendirilirsiniz. İşlevsellik, süreç ilerledikçe kademeli olarak eklenir.\n",
        "\n",
        "Bu eğitimin amacı, para alışverişi yapan aracıları temsil eden başlangıç ​​düzeyinde bir model oluşturmaktır. Bu para değişimi zenginliği etkiler.\n",
        "\n",
        "Daha sonra, ajanların zaman ilerledikçe servetteki değişime bağlı olarak hareket etmelerine olanak sağlamak için *alan* eklenir. Mesa'nın analitik araçlarından ikisi: *veri toplayıcı* ve *toplu çalıştırıcı* daha sonra bu basit modelin dinamiklerini incelemek için kullanılır.\n",
        "\n",
        "Görselleştirme: Kullanıcıları bu model için bir görselleştirme oluşturmaya yönlendirecek ayrı bir görselleştirme eğitimi bulunmaktadır (diğer adıyla Boltzmann Zenginlik Modeli).\n",
        "\n",
        "Gelişmiş Görselleştirme (eski): Ayrıca, bu modeli temel olarak kullanan, kullanıcılara JavaScript tabanlı görselleştirme seçeneğinin nasıl kullanılacağını gösterecek gelişmiş bir görselleştirme eğitimi de bulunmaktadır."
      ],
      "metadata": {
        "id": "98AizV5cBsmM"
      }
    },
    {
      "cell_type": "markdown",
      "source": [
        "#Model Açıklaması\n",
        "\n",
        "Bu, başlangıç ​​seviyesinde simüle edilmiş bir ajan tabanlı ekonomidir. Ajan tabanlı bir ekonomide, bir tüketici veya üretici gibi bireysel bir ekonomik ajanın davranışı bir piyasa ortamında incelenir. Bu model, ekonofizik alanından, özellikle Drăgulescu ve diğerleri tarafından bu modelde kullanılan modelleme varsayımları hakkında ek bilgi için hazırlanan bir makaleden alınmıştır. [Drăgulescu, 2002].\n",
        "\n",
        "Bu modeli yöneten varsayımlar şunlardır:\n",
        "\n",
        "1.Bir takım ajanlar var.\n",
        "\n",
        "2.Tüm ajanlar 1 birim parayla başlar.\n",
        "\n",
        "3.Modelin her adımında, bir ajan başka bir ajana (eğer varsa) 1 birim para verir.\n",
        "\n",
        "Başlangıç ​​düzeyindeki bir model olarak bile, elde edilen sonuçlar, konuya aşina olmayan kişiler için hem ilginç hem de beklenmediktir. Bu model, Mesa'nın temel özelliklerini incelemek için iyi bir başlangıç ​​noktasıdır.\n",
        "\n",
        "**Tutorial Setup**\n",
        "\n",
        "Create and activate a virtual environment. Python version 3.9 or higher is required.\n",
        "\n",
        "Install Mesa:\n",
        "\n",
        "    pip install --upgrade mesa\n",
        "\n",
        "Install Jupyter Notebook (optional):\n",
        "\n",
        "    pip install jupyter\n",
        "\n",
        "Install Seaborn (which is used for data visualization):\n",
        "\n",
        "    pip install seaborn\n",
        "\n",
        "If running in Google Colab run the below cell to install Mesa. (This will also work in a locally installed version of Jupyter.)\n",
        "\n",
        "    # SKIP THIS CELL unless running in colab\n",
        "\n",
        "    %pip install --quiet mesa\n",
        "    # The exclamation points tell jupyter to do the command via the command line\n",
        "Note: you may need to restart the kernel to use updated packages.\n",
        "\n",
        "\n"
      ],
      "metadata": {
        "id": "qM-G8SbADILt"
      }
    },
    {
      "cell_type": "markdown",
      "source": [
        "#Örnek Modelin Oluşturulması\n",
        "\n",
        "Mesa kurulduktan sonra bir model oluşturulabilir. Bu eğitim için bir jupyter not defteri önerilir, bu sayede küçük kod parçaları tek tek incelenebilir. Bir seçenek olarak bu, python betik dosyaları kullanılarak oluşturulabilir.\n",
        "\n",
        "İyi Uygulama: Bir modeli kendi klasörüne/dizinine yerleştirin. Bu, özellikle starter_model için gerekli değildir, ancak diğer modeller daha karmaşık hale geldikçe ve birden fazla python betiğini, dokümantasyonu, tartışmaları ve not defterlerini genişlettikçe eklenebilir.\n",
        "\n",
        "**Yeni Klasör/Dizin Oluştur**\n",
        "\n",
        "İşletim sistemi komutlarını kullanarak ‘starter_model’ adında yeni bir klasör/dizin oluşturun.\n",
        "\n",
        "Yeni klasör/dizin içine geçin.\n",
        "\n",
        "**Jupyter Notebook ile Model Oluşturma**\n",
        "\n",
        "Modeli etkileşimli olarak Jupyter Notebook hücrelerine yazın.\n",
        "\n",
        "Jupyter Notebook'u başlatın:\n",
        "\n",
        "    jupyter notebook\n",
        "\n",
        "money_model.ipynb (veya ne adlandırmak istiyorsanız) adında yeni bir Notebook oluşturun.\n",
        "\n",
        "\n",
        "**Script Dosyasıyla Model Oluşturma (IDE, Metin Düzenleyici, Colab, vb.)**\n",
        "\n",
        "money_model.py (veya ne adlandırmak istiyorsanız) adında yeni bir dosya oluşturun\n",
        "\n",
        "Eğitim ilerledikçe kod eklenecektir.\n",
        "\n",
        "**Bağımlılıkları İçe Aktarma**\n",
        "\n",
        "Bu, öğretici için gereken bağımlılıkların içe aktarılmasını da içerir.\n",
        "\n",
        "\n",
        "    import mesa\n",
        "\n",
        "    # Data visualization tools.\n",
        "    import seaborn as sns\n",
        "\n",
        "    # Has multi-dimensional arrays and matrices. Has a large collection of\n",
        "    # mathematical functions to operate on these arrays.\n",
        "    import numpy as np\n",
        "\n",
        "    # Data manipulation and analysis.\n",
        "    import pandas as pd\n",
        "\n",
        "\n",
        "**Agent Oluştur**\n",
        "\n",
        "Öncelikle agent'ı oluşturun. Eğitim ilerledikçe, agent'a daha fazla işlevsellik eklenecektir.\n",
        "\n",
        "Arka Plan: Agent'lar, modelde hareket eden bireysel varlıklardır. Her Agent'ın benzersiz bir şekilde tanımlanabildiğinden emin olmak iyi bir modelleme uygulamasıdır.\n",
        "\n",
        "Modele özgü bilgiler: Agent'lar, para alışverişi yapan bireylerdir; bu durumda, bireysel bir agent'ın sahip olduğu para miktarı servet olarak gösterilir. Ek olarak, her bir agent'ın benzersiz bir tanımlayıcısı vardır.\n",
        "\n",
        "Kod uygulaması: Bu, mesa.Agent'ı genişleten yeni bir sınıf (veya nesne) oluşturularak yapılır ve mesa'dan Agent sınıfının bir alt sınıfı oluşturulur. Yeni sınıfa MoneyAgent adı verilir. Agent nesnesiyle ilgili teknik ayrıntılar mesa deposunda bulunabilir.\n",
        "\n",
        "MoneyAgent sınıfı aşağıdaki kodla oluşturulur:\n",
        "\n",
        "\n",
        "    class MoneyAgent(mesa.Agent):\n",
        "        \"\"\"An agent with fixed initial wealth.\"\"\"\n",
        "\n",
        "        def __init__(self, unique_id, model):\n",
        "            # Pass the parameters to the parent class.\n",
        "            super().__init__(unique_id, model)\n",
        "\n",
        "            # Create the agent's variable and set the initial values.\n",
        "            self.wealth = 1\n",
        "\n",
        "\n",
        "**Model Oluştur**\n",
        "\n",
        "Ardından, modeli oluşturun. Yine, eğitim ilerledikçe, modele daha fazla işlevsellik eklenecektir.\n",
        "\n",
        "Arka Plan: Model, tüm etkenleri içeren bir ızgara olarak görselleştirilebilir. Model, ızgaradaki tüm etkenleri oluşturur, tutar ve yönetir. Model, ayrı zaman adımlarında gelişir.\n",
        "\n",
        "Modele özgü bilgiler: Bir model oluşturulduğunda, model içindeki etken sayısı belirtilir. Daha sonra model etkenleri oluşturur ve ızgaraya yerleştirir. Model ayrıca, etkenlerin etkinleştirilme sırasını kontrol eden bir zamanlayıcı içerir. Zamanlayıcı ayrıca modeli bir adım ilerletmekten sorumludur. Model ayrıca, modelden veri toplayan bir veri toplayıcı içerir. Bu konular eğitimde daha sonra daha ayrıntılı olarak ele alınacaktır.\n",
        "\n",
        "Kod uygulaması: Bu, mesa.Model'i genişleten ve super().__init__()'i çağıran yeni bir sınıf (veya nesne) oluşturarak yapılır ve mesa'dan Model sınıfının bir alt sınıfını oluşturur. Yeni sınıfın adı MoneyModel'dir. Agent nesnesi hakkındaki teknik detaylar mesa deposunda bulunabilir.\n",
        "\n",
        "MoneyModel sınıfı aşağıdaki kodla oluşturulur:\n",
        "\n",
        "\n",
        "    class MoneyModel(mesa.Model):\n",
        "        \"\"\"A model with some number of agents.\"\"\"\n",
        "\n",
        "        def __init__(self, N):\n",
        "            super().__init__()\n",
        "            self.num_agents = N\n",
        "            # Create agents\n",
        "            for i in range(self.num_agents):\n",
        "                a = MoneyAgent(i, self)\n",
        "\n",
        "\n",
        "**Zamanlayıcıyı Ekleme**\n",
        "\n",
        "Şimdi model, bir zamanlayıcı eklemek için değiştirilecektir.\n",
        "\n",
        "Arka Plan: Zamanlayıcı, ajanların etkinleştirildiği sırayı kontrol eder ve ajanın tanımlı eylemini gerçekleştirmesini sağlar. Zamanlayıcı ayrıca modeli bir adım ilerletmekten de sorumludur. Bir adım, modeldeki en küçük zaman birimidir ve genellikle bir tik olarak adlandırılır. Zamanlayıcı, ajanları farklı sıralarda etkinleştirmek üzere yapılandırılabilir. Bu önemli olabilir çünkü ajanların etkinleştirildiği sıra, modelin sonuçlarını etkileyebilir [Comer2014]. Modelin her adımında, ajanlardan bir veya daha fazlası -genellikle hepsi- etkinleştirilir ve kendi adımlarını atar, dahili olarak değişir ve/veya birbirleriyle veya ortamla etkileşime girer.\n",
        "\n",
        "Modele özgü bilgiler: RandomActivationByAgent adlı yeni bir sınıf oluşturulur ve bu sınıf, Mesa'dan RandomActivation sınıfının bir alt sınıfını oluşturarak mesa.time.RandomActivation'ı genişletir. Bu sınıf, tüm ajanları adım başına bir kez, rastgele sırayla etkinleştirir. Her ajanın bir adım yöntemine sahip olması beklenir. Adım yöntemi, ajanın model zamanlaması tarafından etkinleştirildiğinde gerçekleştirdiği eylemdir. Ekleme yöntemini kullanarak zamanlamaya bir ajan ekleriz; zamanlama adım yöntemini çağırdığımızda, model ajanların sırasını karıştırır, ardından her ajanın adım yöntemini etkinleştirir ve yürütür. Daha sonra zamanlayıcı modele eklenir.\n",
        "\n",
        "Kod uygulaması: Zamanlayıcı nesnesiyle ilgili teknik ayrıntılar mesa deposunda bulunabilir. Mesa, ortak bir arayüzle birkaç farklı yerleşik zamanlayıcı sınıfı sunar. Bu, belirli bir modelin kullandığı etkinleştirme rejimini değiştirmeyi ve model davranışını değiştirip değiştirmediğini görmeyi kolaylaştırır. Zamanlayıcı arayüzüyle ilgili ayrıntılar aynı mesa deposunda bulunabilir.\n",
        "\n",
        "Bunu akılda tutarak, MoneyAgent kodu yeni bir ajan oluşturulduğunda görsel olarak göstermek için aşağıda değiştirilmiştir. MoneyModel kodu, modele RandomActivation yöntemi eklenerek değiştirilmiştir. Zamanlayıcı eklendiğinde şu şekilde görünür:\n",
        "\n",
        "    class MoneyAgent(mesa.Agent):\n",
        "        \"\"\"An agent with fixed initial wealth.\"\"\"\n",
        "\n",
        "        def __init__(self, unique_id, model):\n",
        "            # Pass the parameters to the parent class.\n",
        "            super().__init__(unique_id, model)\n",
        "\n",
        "            # Create the agent's attribute and set the initial values.\n",
        "            self.wealth = 1\n",
        "\n",
        "        def step(self):\n",
        "            # The agent's step will go here.\n",
        "            # For demonstration purposes we will print the agent's unique_id\n",
        "            print(f\"Hi, I am an agent, you can call me {str(self.unique_id)}.\")\n",
        "\n",
        "\n",
        "    class MoneyModel(mesa.Model):\n",
        "        \"\"\"A model with some number of agents.\"\"\"\n",
        "\n",
        "        def __init__(self, N):\n",
        "            super().__init__()\n",
        "            self.num_agents = N\n",
        "            # Create scheduler and assign it to the model\n",
        "            self.schedule = mesa.time.RandomActivation(self)\n",
        "\n",
        "            # Create agents\n",
        "            for i in range(self.num_agents):\n",
        "                a = MoneyAgent(i, self)\n",
        "                # Add the agent to the scheduler\n",
        "                self.schedule.add(a)\n",
        "\n",
        "        def step(self):\n",
        "            \"\"\"Advance the model by one step.\"\"\"\n",
        "\n",
        "            # The model's step will go here for now this will call the step method of each agent and print the agent's unique_id\n",
        "            self.schedule.step()\n",
        "\n",
        "\n",
        "**Modeli Çalıştırma**\n",
        "\n",
        "Artık temel bir model oluşturuldu. Model, bir model nesnesi oluşturularak ve step metodu çağrılarak çalıştırılabilir. Model bir adım boyunca çalışacak ve her bir etkenin unique_id'sini yazdıracaktır. Step metodunu birden fazla kez çağırarak modeli birden fazla adım boyunca çalıştırabilirsiniz.\n",
        "\n",
        "Not: .ipynb (Jupyter) yerine .py (script) dosyaları kullanıyorsanız, genel kural run.py'nin model kodunuzla aynı dizinde olmasıdır. Daha sonra (1) MoneyModel sınıfını içe aktarırsınız, (2) bir model nesnesi oluşturursunuz ve (3) birkaç adım boyunca çalıştırırsınız. Aşağıda gösterildiği gibi:\n",
        "\n",
        "    from money_model import MoneyModel\n",
        "\n",
        "    starter_model = MoneyModel(10)\n",
        "    starter_model.step()\n",
        "\n",
        "Create the model object, and run it for one step:\n",
        "\n",
        "\n",
        "    starter_model = MoneyModel(10)\n",
        "    starter_model.step()\n",
        "\n",
        ".\n",
        "\n",
        "    Hi, I am an agent, you can call me 1.\n",
        "    Hi, I am an agent, you can call me 5.\n",
        "    Hi, I am an agent, you can call me 0.\n",
        "    Hi, I am an agent, you can call me 8.\n",
        "    Hi, I am an agent, you can call me 4.\n",
        "    Hi, I am an agent, you can call me 9.\n",
        "    Hi, I am an agent, you can call me 7.\n",
        "    Hi, I am an agent, you can call me 2.\n",
        "    Hi, I am an agent, you can call me 3.\n",
        "    Hi, I am an agent, you can call me 6.\n",
        "\n",
        ".\n",
        "    # Run this step overnight and see what happens! Notice the order of the agents changes each time.\n",
        "      starter_model.step()\n",
        ".\n",
        "\n",
        "    Hi, I am an agent, you can call me 9.\n",
        "    Hi, I am an agent, you can call me 3.\n",
        "    Hi, I am an agent, you can call me 4.\n",
        "    Hi, I am an agent, you can call me 0.\n",
        "    Hi, I am an agent, you can call me 8.\n",
        "    Hi, I am an agent, you can call me 2.\n",
        "    Hi, I am an agent, you can call me 5.\n",
        "    Hi, I am an agent, you can call me 7.\n",
        "    Hi, I am an agent, you can call me 1.\n",
        "    Hi, I am an agent, you can call me 6.\n",
        "\n",
        "\n",
        "Egzersiz\n",
        "\n",
        "Her temsilcinin etkinleştirildiğinde servetini yazdırmasını sağlamak için aşağıdaki kodu değiştirmek.\n",
        "\n",
        "    class MoneyAgent(mesa.Agent):\n",
        "        \"\"\"An agent with fixed initial wealth.\"\"\"\n",
        "\n",
        "        def __init__(self, unique_id, model):\n",
        "            # Pass the parameters to the parent class.\n",
        "            super().__init__(unique_id, model)\n",
        "\n",
        "            # Create the agent's variable and set the initial values.\n",
        "            self.wealth = 1\n",
        "\n",
        "        def step(self):\n",
        "            # The agent's step will go here.\n",
        "            # FIXME: Need to print the agent's wealth\n",
        "            print(f\"Hi, I am an agent and I am broke!\")\n",
        "\n",
        "12 Aracı için bir model oluşturun ve çıktıyı görmek için onu birkaç adım çalıştırın.\n",
        "\n",
        "Fixme: Create the model object, and run it\n",
        "\n",
        "**Agent Step**\n",
        "\n",
        "MoneyAgent'a geri dönersek, gerçek adım süreci şimdi oluşturulacak.\n",
        "\n",
        "Arka Plan: Burada, ajanın modelin her adımı veya işaretiyle ilgili davranışı tanımlanır.\n",
        "\n",
        "Model-özel bilgiler: Bu durumda, ajan servetini kontrol edecek ve parası varsa, bir birimini başka bir rastgele ajana verecektir.\n",
        "\n",
        "Kod uygulaması: Ajanın adım yöntemi, modelin her adımı sırasında zamanlayıcı tarafından çağrılır. Ajanın rastgele başka bir ajan seçmesine izin vermek için model.random rastgele sayı üretecini kullanırız. Bu, Python'un rastgele modülü gibi çalışır, ancak model örnekleştirildiğinde sabit bir başlangıç ​​kümesiyle, daha sonra belirli bir model çalışmasını çoğaltmak için kullanılabilir.\n",
        "\n",
        "Bir ajanı rastgele seçmek için, tüm ajanların bir listesine ihtiyacımız vardır. Modelde açıkça böyle bir liste olmadığını fark edin. Ancak zamanlayıcı, etkinleştirmesi planlanan tüm ajanların dahili bir listesine sahiptir.\n",
        "\n",
        "Bunu aklımızda tutarak, ajan adım yöntemini aşağıda gösterildiği gibi yeniden yazıyoruz:\n",
        "\n",
        "\n",
        "    import copy\n",
        "\n",
        "\n",
        "    class MoneyAgent(mesa.Agent):\n",
        "        \"\"\"An agent with fixed initial wealth.\"\"\"\n",
        "\n",
        "        def __init__(self, unique_id, model):\n",
        "            # Pass the parameters to the parent class.\n",
        "            super().__init__(unique_id, model)\n",
        "\n",
        "            # Create the agent's variable and set the initial values.\n",
        "            self.wealth = 1\n",
        "\n",
        "        def step(self):\n",
        "            # Verify agent has some wealth\n",
        "            if self.wealth > 0:\n",
        "                other_agent = self.random.choice(self.model.schedule.agents)\n",
        "                if other_agent is not None:\n",
        "                    other_agent.wealth += 1\n",
        "                    self.wealth -= 1\n",
        "\n",
        "**İlk modelinizi çalıştırma**\n",
        "\n",
        "Elinizde son parça varken, modelin ilk temel çalıştırmasının zamanı geldi.\n",
        "\n",
        "Kodu kendi betik dosyasına (money_model.py veya farklı bir ad) yazdıysanız, artık run.py'nizi değiştirebilir veya hatta bir Jupyter Notebook başlatabilirsiniz. Daha sonra aynı üç adımı takip edersiniz: (1) MoneyModel model sınıfınızı içe aktarın, (2) model nesnesini oluşturun ve (3) birkaç adım çalıştırın. Kodu tek bir Notebook'a yazdıysanız, 1. adım olan içe aktarma gerekli değildir.\n",
        "\n",
        "    from money_model import MoneyModel\n",
        "\n",
        "Şimdi 10 aracılı bir model oluşturalım ve onu 10 adım boyunca çalıştıralım.\n",
        "\n",
        "    model = MoneyModel(10)\n",
        "    for i in range(10):\n",
        "        model.step()\n",
        "\n",
        "Sonra, modelden biraz veri almamız gerekiyor. Özellikle, aracının servetinin dağılımını görmek istiyoruz. Servet değerlerini liste kavrayışıyla elde edebilir ve ardından verileri bir histogramda görselleştirmek için seaborn'u (veya başka bir grafik kütüphanesini) kullanabiliriz.\n",
        "\n",
        "    agent_wealth = [a.wealth for a in model.schedule.agents]\n",
        "    # Create a histogram with seaborn\n",
        "    g = sns.histplot(agent_wealth, discrete=True)\n",
        "    g.set(\n",
        "        title=\"Wealth distribution\", xlabel=\"Wealth\", ylabel=\"Number of agents\"\n",
        "    );  # The semicolon is just to avoid printing the object representation\n",
        "\n",
        "\n",
        "Yukarıdaki dağılıma benzer bir şey görmelisiniz. Sizinki neredeyse kesinlikle en azından biraz farklı görünecektir, çünkü sonuçta modelin her çalışması rastgeledir.\n",
        "\n",
        "Bir modelin nasıl davrandığına dair daha iyi bir fikir edinmek için birden fazla model çalışması oluşturabilir ve hepsinden çıkan dağılımı görebiliriz. Bunu iç içe geçmiş bir for döngüsüyle yapabiliriz:\n",
        "\n",
        "    all_wealth = []\n",
        "    # This runs the model 100 times, each model executing 10 steps.\n",
        "    for j in range(100):\n",
        "        # Run the model\n",
        "        model = MoneyModel(10)\n",
        "        for i in range(10):\n",
        "            model.step()\n",
        "\n",
        "        # Store the results\n",
        "        for agent in model.schedule.agents:\n",
        "            all_wealth.append(agent.wealth)\n",
        "\n",
        "    # Use seaborn\n",
        "    g = sns.histplot(all_wealth, discrete=True)\n",
        "    g.set(title=\"Wealth distribution\", xlabel=\"Wealth\", ylabel=\"Number of agents\");\n",
        "\n",
        "Bu, modelin 100 örneğini çalıştırır ve her biri 10 adım boyunca çalışır. (Ajanlar yalnızca tam sayılarda servete sahip olabileceğinden, histogram bölmelerini tam sayılar olarak ayarladığımızı fark edin). Bu dağılım çok daha düzgün görünüyor. Modeli 100 kez çalıştırarak, rastgeleliğin \"gürültüsünün\" bir kısmını yumuşatırız ve modelin genel beklenen davranışına ulaşırız.\n",
        "\n",
        "Bu sonuç şaşırtıcı olabilir. Ortalama olarak tüm ajanların her adımda bir birim para verip almasına rağmen, model çoğu ajanın az miktarda paraya ve az sayıda ajanın çok paraya sahip olduğu bir duruma yakınsar."
      ],
      "metadata": {
        "id": "2Hxuq_-GEjua"
      }
    },
    {
      "cell_type": "markdown",
      "source": [
        "**Adding space**\n",
        "\n",
        "Birçok ABM'nin, ajanların etrafta hareket ettiği ve yakın komşularıyla etkileşime girdiği mekansal bir öğesi vardır. Mesa şu anda iki genel türde alanı destekler: ızgara ve sürekli. Izgaralar hücrelere bölünmüştür ve ajanlar, bir satranç tahtasındaki taşlar gibi yalnızca belirli bir hücrede olabilir. Sürekli alan ise ajanların herhangi bir keyfi konuma sahip olmasına izin verir. Hem ızgaralar hem de sürekli alanlar sıklıkla toroidaldir, yani kenarlar sarılır, sağ kenardaki hücreler sol kenardakilere ve üsttekiler alta bağlanır. Bu, bazı hücrelerin diğerlerinden daha az komşuya sahip olmasını veya ajanların ortamın kenarından dışarı çıkabilmesini önler.\n",
        "\n",
        "Ajanlarımızı bir ızgaraya koyarak ve rastgele dolaşmalarını sağlayarak modelimize basit bir mekansal öğe ekleyelim. Para birimlerini herhangi bir rastgele ajana vermek yerine, aynı hücredeki bir ajana verecekler.\n",
        "\n",
        "Mesa'nın iki ana ızgara türü vardır: SingleGrid ve MultiGrid*. SingleGrid hücre başına en fazla bir aracı uygular; MultiGrid birden fazla aracının aynı hücrede olmasına izin verir. Aracıların bir hücreyi paylaşabilmesini istediğimiz için MultiGrid'i kullanırız.\n",
        "\n",
        "*Ancak HexGrid, NetworkGrid ve daha önce bahsedilen ContinuousSpace'i de içerecek daha fazla alan türü vardır. mesa.time'a benzer şekilde bağlam mesa.space.[sınıf girin] ile korunur. mesa.space adresinde farklı sınıfları inceleyebilirsiniz.\n",
        "\n",
        "Genişlik ve yükseklik parametreleri ve ızgaranın toroidal olup olmadığına dair bir boolean ile bir ızgara örneği oluşturuyoruz. Ajan sayısına ek olarak genişlik ve yükseklik model parametreleri yapalım ve ızgaranın her zaman toroidal olmasını sağlayalım. Ajanları, bir ajanı ve ajanı yerleştirmek için koordinatların bir (x, y) tuple'ını alan ızgaranın place_agent yöntemi ile bir ızgaraya yerleştirebiliriz.\n",
        "\n",
        "\n"
      ],
      "metadata": {
        "id": "ay54hVoZDxEc"
      }
    },
    {
      "cell_type": "code",
      "source": [
        "class MoneyModel(mesa.Model):\n",
        "    \"\"\"A model with some number of agents.\"\"\"\n",
        "\n",
        "    def __init__(self, N, width, height):\n",
        "        super().__init__()\n",
        "        self.num_agents = N\n",
        "        self.grid = mesa.space.MultiGrid(width, height, True)\n",
        "        self.schedule = mesa.time.RandomActivation(self)\n",
        "\n",
        "        # Create agents\n",
        "        for i in range(self.num_agents):\n",
        "            a = MoneyAgent(i, self)\n",
        "            self.schedule.add(a)\n",
        "\n",
        "            # Add the agent to a random grid cell\n",
        "            x = self.random.randrange(self.grid.width)\n",
        "            y = self.random.randrange(self.grid.height)\n",
        "            self.grid.place_agent(a, (x, y))"
      ],
      "metadata": {
        "id": "cGmUDbq4iPhp"
      },
      "execution_count": null,
      "outputs": []
    },
    {
      "cell_type": "markdown",
      "source": [
        "Perdenin altında, her bir ajanın konumu iki şekilde saklanır: ajan, şu anda içinde bulunduğu hücredeki ızgarada bulunur ve ajanın (x, y) koordinat ikilisi olan bir pos değişkeni vardır. place_agent yöntemi koordinatı ajana otomatik olarak ekler.\n",
        "\n",
        "Şimdi ajanların davranışlarına eklemeler yapmamız, onların etrafta dolaşmasına ve sadece aynı hücredeki diğer ajanlara para vermesine izin vermemiz gerekiyor.\n",
        "\n",
        "Önce hareketi ele alalım ve ajanların komşu bir hücreye hareket etmesini sağlayalım. Grid nesnesi, tahmin edebileceğiniz gibi bir ajanı belirli bir hücreye hareket ettiren bir move_agent yöntemi sağlar. Bu, hala hareket edebileceğimiz olası komşu hücreleri bulmamızı sağlar. Bunu yapmanın birkaç yolu vardır. Birincisi, geçerli koordinatları kullanmak ve ondan +/- 1 uzaklıktaki tüm koordinatlar üzerinde döngü yapmaktır. Örneğin:"
      ],
      "metadata": {
        "id": "JK7M9BJ-B_KW"
      }
    },
    {
      "cell_type": "code",
      "source": [
        "neighbors = []\n",
        "x, y = self.pos\n",
        "for dx in [-1, 0, 1]:\n",
        "    for dy in [-1, 0, 1]:\n",
        "        neighbors.append((x+dx, y+dy))"
      ],
      "metadata": {
        "id": "uMaTvOnwEjBu"
      },
      "execution_count": null,
      "outputs": []
    },
    {
      "cell_type": "markdown",
      "source": [
        "Ancak, grid'in yerleşik get_neighborhood yöntemini kullanarak daha da basit bir yol var. Bu yöntem, belirli bir hücrenin tüm komşularını döndürür. Bu yöntem iki tür hücre komşuluğu elde edebilir: Moore (tüm 8 çevreleyen kareyi içerir) ve Von Neumann (sadece yukarı/aşağı/sol/sağ). Ayrıca, merkez hücrenin kendisini komşulardan biri olarak dahil edip etmemeye dair bir argümana da ihtiyaç duyar.\n",
        "\n",
        "Bunu akılda tutarak, aracının hareket yöntemi şu şekilde görünür:"
      ],
      "metadata": {
        "id": "5qPqRYm-if0k"
      }
    },
    {
      "cell_type": "code",
      "source": [
        "class MoneyAgent(mesa.Agent):\n",
        "   #...\n",
        "    def move(self):\n",
        "        possible_steps = self.model.grid.get_neighborhood(\n",
        "            self.pos,\n",
        "            moore=True,\n",
        "            include_center=False)\n",
        "        new_position = self.random.choice(possible_steps)\n",
        "        self.model.grid.move_agent(self, new_position)"
      ],
      "metadata": {
        "id": "ZG7rsA-kBuHD"
      },
      "execution_count": null,
      "outputs": []
    },
    {
      "cell_type": "markdown",
      "source": [
        "Sonra, bir hücrede bulunan diğer tüm ajanları almamız ve bunlardan birine biraz para vermemiz gerekir. Grid'in get_cell_list_contents metodunu kullanarak veya bir hücreye doğrudan erişerek bir veya daha fazla hücrenin içeriğini alabiliriz. Metot, bir hücre koordinat tuple'ları listesini veya yalnızca bir hücreyle ilgileniyorsak tek bir tuple'ı kabul eder."
      ],
      "metadata": {
        "id": "SNKJkzjUilq9"
      }
    },
    {
      "cell_type": "code",
      "source": [
        "class MoneyAgent(mesa.Agent):\n",
        "    #...\n",
        "    def give_money(self):\n",
        "        cellmates = self.model.grid.get_cell_list_contents([self.pos])\n",
        "        if len(cellmates) > 1:\n",
        "            other = self.random.choice(cellmates)\n",
        "            other.wealth += 1\n",
        "            self.wealth -= 1"
      ],
      "metadata": {
        "id": "r7CtRT4hiqK1"
      },
      "execution_count": null,
      "outputs": []
    },
    {
      "cell_type": "code",
      "source": [
        "#And with those two methods, the agent’s step method becomes:\n",
        "\n",
        "class MoneyAgent(mesa.Agent):\n",
        "    # ...\n",
        "    def step(self):\n",
        "        self.move()\n",
        "        if self.wealth > 0:\n",
        "            self.give_money()"
      ],
      "metadata": {
        "id": "wCWCyqN1i2dj"
      },
      "execution_count": null,
      "outputs": []
    },
    {
      "cell_type": "code",
      "source": [
        "#Now, putting that all together should look like this:\n",
        "\n",
        "class MoneyAgent(mesa.Agent):\n",
        "    \"\"\"An agent with fixed initial wealth.\"\"\"\n",
        "\n",
        "    def __init__(self, unique_id, model):\n",
        "        super().__init__(unique_id, model)\n",
        "        self.wealth = 1\n",
        "\n",
        "    def move(self):\n",
        "        possible_steps = self.model.grid.get_neighborhood(\n",
        "            self.pos, moore=True, include_center=False\n",
        "        )\n",
        "        new_position = self.random.choice(possible_steps)\n",
        "        self.model.grid.move_agent(self, new_position)\n",
        "\n",
        "    def give_money(self):\n",
        "        cellmates = self.model.grid.get_cell_list_contents([self.pos])\n",
        "        if len(cellmates) > 1:\n",
        "            other_agent = self.random.choice(cellmates)\n",
        "            other_agent.wealth += 1\n",
        "            self.wealth -= 1\n",
        "\n",
        "    def step(self):\n",
        "        self.move()\n",
        "        if self.wealth > 0:\n",
        "            self.give_money()\n",
        "\n",
        "\n",
        "class MoneyModel(mesa.Model):\n",
        "    \"\"\"A model with some number of agents.\"\"\"\n",
        "\n",
        "    def __init__(self, N, width, height):\n",
        "        super().__init__()\n",
        "        self.num_agents = N\n",
        "        self.grid = mesa.space.MultiGrid(width, height, True)\n",
        "        self.schedule = mesa.time.RandomActivation(self)\n",
        "        # Create agents\n",
        "        for i in range(self.num_agents):\n",
        "            a = MoneyAgent(i, self)\n",
        "            self.schedule.add(a)\n",
        "            # Add the agent to a random grid cell\n",
        "            x = self.random.randrange(self.grid.width)\n",
        "            y = self.random.randrange(self.grid.height)\n",
        "            self.grid.place_agent(a, (x, y))\n",
        "\n",
        "    def step(self):\n",
        "        self.schedule.step()"
      ],
      "metadata": {
        "id": "ZuCPJnsoi4z_"
      },
      "execution_count": null,
      "outputs": []
    },
    {
      "cell_type": "code",
      "source": [
        "#Let’s create a model with 100 agents on a 10x10 grid, and run it for 20 steps.\n",
        "\n",
        "model = MoneyModel(100, 10, 10)\n",
        "for i in range(20):\n",
        "    model.step()"
      ],
      "metadata": {
        "id": "8VdtJ7v-jFRu"
      },
      "execution_count": null,
      "outputs": []
    },
    {
      "cell_type": "markdown",
      "source": [
        "Şimdi her hücrede bulunan ajan sayısını görselleştirmek için seaborn ve numpy kullanalım. Bunu yapmak için, grid ile aynı boyutta, sıfırlarla dolu bir numpy dizisi oluştururuz. Sonra grid nesnesinin coord_iter() özelliğini kullanırız, bu da griddeki her hücre üzerinde döngü yapmamızı sağlar ve bize her hücrenin konumlarını ve içeriklerini sırayla verir."
      ],
      "metadata": {
        "id": "XLmV7pzHjHf4"
      }
    },
    {
      "cell_type": "code",
      "source": [
        "agent_counts = np.zeros((model.grid.width, model.grid.height))\n",
        "for cell_content, (x, y) in model.grid.coord_iter():\n",
        "    agent_count = len(cell_content)\n",
        "    agent_counts[x][y] = agent_count\n",
        "# Plot using seaborn, with a size of 5x5\n",
        "g = sns.heatmap(agent_counts, cmap=\"viridis\", annot=True, cbar=False, square=True)\n",
        "g.figure.set_size_inches(4, 4)\n",
        "g.set(title=\"Number of agents on each cell of the grid\");"
      ],
      "metadata": {
        "id": "7bWTcZLRjKR3"
      },
      "execution_count": null,
      "outputs": []
    },
    {
      "cell_type": "markdown",
      "source": [
        "**Collecting Data**\n",
        "\n",
        "\n",
        "Şimdiye kadar, her model çalışmasının sonunda, verileri modelden çıkarmak için gidip kendi kodumuzu yazmak zorunda kaldık. Bunun iki sorunu var: çok verimli değil ve bize yalnızca nihai sonuçları veriyor. Her adımda her bir etkenin zenginliğini bilmek isteseydik, bunu adımları yürütme döngüsüne eklememiz ve verileri depolamanın bir yolunu bulmamız gerekirdi.\n",
        "\n",
        "Etken tabanlı modellemenin temel hedeflerinden biri analiz için veri üretmek olduğundan, Mesa bizim için veri toplama ve depolama işlemlerini gerçekleştirebilen ve analizi kolaylaştıran bir sınıf sağlar.\n",
        "\n",
        "Veri toplayıcı üç kategoride veri depolar: model düzeyinde değişkenler, etken düzeyinde değişkenler ve tablolar (diğer her şey için bir genel bakış). Model ve etken düzeyinde değişkenler, bunları toplamak için bir işlevle birlikte veri toplayıcıya eklenir. Model düzeyinde toplama işlevleri bir model nesnesini girdi olarak alırken, etken düzeyinde toplama işlevleri bir etken nesnesini girdi olarak alır. Her ikisi de daha sonra modelden veya her etkenin geçerli durumunda hesaplanan bir değeri döndürür. Veri toplayıcının toplama yöntemi çağrıldığında, argümanı olarak bir model nesnesi ile, her model düzeyindeki toplama işlevini modele uygular ve sonuçları bir sözlükte depolar, geçerli değeri modelin geçerli adımıyla ilişkilendirir. Benzer şekilde, yöntem her aracı düzeyindeki toplama işlevini şu anda programda bulunan her aracıya uygular, ortaya çıkan değeri modelin adımıyla ve aracının unique_id'siyle ilişkilendirir.\n",
        "\n",
        "Modele mesa.DataCollector ile bir DataCollector ekleyelim ve iki değişken toplayalım. Aracı düzeyinde, her adımda her aracının servetini toplamak istiyoruz. Model düzeyinde, modelin servet eşitsizliğinin bir ölçüsü olan Gini Katsayısını ölçelim."
      ],
      "metadata": {
        "id": "8LfoO5AzjNoL"
      }
    },
    {
      "cell_type": "code",
      "source": [
        "def compute_gini(model):\n",
        "    agent_wealths = [agent.wealth for agent in model.schedule.agents]\n",
        "    x = sorted(agent_wealths)\n",
        "    N = model.num_agents\n",
        "    B = sum(xi * (N - i) for i, xi in enumerate(x)) / (N * sum(x))\n",
        "    return 1 + (1 / N) - 2 * B\n",
        "\n",
        "\n",
        "class MoneyAgent(mesa.Agent):\n",
        "    \"\"\"An agent with fixed initial wealth.\"\"\"\n",
        "\n",
        "    def __init__(self, unique_id, model):\n",
        "        super().__init__(unique_id, model)\n",
        "        self.wealth = 1\n",
        "\n",
        "    def move(self):\n",
        "        possible_steps = self.model.grid.get_neighborhood(\n",
        "            self.pos, moore=True, include_center=False\n",
        "        )\n",
        "        new_position = self.random.choice(possible_steps)\n",
        "        self.model.grid.move_agent(self, new_position)\n",
        "\n",
        "    def give_money(self):\n",
        "        cellmates = self.model.grid.get_cell_list_contents([self.pos])\n",
        "        cellmates.pop(\n",
        "            cellmates.index(self)\n",
        "        )  # Ensure agent is not giving money to itself\n",
        "        if len(cellmates) > 1:\n",
        "            other = self.random.choice(cellmates)\n",
        "            other.wealth += 1\n",
        "            self.wealth -= 1\n",
        "            if other == self:\n",
        "                print(\"I JUST GAVE MONEY TO MYSELF HEHEHE!\")\n",
        "\n",
        "    def step(self):\n",
        "        self.move()\n",
        "        if self.wealth > 0:\n",
        "            self.give_money()\n",
        "\n",
        "\n",
        "class MoneyModel(mesa.Model):\n",
        "    \"\"\"A model with some number of agents.\"\"\"\n",
        "\n",
        "    def __init__(self, N, width, height):\n",
        "        super().__init__()\n",
        "        self.num_agents = N\n",
        "        self.grid = mesa.space.MultiGrid(width, height, True)\n",
        "        self.schedule = mesa.time.RandomActivation(self)\n",
        "\n",
        "        # Create agents\n",
        "        for i in range(self.num_agents):\n",
        "            a = MoneyAgent(i, self)\n",
        "            self.schedule.add(a)\n",
        "            # Add the agent to a random grid cell\n",
        "            x = self.random.randrange(self.grid.width)\n",
        "            y = self.random.randrange(self.grid.height)\n",
        "            self.grid.place_agent(a, (x, y))\n",
        "\n",
        "        self.datacollector = mesa.DataCollector(\n",
        "            model_reporters={\"Gini\": compute_gini}, agent_reporters={\"Wealth\": \"wealth\"}\n",
        "        )\n",
        "\n",
        "    def step(self):\n",
        "        self.datacollector.collect(self)\n",
        "        self.schedule.step()"
      ],
      "metadata": {
        "id": "nA3qznhx2bbU"
      },
      "execution_count": null,
      "outputs": []
    },
    {
      "cell_type": "markdown",
      "source": [
        "Modelin her adımında, veri toplayıcı model düzeyindeki geçerli Gini katsayısını ve her bir aracının servetini toplayıp depolayacak ve her birini geçerli adımla ilişkilendirecektir.\n",
        "\n",
        "Modeli yukarıda yaptığımız gibi çalıştırıyoruz. Şimdi, özellikle bir Notebook aracılığıyla etkileşimli bir oturumun işe yaradığı zamandır: Veri Toplayıcı topladığı verileri kolay etkileşimli analiz için bir pandas* DataFrame olarak dışa aktarabilir.\n",
        "\n",
        "*Python'a yeniyseniz, lütfen pandas'ın zaten Mesa'nın bir bağımlılığı olarak kurulu olduğunu ve pandas'ın \"hızlı, güçlü, esnek ve kullanımı kolay bir açık kaynaklı veri analizi ve işleme aracı\" olduğunu unutmayın. pandas, modellerinizde toplanan verileri analiz etmenize yardımcı olmak için harika bir kaynaktır."
      ],
      "metadata": {
        "id": "VoeYhBgj2qkW"
      }
    },
    {
      "cell_type": "code",
      "source": [
        "model = MoneyModel(100, 10, 10)\n",
        "for i in range(100):\n",
        "    model.step()"
      ],
      "metadata": {
        "id": "Nh8ubeN53Dgx"
      },
      "execution_count": null,
      "outputs": []
    },
    {
      "cell_type": "code",
      "source": [
        "#To get the series of Gini coefficients as a pandas DataFrame:\n",
        "\n",
        "gini = model.datacollector.get_model_vars_dataframe()\n",
        "# Plot the Gini coefficient over time\n",
        "g = sns.lineplot(data=gini)\n",
        "g.set(title=\"Gini Coefficient over Time\", ylabel=\"Gini Coefficient\");"
      ],
      "metadata": {
        "id": "54JEKOPb3MkF"
      },
      "execution_count": null,
      "outputs": []
    },
    {
      "cell_type": "code",
      "source": [
        "#Similarly, we can get the agent-wealth data:\n",
        "\n",
        "agent_wealth = model.datacollector.get_agent_vars_dataframe()\n",
        "agent_wealth.head()"
      ],
      "metadata": {
        "id": "CXvMrbTd3bwM"
      },
      "execution_count": null,
      "outputs": []
    },
    {
      "cell_type": "markdown",
      "source": [
        "DataFrame'in dizininin model adımı ve aracı kimliği eşleşmeleri olduğunu göreceksiniz. Bunun nedeni, veri toplayıcısının verileri bir sözlükte depolamasıdır; adım numarası anahtar, aracı kimliği ve değişken değer çiftleri sözlüğü ise değerdir. Veri toplayıcısı daha sonra bu sözlüğü bir DataFrame'e dönüştürür; bu nedenle dizin (model adımı, aracı kimliği) çiftidir. Bunu diğer herhangi bir DataFrame'de yaptığınız gibi analiz edebilirsiniz. Örneğin, modelin sonundaki aracı zenginliğinin bir histogramını elde etmek için:"
      ],
      "metadata": {
        "id": "gQN5tjuW3jTM"
      }
    },
    {
      "cell_type": "code",
      "source": [
        "last_step = agent_wealth.index.get_level_values(\"Step\").max()\n",
        "end_wealth = agent_wealth.xs(last_step, level=\"Step\")[\"Wealth\"]\n",
        "# Create a histogram of wealth at the last step\n",
        "g = sns.histplot(end_wealth, discrete=True)\n",
        "g.set(\n",
        "    title=\"Distribution of wealth at the end of simulation\",\n",
        "    xlabel=\"Wealth\",\n",
        "    ylabel=\"Number of agents\",\n",
        ");"
      ],
      "metadata": {
        "id": "y0ltTnEF3kYk"
      },
      "execution_count": null,
      "outputs": []
    },
    {
      "cell_type": "code",
      "source": [
        "#Or to plot the wealth of a given agent (in this example, agent 14):\n",
        "\n",
        "# Get the wealth of agent 14 over time\n",
        "one_agent_wealth = agent_wealth.xs(14, level=\"AgentID\")\n",
        "\n",
        "# Plot the wealth of agent 14 over time\n",
        "g = sns.lineplot(data=one_agent_wealth, x=\"Step\", y=\"Wealth\")\n",
        "g.set(title=\"Wealth of agent 14 over time\");"
      ],
      "metadata": {
        "id": "MK9za-8O35S6"
      },
      "execution_count": null,
      "outputs": []
    },
    {
      "cell_type": "code",
      "source": [
        "#You can also plot a reporter of multiple agents over time.\n",
        "\n",
        "agent_list = [3, 14, 25]\n",
        "\n",
        "# Get the wealth of multiple agents over time\n",
        "multiple_agents_wealth = agent_wealth[\n",
        "    agent_wealth.index.get_level_values(\"AgentID\").isin(agent_list)\n",
        "]\n",
        "# Plot the wealth of multiple agents over time\n",
        "g = sns.lineplot(data=multiple_agents_wealth, x=\"Step\", y=\"Wealth\", hue=\"AgentID\")\n",
        "g.set(title=\"Wealth of agents 3, 14 and 25 over time\");"
      ],
      "metadata": {
        "id": "gsV75quw4I9S"
      },
      "execution_count": null,
      "outputs": []
    },
    {
      "cell_type": "code",
      "source": [
        "#We can also plot the average of all agents, with a 95% confidence interval for that average.\n",
        "\n",
        "# Transform the data to a long format\n",
        "agent_wealth_long = agent_wealth.T.unstack().reset_index()\n",
        "agent_wealth_long.columns = [\"Step\", \"AgentID\", \"Variable\", \"Value\"]\n",
        "agent_wealth_long.head(3)\n",
        "\n",
        "# Plot the average wealth over time\n",
        "g = sns.lineplot(data=agent_wealth_long, x=\"Step\", y=\"Value\", errorbar=(\"ci\", 95))\n",
        "g.set(title=\"Average wealth over time\")"
      ],
      "metadata": {
        "id": "5Tme-4Xl4amQ"
      },
      "execution_count": null,
      "outputs": []
    },
    {
      "cell_type": "markdown",
      "source": [
        "Bu modelde beklendiği gibi tam olarak 1'dir, çünkü her bir aracı bir servet birimiyle başlar ve her bir aracı her adımda başka bir aracıya bir servet birimi verir.\n",
        "\n",
        "Ayrıca pandas'ı kullanarak verileri herhangi bir yaygın elektronik tablo uygulaması tarafından açılabilen veya pandas tarafından açılabilen bir CSV'ye (virgülle ayrılmış değer) aktarabilirsiniz.\n",
        "\n",
        "Bir dosya yolu belirtmezseniz, dosya yerel dizine kaydedilir. Aşağıdaki kodu çalıştırdıktan sonra iki dosyanın (model_data.csv ve agent_data.csv) göründüğünü göreceksiniz."
      ],
      "metadata": {
        "id": "q3_ZPSI94rGI"
      }
    },
    {
      "cell_type": "code",
      "source": [
        "# save the model data (stored in the pandas gini object) to CSV\n",
        "gini.to_csv(\"model_data.csv\")\n",
        "\n",
        "# save the agent data (stored in the pandas agent_wealth object) to CSV\n",
        "agent_wealth.to_csv(\"agent_data.csv\")"
      ],
      "metadata": {
        "id": "PhI74bab4vnI"
      },
      "execution_count": null,
      "outputs": []
    },
    {
      "cell_type": "markdown",
      "source": [
        "**Batch Run**\n",
        "\n",
        "Yukarıda belirttiğimiz gibi, genellikle bir modeli yalnızca bir kez değil, sabit parametrelerle modelin ürettiği genel dağılımları bulmak ve değişken parametrelerle modelin çıktılarını ve davranışlarını nasıl yönlendirdiklerini analiz etmek için birden fazla kez çalıştırırsınız. Her model için iç içe geçmiş for döngüleri yazmak yerine, Mesa bunu sizin için otomatikleştiren bir batch_run işlevi sağlar.\n",
        "\n",
        "Toplu iş yürütücüsü ayrıca MoneyModel sınıfı için ek bir self.running değişkeni gerektirir. Bu değişken, bir koşul karşılandığında modelin koşullu olarak kapatılmasını sağlar. Bu örnekte süresiz olarak True olarak ayarlanacaktır.\n",
        "\n",
        "**Additional agent reporter**\n",
        "\n",
        "Sonuçları biraz daha ilgi çekici hale getirmek için, bir ajanın bir ajan muhabiri olarak herhangi bir servet vermediği ardışık zaman adımlarının sayısını da hesaplayacağız.\n",
        "\n",
        "Bu şekilde, birden fazla muhabir kullanıldığında verilerin nasıl işlendiğini görebiliriz.\n",
        "\n",
        "\n",
        "\n"
      ],
      "metadata": {
        "id": "YdlpmPT1Z3Hr"
      }
    },
    {
      "cell_type": "code",
      "source": [
        "def compute_gini(model):\n",
        "    agent_wealths = [agent.wealth for agent in model.schedule.agents]\n",
        "    x = sorted(agent_wealths)\n",
        "    N = model.num_agents\n",
        "    B = sum(xi * (N - i) for i, xi in enumerate(x)) / (N * sum(x))\n",
        "    return 1 + (1 / N) - 2 * B\n",
        "\n",
        "\n",
        "class MoneyModel(mesa.Model):\n",
        "    \"\"\"A model with some number of agents.\"\"\"\n",
        "\n",
        "    def __init__(self, N, width, height):\n",
        "        super().__init__()\n",
        "        self.num_agents = N\n",
        "        self.grid = mesa.space.MultiGrid(width, height, True)\n",
        "        self.schedule = mesa.time.RandomActivation(self)\n",
        "        self.running = True\n",
        "\n",
        "        # Create agents\n",
        "        for i in range(self.num_agents):\n",
        "            a = MoneyAgent(i, self)\n",
        "            self.schedule.add(a)\n",
        "            # Add the agent to a random grid cell\n",
        "            x = self.random.randrange(self.grid.width)\n",
        "            y = self.random.randrange(self.grid.height)\n",
        "            self.grid.place_agent(a, (x, y))\n",
        "\n",
        "        self.datacollector = mesa.DataCollector(\n",
        "            model_reporters={\"Gini\": compute_gini},\n",
        "            agent_reporters={\"Wealth\": \"wealth\", \"Steps_not_given\": \"steps_not_given\"},\n",
        "        )\n",
        "\n",
        "    def step(self):\n",
        "        self.datacollector.collect(self)\n",
        "        self.schedule.step()\n",
        "\n",
        "\n",
        "class MoneyAgent(mesa.Agent):\n",
        "    \"\"\"An agent with fixed initial wealth.\"\"\"\n",
        "\n",
        "    def __init__(self, unique_id, model):\n",
        "        super().__init__(unique_id, model)\n",
        "        self.wealth = 1\n",
        "        self.steps_not_given = 0\n",
        "\n",
        "    def move(self):\n",
        "        possible_steps = self.model.grid.get_neighborhood(\n",
        "            self.pos, moore=True, include_center=False\n",
        "        )\n",
        "        new_position = self.random.choice(possible_steps)\n",
        "        self.model.grid.move_agent(self, new_position)\n",
        "\n",
        "    def give_money(self):\n",
        "        cellmates = self.model.grid.get_cell_list_contents([self.pos])\n",
        "        if len(cellmates) > 1:\n",
        "            other = self.random.choice(cellmates)\n",
        "            other.wealth += 1\n",
        "            self.wealth -= 1\n",
        "            self.steps_not_given = 0\n",
        "        else:\n",
        "            self.steps_not_given += 1\n",
        "\n",
        "    def step(self):\n",
        "        self.move()\n",
        "        if self.wealth > 0:\n",
        "            self.give_money()\n",
        "        else:\n",
        "            self.steps_not_given += 1"
      ],
      "metadata": {
        "id": "tbTdpjmqaWAG"
      },
      "execution_count": null,
      "outputs": []
    },
    {
      "cell_type": "markdown",
      "source": [
        "**Batch run - Toplu çalıştırma**\n",
        "\n",
        "batch_run'ı aşağıdaki argümanlarla çağırırız:\n",
        "\n",
        "model_cls Toplu çalıştırma için kullanılan model sınıfı.\n",
        "\n",
        "parametreler Model sınıfının tüm parametrelerini ve toplu çalıştırma için anahtar-değer çiftleri olarak kullanılacak istenen değerleri içeren bir sözlük. Her değer sabit olabilir (örn. {\"height\": 10, \"width\": 10}) veya yinelebilir olabilir (örn. {\"N\": range(10, 500, 10)}). batch_run daha sonra bu sözlüğe dayalı tüm olası parametre kombinasyonlarını üretecek ve her kombinasyon için model yinelemelerini çalıştıracaktır.\n",
        "\n",
        "number_processes Belirtilmezse, varsayılan olarak 1'dir. Mevcut tüm işlemcileri kullanmak için bunu None olarak ayarlayın. Not: Çoklu işlem hata ayıklamayı zorlaştırır. Parametre taramalarınız beklenmeyen hatalara yol açıyorsa number_processes=1 olarak ayarlayın.\n",
        "\n",
        "iterations Her parametre kombinasyonunun çalıştırılacağı yineleme sayısı. İsteğe bağlı. Belirtilmezse, varsayılan olarak 1'dir.\n",
        "\n",
        "data_collection_period Model ve aracı muhabirlerinin veri topladığı sürenin uzunluğu (adım sayısı). İsteğe bağlı. Belirtilmezse, varsayılan olarak -1'dir, yani yalnızca her bölümün sonunda.\n",
        "\n",
        "max_steps Modelin durduğu maksimum zaman adımı sayısı. Bir bölüm, model sınıfının self.running'i False olarak ayarlandığında veya model.schedule.steps == max_steps değerine ulaşıldığında sona erer. İsteğe bağlı. Belirtilmezse, varsayılan olarak 1000'dir.\n",
        "\n",
        "display_progress Toplu çalıştırma ilerlemesini görüntüler. İsteğe bağlı. Belirtilmezse, varsayılan olarak True'dur.\n",
        "\n",
        "Aşağıdaki örnekte, yüksekliği ve genişliği sabit tutuyoruz ve aracı sayısını değiştiriyoruz. Toplu iş yürütücüsüne, her sayıda aracıyla modelin 5 örneğini çalıştırmasını ve her birini 100 adım boyunca çalıştırmasını söylüyoruz.\n",
        "\n",
        "Her zaman adımındaki\n",
        "\n",
        "Gini katsayısı değerini ve\n",
        "\n",
        "bireysel aracının para vermeden servet gelişimini ve adımlarını takip etmek istiyoruz.\n",
        "\n",
        "Önemli: Her zaman adımındaki son değişiklikler ilginç olabileceğinden, data_collection_period=1 olarak ayarlıyoruz. Varsayılan olarak, yalnızca her bölümün sonunda veri toplar.\n",
        "\n",
        "Not: Toplam çalıştırma sayısı 245'tir (= 49 farklı popülasyon * popülasyon başına 5 yineleme). Ancak, ortaya çıkan sözlük listesi 6186250 uzunluğunda olacaktır (= popülasyon başına 250 ortalama aracı * 49 farklı popülasyon * popülasyon başına 5 yineleme * yineleme başına 101 adım).\n",
        "\n",
        "Windows işletim sistemi kullanıcıları için not: Bu eğitimi Jupyter'da çalıştırıyorsanız, number_processes = 1 (tek işlem) olarak ayarladığınızdan emin olun. number_processes 1'den büyükse, kurulumu daha az basittir. Bunu nasıl yapacağınızı öğrenmek için Mesa'nın 'Windows'ta çoklu işlem batch_run kullanma' bölümündeki nasıl yapılır kılavuzunu okuyabilirsiniz."
      ],
      "metadata": {
        "id": "086hpCVrdJQL"
      }
    },
    {
      "cell_type": "code",
      "source": [
        "params = {\"width\": 10, \"height\": 10, \"N\": range(5, 100, 5)}\n",
        "\n",
        "results = mesa.batch_run(\n",
        "    MoneyModel,\n",
        "    parameters=params,\n",
        "    iterations=7,\n",
        "    max_steps=100,\n",
        "    number_processes=1,\n",
        "    data_collection_period=1,\n",
        "    display_progress=True,\n",
        ")"
      ],
      "metadata": {
        "id": "F-ZuTIPPdmEN"
      },
      "execution_count": null,
      "outputs": []
    },
    {
      "cell_type": "code",
      "source": [
        "#To further analyze the return of the batch_run function, we convert the list of dictionaries to a Pandas DataFrame and print its keys.\n",
        "\n",
        "results_df = pd.DataFrame(results)\n",
        "print(results_df.keys())"
      ],
      "metadata": {
        "id": "rZDZD6J6znjy"
      },
      "execution_count": null,
      "outputs": []
    },
    {
      "cell_type": "markdown",
      "source": [
        "Öncelikle, her bölümün sonunda Gini katsayısının popülasyon boyutunu artırdıkça nasıl değiştiğine daha yakından bakmak istiyoruz. Bunun için sonuçlarımızı her bölümün 100. adımında yalnızca bir etkenin verilerini içerecek şekilde filtreliyoruz (Gini katsayısı herhangi bir zamanda tüm popülasyon için aynı olacaktır) ve ardından etken sayısına göre Gini katsayısı değerlerini dağılım grafiğine döküyoruz. Toplu çalıştırmayı çağırırken iterasyonları = 5 olarak ayarladığımız için her popülasyon boyutu için beş değer olduğunu fark edin."
      ],
      "metadata": {
        "id": "wrF7-ODR0C4v"
      }
    },
    {
      "cell_type": "code",
      "source": [
        "# Filter the results to only contain the data of one agent (the Gini coefficient will be the same for the entire population at any time) at the 100th step of each episode\n",
        "results_filtered = results_df[(results_df.AgentID == 0) & (results_df.Step == 100)]\n",
        "results_filtered[[\"iteration\", \"N\", \"Gini\"]].reset_index(\n",
        "    drop=True\n",
        ").head()  # Create a scatter plot\n",
        "g = sns.scatterplot(data=results_filtered, x=\"N\", y=\"Gini\")\n",
        "g.set(\n",
        "    xlabel=\"Number of agents\",\n",
        "    ylabel=\"Gini coefficient\",\n",
        "    title=\"Gini coefficient vs. number of agents\",\n",
        ");"
      ],
      "metadata": {
        "id": "cspP1TIp0CeF"
      },
      "execution_count": null,
      "outputs": []
    },
    {
      "cell_type": "code",
      "source": [
        "#We can create different kinds of plot from this filtered DataFrame. For example, a point plot with error bars.\n",
        "\n",
        "# Create a point plot with error bars\n",
        "g = sns.pointplot(data=results_filtered, x=\"N\", y=\"Gini\", linestyle='none')\n",
        "g.figure.set_size_inches(8, 4)\n",
        "g.set(\n",
        "    xlabel=\"Number of agents\",\n",
        "    ylabel=\"Gini coefficient\",\n",
        "    title=\"Gini coefficient vs. number of agents\",\n",
        ");"
      ],
      "metadata": {
        "id": "n1NOFt130P1A"
      },
      "execution_count": null,
      "outputs": []
    },
    {
      "cell_type": "markdown",
      "source": [
        "İkinci olarak, belirli bir bölümün her zaman adımında ajanın servetini görüntülemek istiyoruz. Bunu yapmak için, büyük veri çerçevemizi tekrar filtreliyoruz, bu sefer sabit sayıda ajanla ve yalnızca o popülasyonun belirli bir yinelemesi için. Sonuçları yazdırmak için, filtrelenmiş veri çerçevesini yazdırılacak istenen sütunları belirten bir dizeye dönüştürüyoruz.\n",
        "\n",
        "Pandas, birçok farklı veri biçimine dönüştürmek için yerleşik işlevlere sahiptir. Örneğin, bir Jupyter Notebook'ta tablo olarak görüntülemek için, to_string() ile aynı argümanları alan to_html() işlevini kullanabiliriz (yorum satırlarına bakın)."
      ],
      "metadata": {
        "id": "wEftxt290V5b"
      }
    },
    {
      "cell_type": "code",
      "source": [
        "# First, we filter the results\n",
        "one_episode_wealth = results_df[(results_df.N == 10) & (results_df.iteration == 2)]\n",
        "# Then, print the columns of interest of the filtered data frame\n",
        "print(\n",
        "    one_episode_wealth.to_string(\n",
        "        index=False, columns=[\"Step\", \"AgentID\", \"Wealth\"], max_rows=10\n",
        "    )\n",
        ")\n",
        "# For a prettier display we can also convert the data frame to html, uncomment to test in a Jupyter Notebook\n",
        "# from IPython.display import display, HTML\n",
        "# display(HTML(one_episode_wealth.to_html(index=False, columns=['Step', 'AgentID', 'Wealth'], max_rows=25)))"
      ],
      "metadata": {
        "id": "4bb7pZr-0bLv"
      },
      "execution_count": null,
      "outputs": []
    },
    {
      "cell_type": "markdown",
      "source": [
        "Son olarak, Gini katsayısının bir yineleme boyunca gelişimine bakmak istiyoruz. Filtreleme ve yazdırma yukarıdakiyle hemen hemen aynı görünüyor, sadece bu sefer farklı bir bölüm seçiyoruz."
      ],
      "metadata": {
        "id": "_6rwGasX0gZf"
      }
    },
    {
      "cell_type": "code",
      "source": [
        "results_one_episode = results_df[\n",
        "    (results_df.N == 10) & (results_df.iteration == 1) & (results_df.AgentID == 0)\n",
        "]\n",
        "print(results_one_episode.to_string(index=False, columns=[\"Step\", \"Gini\"], max_rows=10))"
      ],
      "metadata": {
        "id": "iAiqmkOG0iPM"
      },
      "execution_count": null,
      "outputs": []
    },
    {
      "cell_type": "markdown",
      "source": [
        "**Analyzing model reporters: Comparing 5 scenarios**\n",
        "\n",
        "Farklı senaryoların Gini katsayısını karşılaştırdığımızda başka içgörüler elde edilebilir. Örneğin, 25 ajanlı bir popülasyonun Gini katsayısını 400 ajanlı bir popülasyonun Gini katsayısıyla karşılaştırabiliriz. Bunu yaparken, her popülasyon boyutu için Gini katsayısının daha iyi bir tahminini elde etmek ve kullanılabilir hata tahminleri elde etmek için yineleme sayısını 25'e çıkarırız.\n"
      ],
      "metadata": {
        "id": "Mc3qOO680qeN"
      }
    },
    {
      "cell_type": "code",
      "source": [
        "params = {\"width\": 10, \"height\": 10, \"N\": [5, 10, 20, 40, 80]}\n",
        "\n",
        "results_5s = mesa.batch_run(\n",
        "    MoneyModel,\n",
        "    parameters=params,\n",
        "    iterations=100,\n",
        "    max_steps=120,\n",
        "    number_processes=1,\n",
        "    data_collection_period=1,  # Important, otherwise the datacollector will only collect data of the last time step\n",
        "    display_progress=True,\n",
        ")\n",
        "\n",
        "results_5s_df = pd.DataFrame(results_5s)"
      ],
      "metadata": {
        "id": "5Zyurj5701GJ"
      },
      "execution_count": null,
      "outputs": []
    },
    {
      "cell_type": "code",
      "source": [
        "# Again filter the results to only contain the data of one agent (the Gini coefficient will be the same for the entire population at any time)\n",
        "results_5s_df_filtered = results_5s_df[(results_5s_df.AgentID == 0)]\n",
        "results_5s_df_filtered.head(3)"
      ],
      "metadata": {
        "id": "KnnNj-nt07CU"
      },
      "execution_count": null,
      "outputs": []
    },
    {
      "cell_type": "code",
      "source": [
        "# Create a lineplot with error bars\n",
        "g = sns.lineplot(\n",
        "    data=results_5s_df,\n",
        "    x=\"Step\",\n",
        "    y=\"Gini\",\n",
        "    hue=\"N\",\n",
        "    errorbar=(\"ci\", 95),\n",
        "    palette=\"tab10\",\n",
        ")\n",
        "g.figure.set_size_inches(8, 4)\n",
        "plot_title = \"Gini coefficient for different population sizes\\n(mean over 100 runs, with 95% confidence interval)\"\n",
        "g.set(title=plot_title, ylabel=\"Gini coefficient\");"
      ],
      "metadata": {
        "id": "N7SaI5-M1A_e"
      },
      "execution_count": null,
      "outputs": []
    },
    {
      "cell_type": "markdown",
      "source": [
        "Bu durumda Gini katsayısının daha küçük nüfuslar için daha yavaş arttığı görülmektedir. Bunun nedeni farklı şeyler olabilir, ya Gini katsayısı eşitsizliğin bir ölçüsüdür ve nüfus ne kadar küçükse, tüm ajanların aynı servet sınıfında olma olasılığı o kadar yüksektir ya da daha küçük nüfuslardaki ajanlar arasında daha az etkileşim vardır, bu da bir ajanın servetinin değişme olasılığının daha düşük olduğu anlamına gelir."
      ],
      "metadata": {
        "id": "FJWKb-aM05f7"
      }
    },
    {
      "cell_type": "markdown",
      "source": [
        "**Analyzing agent reporters**\n",
        "\n",
        "Aracılardan serveti ve işlemsiz ardışık tur sayısını topladık. Her bir popülasyon boyutu için işlemsiz ardışık turların ortalama sayısını çizerek 5 farklı popülasyon boyutunu karşılaştırabiliriz.\n",
        "\n",
        "Burada birden fazla kez toplama yaptığımızı unutmayın: Önce her bir tek tekrar için tüm aracıların ortalamasını alıyoruz. Sonra tüm tekrarlar için ortalamaları çiziyoruz ve hata bandı bu ilk ortalamanın %95 güven aralığını (tüm aracılar üzerinde) gösteriyor. Yani bu hata bandı her bir popülasyon boyutu için işlemsiz ardışık tur sayısının ortalama değerinin belirsizliğini temsil ediyor.\n",
        "\n",
        "\n",
        "\n",
        "\n",
        "\n",
        "\n",
        "\n"
      ],
      "metadata": {
        "id": "WgKHmj9X1JKM"
      }
    },
    {
      "cell_type": "code",
      "source": [
        "# Calculate the mean of the wealth and the number of consecutive rounds for all agents in each episode\n",
        "agg_results_df = (\n",
        "    results_5s_df.groupby([\"iteration\", \"N\", \"Step\"])\n",
        "    .agg({\"Wealth\": \"mean\", \"Steps_not_given\": \"mean\"})\n",
        "    .reset_index()\n",
        ")\n",
        "agg_results_df.head(3)"
      ],
      "metadata": {
        "id": "_ro-KpLu1IlZ"
      },
      "execution_count": null,
      "outputs": []
    },
    {
      "cell_type": "code",
      "source": [
        "# Create a line plot with error bars\n",
        "g = sns.lineplot(\n",
        "    data=agg_results_df, x=\"Step\", y=\"Steps_not_given\", hue=\"N\", palette=\"tab10\"\n",
        ")\n",
        "g.figure.set_size_inches(8, 4)\n",
        "g.set(\n",
        "    title=\"Average number of consecutive rounds without a transaction for different population sizes\\n(mean with 95% confidence interval)\",\n",
        "    ylabel=\"Consecutive rounds without a transaction\",\n",
        ");"
      ],
      "metadata": {
        "id": "raTF1ADd1TUa"
      },
      "execution_count": null,
      "outputs": []
    },
    {
      "cell_type": "markdown",
      "source": [
        "Ajan sayısı ne kadar düşükse, işlem yapılmayan ardışık tur sayısının o kadar yüksek olduğu açıkça görülebilir. Bunun nedeni, ajanların birbirleriyle daha az etkileşime girmesi ve dolayısıyla bir ajanın servetinin değişme olasılığının daha düşük olmasıdır."
      ],
      "metadata": {
        "id": "dJm95T0r1YPF"
      }
    },
    {
      "cell_type": "markdown",
      "source": [
        "**General steps for analyzing results**\n",
        "\n",
        "İlginizi çekebilecek politikalara, senaryolara ve belirsizliklere dayalı olarak birçok başka analiz mümkündür. Genel olarak, kendi analizinizi yapmak için şu adımları izleyebilirsiniz:\n",
        "\n",
        "Analiz etmek istediğiniz metrikleri belirleyin. Bunları modelinizin veri toplayıcısına model ve aracı muhabirleri olarak ekleyin.\n",
        "\n",
        "Değiştirmek istediğiniz giriş parametrelerini belirleyin. Bunları farklı değerleri test etmek için aralıklar veya listeler kullanarak batch_run işlevine parametre olarak ekleyin.\n",
        "\n",
        "batch_run işlevinin hiperparametrelerini belirleyin. Yineleme sayısını, işlem sayısını, adım sayısını, veri toplama süresini vb. tanımlayın.\n",
        "\n",
        "batch_run işlevini çalıştırın ve sonuçları kaydedin.\n",
        "\n",
        "Analiz etmek istediğiniz verileri elde etmek için sonuçları dönüştürün, filtreleyin ve toplayın. Her satırın tek bir değeri temsil etmesi için uzun formatta olduğundan emin olun.\n",
        "\n",
        "Bir çizim türü, x ve y ekseninde neyin çizileceğini, renk tonu için hangi sütunların kullanılacağını seçin. Seaborn'un ayrıca harika bir Örnek Galerisi vardır.\n",
        "\n",
        "Verileri çizin ve sonuçları analiz edin.\n",
        "\n",
        "\n"
      ],
      "metadata": {
        "id": "dTRXtywx1b7r"
      }
    },
    {
      "cell_type": "markdown",
      "source": [
        "Mutlu Modelleme!\n",
        "Bu belge devam eden bir çalışmadır. Herhangi bir hata, hariç tutma görürseniz veya herhangi bir sorun yaşarsanız lütfen bizimle iletişime geçin.\n",
        "\n",
        "[Comer2014] Comer, Kenneth W. “Kim Önce Gider? Ajan Tabanlı Modellerde Sonuç Davranışı Üzerindeki Etkinleştirmenin Etkisinin İncelenmesi.” George Mason Üniversitesi, 2014. http://mars.gmu.edu/bitstream/handle/1920/9070/Comer_gmu_0883E_10539.pdf\n",
        "\n",
        "[Dragulescu2002] Drăgulescu, Adrian A. ve Victor M. Yakovenko. “Para, Gelir ve Zenginliğin İstatistiksel Mekaniği: Kısa Bir Araştırma.” arXiv Ön Baskı Cond-mat/0211175, 2002. http://arxiv.org/abs/cond-mat/0211175."
      ],
      "metadata": {
        "id": "IhQQMM6O1mJN"
      }
    }
  ],
  "metadata": {
    "colab": {
      "name": "Colaboratory'ye Hoş Geldiniz",
      "toc_visible": true,
      "provenance": []
    },
    "kernelspec": {
      "display_name": "Python 3",
      "name": "python3"
    }
  },
  "nbformat": 4,
  "nbformat_minor": 0
}