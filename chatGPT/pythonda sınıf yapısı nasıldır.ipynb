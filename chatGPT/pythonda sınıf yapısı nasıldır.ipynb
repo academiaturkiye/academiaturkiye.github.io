{
  "cells": [
    {
      "cell_type": "markdown",
      "source": [
        "**Python'da Sınıf Yapısı Nasıldır?**\n",
        "\n",
        "\n",
        "Python'da sınıf yapısı, nesne yönelimli programlamayı destekleyen bir yapıdır. Sınıflar, bir nesnenin özelliklerini (nitelikler) ve davranışlarını (metotlar) tanımlamak için kullanılır. Python'da sınıf oluşturmak ve kullanmak oldukça basittir. İşte temel bir Python sınıf yapısının nasıl göründüğüne dair örnek bir açıklama:\n",
        "\n",
        "**1. Sınıf Tanımı**\n",
        "\n",
        "Sınıfı tanımlamak için class anahtar kelimesi kullanılır. İşte basit bir sınıf tanımı:"
      ],
      "metadata": {
        "id": "ypXzufjP9xyL"
      }
    },
    {
      "cell_type": "code",
      "source": [
        "class Araba:\n",
        "    def __init__(self, marka, model, yil):\n",
        "        self.marka = marka\n",
        "        self.model = model\n",
        "        self.yil = yil\n",
        "\n",
        "    def bilgi_ver(self):\n",
        "        return f\"{self.marka} {self.model} ({self.yil})\"\n"
      ],
      "metadata": {
        "id": "PfdUve2i8551"
      },
      "execution_count": 1,
      "outputs": []
    },
    {
      "cell_type": "markdown",
      "source": [
        "**2. Sınıfın Özellikleri**\n",
        "\n",
        "__ init__ metodu: Sınıfın bir örneği oluşturulduğunda çağrılır ve sınıfın özelliklerini (niteliklerini) başlatmak için kullanılır. Bu metodun ilk parametresi her zaman self olmalıdır, çünkü bu sınıfın örneğine referans verir.\n",
        "\n",
        "self: Sınıfın örneğine erişmek için kullanılan bir parametredir. Her metot ve özellik, self üzerinden erişilir.\n",
        "\n",
        "**3. Sınıfın Metotları**\n",
        "\n",
        "Sınıfın içindeki işlevler metot olarak adlandırılır. Yukarıdaki örnekte, bilgi_ver bir metottur ve sınıfın özelliklerini kullanarak bir bilgi dizesi döner.\n",
        "\n",
        "**4. Sınıfın Kullanımı**\n",
        "\n",
        "Sınıfı kullanarak bir nesne oluşturmak ve onun metotlarını çağırmak:"
      ],
      "metadata": {
        "id": "zLQ988Nc9NtN"
      }
    },
    {
      "cell_type": "code",
      "source": [
        "# Sınıftan bir örnek oluşturma\n",
        "benim_arabam = Araba(\"Toyota\", \"Corolla\", 2020)\n",
        "\n",
        "# Özelliklere erişim ve metot çağırma\n",
        "print(benim_arabam.bilgi_ver())  # Çıktı: Toyota Corolla (2020)\n"
      ],
      "metadata": {
        "id": "k7A2gb929XWq"
      },
      "execution_count": null,
      "outputs": []
    },
    {
      "cell_type": "markdown",
      "source": [
        "**5. Miras Alma (Inheritance)**\n",
        "\n",
        "Python'da sınıflar arasında miras alarak, bir sınıfın özelliklerini ve metotlarını başka bir sınıfa aktarmak mümkündür. Bu, kodun yeniden kullanılabilirliğini artırır."
      ],
      "metadata": {
        "id": "i50Bx0DM9cYp"
      }
    },
    {
      "cell_type": "code",
      "source": [
        "class ElektrikliAraba(Araba):\n",
        "    def __init__(self, marka, model, yil, batarya_kapasitesi):\n",
        "        super().__init__(marka, model, yil)\n",
        "        self.batarya_kapasitesi = batarya_kapasitesi\n",
        "\n",
        "    def bilgi_ver(self):\n",
        "        bilgi = super().bilgi_ver()\n",
        "        return f\"{bilgi}, Batarya Kapasitesi: {self.batarya_kapasitesi} kWh\"\n"
      ],
      "metadata": {
        "id": "n_EJP9MW9g2M"
      },
      "execution_count": null,
      "outputs": []
    },
    {
      "cell_type": "markdown",
      "source": [
        "**6. Sınıf ve Örnek Metodlar**\n",
        "\n",
        "Sınıf metotları ve örnek metodları arasında fark vardır:\n",
        "\n",
        "Örnek Metodlar: self parametresini alır ve bir sınıfın örneğine ait özelliklere erişebilirler.\n",
        "\n",
        "Sınıf Metotları: @classmethod dekoratörü ile tanımlanır ve sınıfın kendisine erişir. cls parametresi alır. Bu metotlar, sınıfın genel bilgilerini değiştirmek veya sınıfın örnekleri üzerinde işlem yapmak için kullanılır."
      ],
      "metadata": {
        "id": "Uc-zhmVC9l4p"
      }
    },
    {
      "cell_type": "code",
      "source": [
        "class Araba:\n",
        "    toplam_araba_sayisi = 0\n",
        "\n",
        "    def __init__(self, marka, model, yil):\n",
        "        self.marka = marka\n",
        "        self.model = model\n",
        "        self.yil = yil\n",
        "        Araba.toplam_araba_sayisi += 1\n",
        "\n",
        "    @classmethod\n",
        "    def araba_sayisini_goster(cls):\n",
        "        return cls.toplam_araba_sayisi\n"
      ],
      "metadata": {
        "id": "dotQ2Rwg9p8H"
      },
      "execution_count": null,
      "outputs": []
    },
    {
      "cell_type": "markdown",
      "source": [
        "**7. Statik Metotlar**\n",
        "\n",
        "Statik metotlar, sınıfın örneklerine veya sınıfın kendisine erişmeyen metotlardır. @staticmethod dekoratörü ile tanımlanır."
      ],
      "metadata": {
        "id": "n1HdsePw9toi"
      }
    },
    {
      "cell_type": "code",
      "source": [
        "class Matematik:\n",
        "    @staticmethod\n",
        "    def toplama(a, b):\n",
        "        return a + b\n"
      ],
      "metadata": {
        "id": "f7Mvj-gu9vav"
      },
      "execution_count": null,
      "outputs": []
    },
    {
      "cell_type": "markdown",
      "source": [
        "Sınıf yapısı, bu temel kavramlar ve örneklerle oldukça genişletilebilir. İhtiyacınıza göre özellikler, metotlar ve diğer özelliklerle zenginleştirilmiş sınıflar oluşturabilirsiniz."
      ],
      "metadata": {
        "id": "bsR-vsFL9yE7"
      }
    }
  ],
  "metadata": {
    "colab": {
      "name": "Colaboratory'ye Hoş Geldiniz",
      "toc_visible": true,
      "provenance": []
    },
    "kernelspec": {
      "display_name": "Python 3",
      "name": "python3"
    }
  },
  "nbformat": 4,
  "nbformat_minor": 0
}