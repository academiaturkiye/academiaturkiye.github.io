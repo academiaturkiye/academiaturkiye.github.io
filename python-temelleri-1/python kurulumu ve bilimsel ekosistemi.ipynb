{
  "cells": [
    {
      "cell_type": "markdown",
      "source": [
        "**Python'da bilimsel ekosistem**\n",
        "\n",
        "\n",
        "URLs of projects in Scientific Python Ecosystem\n",
        "\n",
        "Scientific Python Ecosystem\n",
        "\n",
        "https://www.scipy.org/about.html\n",
        "\n",
        "NumPy http://www.numpy.org/\n",
        "\n",
        "SciPy https://www.scipy.org/\n",
        "\n",
        "Matplotlib http://matplotlib.org/\n",
        "\n",
        "pandas http://pandas.pydata.org/\n",
        "\n",
        "SymPy http://sympy.org/\n",
        "\n",
        "IPython http://ipython.org/\n",
        "\n",
        "Jupyter https://jupyter.org/\n",
        "\n",
        "scikit-image https://scikit-image.org/\n",
        "\n",
        "scikit-learn http://scikit-learn.org/\n",
        "\n",
        "h5py https://www.h5py.org/\n",
        "\n",
        "PyTables https://www.pytables.org/\n"
      ],
      "metadata": {
        "id": "ypXzufjP9xyL"
      }
    },
    {
      "cell_type": "code",
      "source": [],
      "metadata": {
        "id": "E8MEHeeffUDJ"
      },
      "execution_count": null,
      "outputs": []
    },
    {
      "cell_type": "markdown",
      "source": [
        "**Python Kurulumu**\n",
        "\n",
        "https://www.udemy.com/course/python3-pandas-datascience-timeseries/learn/lecture/15300814#overview\n",
        "\n",
        "\n",
        "**Windowsta python doğrulama ve çalıştırma**\n",
        "\n",
        "https://www.udemy.com/course/python3-pandas-datascience-timeseries/learn/lecture/15300816#overview\n",
        "\n",
        "\n",
        "Commands used on the Windows cmd\n",
        "python -V\n",
        "python --version\n",
        "pip -V\n",
        "path"
      ],
      "metadata": {
        "id": "Rb4liurTdToW"
      }
    },
    {
      "cell_type": "markdown",
      "source": [
        "**windows cmd komutları**\n",
        "\n",
        "\n"
      ],
      "metadata": {
        "id": "24EYxCKxeauW"
      }
    },
    {
      "cell_type": "markdown",
      "source": [
        "**python shell (IDLE) komutları**"
      ],
      "metadata": {
        "id": "Sp4Oq6uEeefG"
      }
    },
    {
      "cell_type": "code",
      "source": [],
      "metadata": {
        "id": "4pqGN8cV9yMx"
      },
      "execution_count": null,
      "outputs": []
    }
  ],
  "metadata": {
    "colab": {
      "name": "Colaboratory'ye Hoş Geldiniz",
      "toc_visible": true,
      "provenance": []
    },
    "kernelspec": {
      "display_name": "Python 3",
      "name": "python3"
    }
  },
  "nbformat": 4,
  "nbformat_minor": 0
}