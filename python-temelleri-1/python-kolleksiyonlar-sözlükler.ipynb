{
  "cells": [
    {
      "cell_type": "markdown",
      "source": [
        "**KOLLEKSİYONLAR - SÖZLÜKLER**\n",
        "\n",
        "https://www.degisimkitap.com/UserFiles/Image/files/Temel_Python_Degisim%281%29.pdf\n",
        "\n",
        "Koleksiyonlar, bir değişkenin birden fazla değer taşıması gerektiğinde\n",
        "kullanılan veri türlerdir. Python programlama dilinde başlıca dört\n",
        "koleksiyon türü vardır:\n",
        "1. List (liste), öğeleri sıralı, indeksli ve değiştirilebilir bir\n",
        "koleksiyondur. Aynı öğeden birden fazla içermeye izin verir.\n",
        "2. Tuple (demet), öğeleri sıralı, indeksli ancak değiştirilemeyen bir\n",
        "koleksiyondur. Aynı öğeden birden fazla içermeye izin verir.\n",
        "3. Set (küme), öğeleri sıralı olmayan, indeksli olmayan ve\n",
        "değiştirilemeyen bir koleksiyondur. Aynı öğeden birden fazla\n",
        "içermeye izin vermez.\n",
        "4. Dictionary (sözlük), öğeleri sıralı5\n",
        ", anahtar indeksli ve\n",
        "değiştirilebilir bir koleksiyondur. Aynı öğeden (anahtardan) birden\n",
        "fazla içermeye izin vermez."
      ],
      "metadata": {
        "id": "zwmUoHJM0zDk"
      }
    },
    {
      "cell_type": "markdown",
      "source": [
        "**SÖZLÜKLER**\n",
        "\n",
        "Python’da sözlükler (dictionaries) bir koleksiyon türüdür. Sözlük\n",
        "koleksiyonları; sıralı, değiştirilebilir ve anahtar indeksli öğeleri barındırır.\n",
        "Her öğe bir anahtara (key) ve bir de değere (value) sahiptir. Sözlükler\n",
        "küme parantezleri { } kullanılarak aşağıdaki örnekte görüleceği gibi\n",
        "tanımlanırlar.\n",
        "\n",
        "Sözlükte tanımlı öğelerin ilk unsuru anahtar (key), ikinci unsuru değer\n",
        "(value) olarak isimlendirilir. Anahtarlar string veri türündedir ve tırnak\n",
        "işareti içinde tanımlanırlar. Değerler ise herhangi bir veri türünde olabilir."
      ],
      "metadata": {
        "id": "D6wFmIDYNZXC"
      }
    },
    {
      "cell_type": "code",
      "source": [
        "personel = {\n",
        " \"isim\": \"Adem\",\n",
        " \"soyisim\": \"Zengin\",\n",
        " \"yaş\": 35\n",
        "}\n",
        "print(personel)"
      ],
      "metadata": {
        "id": "K6M0t7NJNbRA",
        "outputId": "70b8f12b-a385-454b-d601-53aa7054e48c",
        "colab": {
          "base_uri": "https://localhost:8080/"
        }
      },
      "execution_count": 71,
      "outputs": [
        {
          "output_type": "stream",
          "name": "stdout",
          "text": [
            "{'isim': 'Adem', 'soyisim': 'Zengin', 'yaş': 35}\n"
          ]
        }
      ]
    },
    {
      "cell_type": "markdown",
      "source": [
        "**Sözlük Öğelerine Erişim**\n",
        "\n",
        "Bir sözlük içindeki bir öğenin değerine onun anahtarı kullanılarak erişilir.\n",
        "Bunun için sözlük adının yanına bir köşeli parantez [] açılır ve içine\n",
        "erişilmek istenen öğenin anahtarı yazılır. Aynı işlem get() metodu\n",
        "kullanılarak da yapılabilir."
      ],
      "metadata": {
        "id": "kh8Zo2iANnmT"
      }
    },
    {
      "cell_type": "code",
      "source": [
        "personel = {\n",
        " \"isim\": \"Adem\",\n",
        " \"soyisim\": \"Zengin\",\n",
        " \"yaş\": 35\n",
        "}\n",
        "a = personel[\"yaş\"]\n",
        "b = personel.get(\"yaş\")\n",
        "print(a)\n",
        "print(b)"
      ],
      "metadata": {
        "id": "H4Oh1h9uNw2K",
        "outputId": "934fb09b-1bf5-4241-8fa7-c56a143c30d3",
        "colab": {
          "base_uri": "https://localhost:8080/"
        }
      },
      "execution_count": 72,
      "outputs": [
        {
          "output_type": "stream",
          "name": "stdout",
          "text": [
            "35\n",
            "35\n"
          ]
        }
      ]
    },
    {
      "cell_type": "markdown",
      "source": [
        "**Değer Değiştirme**\n",
        "\n",
        "Sözlükteki bir öğenin değeri, anahtarı kullanılarak değiştirilebilir."
      ],
      "metadata": {
        "id": "oJsmKUpSN-vJ"
      }
    },
    {
      "cell_type": "code",
      "source": [
        "personel = {\n",
        " \"isim\": \"Adem\",\n",
        " \"soyisim\": \"Zengin\",\n",
        " \"yaş\": 35\n",
        "}\n",
        "personel[\"yaş\"] = 40\n",
        "print(personel)"
      ],
      "metadata": {
        "id": "gsMxyWEUOGbL",
        "outputId": "2dbaae0f-f228-4ecc-eeef-c2df7956db00",
        "colab": {
          "base_uri": "https://localhost:8080/"
        }
      },
      "execution_count": 73,
      "outputs": [
        {
          "output_type": "stream",
          "name": "stdout",
          "text": [
            "{'isim': 'Adem', 'soyisim': 'Zengin', 'yaş': 40}\n"
          ]
        }
      ]
    },
    {
      "cell_type": "markdown",
      "source": [
        "**Öğeleri Döndürme**\n",
        "\n",
        "Sözlük öğeleri for döngüsü kullanılarak döndürülebilir. Sözlük öğelerine\n",
        "ait anahtar (key) ve değer (value) çiftlerini aşağıda gösterildiği şekilde\n",
        "ayrı ayrı döndürmek mümkündür."
      ],
      "metadata": {
        "id": "h9CYOB9hOPOl"
      }
    },
    {
      "cell_type": "code",
      "source": [
        "personel = {\n",
        " \"isim\": \"Adem\",\n",
        " \"soyisim\": \"Zengin\",\n",
        " \"yaş\": 35\n",
        "}\n",
        "# Anahtarları döndürme\n",
        "for a in personel:\n",
        "    print(a)\n",
        "print(\"-------\")\n",
        "# Değerleri döndürme\n",
        "for a in personel:\n",
        "    print(personel[a])"
      ],
      "metadata": {
        "id": "81yTPQ6rOQ3K",
        "outputId": "923e436b-1f82-4b29-c50b-39bc18e09179",
        "colab": {
          "base_uri": "https://localhost:8080/"
        }
      },
      "execution_count": 74,
      "outputs": [
        {
          "output_type": "stream",
          "name": "stdout",
          "text": [
            "isim\n",
            "soyisim\n",
            "yaş\n",
            "-------\n",
            "Adem\n",
            "Zengin\n",
            "35\n"
          ]
        }
      ]
    },
    {
      "cell_type": "markdown",
      "source": [
        "Değerleri döndürmenin bir başka yolu values() metodunu\n",
        "kullanmaktır. Diğer taraftan items() metodu hem anahtarların hem de\n",
        "değerlerin döndürülmesini basitleştiren bir metot olarak kullanılabilir. Bu\n",
        "iki metodun kullanımı aşağıdaki örnekte görülmektedir."
      ],
      "metadata": {
        "id": "Hl6U3_lXOoF6"
      }
    },
    {
      "cell_type": "code",
      "source": [
        "personel = {\n",
        " \"isim\": \"Adem\",\n",
        " \"soyisim\": \"Zengin\",\n",
        " \"yaş\": 35\n",
        "}\n",
        "# values() metodu ile değerleri döndürme\n",
        "for a in personel.values():\n",
        "    print(a)\n",
        "\n",
        "print(\"-------\")\n",
        "# items() metodu ile hem anahtar hem değer\n",
        "# döndürme\n",
        "for a, b in personel.items():\n",
        "    print(a, b)"
      ],
      "metadata": {
        "id": "EN_bXrxNOq4e",
        "outputId": "8727ccf1-0f82-4e88-b4de-c97c3e7da59a",
        "colab": {
          "base_uri": "https://localhost:8080/"
        }
      },
      "execution_count": 75,
      "outputs": [
        {
          "output_type": "stream",
          "name": "stdout",
          "text": [
            "Adem\n",
            "Zengin\n",
            "35\n",
            "-------\n",
            "isim Adem\n",
            "soyisim Zengin\n",
            "yaş 35\n"
          ]
        }
      ]
    },
    {
      "cell_type": "markdown",
      "source": [
        "**Anahtar Sorgulama**\n",
        "\n",
        "Bir sözlükte bir anahtarın olup olmadığı “in” kodu ile sorgulanmaktadır."
      ],
      "metadata": {
        "id": "MW2ZlDHoPBUL"
      }
    },
    {
      "cell_type": "code",
      "source": [
        "personel = {\n",
        " \"isim\": \"Adem\",\n",
        " \"soyisim\": \"Zengin\",\n",
        " \"yaş\": 35\n",
        "}\n",
        "if \"yaş\" in personel:\n",
        "    print(\"Evet, 'yaş' diye bir anahtar mevcut!\")"
      ],
      "metadata": {
        "id": "oGQbYc4wPDDy",
        "outputId": "5e53112d-5787-4c30-cbea-f3a05e2e6c26",
        "colab": {
          "base_uri": "https://localhost:8080/"
        }
      },
      "execution_count": 76,
      "outputs": [
        {
          "output_type": "stream",
          "name": "stdout",
          "text": [
            "Evet, 'yaş' diye bir anahtar mevcut!\n"
          ]
        }
      ]
    },
    {
      "cell_type": "markdown",
      "source": [
        "**Öğe Ekleme**\n",
        "\n",
        "Bir sözlüğe yeni öğe eklemek için yeni bir anahtar tanımlanmalı ve o\n",
        "anahtara bir değer atanmalıdır."
      ],
      "metadata": {
        "id": "qMcQ_WtaPRok"
      }
    },
    {
      "cell_type": "code",
      "source": [
        "personel = {\n",
        " \"isim\": \"Adem\",\n",
        " \"soyisim\": \"Zengin\",\n",
        " \"yaş\": 35\n",
        "}\n",
        "personel[\"ünvan\"] = \"Doktor\"\n",
        "print(personel)"
      ],
      "metadata": {
        "id": "oFzogLpWPTlx",
        "outputId": "d411323c-8af1-4322-8000-07a09f7af8cd",
        "colab": {
          "base_uri": "https://localhost:8080/"
        }
      },
      "execution_count": 77,
      "outputs": [
        {
          "output_type": "stream",
          "name": "stdout",
          "text": [
            "{'isim': 'Adem', 'soyisim': 'Zengin', 'yaş': 35, 'ünvan': 'Doktor'}\n"
          ]
        }
      ]
    },
    {
      "cell_type": "markdown",
      "source": [
        "**Öğe Silme**\n",
        "\n",
        "Sözlükten öğe silmenin farklı yöntemleri vardır. Örneğin, pop() metodu\n",
        "veya del kodu, anahtarı bilinen öğeyi sözlükten silmek için kullanılabilir.\n",
        "popitem() metodu ise son eklenen öğeyi sözlükten siler. Eğer tüm\n",
        "öğeler sözlükten silinmek isteniyorsa clear() metodu kullanılmalıdır.\n",
        "Bunların kullanımına ilişkin örnek kodlar aşağıda verilmiştir."
      ],
      "metadata": {
        "id": "Dt_fINLfPbj3"
      }
    },
    {
      "cell_type": "code",
      "source": [
        "personel = {\n",
        " \"isim\": \"Adem\",\n",
        " \"soyisim\": \"Zengin\",\n",
        " \"yaş\": 35,\n",
        " \"ünvan\": \"Doktor\"\n",
        "}\n",
        "personel.pop(\"ünvan\")\n",
        "print(personel)\n",
        "del personel[\"yaş\"]\n",
        "print(personel)\n",
        "personel.popitem()\n",
        "print(personel)\n",
        "personel.clear()\n",
        "print(personel)"
      ],
      "metadata": {
        "id": "obsb4gLtPdKK",
        "outputId": "48921966-0894-4eaa-980a-2e8d331c86e2",
        "colab": {
          "base_uri": "https://localhost:8080/"
        }
      },
      "execution_count": 78,
      "outputs": [
        {
          "output_type": "stream",
          "name": "stdout",
          "text": [
            "{'isim': 'Adem', 'soyisim': 'Zengin', 'yaş': 35}\n",
            "{'isim': 'Adem', 'soyisim': 'Zengin'}\n",
            "{'isim': 'Adem'}\n",
            "{}\n"
          ]
        }
      ]
    },
    {
      "cell_type": "markdown",
      "source": [
        "**Sözlük Kopyalama**\n",
        "\n",
        "Sözlükler atama yöntemiyle, yani eşitlik ifadesi (=) kullanılarak\n",
        "kopyalanamaz. Örneğin personel2 = personel şeklinde bir kullanım\n",
        "ortaya iki bağımsız sözlük çıkarmaz. Bu işlem sadece personel isimli\n",
        "sözlüğün bir yansımasını ortaya çıkarır. Bunun anlamı, personel isimli\n",
        "sözlükte yapılacak her değişiklik otomatik olarak personel2’de de\n",
        "görülecektir. Bir sözlükten iki bağımsız sözlük elde etmek için copy()\n",
        "metodu veya dict() fonksiyonu kullanılmalıdır."
      ],
      "metadata": {
        "id": "c3rwTXfYP6ui"
      }
    },
    {
      "cell_type": "code",
      "source": [
        "personel = {\n",
        " \"isim\": \"Adem\",\n",
        " \"soyisim\": \"Zengin\"\n",
        "}\n",
        "personel2 = personel.copy()\n",
        "print(personel2)\n",
        "print(\"-------------------------------------\")\n",
        "personel3 = dict(personel)\n",
        "print(personel3)"
      ],
      "metadata": {
        "id": "t4LOzJ_LQDJr",
        "outputId": "3815ddb1-ffa8-4cf7-84c4-17e4b9528d5d",
        "colab": {
          "base_uri": "https://localhost:8080/"
        }
      },
      "execution_count": 79,
      "outputs": [
        {
          "output_type": "stream",
          "name": "stdout",
          "text": [
            "{'isim': 'Adem', 'soyisim': 'Zengin'}\n",
            "-------------------------------------\n",
            "{'isim': 'Adem', 'soyisim': 'Zengin'}\n"
          ]
        }
      ]
    },
    {
      "cell_type": "markdown",
      "source": [
        "**İç İçe Sözlükler**\n",
        "\n",
        "Bir sözlük kendi içinde başka sözlükleri barındırabilir. Bu tür sözlüklere iç\n",
        "içe sözlükler (nested dictionaries) denir."
      ],
      "metadata": {
        "id": "8vtYmcGEQOPZ"
      }
    },
    {
      "cell_type": "code",
      "source": [
        "personeller = {\n",
        " \"p1\" : {\n",
        " \"isim\" : \"Adem\",\n",
        " \"yaş\" : 35\n",
        " },\n",
        " \"p2\" : {\n",
        " \"isim\" : \"Ahmet\",\n",
        " \"yaş\" : 27\n",
        " }\n",
        "}\n",
        "print(personeller)"
      ],
      "metadata": {
        "id": "8EeY41eOQYg1",
        "outputId": "01157447-e5e3-4c83-80f7-09491d9b53ff",
        "colab": {
          "base_uri": "https://localhost:8080/"
        }
      },
      "execution_count": 80,
      "outputs": [
        {
          "output_type": "stream",
          "name": "stdout",
          "text": [
            "{'p1': {'isim': 'Adem', 'yaş': 35}, 'p2': {'isim': 'Ahmet', 'yaş': 27}}\n"
          ]
        }
      ]
    },
    {
      "cell_type": "markdown",
      "source": [
        "Hali hazırda mevcut olan sözlükler de tek bir sözlük içinde toplanabilir."
      ],
      "metadata": {
        "id": "QNPUoKGJQd_c"
      }
    },
    {
      "cell_type": "code",
      "source": [
        "p1 = {\n",
        "\"isim\" : \"Adem\",\n",
        "\"yaş\" : 35\n",
        "}\n",
        "p2 = {\n",
        "\"isim\" : \"Ahmet\",\n",
        "\"yaş\" : 27\n",
        "}\n",
        "personeller = {\"per1\":p1,\n",
        " \"per2\":p2}\n",
        "print(personeller)"
      ],
      "metadata": {
        "id": "CkcCsGKUQenp",
        "outputId": "4fa9885c-69e8-4b46-98d5-05f0a4fb6afc",
        "colab": {
          "base_uri": "https://localhost:8080/"
        }
      },
      "execution_count": 81,
      "outputs": [
        {
          "output_type": "stream",
          "name": "stdout",
          "text": [
            "{'per1': {'isim': 'Adem', 'yaş': 35}, 'per2': {'isim': 'Ahmet', 'yaş': 27}}\n"
          ]
        }
      ]
    },
    {
      "cell_type": "markdown",
      "source": [
        "**Sözlük İnşası**\n",
        "\n",
        "Daha önce sözlük kopyalamada kullanılan dict() fonksiyonu aynı\n",
        "zamanda yeni bir sözlük inşası için de kullanılabilmektedir."
      ],
      "metadata": {
        "id": "MQqQCzgzQxbq"
      }
    },
    {
      "cell_type": "code",
      "source": [
        "# Anahtarların string olarak verilmediğine\n",
        "# dikkat ediniz.\n",
        "personel = dict(isim=\"Adem\",\n",
        " soyisim=\"Zengin\",\n",
        " yaş=35)\n",
        "print(personel)"
      ],
      "metadata": {
        "id": "t-y64x3OQ0n6",
        "outputId": "495e9f57-ff92-4a4b-94a9-d618582f7fb4",
        "colab": {
          "base_uri": "https://localhost:8080/"
        }
      },
      "execution_count": 82,
      "outputs": [
        {
          "output_type": "stream",
          "name": "stdout",
          "text": [
            "{'isim': 'Adem', 'soyisim': 'Zengin', 'yaş': 35}\n"
          ]
        }
      ]
    }
  ],
  "metadata": {
    "colab": {
      "name": "Colaboratory'ye Hoş Geldiniz",
      "toc_visible": true,
      "provenance": []
    },
    "kernelspec": {
      "display_name": "Python 3",
      "name": "python3"
    }
  },
  "nbformat": 4,
  "nbformat_minor": 0
}