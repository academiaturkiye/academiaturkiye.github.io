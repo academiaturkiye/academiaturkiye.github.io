{
  "cells": [
    {
      "cell_type": "markdown",
      "source": [
        "**KOLLEKSİYONLAR**\n",
        "\n",
        "https://www.degisimkitap.com/UserFiles/Image/files/Temel_Python_Degisim%281%29.pdf\n",
        "\n",
        "Koleksiyonlar, bir değişkenin birden fazla değer taşıması gerektiğinde\n",
        "kullanılan veri türlerdir. Python programlama dilinde başlıca dört\n",
        "koleksiyon türü vardır:\n",
        "1. List (liste), öğeleri sıralı, indeksli ve değiştirilebilir bir\n",
        "koleksiyondur. Aynı öğeden birden fazla içermeye izin verir.\n",
        "2. Tuple (demet), öğeleri sıralı, indeksli ancak değiştirilemeyen bir\n",
        "koleksiyondur. Aynı öğeden birden fazla içermeye izin verir.\n",
        "3. Set (küme), öğeleri sıralı olmayan, indeksli olmayan ve\n",
        "değiştirilemeyen bir koleksiyondur. Aynı öğeden birden fazla\n",
        "içermeye izin vermez.\n",
        "4. Dictionary (sözlük), öğeleri sıralı5\n",
        ", anahtar indeksli ve\n",
        "değiştirilebilir bir koleksiyondur. Aynı öğeden (anahtardan) birden\n",
        "fazla içermeye izin vermez."
      ],
      "metadata": {
        "id": "zwmUoHJM0zDk"
      }
    },
    {
      "cell_type": "code",
      "source": [
        "# list\n",
        "birListe = [\"elma\", \"armut\", \"kiraz\", \"kiraz\"]\n",
        "# tuple\n",
        "birDemet = (\"elma\", \"armut\", \"kiraz\", \"kiraz\")\n",
        "# set\n",
        "birKüme = {\"elma\", \"armut\", \"kiraz\"}\n",
        "# dict\n",
        "birSözlük = {\"tür\" : \"elma\", \"kg\" : 32}"
      ],
      "metadata": {
        "id": "OjpUHv7G1J-D"
      },
      "execution_count": 1,
      "outputs": []
    },
    {
      "cell_type": "code",
      "source": [
        "print(birListe)\n",
        "print(birDemet)\n",
        "print(birKüme)\n",
        "print(birSözlük)"
      ],
      "metadata": {
        "id": "Mp-3BZwg1tSy",
        "outputId": "1851f6ca-b316-4d28-9562-81ca4c2d407a",
        "colab": {
          "base_uri": "https://localhost:8080/"
        }
      },
      "execution_count": 4,
      "outputs": [
        {
          "output_type": "stream",
          "name": "stdout",
          "text": [
            "['elma', 'armut', 'kiraz', 'kiraz']\n",
            "('elma', 'armut', 'kiraz', 'kiraz')\n",
            "{'elma', 'kiraz', 'armut'}\n",
            "{'tür': 'elma', 'kg': 32}\n"
          ]
        }
      ]
    },
    {
      "cell_type": "code",
      "source": [
        "print(birListe,birDemet,birKüme,birSözlük)"
      ],
      "metadata": {
        "id": "2hbhXFQa1ZgU",
        "outputId": "770371dc-b0d4-4c84-dd6c-bfc0beb52c8c",
        "colab": {
          "base_uri": "https://localhost:8080/"
        }
      },
      "execution_count": 3,
      "outputs": [
        {
          "output_type": "stream",
          "name": "stdout",
          "text": [
            "['elma', 'armut', 'kiraz', 'kiraz'] ('elma', 'armut', 'kiraz', 'kiraz') {'elma', 'kiraz', 'armut'} {'tür': 'elma', 'kg': 32}\n"
          ]
        }
      ]
    },
    {
      "cell_type": "markdown",
      "source": [
        "Yukarıda verilen koleksiyon türleri için sıralılık, indekslilik ve\n",
        "değiştirilebilirlik özelliklerinden bahsedildi. Bir koleksiyon türünün sıralı\n",
        "olması demek, sahip olduğu öğelerin belli bir sıraya göre dizilmesi ve bu\n",
        "sıralamanın bilgisayar tarafından korunması demektir. Bu sıralama,\n",
        "koleksiyon türü tanımlandığı anda belleğe kaydedilir. Tanımlanma\n",
        "sırasında soldan sağa doğru yazılan sıra geçerli olan sıradır.\n",
        "Değiştirilebilir koleksiyonlarda daha sonra istenirse bu sıralama\n",
        "değiştirilebilir. List, tuple ve dictionary koleksiyonları sıralı özellikte iken\n",
        "set koleksiyonları sıralı değildir. Koleksiyon, alt alta çekmeceleri olan bir\n",
        "dolaba benzetilirse sıralı olmayan bir koleksiyonda siz ilk çekmeceye\n",
        "gözlüğünüzü koyduğunuzda ve sonraki bir zamanda gelip ilk çekmeceyi\n",
        "açtığınızda gözlüğünüzü orada bulamama ihtimaliniz yüksektir.\n",
        "Gözlüğünüz orada değilse mutlaka diğer çekmecelerden birindedir.\n",
        "Özetle sıralı koleksiyonlarda, hem değerlerin kendileri hem de\n",
        "koleksiyondaki yerleri bellekte tutulur. Sıralı olmayan koleksiyonlarda ise\n",
        "değerlerin sadece kendileri bellekte tutulur."
      ],
      "metadata": {
        "id": "8Hq-HzkM2Lp7"
      }
    },
    {
      "cell_type": "markdown",
      "source": [
        "Python’da indeksli koleksiyonlardan list ve tuple türlerinde koleksiyonun\n",
        "taşıdığı değerlere erişmek için indeks numaraları kullanılır. İndeks 0’dan\n",
        "başlar ve tam sayılar ile ilerler. Negatif rakamların kullanılması da\n",
        "mümkündür. Negatif indeks numaraları sondan başa doğru erişim\n",
        "sağlar. Örneğin -1. öğe sondan 1. öğedir. Anahtar indeksli olan\n",
        "dictionary türünde ise rakamların yerini anahtarlar alır. Her bir öğenin bir\n",
        "anahtarı (key) bir de değeri (value) vardır. Bir değere erişilmek\n",
        "istendiğinde onun anahtarı kullanılır. Koleksiyon öğelerine erişimin nasıl\n",
        "sağlandığına dair bilgiler ve örnek kodlar ilgili konu başlıkları altında\n",
        "verilmiştir.\n"
      ],
      "metadata": {
        "id": "iWXs1nGp2Z3t"
      }
    },
    {
      "cell_type": "markdown",
      "source": [
        "Değiştirilebilirlik, koleksiyon türlerinin bir başka önemli özelliğidir. Python\n",
        "koleksiyonlarından list ve dictionary değiştirilebilir iken tuple ve set\n",
        "değiştirilemez koleksiyonlardır. Değiştirilebilir olmak ilk bakışta olumlu bir\n",
        "özellik gibi görünse de bazı durumlarda kullanımı dezavantajlı\n",
        "olabilmektedir. Örneğin belli sayıda öğeden oluşan ve ekleme-çıkarma\n",
        "yapılmasını istemediğiniz bir koleksiyona zaman zaman ihtiyaç\n",
        "duyulabilir. Buna IP adresi, kredi kartı numarası, bazı aktivasyon kodları\n",
        "gibi örnekler verilebilir. Değiştirilemezlik bir yönüyle de güvenlik faktörü\n",
        "ile ilişkili bir özelliktir. Olduğu şekliyle kalmasını sağlamak istediğiniz bir\n",
        "koleksiyonu güvenceye almak için onu tuple veya set türünde\n",
        "tanımlayabilirsiniz.Bir koleksiyon türü seçerken, o türün özelliklerini bilmek ve ona göre seçmek gerekir. Tasarlanan bir veri koleksiyonu için doğru türün\n",
        "seçilmesi kullanışlılık, verimlilik veya güvenlik yönünden avantaj\n",
        "sağlayabilir. Örneğin bir programcı, koleksiyon öğelerine indeks\n",
        "numarası ile ulaşmak istiyorsa list veya tuple türlerini tercih etmelidir.\n",
        "Eğer koleksiyona zaman içinde yeni öğeler eklemek veya mevcutları\n",
        "koleksiyondan çıkarmak gibi bir amaç güdüyorsa bu durumda tuple\n",
        "uygun bir tercih olmayacaktır."
      ],
      "metadata": {
        "id": "zzihJxZT2pX_"
      }
    },
    {
      "cell_type": "markdown",
      "source": [
        "**LİSTELER**\n",
        "\n",
        "Python'da listeler, bir veri koleksiyonunun kolay kullanımına izin veren\n",
        "sıralı, indeksli ve değiştirilebilir öğe koleksiyonlarıdır. Liste öğeleri\n",
        "virgülle ayrılır ve tüm öğeler köşeli parantez [ ] arasına yerleştirilir.\n",
        "Virgül ile sonraki değer arasına boşluk koymak iyi bir uygulamadır.\n",
        "Listedeki değerlerin benzersiz olması gerekmez (aynı değer\n",
        "tekrarlanabilir). Boş listeler, köşeli parantez içinde herhangi bir değer\n",
        "içermez.\n"
      ],
      "metadata": {
        "id": "NJg0ND5M28o8"
      }
    },
    {
      "cell_type": "code",
      "source": [
        "şifre = [6, 1, 6, 9, 3]\n",
        "print(şifre)\n"
      ],
      "metadata": {
        "id": "XIKZ9pqh1tJV",
        "outputId": "6fbe71e4-3126-489f-9e30-0c351da76fb9",
        "colab": {
          "base_uri": "https://localhost:8080/"
        }
      },
      "execution_count": 5,
      "outputs": [
        {
          "output_type": "stream",
          "name": "stdout",
          "text": [
            "[6, 1, 6, 9, 3]\n"
          ]
        }
      ]
    },
    {
      "cell_type": "code",
      "source": [
        "# Boş bir liste oluşturma\n",
        "liste1 = []"
      ],
      "metadata": {
        "id": "3WrGR-v-3w5Q"
      },
      "execution_count": 6,
      "outputs": []
    },
    {
      "cell_type": "markdown",
      "source": [
        "**Listelerde Veri Türleri**\n",
        "\n",
        "Python'da listeler, aynı köşeli parantez içinde birden çok farklı veri türü\n",
        "içerebilen çok yönlü bir veri türüdür. Bir listedeki olası veri türleri, sayılar\n",
        "(integer, float), yazı karakterleri (strings), diğer nesneler ve hatta diğer\n",
        "listeler olabilir."
      ],
      "metadata": {
        "id": "tuQvYxUg38Ff"
      }
    },
    {
      "cell_type": "code",
      "source": [
        "sayılar = [1, 2, 3, 4, 10]\n",
        "isimler = ['Ali', 'Zeynep', 'Mahir']\n",
        "karısık = ['Fırat', 1, 2]\n",
        "listelerListesi = [['Lale', 1], ['Gül', 8]]"
      ],
      "metadata": {
        "id": "5K6c9acb4Cbk"
      },
      "execution_count": 7,
      "outputs": []
    },
    {
      "cell_type": "code",
      "source": [
        "sayılar"
      ],
      "metadata": {
        "id": "h_MblmOM4JPv",
        "outputId": "8c9dee2c-93d9-43a8-c4d6-24d95a1e8ea3",
        "colab": {
          "base_uri": "https://localhost:8080/"
        }
      },
      "execution_count": 8,
      "outputs": [
        {
          "output_type": "execute_result",
          "data": {
            "text/plain": [
              "[1, 2, 3, 4, 10]"
            ]
          },
          "metadata": {},
          "execution_count": 8
        }
      ]
    },
    {
      "cell_type": "code",
      "source": [
        "isimler"
      ],
      "metadata": {
        "id": "0OQ9Dzn44LmO",
        "outputId": "00f40937-850e-4c31-a40f-301dad28dd05",
        "colab": {
          "base_uri": "https://localhost:8080/"
        }
      },
      "execution_count": 9,
      "outputs": [
        {
          "output_type": "execute_result",
          "data": {
            "text/plain": [
              "['Ali', 'Zeynep', 'Mahir']"
            ]
          },
          "metadata": {},
          "execution_count": 9
        }
      ]
    },
    {
      "cell_type": "code",
      "source": [
        "karısık"
      ],
      "metadata": {
        "id": "N3ct2tVJ4Le8",
        "outputId": "30a7d99e-3f29-4a44-9a58-fcbd081a40f4",
        "colab": {
          "base_uri": "https://localhost:8080/"
        }
      },
      "execution_count": 10,
      "outputs": [
        {
          "output_type": "execute_result",
          "data": {
            "text/plain": [
              "['Fırat', 1, 2]"
            ]
          },
          "metadata": {},
          "execution_count": 10
        }
      ]
    },
    {
      "cell_type": "code",
      "source": [
        "listelerListesi"
      ],
      "metadata": {
        "id": "2rzn2PFX4LUq",
        "outputId": "3cf0d09d-e8bd-4c09-ca0a-39e32562520e",
        "colab": {
          "base_uri": "https://localhost:8080/"
        }
      },
      "execution_count": 11,
      "outputs": [
        {
          "output_type": "execute_result",
          "data": {
            "text/plain": [
              "[['Lale', 1], ['Gül', 8]]"
            ]
          },
          "metadata": {},
          "execution_count": 11
        }
      ]
    },
    {
      "cell_type": "markdown",
      "source": [
        "Diğer programlama dillerindeki **array** olarak ifade edilen koleksiyonları\n",
        "Python’da listeler karşılar. Yani Python’da array yerine listeler kullanılır."
      ],
      "metadata": {
        "id": "40hqDKim4Hu-"
      }
    },
    {
      "cell_type": "markdown",
      "source": [
        "**Liste Öğelerine Erişim**\n",
        "\n",
        "Liste öğelerine erişim için indeks numarası kullanılır. İndekslenen\n",
        "koleksiyonlarda indeks 0’dan başlar. Ayrıca negatif indeks numaraları da\n",
        "öğelere erişim için pratik bir yöntem olarak kullanılabilmektedir. Bu\n",
        "durumda 0. öğe listenin ilk öğesidir ve -1. öğe ise sondan 1. öğedir."
      ],
      "metadata": {
        "id": "HCIQ4EIM4bpU"
      }
    },
    {
      "cell_type": "code",
      "source": [
        "şifre = [6, 1, 6, 9, 3]\n",
        "print(şifre[0])\n",
        "print(şifre[-1])"
      ],
      "metadata": {
        "id": "gGovIYaF4pn1",
        "outputId": "5f37ffc9-d750-42bc-a85a-dfee3a9b08a0",
        "colab": {
          "base_uri": "https://localhost:8080/"
        }
      },
      "execution_count": 12,
      "outputs": [
        {
          "output_type": "stream",
          "name": "stdout",
          "text": [
            "6\n",
            "3\n"
          ]
        }
      ]
    },
    {
      "cell_type": "markdown",
      "source": [
        "Eğer belli bir indeks aralığındaki tüm öğeler çağrılmak isteniyorsa bu, iki\n",
        "nokta (:) kullanımı ile gerçekleştirilir. İki nokta (:), her iki yanına değer\n",
        "alabildiği gibi, sadece sağına veya sadece soluna da değer alabilir. İki\n",
        "yanına [a:b] gibi değerler aldığında a’dan b’ye kadar (a dahil b hariç)\n",
        "olan öğelerin tümünü çağırır. Sadece soluna [a:] gibi tek bir değer\n",
        "aldığında a’dan listenin sonuna kadarki (a dahil) tüm öğeleri çağırır.\n",
        "Sadece sağına [:b] gibi tek bir değer aldığında listenin başından b’ye\n",
        "kadar (b hariç) tüm öğeleri çağırır."
      ],
      "metadata": {
        "id": "ochrVdj_473p"
      }
    },
    {
      "cell_type": "code",
      "source": [
        "şifre = [\"sıfır\", \"bir\", \"iki\", \"üç\", \"dört\"]\n",
        "print(şifre[1:4])\n",
        "print(şifre[2:])\n",
        "print(şifre[:2])"
      ],
      "metadata": {
        "id": "AO4apCr14-v9",
        "outputId": "a6c83805-b01f-4768-d0f6-b58a4a99a8b6",
        "colab": {
          "base_uri": "https://localhost:8080/"
        }
      },
      "execution_count": 13,
      "outputs": [
        {
          "output_type": "stream",
          "name": "stdout",
          "text": [
            "['bir', 'iki', 'üç']\n",
            "['iki', 'üç', 'dört']\n",
            "['sıfır', 'bir']\n"
          ]
        }
      ]
    },
    {
      "cell_type": "markdown",
      "source": [
        "**Değer Değiştirme**\n",
        "\n",
        "Listedeki bir öğenin değerini değiştirmek için öğe indeks numarası ile\n",
        "çağrılır ve yeni değer ataması yapılır."
      ],
      "metadata": {
        "id": "hxpW0NHV5L70"
      }
    },
    {
      "cell_type": "code",
      "source": [
        "isimler = ['Ali', 'Zeynep', 'Mahir']\n",
        "isimler[1]=\"Selim\"\n",
        "print(isimler)"
      ],
      "metadata": {
        "id": "RNWS1UxY5O0n",
        "outputId": "af2f74fe-8f5b-44aa-ec76-5004b71dcc65",
        "colab": {
          "base_uri": "https://localhost:8080/"
        }
      },
      "execution_count": 14,
      "outputs": [
        {
          "output_type": "stream",
          "name": "stdout",
          "text": [
            "['Ali', 'Selim', 'Mahir']\n"
          ]
        }
      ]
    },
    {
      "cell_type": "markdown",
      "source": [
        "**Öğeleri Döndürme**\n",
        "\n",
        "Bir listedeki öğeleri döndürmek için for döngüsü kullanılabilir."
      ],
      "metadata": {
        "id": "orApY7P05gku"
      }
    },
    {
      "cell_type": "code",
      "source": [
        "isimler = ['Ali', 'Zeynep', 'Mahir']\n",
        "for x in isimler:\n",
        "    print(x)\n"
      ],
      "metadata": {
        "id": "5FJ8v7eh5jTf",
        "outputId": "bd24253f-cb2b-4434-949f-41866251f4aa",
        "colab": {
          "base_uri": "https://localhost:8080/"
        }
      },
      "execution_count": 15,
      "outputs": [
        {
          "output_type": "stream",
          "name": "stdout",
          "text": [
            "Ali\n",
            "Zeynep\n",
            "Mahir\n"
          ]
        }
      ]
    },
    {
      "cell_type": "markdown",
      "source": [
        "**Öğe Sorgulama**\n",
        "\n",
        "Bir listede bir öğenin var olup olmadığı, if ve in anahtar kelimeleri ile\n",
        "sorgulanabilir"
      ],
      "metadata": {
        "id": "oJBnLkua5j-E"
      }
    },
    {
      "cell_type": "code",
      "source": [
        "isimler = ['Ali', 'Zeynep', 'Mahir']\n",
        "if \"Mahir\" in isimler:\n",
        "    print(\"Mahir listede mevcuttur.\")"
      ],
      "metadata": {
        "id": "5qpEYOwQ52_j",
        "outputId": "ef13c7bd-24e9-4a3d-e5da-d26f107b1ca3",
        "colab": {
          "base_uri": "https://localhost:8080/"
        }
      },
      "execution_count": 16,
      "outputs": [
        {
          "output_type": "stream",
          "name": "stdout",
          "text": [
            "Mahir listede mevcuttur.\n"
          ]
        }
      ]
    },
    {
      "cell_type": "markdown",
      "source": [
        "**Öğe Sayısı**\n",
        "\n",
        "Bir listenin sahip olduğu öğelerin toplam sayısı len() fonksiyonuyla\n",
        "elde edilebilir."
      ],
      "metadata": {
        "id": "6bGOsOqI5j6k"
      }
    },
    {
      "cell_type": "code",
      "source": [
        "isimler = ['Ali', 'Zeynep', 'Mahir']\n",
        "print(len(isimler))"
      ],
      "metadata": {
        "id": "kZuYmrGs5jp8",
        "outputId": "0b4e45e8-a5c8-4670-e420-5362bf09b00f",
        "colab": {
          "base_uri": "https://localhost:8080/"
        }
      },
      "execution_count": 17,
      "outputs": [
        {
          "output_type": "stream",
          "name": "stdout",
          "text": [
            "3\n"
          ]
        }
      ]
    },
    {
      "cell_type": "markdown",
      "source": [
        "**Liste İnşası**\n",
        "\n",
        "Liste inşası programatik olarak list() fonksiyonu ile yapılmaktadır.\n",
        "Koleksiyon türlerinden list türünde muhafaza edilmek istenen\n",
        "üzerinde gezilebilir (iterable) başka bir ifade ile dizi özelliği olan bir veri, list() fonksiyonuna parametre olarak\n",
        "gönderilirse kolaylıkla bir liste elde edilebilir. String verisi de yinelenebilir bir veridir. Bu fonksiyona parametre olarak verildiğinde karakterler tek tek listenin öğesi haline gelir."
      ],
      "metadata": {
        "id": "nwPBldcy5j29"
      }
    },
    {
      "cell_type": "code",
      "source": [
        "liste1 = list((\"elma\", \"armut\", \"kiraz\"))\n",
        "print(liste1)\n",
        "liste2 = list(range(10))\n",
        "print(liste2)\n",
        "liste3 = list(\"ADEM\")\n",
        "print(liste3)"
      ],
      "metadata": {
        "id": "qxTBWJg25jmo",
        "outputId": "1a2ab975-a0b6-4b11-a83d-71bb587171d4",
        "colab": {
          "base_uri": "https://localhost:8080/"
        }
      },
      "execution_count": 18,
      "outputs": [
        {
          "output_type": "stream",
          "name": "stdout",
          "text": [
            "['elma', 'armut', 'kiraz']\n",
            "[0, 1, 2, 3, 4, 5, 6, 7, 8, 9]\n",
            "['A', 'D', 'E', 'M']\n"
          ]
        }
      ]
    },
    {
      "cell_type": "markdown",
      "source": [
        "**İki Listeyi Birleştirme**\n",
        "\n",
        "İki listeyi birleştirmek için artı (+) işareti kullanılır."
      ],
      "metadata": {
        "id": "Cw-CsoEl7WrZ"
      }
    },
    {
      "cell_type": "code",
      "source": [
        "liste1 = ['Ali', 'Zeynep', 'Mahir']\n",
        "liste2 = [70,40,15]\n",
        "büyükListe = liste1 + liste2\n",
        "print(büyükListe)"
      ],
      "metadata": {
        "id": "a263REL65jiE",
        "outputId": "0f592b1b-0c1b-452a-fdc0-73e78300da20",
        "colab": {
          "base_uri": "https://localhost:8080/"
        }
      },
      "execution_count": 19,
      "outputs": [
        {
          "output_type": "stream",
          "name": "stdout",
          "text": [
            "['Ali', 'Zeynep', 'Mahir', 70, 40, 15]\n"
          ]
        }
      ]
    },
    {
      "cell_type": "markdown",
      "source": [
        "**Çok Boyutlu Listeler**\n",
        "\n",
        "Diğer programlama dillerinde kullanılan array koleksiyonları çok boyutlu\n",
        "olabilmektedir. Python’da array yerine kullanılan listeleri de çok boyutlu\n",
        "olarak tanımlamak mümkündür. Bu, liste-içinde-liste şeklinde\n",
        "tanımlanarak yapılır. Matematikte kullanılan matrisleri de bu şekilde\n",
        "tanımlamak mümkündür. Matrisler belli sayıda satır ve sütundan oluşan\n",
        "sayılar tablosudur. Bu tablolar iki boyutlu (i ve j veya x ve y)\n",
        "koleksiyonlardır. Aşağıda 3 sütun ve 2 satırdan oluşan bir matris örneği\n",
        "ve bunun Python’da liste olarak nasıl tanımlandığı gösterilmiştir."
      ],
      "metadata": {
        "id": "FDeVFLFy7yz5"
      }
    },
    {
      "cell_type": "markdown",
      "source": [
        "![list.JPG](data:image/jpeg;base64,/9j/4AAQSkZJRgABAQEAYABgAAD/4REYRXhpZgAATU0AKgAAAAgABAE7AAIAAAAaAAAISodpAAQAAAABAAAIZJydAAEAAAA0AAAQ3OocAAcAAAgMAAAAPgAAAAAc6gAAAAgAAAAAAAAAAAAAAAAAAAAAAAAAAAAAAAAAAAAAAAAAAAAAAAAAAAAAAAAAAAAAAAAAAAAAAAAAAAAAAAAAAAAAAAAAAAAAAAAAAAAAAAAAAAAAAAAAAAAAAAAAAAAAAAAAAAAAAAAAAAAAAAAAAAAAAAAAAAAAAAAAAAAAAAAAAAAAAAAAAAAAAAAAAAAAAAAAAAAAAAAAAAAAAAAAAAAAAAAAAAAAAAAAAAAAAAAAAAAAAAAAAAAAAAAAAAAAAAAAAAAAAAAAAAAAAAAAAAAAAAAAAAAAAAAAAAAAAAAAAAAAAAAAAAAAAAAAAAAAAAAAAAAAAAAAAAAAAAAAAAAAAAAAAAAAAAAAAAAAAAAAAAAAAAAAAAAAAAAAAAAAAAAAAAAAAAAAAAAAAAAAAAAAAAAAAAAAAAAAAAAAAAAAAAAAAAAAAAAAAAAAAAAAAAAAAAAAAAAAAAAAAAAAAAAAAAAAAAAAAAAAAAAAAAAAAAAAAAAAAAAAAAAAAAAAAAAAAAAAAAAAAAAAAAAAAAAAAAAAAAAAAAAAAAAAAAAAAAAAAAAAAAAAAAAAAAAAAAAAAAAAAAAAAAAAAAAAAAAAAAAAAAAAAAAAAAAAAAAAAAAAAAAAAAAAAAAAAAAAAAAAAAAAAAAAAAAAAAAAAAAAAAAAAAAAAAAAAAAAAAAAAAAAAAAAAAAAAAAAAAAAAAAAAAAAAAAAAAAAAAAAAAAAAAAAAAAAAAAAAAAAAAAAAAAAAAAAAAAAAAAAAAAAAAAAAAAAAAAAAAAAAAAAAAAAAAAAAAAAAAAAAAAAAAAAAAAAAAAAAAAAAAAAAAAAAAAAAAAAAAAAAAAAAAAAAAAAAAAAAAAAAAAAAAAAAAAAAAAAAAAAAAAAAAAAAAAAAAAAAAAAAAAAAAAAAAAAAAAAAAAAAAAAAAAAAAAAAAAAAAAAAAAAAAAAAAAAAAAAAAAAAAAAAAAAAAAAAAAAAAAAAAAAAAAAAAAAAAAAAAAAAAAAAAAAAAAAAAAAAAAAAAAAAAAAAAAAAAAAAAAAAAAAAAAAAAAAAAAAAAAAAAAAAAAAAAAAAAAAAAAAAAAAAAAAAAAAAAAAAAAAAAAAAAAAAAAAAAAAAAAAAAAAAAAAAAAAAAAAAAAAAAAAAAAAAAAAAAAAAAAAAAAAAAAAAAAAAAAAAAAAAAAAAAAAAAAAAAAAAAAAAAAAAAAAAAAAAAAAAAAAAAAAAAAAAAAAAAAAAAAAAAAAAAAAAAAAAAAAAAAAAAAAAAAAAAAAAAAAAAAAAAAAAAAAAAAAAAAAAAAAAAAAAAAAAAAAAAAAAAAAAAAAAAAAAAAAAAAAAAAAAAAAAAAAAAAAAAAAAAAAAAAAAAAAAAAAAAAAAAAAAAAAAAAAAAAAAAAAAAAAAAAAAAAAAAAAAAAAAAAAAAAAAAAAAAAAAAAAAAAAAAAAAAAAAAAAAAAAAAAAAAAAAAAAAAAAAAAAAAAAAAAAAAAAAAAAAAAAAAAAAAAAAAAAAAAAAAAAAAAAAAAAAAAAAAAAAAAAAAAAAAAAAAAAAAAAAAAAAAAAAAAAAAAAAAAAAAAAAAAAAAAAAAAAAAAAAAAAAAAAAAAAAAAAAAAAAAAAAAAAAAAAAAAAAAAAAAAAAAAAAAAAAAAAAAAAAAAAAAAAAAAAAAAAAAAAAAAAAAAAAAAAAAAAAAAAAAAAAAAAAAAAAAAAAAAAAAAAAAAAAAAAAAAAAAAAAAAAAAAAAAAAAAAAAAAAAAAAAAAAAAAAAAAAAAAAAAAAAAAAAAAAAAAAAAAAAAAAAAAAAAAAAAAAAAAAAAAAAAAAAAAAAAAAAAAAAAAAAAAAAAAAAAAAAAAAAAAAAAAAAAAAAAAAAAAAAAAAAAAAAAAAAAAAAAAAAAAAAAAAAAAAAAAAAAAAAAAAAAAAAAAAAAAAAAAAAAAAAAAAAAAAAAAAAAAAAAAAAAAAAAAAAAAAAAAAAAAAAAAAAAAAAAAAAAAAAAAAAAAAAAAAAAAAAAAAAAAAAAAAAAAAAAAAAAAAAAAAAAAAAAAAAAAAAAAAAAAAAAAAAAAAAAAAAAAAAAAAAAAAAAAAAAAAAAAAAAAAAAAAAAAAAAAAAAAAAAAAAAAAAAAAAAAAAAAAAAAAAAAAAAAAAAAAAAAAAAAAAAAAAAAAAAAAAAAAAAAAAAAAAAAAAAAAAAAAAAAAAAAAAAAAAAAAAAAAAAAAAAAAAAAAAAAAAAAAAAAAAAAAAAAAAAAAAAAAAAAAAAAAAAAAAAAAAAAAAAAAAAAAAAAAAAAAAAAAAAAAAAAAAAAAAAAAAAAAAAAAAAAAAAAAAAAAAAAAAAAAAAAAAAAAAAAAAAAAAAAAAAAAAAAAAAAAAAAAAAAAAAAAAAAAAAAAAAAAAAAAAAAAAAAAAAAAAAAAAAAAAAAAAAAAAAAAAAAAAAAAAAAAAAAAAAAAAAAAAAAAAAAAAAAAAAAAAAAAAAAAAAAAAAAAAAAAAAAAAAAAAAAAAAAAAAAAAAAAAAAAAAAAAAAAAAAAAAAAAAAAAAAAAAAAAAAAAAAAAAAAAAAAAAAAAAAAAAAAAAAAAAAAAAAAAAAAAAAAAAAAAAAAAAAAAAAAAAAAAAAAAAAAAAAAAAAAAAAAAAAAAAAAAAAAAAAAAAAAAAAAAAAAAAAAAAAAAAAAAAAAAAAAAAAAAAAAAAAAAAAAAAAAAAAAAAAAAAAAAAAAAAAAAAAAAAAAAAAAAAAAAE1laG1ldCBNZWtpbiBZSUtJTiBTYXltYW4AAAWQAwACAAAAFAAAELKQBAACAAAAFAAAEMaSkQACAAAAAzA4AACSkgACAAAAAzA4AADqHAAHAAAIDAAACKYAAAAAHOoAAAAIAAAAAAAAAAAAAAAAAAAAAAAAAAAAAAAAAAAAAAAAAAAAAAAAAAAAAAAAAAAAAAAAAAAAAAAAAAAAAAAAAAAAAAAAAAAAAAAAAAAAAAAAAAAAAAAAAAAAAAAAAAAAAAAAAAAAAAAAAAAAAAAAAAAAAAAAAAAAAAAAAAAAAAAAAAAAAAAAAAAAAAAAAAAAAAAAAAAAAAAAAAAAAAAAAAAAAAAAAAAAAAAAAAAAAAAAAAAAAAAAAAAAAAAAAAAAAAAAAAAAAAAAAAAAAAAAAAAAAAAAAAAAAAAAAAAAAAAAAAAAAAAAAAAAAAAAAAAAAAAAAAAAAAAAAAAAAAAAAAAAAAAAAAAAAAAAAAAAAAAAAAAAAAAAAAAAAAAAAAAAAAAAAAAAAAAAAAAAAAAAAAAAAAAAAAAAAAAAAAAAAAAAAAAAAAAAAAAAAAAAAAAAAAAAAAAAAAAAAAAAAAAAAAAAAAAAAAAAAAAAAAAAAAAAAAAAAAAAAAAAAAAAAAAAAAAAAAAAAAAAAAAAAAAAAAAAAAAAAAAAAAAAAAAAAAAAAAAAAAAAAAAAAAAAAAAAAAAAAAAAAAAAAAAAAAAAAAAAAAAAAAAAAAAAAAAAAAAAAAAAAAAAAAAAAAAAAAAAAAAAAAAAAAAAAAAAAAAAAAAAAAAAAAAAAAAAAAAAAAAAAAAAAAAAAAAAAAAAAAAAAAAAAAAAAAAAAAAAAAAAAAAAAAAAAAAAAAAAAAAAAAAAAAAAAAAAAAAAAAAAAAAAAAAAAAAAAAAAAAAAAAAAAAAAAAAAAAAAAAAAAAAAAAAAAAAAAAAAAAAAAAAAAAAAAAAAAAAAAAAAAAAAAAAAAAAAAAAAAAAAAAAAAAAAAAAAAAAAAAAAAAAAAAAAAAAAAAAAAAAAAAAAAAAAAAAAAAAAAAAAAAAAAAAAAAAAAAAAAAAAAAAAAAAAAAAAAAAAAAAAAAAAAAAAAAAAAAAAAAAAAAAAAAAAAAAAAAAAAAAAAAAAAAAAAAAAAAAAAAAAAAAAAAAAAAAAAAAAAAAAAAAAAAAAAAAAAAAAAAAAAAAAAAAAAAAAAAAAAAAAAAAAAAAAAAAAAAAAAAAAAAAAAAAAAAAAAAAAAAAAAAAAAAAAAAAAAAAAAAAAAAAAAAAAAAAAAAAAAAAAAAAAAAAAAAAAAAAAAAAAAAAAAAAAAAAAAAAAAAAAAAAAAAAAAAAAAAAAAAAAAAAAAAAAAAAAAAAAAAAAAAAAAAAAAAAAAAAAAAAAAAAAAAAAAAAAAAAAAAAAAAAAAAAAAAAAAAAAAAAAAAAAAAAAAAAAAAAAAAAAAAAAAAAAAAAAAAAAAAAAAAAAAAAAAAAAAAAAAAAAAAAAAAAAAAAAAAAAAAAAAAAAAAAAAAAAAAAAAAAAAAAAAAAAAAAAAAAAAAAAAAAAAAAAAAAAAAAAAAAAAAAAAAAAAAAAAAAAAAAAAAAAAAAAAAAAAAAAAAAAAAAAAAAAAAAAAAAAAAAAAAAAAAAAAAAAAAAAAAAAAAAAAAAAAAAAAAAAAAAAAAAAAAAAAAAAAAAAAAAAAAAAAAAAAAAAAAAAAAAAAAAAAAAAAAAAAAAAAAAAAAAAAAAAAAAAAAAAAAAAAAAAAAAAAAAAAAAAAAAAAAAAAAAAAAAAAAAAAAAAAAAAAAAAAAAAAAAAAAAAAAAAAAAAAAAAAAAAAAAAAAAAAAAAAAAAAAAAAAAAAAAAAAAAAAAAAAAAAAAAAAAAAAAAAAAAAAAAAAAAAAAAAAAAAAAAAAAAAAAAAAAAAAAAAAAAAAAAAAAAAAAAAAAAAAAAAAAAAAAAAAAAAAAAAAAAAAAAAAAAAAAAAAAAAAAAAAAAAAAAAAAAAAAAAAAAAAAAAAAAAAAAAAAAAAAAAAAAAAAAAAAAAAAAAAAAAAAAAAAAAAAAAAAAAAAAAAAAAAAAAAAAAAAAAAAAAAAAAAAAAAAAAAAAAAAAAAAAAAAAAAAAAAAAAAAAAAAAAAAAAAAAAAAAAAAAAAAAAAAAAAAAAAAAAAAAAAAAAAAAAAAAAAAAAAAAAAAAAAAAAAAAAAAAAAAAAAAAAAAAAAAAAAAAAAAAAAAAAAAAAAAAAAAAAAAAAAAAAAAAAAAAAAAAAAAAAAAAAAAAAAAAAAAAAAAAAAAAAAAAAAAAAAAAAAAAAAAAAAAAAAAAAAAAAAAAAAAAAAAAAAAAAAAAAAAAAAAAAAAAAAAAAAAAAAAAAAAAAAAAAAAAAAAAAAAAAAAAAAAAAAAAAAAAAAAAAAAAAAAAAAAAAAAAAAAAAAAAAAAAAAAAAAAAAAAAAAAAAAAAAAAAAAAAAAAAAAAAAAAAAAAAAAAAAAAAAAAAAAAAAAAAAAAAAAAAAAAAAAAAAAAAAAAAAAAAAAAAAAAAAAAAAAAAAAAAAAAAAAAAAAAAAAAAAAAAAAAAAAAAAAAAAAAAAAAAAAAAAAAAAAAAAAAAAAAAAAAAAAAAAAAAAAAAAAAAAAAAAAAAAAAAAAAAAAAAAAAAAAAAAAAAAAAAAAAAAAAAAAAAAAAAAAAAAAAAAAAAAAAAAAAAAAAAAAAAAAAAAAAAAAAAAAAAAAAAAAAAAAAAAAAAAAAAAAAAAAAAAAAAAAAAAAAAAAAAAAAAAAAAAAAAAAAAAAAAAAAAAAAAAAAAAAAAAAAAAAAAAAAAAAAAAAAAAAAAAAAAAAAAAAAAAAAAAAAAAAAAAAAAAAAAAAAAAAAAAAAAAAAyMDI0OjA4OjMwIDE4OjM4OjEzADIwMjQ6MDg6MzAgMTg6Mzg6MTMAAABNAGUAaABtAGUAdAAgAE0AZQBrAGkAbgAgAFkASQBLAEkATgAgAFMAYQB5AG0AYQBuAAAA/+ELLGh0dHA6Ly9ucy5hZG9iZS5jb20veGFwLzEuMC8APD94cGFja2V0IGJlZ2luPSfvu78nIGlkPSdXNU0wTXBDZWhpSHpyZVN6TlRjemtjOWQnPz4NCjx4OnhtcG1ldGEgeG1sbnM6eD0iYWRvYmU6bnM6bWV0YS8iPjxyZGY6UkRGIHhtbG5zOnJkZj0iaHR0cDovL3d3dy53My5vcmcvMTk5OS8wMi8yMi1yZGYtc3ludGF4LW5zIyI+PHJkZjpEZXNjcmlwdGlvbiByZGY6YWJvdXQ9InV1aWQ6ZmFmNWJkZDUtYmEzZC0xMWRhLWFkMzEtZDMzZDc1MTgyZjFiIiB4bWxuczpkYz0iaHR0cDovL3B1cmwub3JnL2RjL2VsZW1lbnRzLzEuMS8iLz48cmRmOkRlc2NyaXB0aW9uIHJkZjphYm91dD0idXVpZDpmYWY1YmRkNS1iYTNkLTExZGEtYWQzMS1kMzNkNzUxODJmMWIiIHhtbG5zOnhtcD0iaHR0cDovL25zLmFkb2JlLmNvbS94YXAvMS4wLyI+PHhtcDpDcmVhdGVEYXRlPjIwMjQtMDgtMzBUMTg6Mzg6MTMuMDg0PC94bXA6Q3JlYXRlRGF0ZT48L3JkZjpEZXNjcmlwdGlvbj48cmRmOkRlc2NyaXB0aW9uIHJkZjphYm91dD0idXVpZDpmYWY1YmRkNS1iYTNkLTExZGEtYWQzMS1kMzNkNzUxODJmMWIiIHhtbG5zOmRjPSJodHRwOi8vcHVybC5vcmcvZGMvZWxlbWVudHMvMS4xLyI+PGRjOmNyZWF0b3I+PHJkZjpTZXEgeG1sbnM6cmRmPSJodHRwOi8vd3d3LnczLm9yZy8xOTk5LzAyLzIyLXJkZi1zeW50YXgtbnMjIj48cmRmOmxpPk1laG1ldCBNZWtpbiBZSUtJTiBTYXltYW48L3JkZjpsaT48L3JkZjpTZXE+DQoJCQk8L2RjOmNyZWF0b3I+PC9yZGY6RGVzY3JpcHRpb24+PC9yZGY6UkRGPjwveDp4bXBtZXRhPg0KICAgICAgICAgICAgICAgICAgICAgICAgICAgICAgICAgICAgICAgICAgICAgICAgICAgICAgICAgICAgICAgICAgICAgICAgICAgICAgICAgICAgICAgICAgICAgICAgICAgIAogICAgICAgICAgICAgICAgICAgICAgICAgICAgICAgICAgICAgICAgICAgICAgICAgICAgICAgICAgICAgICAgICAgICAgICAgICAgICAgICAgICAgICAgICAgICAgICAgICAgCiAgICAgICAgICAgICAgICAgICAgICAgICAgICAgICAgICAgICAgICAgICAgICAgICAgICAgICAgICAgICAgICAgICAgICAgICAgICAgICAgICAgICAgICAgICAgICAgICAgICAKICAgICAgICAgICAgICAgICAgICAgICAgICAgICAgICAgICAgICAgICAgICAgICAgICAgICAgICAgICAgICAgICAgICAgICAgICAgICAgICAgICAgICAgICAgICAgICAgICAgIAogICAgICAgICAgICAgICAgICAgICAgICAgICAgICAgICAgICAgICAgICAgICAgICAgICAgICAgICAgICAgICAgICAgICAgICAgICAgICAgICAgICAgICAgICAgICAgICAgICAgCiAgICAgICAgICAgICAgICAgICAgICAgICAgICAgICAgICAgICAgICAgICAgICAgICAgICAgICAgICAgICAgICAgICAgICAgICAgICAgICAgICAgICAgICAgICAgICAgICAgICAKICAgICAgICAgICAgICAgICAgICAgICAgICAgICAgICAgICAgICAgICAgICAgICAgICAgICAgICAgICAgICAgICAgICAgICAgICAgICAgICAgICAgICAgICAgICAgICAgICAgIAogICAgICAgICAgICAgICAgICAgICAgICAgICAgICAgICAgICAgICAgICAgICAgICAgICAgICAgICAgICAgICAgICAgICAgICAgICAgICAgICAgICAgICAgICAgICAgICAgICAgCiAgICAgICAgICAgICAgICAgICAgICAgICAgICAgICAgICAgICAgICAgICAgICAgICAgICAgICAgICAgICAgICAgICAgICAgICAgICAgICAgICAgICAgICAgICAgICAgICAgICAKICAgICAgICAgICAgICAgICAgICAgICAgICAgICAgICAgICAgICAgICAgICAgICAgICAgICAgICAgICAgICAgICAgICAgICAgICAgICAgICAgICAgICAgICAgICAgICAgICAgIAogICAgICAgICAgICAgICAgICAgICAgICAgICAgICAgICAgICAgICAgICAgICAgICAgICAgICAgICAgICAgICAgICAgICAgICAgICAgICAgICAgICAgICAgICAgICAgICAgICAgCiAgICAgICAgICAgICAgICAgICAgICAgICAgICAgICAgICAgICAgICAgICAgICAgICAgICAgICAgICAgICAgICAgICAgICAgICAgICAgICAgICAgICAgICAgICAgICAgICAgICAKICAgICAgICAgICAgICAgICAgICAgICAgICAgICAgICAgICAgICAgICAgICAgICAgICAgICAgICAgICAgICAgICAgICAgICAgICAgICAgICAgICAgICAgICAgICAgICAgICAgIAogICAgICAgICAgICAgICAgICAgICAgICAgICAgICAgICAgICAgICAgICAgICAgICAgICAgICAgICAgICAgICAgICAgICAgICAgICAgICAgICAgICAgICAgICAgICAgICAgICAgCiAgICAgICAgICAgICAgICAgICAgICAgICAgICAgICAgICAgICAgICAgICAgICAgICAgICAgICAgICAgICAgICAgICAgICAgICAgICAgICAgICAgICAgICAgICAgICAgICAgICAKICAgICAgICAgICAgICAgICAgICAgICAgICAgICAgICAgICAgICAgICAgICAgICAgICAgICAgICAgICAgICAgICAgICAgICAgICAgICAgICAgICAgICAgICAgICAgICAgICAgIAogICAgICAgICAgICAgICAgICAgICAgICAgICAgICAgICAgICAgICAgICAgICAgICAgICAgICAgICAgICAgICAgICAgICAgICAgICAgICAgICAgICAgICAgICAgICAgICAgICAgCiAgICAgICAgICAgICAgICAgICAgICAgICAgICAgICAgICAgICAgICAgICAgICAgICAgICAgICAgICAgICAgICAgICAgICAgICAgICAgICAgICAgICAgICAgICAgICAgICAgICAKICAgICAgICAgICAgICAgICAgICAgICAgICAgICAgICAgICAgICAgICAgICAgICAgICAgICAgICAgICAgICAgICAgICAgICAgICAgICAgICAgICAgICAgICAgICAgICAgICAgIAogICAgICAgICAgICAgICAgICAgICAgICAgICAgICAgICAgICAgICAgICAgICAgICAgICAgICAgICAgICAgICAgICAgICAgICAgICAgICAgICAgICAgICAgICAgICAgICAgICAgCiAgICAgICAgICAgICAgICAgICAgICAgICAgICA8P3hwYWNrZXQgZW5kPSd3Jz8+/9sAQwAHBQUGBQQHBgUGCAcHCAoRCwoJCQoVDxAMERgVGhkYFRgXGx4nIRsdJR0XGCIuIiUoKSssKxogLzMvKjInKisq/9sAQwEHCAgKCQoUCwsUKhwYHCoqKioqKioqKioqKioqKioqKioqKioqKioqKioqKioqKioqKioqKioqKioqKioqKioq/8AAEQgBFwGNAwEiAAIRAQMRAf/EAB8AAAEFAQEBAQEBAAAAAAAAAAABAgMEBQYHCAkKC//EALUQAAIBAwMCBAMFBQQEAAABfQECAwAEEQUSITFBBhNRYQcicRQygZGhCCNCscEVUtHwJDNicoIJChYXGBkaJSYnKCkqNDU2Nzg5OkNERUZHSElKU1RVVldYWVpjZGVmZ2hpanN0dXZ3eHl6g4SFhoeIiYqSk5SVlpeYmZqio6Slpqeoqaqys7S1tre4ubrCw8TFxsfIycrS09TV1tfY2drh4uPk5ebn6Onq8fLz9PX29/j5+v/EAB8BAAMBAQEBAQEBAQEAAAAAAAABAgMEBQYHCAkKC//EALURAAIBAgQEAwQHBQQEAAECdwABAgMRBAUhMQYSQVEHYXETIjKBCBRCkaGxwQkjM1LwFWJy0QoWJDThJfEXGBkaJicoKSo1Njc4OTpDREVGR0hJSlNUVVZXWFlaY2RlZmdoaWpzdHV2d3h5eoKDhIWGh4iJipKTlJWWl5iZmqKjpKWmp6ipqrKztLW2t7i5usLDxMXGx8jJytLT1NXW19jZ2uLj5OXm5+jp6vLz9PX29/j5+v/aAAwDAQACEQMRAD8A+kaKKKACivnf4s+FLHxv+074Z8ParLcQ2l5op8x7ZlWQbDdOMFgR1Udulbf/AAyp4I/6CviD/wACIP8A4zQB7bRXiX/DKngj/oK+IP8AwIg/+M0f8MqeCP8AoK+IP/AiD/4zQB7bRXiX/DKngj/oK+IP/AiD/wCM0f8ADKngj/oK+IP/AAIg/wDjNAHttFeJf8MqeCP+gr4g/wDAiD/4zR/wyp4I/wCgr4g/8CIP/jNAHttFeJf8MqeCP+gr4g/8CIP/AIzR/wAMqeCP+gr4g/8AAiD/AOM0Ae20V4l/wyp4I/6CviD/AMCIP/jNcR4y+A/hjw7478JaLZX2rSW2t/bPtDzTRF08mJXXYRGAMknOQfwoA+pKK+bf+GdvCf8A0ENa/wC/8X/xqj/hnbwn/wBBDWv+/wDF/wDGqAPpKivm3/hnbwn/ANBDWv8Av/F/8ao/4Z28J/8AQQ1r/v8Axf8AxqgD6Sor5t/4Z28J/wDQQ1r/AL/xf/GqP+GdvCf/AEENa/7/AMX/AMaoA+kqK+bf+GdvCf8A0ENa/wC/8X/xqj/hnbwn/wBBDWv+/wDF/wDGqAPpKivm3/hnbwn/ANBDWv8Av/F/8ao/4Z28J/8AQQ1r/v8Axf8AxqgD6Sor5J8ZfBnw94e/sH7Feam/9pa1b6fN50sZ2xybtxXCDDcDBOR7V0n/AAzt4T/6CGtf9/4v/jVAH0lRXzb/AMM7eE/+ghrX/f8Ai/8AjVH/AAzt4T/6CGtf9/4v/jVAH0lRXzb/AMM7eE/+ghrX/f8Ai/8AjVH/AAzt4T/6CGtf9/4v/jVAH0lRXzb/AMM7eE/+ghrX/f8Ai/8AjVH/AAzt4T/6CGtf9/4v/jVAH0lRXzb/AMM7eE/+ghrX/f8Ai/8AjVH/AAzt4T/6CGtf9/4v/jVAH0lRXzb/AMM7eE/+ghrX/f8Ai/8AjVc38Qfgz4e8J+BNQ1rTrzU5bm18rYk8sZQ7pVQ5AQHox70AfW1FfLfhz4D+GNY8K6Vqdzfass15ZQ3EixzRBQzoGIGYycZPrWl/wzt4T/6CGtf9/wCL/wCNUAfSVFfNv/DO3hP/AKCGtf8Af+L/AONUf8M7eE/+ghrX/f8Ai/8AjVAH0lRXzb/wzt4T/wCghrX/AH/i/wDjVH/DO3hP/oIa1/3/AIv/AI1QB9JUV82/8M7eE/8AoIa1/wB/4v8A41R/wzt4T/6CGtf9/wCL/wCNUAfSVFfNv/DO3hP/AKCGtf8Af+L/AONUf8M7eE/+ghrX/f8Ai/8AjVAH0lRXy34j+A/hjR/Cuq6nbX2rNNZ2U1xGsk0RUsiFgDiMHGR6163+z5/yQnw9/wBvP/pTLQB6TRRRQAUUUUAeJeKP+TyfBn/YFk/9AvK9trxLxR/yeT4M/wCwLJ/6BeV7bQAUUUUAFFFFABRRRQAUUUUAFeQfFy9t7D4r/DSa7k8uNpdQhB2k5eSOJEHHqzKPx5r1+vC/2gP+Sh/C7/sKP/6NtqAO6ooooAKKKKACiiigAooooAKKKKAPPfi9e2+m6d4Xvr2Tyra18SWk0z7SdqKJCxwOTwD0r0KvJ/2if+SeWP8A2FI//RUtesUAFFFFABRRRQAUUUUAFFFFABXC/Gn/AJJDrX/bD/0fHXdVwvxp/wCSQ61/2w/9Hx0Abvgb/knnh3/sF23/AKKWt2sLwN/yTzw7/wBgu2/9FLW7QAUUUUAFFFFABRRRQAUUUUAYXjn/AJJ54i/7Bdz/AOimq9+z5/yQnw9/28/+lMtUfHP/ACTzxF/2C7n/ANFNV79nz/khPh7/ALef/SmWgD0miiigAooooA8S8Uf8nk+DP+wLJ/6BeV7bXiXij/k8nwZ/2BZP/QLyvbaACisbWfGHhzw7II9d13TtPkIyI7m5RHI9dpOauaVrOma7ZC80XULbULYnAmtplkXPpkHr7UbgXaKKKACiiigAooooAK8L/aA/5KH8Lv8AsKP/AOjbavdK8L/aA/5KH8Lv+wo//o22oA7qiiigAoqtfajZaZb+fqV5b2cOdvmXEqxrn0yTiuX03X3ufHE//FW6Fd6RMgS0sILiMziT5e45PRuMnqKFq7BsrnY0VWudRsrNwl3eW8DEZCyyqpI/E1D/AG7pP/QUsv8AwIT/ABoAv0VxXxE8XX+h22mab4bSKXWNZnEFq0nKRjjLn16j279qxbPXvF/g3xlpWleNdSt9XsNZJihuooFiMM3HykADIJIH4+2KFq/wB6K56fRRRQB5P+0T/wAk8sf+wpH/AOipa9Yryf8AaJ/5J5Y/9hSP/wBFS16xQAUUVFcXMFpbvcXc0cEMY3PJKwVVHqSeBQBLRXFah4nWbxTp82meMvD8WjoMXds91GZJTk/dPbt3rrri9tbNFe7uYYFbhTLIFB/OjpcOtieiqH9u6R/0FLL/AMCE/wAapeItQ1pNA+0+DLS01O8dwEWWYCPb3bORnHpkUAblFec/DbxN4m1jxP4j03xZLbmbTTEqxWyAJGx3Zwep6DqTXo1PomHVrsFcL8af+SQ61/2w/wDR8dd1XC/Gn/kkOtf9sP8A0fHSA3fA3/JPPDv/AGC7b/0UtbtYXgb/AJJ54d/7Bdt/6KWt2gAopCQoJJwBySe1cX4n8Tpcw2y+FvGXh+xlSbNwbm6jbenoOuDQB2tFVxf2ZsVvBdwG1cBln8wbGB6EN0qD+3dI/wCgpZf+BCf40AX6KwfEniVdK8JX+r6TGuqS26fu4rc+ZuckAZ254Gcn2rz7Ub34o6B4bPivUdZ0+SKJFmn0lrVVCISPl3Y3ZGemfxNK/cdux6/RVHRNUTWtBsdTiQxpeQJMEPVdwBx+tXqppp2ZKd1dGF45/wCSeeIv+wXc/wDopqvfs+f8kJ8Pf9vP/pTLVHxz/wAk88Rf9gu5/wDRTVe/Z8/5IT4e/wC3n/0plpDPSaKKKACiiigDxLxR/wAnk+DP+wLJ/wCgXle214l4o/5PJ8Gf9gWT/wBAvK9toA+cvEPmfEP4ma9L4R8IeG5n0lxbX2p+IJHYSMmV4j3bQPlIztPQZI6VP+z5cNZ/Ejxhp88mlQFliIt9KlzalxnPlcnPGc46c16T4j+CngXxTrr6vqujk3crbpmgneITH1YKQM+4wTU+m/B7wHo/iC31vS/D0VtqFsQ0Mkc8oVCBgEJv25x7deetFP3bX7f1/wAMFT3r2NnTvFEGqeKr3SbOTT54rWIMZoNQjll35wyNCPmTB7nvxW7XkVlD4ssfipP4jtPhtLbWlxYCykSLULNSz+dvMxw/PH413niPxFd6VrGhaXplkl3dardFHDuVEMCLuklOAc4+UAdyRQvhXd/5g9JP+uhd13xBp/h+xaa/vrG2lZGNvHeXaW4mcDO0Mx+nPbNP8P6umu6Fa6ghtszJl1tbpbiNG7qJF4bB4yKj1yHQJYoj4lj0141J8o6gsZAPfG/+lcp8FVjHw3RrcKIHv7xoSg+Uobh8FfbHShdQeiT/AK/rQ9AooooAK8L/AGgP+Sh/C7/sKP8A+jbavdK8L/aA/wCSh/C7/sKP/wCjbagDuqKKKAM7WtB0vxFYiz1uyivLdXDhJB0Ydx+ZryzxT4V0Twz8UPA39g6dFZefeP5vl5+bG3HU+5r0vxPrl1oGlC7sdFvNYkMgT7PZjLAEH5j7ceneuAjTxF4/+IOgapd+HLnQdO0R3lZ71sPKxxwFwD2H60R+NNdHqEvhd+xJ8R9Ejv8AxMkzfDeXxGfIUfbU1JoO5+Xavp6n1rkv+EXi/wCiJ3H/AIPJa+gaKSVht3PI/GqpoviP4dapdWf9m2Fq/kSxF9wtSyrhS3fGDz/smrXxNuIdT8b+CdJsZFnu11Fbp0Q52Rgqdx9BgE/hXoetaJp3iHSpdO1i1S6tZfvRtkcjoQRyD7isbwx8OvDXhC6kutFsNly67TNLI0jBfQZ6fhVJ669Hf+vmS1pp2sdRRRRSGeT/ALRP/JPLH/sKR/8AoqWvWK8n/aJ/5J5Y/wDYUj/9FS16xQAVW1DT7TVdPmsdRgS4tZ12yROMhhVmqWsX8umaPc3lvYz38sKbltrcZeQ+gpO1tRq99DyP4u+B/Dfh7wbDe6LpEFpc/bok8yPOdpzkcn2rqfiXpSala6Zv8Ev4pMe7Gy+Nv5GQP7vJzj9K53xNd+J/ibb2WhQ+D77RrcXaT3F5fnaqKuegIGTz2r2FRtUD0GKdny69/wBEK/vK3b9T5/8A+EXi/wCiKXH/AIPJa9b8Fx2+keC7ZZtGXw1ErNmzmuvN8vLHkueuevNdNWX4g8OaV4p03+z9dtBd2u8SBPMZMMOhypB7mi7toFlfU8+8A6jZRfFTx1JJeW6JLPD5bNKoD/e6HPNeq1wo+C/gAf8AMA/8nJ//AIuu3iiSCFIol2pGoVVHYDgCnpypdgfxN9x9cL8af+SQ61/2w/8AR8dd1XC/Gn/kkOtf9sP/AEfHSA3fA3/JPPDv/YLtv/RS1u1heBv+SeeHf+wXbf8Aopa3aAGuiyRskihlYYYEcEV5n48+HXhLTfAes31hoVtBcw2rvHIm7Kt6jmvTJGKRM4RnKqSFXq3sK8n8S+LPFHizQL3QNP8AAOq20l8hh+0XZ2RoCeSSQB096iSumluVHRpvYuJYrqHwL0KF/DbeIx9ngb7EtyYD0+9uHPHoPWuM/wCEXi/6Ipcf+DyWvbPDGkvoXhXTNLlcSSWlskTsvQsBzj2zWrWs7c8murM435Emec+Cp9N8HeF9T1DVPDH/AAh1qkis6y3puDPxxjPOewHfNc097cfF3UBNq97Fong+2k3LbyTqk14R3bngfoO2TyPWNf8ADul+J9LOna5a/arUuHMfmMnzDocqQa5j/hS3gD/oAf8Ak5P/APF1O7uytlZHZ2SW0VhBHYeWLVY1WHyjldgHGMdsVPVbT9PttK023sLCPyra2jEcSbi21QMAZJJP41ZpvcS2MLxz/wAk88Rf9gu5/wDRTVe/Z8/5IT4e/wC3n/0plqj45/5J54i/7Bdz/wCimq9+z5/yQnw9/wBvP/pTLSGek0UUUAFFFFAHiXij/k8nwZ/2BZP/AEC8r22vEvFH/J5Pgz/sCyf+gXle20AFFFFABTTGhkWQopdQQGxyAcZGfwH5U6igDN1fw7oviBYl17SLHUxCSYheWyS7CeuNwOM4FXre3htLeOC1ijhhjUKkcahVQDoABwBUlFABRRRQAV4X+0B/yUP4Xf8AYUf/ANG21e6V4X+0B/yUP4Xf9hR//RttQB3VFFFABRRRQAUUUUAFFFFABRRRQB5P+0T/AMk8sf8AsKR/+ipa9Yryf9on/knlj/2FI/8A0VLXrFABRRRQAUUUUAFFFFABRRRQAVwvxp/5JDrX/bD/ANHx13VcL8af+SQ61/2w/wDR8dAG74G/5J54d/7Bdt/6KWt2sLwN/wAk88O/9gu2/wDRS1u0AFFFFABRRRQAUUUUAFFFFAGF45/5J54i/wCwXc/+imq9+z5/yQnw9/28/wDpTLVHxz/yTzxF/wBgu5/9FNV79nz/AJIT4e/7ef8A0ploA9JooooAKKKKAPEvFH/J5Pgz/sCyf+gXle214H8R59XsP2n9A1Xw/o39tXOnaAZms/tSW+5Ge4iJ3twMGQHof610v/C0PH//AESr/wAuKD/4igD1eivKP+FoeP8A/olX/lxQf/EUf8LQ8f8A/RKv/Lig/wDiKAPV6K8o/wCFoeP/APolX/lxQf8AxFH/AAtDx/8A9Eq/8uKD/wCIoA9Xoryj/haHj/8A6JV/5cUH/wARR/wtDx//ANEq/wDLig/+IoA9Xoryj/haHj//AKJV/wCXFB/8RR/wtDx//wBEq/8ALig/+IoA9Xrwv9oD/kofwu/7Cj/+jbat3/haHj//AKJV/wCXFB/8RXlnxc8ZeJtX8WeCLrV/BMmmXFhevJaWsWopdvfNvhOxfLXKnKqBwc7uBxQB7hRXl/8Aws3xv/0SLxB/3xP/APGKP+Fm+N/+iReIP++J/wD4xQB6hRXl/wDws3xv/wBEi8Qf98T/APxij/hZvjf/AKJF4g/74n/+MUAeoUV5f/ws3xv/ANEi8Qf98T//ABij/hZvjf8A6JF4g/74n/8AjFAHqFFeX/8ACzfG/wD0SLxB/wB8T/8Axij/AIWb43/6JF4g/wC+J/8A4xQB6hRXl/8Aws3xv/0SLxB/3xP/APGKP+Fm+N/+iReIP++J/wD4xQBX/aJ/5J5Y/wDYUj/9FS16xXzr8WvGHiPxB4TtrXXPAuqeHrdL1JFurxZAjsEcBBuiUZIJPX+E8V3X/CzfG/8A0SLxB/3xP/8AGKAPUKK8v/4Wb43/AOiReIP++J//AIxR/wALN8b/APRIvEH/AHxP/wDGKAPUKK8v/wCFm+N/+iReIP8Avif/AOMUf8LN8b/9Ei8Qf98T/wDxigD1CivL/wDhZvjf/okXiD/vif8A+MUf8LN8b/8ARIvEH/fE/wD8YoA9Qory/wD4Wb43/wCiReIP++J//jFH/CzfG/8A0SLxB/3xP/8AGKAPUK4X40/8kh1r/th/6PjrJ/4Wb43/AOiReIP++J//AIxXMfEXx14q1nwDqNhqvw51jRbSXyvMvrlZRHFiVCM7olHJAXqOTQB614G/5J54d/7Bdt/6KWt2vHPDXxD8Y2XhPSbWz+F2uX1vBZQxxXUSzbJ1VAA64hIwQMjBPXrWn/ws3xv/ANEi8Qf98T//ABigD1CivL/+Fm+N/wDokXiD/vif/wCMUf8ACzfG/wD0SLxB/wB8T/8AxigD1CivL/8AhZvjf/okXiD/AL4n/wDjFH/CzfG//RIvEH/fE/8A8YoA9Qory/8A4Wb43/6JF4g/74n/APjFH/CzfG//AESLxB/3xP8A/GKAPUKK8v8A+Fm+N/8AokXiD/vif/4xR/ws3xv/ANEi8Qf98T//ABigDs/HP/JPPEX/AGC7n/0U1Xv2fP8AkhPh7/t5/wDSmWvK/EvxD8Y3vhPVrW8+F2uWNvPZTRy3UqzbIFZCC7ZhAwAcnJHTrXqn7Pn/ACQnw9/28/8ApTLQB6TRRRQAUUUUAeQeIv8Ak5aP/sUR/wClhrpa4Xx1e3Fr+1X4dhgk2R3egNDONoO9A1w4HPT5kU8enpmu6oAKKKKACiiigAooooAKKKKACvL/AIm/8lT+F/8A2Gl/9H29eoV5f8Tf+Sp/C/8A7DS/+j7egD6KooooAKKKKACiiigAooooAKKKKAPEv2q/+SWab/2Gov8A0RPXtteJftV/8ks03/sNRf8AoievbaACiiigAooooAKKKKACiiigArzb9oP/AJIT4h/7dv8A0pir0mvNv2g/+SE+If8At2/9KYqAOl+HH/JLPCn/AGBbP/0QldJXN/Dj/klnhT/sC2f/AKISukoAKKKKACiiigAooooAKKKKAOb+I/8AySzxX/2Bbz/0Q9c1+z5/yQnw9/28/wDpTLXS/Ef/AJJZ4r/7At5/6Ieua/Z8/wCSE+Hv+3n/ANKZaAPSaKKKACiiigDwP4hf8nZeE/8AsCt/K7r0KvPfiF/ydl4T/wCwK38ruvQqACis7W9f0zw5p4vdbu1tLYuI/McEjceg4B9KvRSpPCksTbkkUMreoPINAD6KKKACiub8QfEHwv4WvUtNc1aO3uGAbyljeRgD3IUHH41t6fqFpqunw32m3EdzbTLujljOQwo3Vw2LNFFFABXl/wATf+Sp/C//ALDS/wDo+3r1CvL/AIm/8lT+F/8A2Gl/9H29AH0VRRRQAUUVR1rW9N8O6RPqmt3cdnZW67pJpDwP6knsByaTaW4bl6iuG0D4w+EPEOrwaZbXlxa3N1/x6i9tXgW5/wBxmGD9Opra8WeNtB8E2MVz4hvhb+e2yCJEMkkzeiooJP8ALmm9NWC1dkb9Fch4W+KHhjxdqj6Zpt1NBqSLvNle27QSsvqAw5/Cuvp2AKKKKQHiX7Vf/JLNN/7DUX/oievba8S/ar/5JZpv/Yai/wDRE9e20AFFFFABRRUF9fWumWE97qE8dta26GSWWRsKijqSaL21Ybk9Fee6f8cPA+o6lBaR39xAlzJ5dvdXNpJFBM2cYV2GPzxXoVHS4eQUUUUAFebftB/8kJ8Q/wDbt/6UxV6TXm37Qf8AyQnxD/27f+lMVAHS/Dj/AJJZ4U/7Atn/AOiErpK5v4cf8ks8Kf8AYFs//RCV0lABRRRQAUVj+KvFWk+DfD82s69ceRaQkA4G5nYnAVR3NW49Xs5NATWTIUsmthdb2HKx7d2SPpSurN9gtql3LtFeY/8ADRHw0/6D0n/gDP8A/EV6Np99b6ppttf2T+ZbXUSzROVI3KwyDg8jg1Vna4X1sWKKKKQHN/Ef/klniv8A7At5/wCiHrmv2fP+SE+Hv+3n/wBKZa6X4j/8ks8V/wDYFvP/AEQ9c1+z5/yQnw9/28/+lMtAHpNFFFABRRRQB4H8Qv8Ak7Lwn/2BW/ld16FXnvxC/wCTsvCf/YFb+V3XoVAHm3xP1vxRotrc3kOh6JqOgW6I7NfAyPvJ2/cyB1NdxpF5Le+GbG9WGMSz2ccoiT5VDFAdo9Bk4rz74iL4/wDEVjqnh/TvCkEmmzsqxXgv4gzKGDZ2swx06VreC7jxoY7bRvE3heGw02GzEH2pL5HYlVCj5VYnn9KUbuLQ5aNf12KbeJvikHIHgawxnj/iZR//ABdafhzXPHl7rUcPiHwraafYMG33Ed8jshxx8oYk5PFZzfAvwQzE/ZLrk5/4+mrT8PfCrwv4X1qLVNJtrhLqIMEZ7hmAyMHjvwapeZL8jnPhTptnr114q1vV7WG8u7jVJLdmnQPtjAGFGeg5x+Aqx8IM2Go+LtDhY/YtO1RhbITnYGLDA/75FVl07xf8PfEesf8ACMaCuu6Tq0xuYlE4jNtKeoIPUf0A5FdJ8NfCl94b0m9utdZG1fVrlrq7CHIQnoue+Mn86Udvkl89P8mOW/zv8tTs6KKKACvL/ib/AMlT+F//AGGl/wDR9vXqFeX/ABN/5Kn8L/8AsNL/AOj7egD6KooooAKwvFXhDSvGVnaWmuJLJb2t0l0saPtV3XoGH8S8nit2uN+JXiTXvCWh2msaFp8d/awXSf2nF5bPKtt/EyAEcj3z1z2pXStfyGrvY83+Kfiy28U+KNC8Jyadd6DDbayj/wBt6pAYYSYyRiBud27sSQOn1r1i88E6bqHj2w8WXclxLe6fbNb28LMphTcSS4GM7ucZz+FeW/FHx/4b+I/gpfCvgqRtd1nVZovs8MMDj7NhwxkckDbgZH4ntR8WPiS/hiXSPAkOtf2TLLax/wBqayI3keCPbjCKoJ3tg89sjkZyBXUfO+nnpr939aidm/K33a/qaXia5g8Y/H7wxY+G1E0/ht5LjVb6L7sKEACEsOpJBGO27617FXkHw4+IHwo0WOx8L+D9Ska5vJlQNJZzCS5lbjc7lAMn34HtXr9Va0Ul5/eK95XCiiikM8S/ar/5JZpv/Yai/wDRE9e214l+1X/ySzTf+w1F/wCiJ69toAKKKKACuG+M2ljWPhJrdq2oQaePKWTzrl9kZ2uG2k++MfUiu5rzX476LqGs/DkHTLV70WN9Dd3FpGMtPChO5QO/XOPaonqren57/IqGjuea+L/iNa+MvhTpfhhfDV5opv2t4F1LUYPKsLfYR88cvcYGBwOCa+jNPg+zaZawGXz/ACoUTzT/AB4AG78eteO+Ovix4L8VfDS80XQZW1XU9Ut/s1ppUVq/mrKemVxgbTz+HFen+C9NvNH8C6JpuptvvLWxiimOc/MEAIz3x0rbfmfn9/8Aw36mW3KvL/L8/wBDboooqCwrzb9oP/khPiH/ALdv/SmKvSa82/aD/wCSE+If+3b/ANKYqAOl+HH/ACSzwp/2BbP/ANEJXSVzfw4/5JZ4U/7Atn/6ISukoAKRmVELOwVVGSScAClrH8WaC3ifwnqOipeyWH26ExG4iGWQHrgZHUZH40ne2g1a+p4d8Snl+JPhPxJ4qcuvhvQ4Wh0ZMkC7n3hZLg+qjlV/E+td94su7mz/AGbZGsYZZriXQ4YESFCzHzEVDgDnoxNcR8QPhjr3hb4R6oB4+1C70yxtVUaabREjdAygLweB3rrtLj8X+Dfgiuo6LenxPqQt4LqC3vYT+7hKLmJAjAnaMkc8+lJqPJKN9NP1/ry+4ab54vrr+n9fMy9F8feIvAngPSDqnw41C38PWNpFFLfC9jaZFCgGRrcDcozk8ke9evaZqVprGlW2o6dMs9pdRLLDIvRlIyDXk/ib41+FNe+Hl3ZaNLLf63qto1pDpEdu5mErqVKsMY4JPfnHFd38N9AuvC/w30TRtQP+lWtqBMAc7WJLFc+xOPwrVttyb7/53/T7zNWSil/Wx09FFFQUc38R/wDklniv/sC3n/oh65r9nz/khPh7/t5/9KZa6X4j/wDJLPFf/YFvP/RD1zX7Pn/JCfD3/bz/AOlMtAHpNFFFABRRRQB4H8Qv+TsvCf8A2BW/ld16FXnvxC/5Oy8J/wDYFb+V3XoVABRRRQAUUUUAFFFFABRRRQAV5f8AE3/kqfwv/wCw0v8A6Pt69Qry/wCJv/JU/hf/ANhpf/R9vQB9FUUUUAFFFFAEMFnbWzu9tbxQtIcuY0ClvrjrU1FFABRRRQAUUUUAeJftV/8AJLNN/wCw1F/6Inr22vEv2q/+SWab/wBhqL/0RPXttABRRRQAUUUUAQx2VrFcNcRW0KTP96RYwGb6nqamoooAKKKKACvNv2g/+SE+If8At2/9KYq9Jrzb9oP/AJIT4h/7dv8A0pioA6X4cf8AJLPCn/YFs/8A0QldJXN/Dj/klnhT/sC2f/ohK6SgAooooAKKKKAIUs7WO5a4jtoVnf70qxgM31PWpqKKACiiigDm/iP/AMks8V/9gW8/9EPXNfs+f8kJ8Pf9vP8A6Uy10vxH/wCSWeK/+wLef+iHrmv2fP8AkhPh7/t5/wDSmWgD0miiigAooooA8D+IX/J2XhP/ALArfyu69Crzb4n31ppv7U3ha71G6htLaPRTvmnkCIuftQGWPA5IH411n/Cc+E/+ho0X/wAGEX/xVAG7RWF/wnPhP/oaNF/8GEX/AMVR/wAJz4T/AOho0X/wYRf/ABVAG7RWF/wnPhP/AKGjRf8AwYRf/FUf8Jz4T/6GjRf/AAYRf/FUAbtFYX/Cc+E/+ho0X/wYRf8AxVH/AAnPhP8A6GjRf/BhF/8AFUAbtFYX/Cc+E/8AoaNF/wDBhF/8VR/wnPhP/oaNF/8ABhF/8VQBu15f8Tf+Sp/C/wD7DS/+j7euz/4Tnwn/ANDRov8A4MIv/iq85+IfiXQr34k/Dm6sta064t7PVhJcyxXaOkC+dAdzkHCjCk5PofSgD6dorm/+Fj+CP+hy8P8A/g0g/wDiqP8AhY/gj/ocvD//AINIP/iqAOkorm/+Fj+CP+hy8P8A/g0g/wDiqP8AhY/gj/ocvD//AINIP/iqAOkorm/+Fj+CP+hy8P8A/g0g/wDiqP8AhY/gj/ocvD//AINIP/iqAOkorm/+Fj+CP+hy8P8A/g0g/wDiqP8AhY/gj/ocvD//AINIP/iqAOkorm/+Fj+CP+hy8P8A/g0g/wDiqP8AhY/gj/ocvD//AINIP/iqAPNv2q/+SWab/wBhqL/0RPXttfPf7Svizw5r3w20+10PX9L1K4TVo5Gis72OZ1UQzAsQpJxkgZ9xXsH/AAsfwR/0OXh//wAGkH/xVAHSUVzf/Cx/BH/Q5eH/APwaQf8AxVH/AAsfwR/0OXh//wAGkH/xVAHSUVzf/Cx/BH/Q5eH/APwaQf8AxVH/AAsfwR/0OXh//wAGkH/xVAHSUVzf/Cx/BH/Q5eH/APwaQf8AxVH/AAsfwR/0OXh//wAGkH/xVAHSUVzf/Cx/BH/Q5eH/APwaQf8AxVH/AAsfwR/0OXh//wAGkH/xVAHSV5t+0H/yQnxD/wBu3/pTFXS/8LH8Ef8AQ5eH/wDwaQf/ABVef/HLxr4V1f4Ma7Y6V4l0e+u5fs/l29tfxSSPi4jJwqsScAE/QUAegfDj/klnhT/sC2f/AKISukrzvwD4+8H2fw28NWt54s0OC4h0m1jlil1KFXjYQqCrAtkEEYINdB/wsfwR/wBDl4f/APBpB/8AFUAdJRXN/wDCx/BH/Q5eH/8AwaQf/FUf8LH8Ef8AQ5eH/wDwaQf/ABVAHSUVzf8AwsfwR/0OXh//AMGkH/xVH/Cx/BH/AEOXh/8A8GkH/wAVQB0lFc3/AMLH8Ef9Dl4f/wDBpB/8VR/wsfwR/wBDl4f/APBpB/8AFUAdJRXN/wDCx/BH/Q5eH/8AwaQf/FUf8LH8Ef8AQ5eH/wDwaQf/ABVAB8R/+SWeK/8AsC3n/oh65r9nz/khPh7/ALef/SmWpfH3j7wfefDbxLa2fizQ57ibSbqOKKLUoWeRjCwCqA2SSTgAVF+z5/yQnw9/28/+lMtAHpNFFFABRRRQB4X8RPDGkeLP2hYLHxBafa7aPwssyp5rphxduAcqQejH86P+FLeAP+gB/wCTk/8A8XVvxdqMVl+1BplvKrl7/wAM/Z4ioGAwnlkyeem2NumeSPrXX0AcL/wpbwB/0AP/ACcn/wDi6P8AhS3gD/oAf+Tk/wD8XXdUUAcL/wAKW8Af9AD/AMnJ/wD4uj/hS3gD/oAf+Tk//wAXXdUUAcL/AMKW8Af9AD/ycn/+Lo/4Ut4A/wCgB/5OT/8Axdd1RQBwv/ClvAH/AEAP/Jyf/wCLo/4Ut4A/6AH/AJOT/wDxdd1RQBwv/ClvAH/QA/8AJyf/AOLrgvHXw68LaN4+8B6bpul+TaatqYgvY/tEreanmwrjJYleHbkEHmvd68v+Jv8AyVP4X/8AYaX/ANH29AHoP/DPnwx/6Fn/AMn7n/45R/wz58Mf+hZ/8n7n/wCOV6TRQB5t/wAM+fDH/oWf/J+5/wDjlH/DPnwx/wChZ/8AJ+5/+OV6TRQB5t/wz58Mf+hZ/wDJ+5/+OUf8M+fDH/oWf/J+5/8Ajlek0UAebf8ADPnwx/6Fn/yfuf8A45R/wz58Mf8AoWf/ACfuf/jlek0UAebf8M+fDH/oWf8Ayfuf/jlH/DPnwx/6Fn/yfuf/AI5XpNFAHzJ+0B8LfB3gjwDZal4Y0f7Ddy6nHA8n2qaTKGKViMO5HVV5xnivUv8Ahnz4Y/8AQs/+T9z/APHK5v8Aar/5JZpv/Yai/wDRE9e20Aebf8M+fDH/AKFn/wAn7n/45R/wz58Mf+hZ/wDJ+5/+OV6TRQB5t/wz58Mf+hZ/8n7n/wCOUf8ADPnwx/6Fn/yfuf8A45XpNFAHm3/DPnwx/wChZ/8AJ+5/+OUf8M+fDH/oWf8Ayfuf/jlek0UAebf8M+fDH/oWf/J+5/8AjlH/AAz58Mf+hZ/8n7n/AOOV6TRQB5t/wz58Mf8AoWf/ACfuf/jlcT8Yvg74E8K/CfWdZ0HQvsuoW3keVN9snfbunjQ/KzkH5WI5Hevf682/aD/5IT4h/wC3b/0pioAxPBXwN+HWr+AfD+pah4e867vNMtp55Pttwu93iVmOBIAMkngDFbf/AAz58Mf+hZ/8n7n/AOOV0vw4/wCSWeFP+wLZ/wDohK6SgDzb/hnz4Y/9Cz/5P3P/AMco/wCGfPhj/wBCz/5P3P8A8cr0migDzb/hnz4Y/wDQs/8Ak/c//HKP+GfPhj/0LP8A5P3P/wAcr0migDzb/hnz4Y/9Cz/5P3P/AMco/wCGfPhj/wBCz/5P3P8A8cr0migDzb/hnz4Y/wDQs/8Ak/c//HKP+GfPhj/0LP8A5P3P/wAcr0migDxvxr8Dfh1pHgHxBqWn+HvJu7PTLmeCT7bcNsdImZTgyEHBA4IxW3+z5/yQnw9/28/+lMtdL8R/+SWeK/8AsC3n/oh65r9nz/khPh7/ALef/SmWgD0miiigAooooA8D+IX/ACdl4T/7Arfyu69Crz34hf8AJ2XhP/sCt/K7r0KgAooooAKKKKACiiigAooooAK8v+Jv/JU/hf8A9hpf/R9vXqFeX/E3/kqfwv8A+w0v/o+3oA+iqKKKACiiigAooooAKKKKACiiigDxL9qv/klmm/8AYai/9ET17bXiX7Vf/JLNN/7DUX/oievbaACiiigAooooAKKKKACiiigArzb9oP8A5IT4h/7dv/SmKvSa82/aD/5IT4h/7dv/AEpioA6X4cf8ks8Kf9gWz/8ARCV0lc38OP8AklnhT/sC2f8A6ISukoAKKKKACiiigAooooAKKKKAOb+I/wDySzxX/wBgW8/9EPXNfs+f8kJ8Pf8Abz/6Uy10vxH/AOSWeK/+wLef+iHrmv2fP+SE+Hv+3n/0ploA9JooooAKKKKAPA/iF/ydl4T/AOwK38ruvQq89+IX/J2XhP8A7Arfyu69CoA4H4h+K9CgjOiXHjCXw7qCMkrSW8EjuFwePlGOc+tdnY3EL6PbXK3PnQNAsguH+Xeu0Hcc9MjnmvNPjD4g8K3HhHWNPF5YSa3GEjCYBmUh1JXOMjjPGa6TwZ4s0LVfDunaTpmqWdzqMenxg2xfnKxgEEex60o6xlYb+Jf12Jj8UPBQJB8R2XHox/wq5pXjvwxreoJY6Vrdrc3UgJSJG+ZsDJxnrxXnr+FfGxkYjwR8Pzz1+xdf1ra8H6D4osPEkM+q+F/CGn2qqwe40y22TrxwFPPfr7VS13Jemxz3j2Tx9oeo2F5qHiaMWF1qqQQ2lghjxGWyNzYBPAwRk17TXjPxf8XaBqMGjWtjq1tcT2esRvcJG+fLVchifpXqei+I9H8RRSyaHqMF8sJCyGFs7SemaUfg+f6Icvi+X6s06KKKACvL/ib/AMlT+F//AGGl/wDR9vXqFeX/ABN/5Kn8L/8AsNL/AOj7egD6KooooAKztf12x8M6Fc6vq0jx2lsoZyiF2OSAAAOSSSB+NaNIQD1APfmkwR4/4I8e+JfFHxuurTVrK50fSv7HNxZ6bOAHK+aoWWQdmPPHYY+p77xn40tPBunQyS2l3qF7eOYrKxs4i8lxJjO0Y4A9Sf1rjrb/AJOsvf8AsWV/9HCvU8AkHAyOhp7wjbz/APSmG03fy/JHmPwX8T+IfEy+KZPFbFLy11ZoBaggragKMxrjsD3716fXlfwY/wCQ58Qv+xln/nXqlPdRfkvyQurXm/zYUUUUhniX7Vf/ACSzTf8AsNRf+iJ69trxL9qv/klmm/8AYai/9ET17bQAUUUUAYXjXxPD4N8F6lr1wnmizhLJHnG9ycKv4sQK87Hh34p3fhceJU8aSJrrw/aotFjtIxbYxkQc8k443Hv371pftEJK3wV1Roc/JNAzfTzV/wDrVj3vwe0Wf4fNr8t/fv4oWx+3Lrn22TzBKE38DO0J2AA4HepvpKT6f5X/AK9Craxiut/6/rubXj/xx4j0L4caJcQWkela/rVzBZP5+HSykcHc3cHGDjOetYuuzeMfhXqGg6leeL5/EthqN/HY3lleW6I2Xz88RXkYwePp1rI1zxXqHjj4S+BdDu4LWTUfF0pglu7qLcsPlNtaVRx854I+po8beBrn4Y2uleNhr2oeJ49EmjSSy1yXzlVWYLuh/uMDjHX9K02m2/5rflp/XfyI1cEl/L/nr/XbzPfqKZBKs9vHMmdsihhn0IzT6nYE7q6CvNv2g/8AkhPiH/t2/wDSmKvSa82/aD/5IT4h/wC3b/0pioGdL8OP+SWeFP8AsC2f/ohK6Sub+HH/ACSzwp/2BbP/ANEJXSUAFQX0M9xp9xDZ3P2W4kiZYp9gfymIwG2ng4POKnopPVWBaHjnifRPHnhLw3ea3q/xilS1tI9zAeH4MuegUfP1JwB9an0HW/iFofwSutf1tLjX/EN3iSxs0tAXhR8Bd6xgZxy59OmaPHinxv8AGbw74Kb59M02M6vqSdpCDiND+OOPRq9ZllitoHmndYoo1LO7nCqoHJJ7ChfA2+v5Lf73+XmP7SXb9f6/E8e1vQfiP4Y8H3HitviBNdanZQG7udPntIxauAMtGAORxkA98ds16b4U10eJvCGla2IvJ+32qTmP+4WGSPzrzHVtT1L433smheGTLZeCoZQuo6uV2tflTnyoQf4eOT/+o+vWNjb6Zp9vY2MQhtraJYoo16KqjAH5CqWzb67f191ieqX3/wBfeT0UUUhnN/Ef/klniv8A7At5/wCiHrmv2fP+SE+Hv+3n/wBKZa6X4j/8ks8V/wDYFvP/AEQ9c1+z5/yQnw9/28/+lMtAHpNFFFABRRRQB4H8Qv8Ak7Lwn/2BW/ld16FXnvxC/wCTsvCf/YFb+V3XoVAGPdeEfDd9dSXN94f0u5uJDl5ZrKN2c+pJGTUmn+GdB0m5+06XomnWU+0r5ttaJG2D1GVAOK1KKNgCiiigDEl8GeF55nln8N6RJJIxZ3ewiLMT1JJXk1e03RtL0aN00jTbSwSQ5dbWBYgx9SFAzV2igAooooAK8v8Aib/yVP4X/wDYaX/0fb16hXl/xN/5Kn8L/wDsNL/6Pt6APoqiiigAooooA5WLwT5fxWm8af2hnzdMFh9j8nphw2/fu9sY2/jXVUUUdLf13Drf+uxyvgvwV/wiF94huP7Q+2f21qUl/t8ny/J3fwZ3Hdj14+ldVRRR0SDrcKKKKAPEv2q/+SWab/2Gov8A0RPXtteJftV/8ks03/sNRf8AoievbaACiiigCjrWj2XiDRLvSdUi860vIjFKmcZB9D2PcGvMj8KPGJ0P/hFh8QX/AOEY2+V5ZsF+1eR/zy8zPTHGfTtjivW6KVkO7OJ8SfC/Sta8I6XounTzaTLorI+l3kHL2zqMA/7We/TJrDm+GHijxRcWcHxE8YpqukWkyzfYLOxW3F0y9DIwPT2H6V6lRVXd7/P5i6W+QAAAADAHQCiiikAV5t+0H/yQnxD/ANu3/pTFXpNebftB/wDJCfEP/bt/6UxUAdL8OP8AklnhT/sC2f8A6ISukrm/hx/ySzwp/wBgWz/9EJXSUAFFFFAHJ6P4H/sv4la94ul1D7RJq0MUCW/kbfs6oAMbtx3ZwD0FP+IvhC78deDp9Bs9ZbSBcuvnTrB5pdByUxuXgnHftjvXU0Umk4qPRDTafMeUad8MPiBpGmwafpnxVNtaW6COKGPw7AFRR2+/XpWjWl7Y6La2uq6gdTvIows14YRF5zd22DhfoKu0VV2ybIKKKKQzm/iP/wAks8V/9gW8/wDRD1zX7Pn/ACQnw9/28/8ApTLXS/Ef/klniv8A7At5/wCiHrmv2fP+SE+Hv+3n/wBKZaAPSaKKKACiiigDwP4hf8nZeE/+wK38ruvQq89+IX/J2XhP/sCt/K7r0KgAooooAKKKKACiiigAooooAK8v+Jv/ACVP4X/9hpf/AEfb16hXl/xN/wCSp/C//sNL/wCj7egD6KooooAKKKKACiiigAooooAKKKKAPEv2q/8Aklmm/wDYai/9ET17bXiX7Vf/ACSzTf8AsNRf+iJ69toAKKKKACiiigAooooAKKKKACvNv2g/+SE+If8At2/9KYq9Jrzb9oP/AJIT4h/7dv8A0pioA6X4cf8AJLPCn/YFs/8A0QldJXN/Dj/klnhT/sC2f/ohK6SgAooooAKKKKACiiigAooooA5v4j/8ks8V/wDYFvP/AEQ9c1+z5/yQnw9/28/+lMtdL8R/+SWeK/8AsC3n/oh65r9nz/khPh7/ALef/SmWgD0miiigAooooA8M+LPg/wAeXfxi0jxZ4G0OHUlsNMEG6e4jRN5aYMCrSIx+WQHI4/UVn+d8e/8AoSNF/wDAmP8A+Sa+g6KAPnzzvj3/ANCRov8A4Ex//JNHnfHv/oSNF/8AAmP/AOSa+g6KAPnzzvj3/wBCRov/AIEx/wDyTR53x7/6EjRf/AmP/wCSa+g6KAPnzzvj3/0JGi/+BMf/AMk0ed8e/wDoSNF/8CY//kmvoOigD588749/9CRov/gTH/8AJNHnfHv/AKEjRf8AwJj/APkmvoOigD588749/wDQkaL/AOBMf/yTWDrvhb42eINf0HV73wdpyXGhXQurZYruEI7bkbDgzkkZjHQjvX1DRQB4l/wlH7Q3/QieH/8Av+n/AMlUf8JR+0N/0Inh/wD7/p/8lV7bRQB4l/wlH7Q3/QieH/8Av+n/AMlUf8JR+0N/0Inh/wD7/p/8lV7bRQB4l/wlH7Q3/QieH/8Av+n/AMlUf8JR+0N/0Inh/wD7/p/8lV7bRQB4l/wlH7Q3/QieH/8Av+n/AMlUf8JR+0N/0Inh/wD7/p/8lV7bRQB4l/wlH7Q3/QieH/8Av+n/AMlUf8JR+0N/0Inh/wD7/p/8lV7bRQB80/EDR/jj8R9Ag0jXPBmlwW8N0t0rWd1ErlgrKAS1wwxhz29K6n/hKP2hv+hE8P8A/f8AT/5Kr22igDxL/hKP2hv+hE8P/wDf9P8A5Ko/4Sj9ob/oRPD/AP3/AE/+Sq9tooA8S/4Sj9ob/oRPD/8A3/T/AOSqP+Eo/aG/6ETw/wD9/wBP/kqvbaKAPEv+Eo/aG/6ETw//AN/0/wDkqj/hKP2hv+hE8P8A/f8AT/5Kr22igDxL/hKP2hv+hE8P/wDf9P8A5Ko/4Sj9ob/oRPD/AP3/AE/+Sq9tooA8S/4Sj9ob/oRPD/8A3/T/AOSqxPGKfHjxv4TvPD2q+CdHhtLzZ5j21zGsg2OrjBa5I6qO3SvoiigDwTRNT+P+g6Bp+kWfgfQ3t9PtY7WJpbiMuyooUFiLkDOBzgCr3/CUftDf9CJ4f/7/AKf/ACVXttFAHiX/AAlH7Q3/AEInh/8A7/p/8lUf8JR+0N/0Inh//v8Ap/8AJVe20UAeJf8ACUftDf8AQieH/wDv+n/yVR/wlH7Q3/QieH/+/wCn/wAlV7bRQB4l/wAJR+0N/wBCJ4f/AO/6f/JVH/CUftDf9CJ4f/7/AKf/ACVXttFAHiX/AAlH7Q3/AEInh/8A7/p/8lUf8JR+0N/0Inh//v8Ap/8AJVe20UAeCa3qfx/17QNQ0i88D6GlvqFrJaytFcRh1V1KkqTckZweMg16L8HfD2qeFfhPo2ja9bfZdQtvP82HzFfbunkcfMpIPysDwe9dtRQAUUUUAFFFFABRRRQAUUUUAFFFFABRRRQAUUUUAFFFFABRRRQAUUUUAFFFFABRRRQAUUUUAFFFFABRRRQAUUUUAFFFFABRRRQAUUUUAFFFFABRRRQAUUUUAFFFFABRRRQAUUUUAFFFFAH/2Q==)"
      ],
      "metadata": {
        "id": "hsdp1AfE72pf"
      }
    },
    {
      "cell_type": "code",
      "source": [
        "a = [[32, 8, 45], [11, 68, 72]]\n",
        "a"
      ],
      "metadata": {
        "id": "npF3q34e71mI",
        "outputId": "477bd1d7-848a-40d8-d18e-2a3f84eac6e3",
        "colab": {
          "base_uri": "https://localhost:8080/"
        }
      },
      "execution_count": 21,
      "outputs": [
        {
          "output_type": "execute_result",
          "data": {
            "text/plain": [
              "[[32, 8, 45], [11, 68, 72]]"
            ]
          },
          "metadata": {},
          "execution_count": 21
        }
      ]
    },
    {
      "cell_type": "code",
      "source": [
        "print(a[1][2])"
      ],
      "metadata": {
        "id": "_9DAOI2M8ThG",
        "outputId": "2d1d4829-0e67-4ca0-ac28-cbdd5db2e291",
        "colab": {
          "base_uri": "https://localhost:8080/"
        }
      },
      "execution_count": 22,
      "outputs": [
        {
          "output_type": "stream",
          "name": "stdout",
          "text": [
            "72\n"
          ]
        }
      ]
    },
    {
      "cell_type": "markdown",
      "source": [
        "Her ne kadar matrisler gibi çok boyutlu koleksiyonları listeler ile\n",
        "tanımlamak mümkün olsa da bu kullanım yaygın bir kullanım değildir.\n",
        "Çok boyutlu koleksiyonlar (çok boyutlu arrayler) ile çalışmak durumunda\n",
        "olanlar için, bir topluluk tarafından açık-kaynak olarak geliştirilen NumPy\n",
        "kütüphanesi daha elverişlidir. NumPy, Nümerik Python için kullanılan bir\n",
        "kısaltmadır ve matrislerle kullanılabilecek matematiksel fonksiyonları\n",
        "içerir. NumPy kütüphanesi Python’un çekirdek paketinde yer almaz. Bu\n",
        "kütüphanenin kullanılabilmesi için önce sisteme bir Python paket\n",
        "yöneticisi ile yüklenmesi gerekir. Kütüphanenin yüklenmesi ve kullanımı,\n",
        "bu kitabın kapsamı dışındadır. NumPy hakkında daha fazla bilgi için\n",
        "https://numpy.org/ adresine başvurulabilir."
      ],
      "metadata": {
        "id": "qhLzH53x8ItM"
      }
    },
    {
      "cell_type": "markdown",
      "source": [
        "**Liste Metotları**\n",
        "\n",
        "**append()**\n",
        "\n",
        "Python'da, append() metodunu kullanarak bir listenin sonuna değer\n",
        "ekleyebilirsiniz. Bu işlem, aktarılan nesneyi listenin en sonuna yeni bir\n",
        "öğe olarak yerleştirir."
      ],
      "metadata": {
        "id": "XhytRLdY831M"
      }
    },
    {
      "cell_type": "code",
      "source": [
        "sepet = ['süt', 'yumurta']\n",
        "sepet.append('peynir')\n",
        "print(sepet)"
      ],
      "metadata": {
        "id": "zxL1zLjp9L1P",
        "outputId": "ee49c542-526f-4578-b30f-f7ba05ba4430",
        "colab": {
          "base_uri": "https://localhost:8080/"
        }
      },
      "execution_count": 23,
      "outputs": [
        {
          "output_type": "stream",
          "name": "stdout",
          "text": [
            "['süt', 'yumurta', 'peynir']\n"
          ]
        }
      ]
    },
    {
      "cell_type": "markdown",
      "source": [
        "**insert()**\n",
        "\n",
        "Python'da insert() metodu, bir listenin istenilen indeks pozisyonuna\n",
        "yeni değer eklemek için kullanılır. Eklenen yeni değer, kendinden sonra\n",
        "gelen öğelerin pozisyonlarında bir numara kaymaya sebep olur."
      ],
      "metadata": {
        "id": "KQtHT_yr9h0A"
      }
    },
    {
      "cell_type": "code",
      "source": [
        "sepet = ['süt', 'yumurta', 'peynir']\n",
        "sepet.insert(1,'ekmek')\n",
        "print(sepet)"
      ],
      "metadata": {
        "id": "wb9WRQcn9tv1",
        "outputId": "8deecc21-c8f3-487a-a038-369e0a55abe2",
        "colab": {
          "base_uri": "https://localhost:8080/"
        }
      },
      "execution_count": 24,
      "outputs": [
        {
          "output_type": "stream",
          "name": "stdout",
          "text": [
            "['süt', 'ekmek', 'yumurta', 'peynir']\n"
          ]
        }
      ]
    },
    {
      "cell_type": "markdown",
      "source": [
        "**count()**\n",
        "\n",
        "Python’da count() metodu, argüman olarak aldığı arama terimini bir\n",
        "listede arar ve eşleşen öğelerin sayısını verir."
      ],
      "metadata": {
        "id": "OX8RsdIw9koz"
      }
    },
    {
      "cell_type": "code",
      "source": [
        "çanta = ['klm', 'silgi', 'dftr', 'ktp', 'klm']\n",
        "kalemSayısı = çanta.count('klm')\n",
        "print(kalemSayısı)"
      ],
      "metadata": {
        "id": "1kzEVRKp94ZH",
        "outputId": "dd3bdb06-ad9e-4cca-d0f2-363f66c6cbad",
        "colab": {
          "base_uri": "https://localhost:8080/"
        }
      },
      "execution_count": 25,
      "outputs": [
        {
          "output_type": "stream",
          "name": "stdout",
          "text": [
            "2\n"
          ]
        }
      ]
    },
    {
      "cell_type": "markdown",
      "source": [
        "**sort()**\n",
        "\n",
        "Python’da sort() metodu, çağrıldığı listenin içeriğini sıralayacaktır.\n",
        "Sayısal listeler küçükten büyüğe doğru sıralanır. String türü listeler ise\n",
        "alfabetik sıraya göre sıralanır. Bu metot bir listeye uygulandığında\n",
        "listenin orjinal sıralamasını değiştirir ve herhangi bir dönüt vermez. Eğer\n",
        "listenin orjinali korunmak isteniyorsa bu durumda sıralama için\n",
        "sorted() fonksiyonunun kullanılması uygun olur."
      ],
      "metadata": {
        "id": "qkCS7C9C-Ibx"
      }
    },
    {
      "cell_type": "code",
      "source": [
        "listemiz = [4, 2, 1, 3]\n",
        "listemiz.sort()\n",
        "print(listemiz)\n",
        "korunanListemiz = [62, 12, 76, 33]\n",
        "siralanmis = sorted(korunanListemiz)\n",
        "print(siralanmis)\n",
        "print(korunanListemiz)"
      ],
      "metadata": {
        "id": "AyV8V0HQ-Kuz",
        "outputId": "8b02e468-2933-4466-b333-39d4b964d2d7",
        "colab": {
          "base_uri": "https://localhost:8080/"
        }
      },
      "execution_count": 26,
      "outputs": [
        {
          "output_type": "stream",
          "name": "stdout",
          "text": [
            "[1, 2, 3, 4]\n",
            "[12, 33, 62, 76]\n",
            "[62, 12, 76, 33]\n"
          ]
        }
      ]
    },
    {
      "cell_type": "markdown",
      "source": [
        "**reverse()**\n",
        "\n",
        "Python’da reverse() metodu, çağrıldığı listenin sıralamasını terse\n",
        "çevirir."
      ],
      "metadata": {
        "id": "tQmGyzKk-jye"
      }
    },
    {
      "cell_type": "code",
      "source": [
        "listemiz = [4, 2, 1, 3]\n",
        "# Küçükten büyüğe sıralama\n",
        "listemiz.sort()\n",
        "print(listemiz)\n",
        "# Sıralamayı terse çevirme\n",
        "listemiz.reverse()\n",
        "print(listemiz)"
      ],
      "metadata": {
        "id": "3IJOevBQ-lwp",
        "outputId": "4cceca5a-84e2-49bd-9b55-1d9d165f51a7",
        "colab": {
          "base_uri": "https://localhost:8080/"
        }
      },
      "execution_count": 27,
      "outputs": [
        {
          "output_type": "stream",
          "name": "stdout",
          "text": [
            "[1, 2, 3, 4]\n",
            "[4, 3, 2, 1]\n"
          ]
        }
      ]
    },
    {
      "cell_type": "markdown",
      "source": [
        "**index()**\n",
        "\n",
        "Python’da index() metodu, verilen liste öğesinin ilk kez görüldüğü\n",
        "pozisyonu verir."
      ],
      "metadata": {
        "id": "Jr30gGWN-1Rz"
      }
    },
    {
      "cell_type": "code",
      "source": [
        "meyveler=['elma','armt','kiraz','şftli','kiraz']\n",
        "x = meyveler.index(\"kiraz\")\n",
        "print(x)\n",
        "sayılar = [4, 32, 64, 32, 16, 32]\n",
        "y = sayılar.index(32)\n",
        "print(y)"
      ],
      "metadata": {
        "id": "uKeWbBqU-3j3",
        "outputId": "d45140eb-c80a-4bba-a593-13b978cf7896",
        "colab": {
          "base_uri": "https://localhost:8080/"
        }
      },
      "execution_count": 28,
      "outputs": [
        {
          "output_type": "stream",
          "name": "stdout",
          "text": [
            "2\n",
            "1\n"
          ]
        }
      ]
    },
    {
      "cell_type": "markdown",
      "source": [
        "**pop()**\n",
        "\n",
        "Python’da pop() metodu, verilen pozisyondaki liste öğesini siler ve o\n",
        "öğenin değerini döndürür. Eğer pozisyon verilmemişse işlemi listenin\n",
        "son öğesi için gerçekleştirir. Çünkü pop() metodunun aldığı\n",
        "parametrenin varsayılan değeri -1’dir. -1 listelerde son öğenin\n",
        "pozisyonudur."
      ],
      "metadata": {
        "id": "04Cvnd04_OQD"
      }
    },
    {
      "cell_type": "code",
      "source": [
        "meyveler = ['elma','armut','kiraz']\n",
        "x = meyveler.pop(1)\n",
        "print(x)\n",
        "print(meyveler)"
      ],
      "metadata": {
        "id": "Twv4VNMN_QB3",
        "outputId": "a2704c14-4831-4420-bbb6-18d9f31ca3f2",
        "colab": {
          "base_uri": "https://localhost:8080/"
        }
      },
      "execution_count": 29,
      "outputs": [
        {
          "output_type": "stream",
          "name": "stdout",
          "text": [
            "armut\n",
            "['elma', 'kiraz']\n"
          ]
        }
      ]
    },
    {
      "cell_type": "markdown",
      "source": [
        "**remove()**\n",
        "\n",
        "Python’da remove() metodu, verilen öğeyi listede bulduğu ilk\n",
        "pozisyondan siler ve herhangi bir değer döndürmez. Bu metot bir öğe\n",
        "verilmeden kullanılırsa veya verilen öğe listede yok ise program hata\n",
        "verir."
      ],
      "metadata": {
        "id": "qrb3uahk_gZ1"
      }
    },
    {
      "cell_type": "code",
      "source": [
        "meyveler = ['elma','armut','kiraz','armut']\n",
        "meyveler.remove('armut')\n",
        "print(meyveler)"
      ],
      "metadata": {
        "id": "rLT2hZU-_irj",
        "outputId": "39d23cf9-84c9-4753-809f-643147df2406",
        "colab": {
          "base_uri": "https://localhost:8080/"
        }
      },
      "execution_count": 30,
      "outputs": [
        {
          "output_type": "stream",
          "name": "stdout",
          "text": [
            "['elma', 'kiraz', 'armut']\n"
          ]
        }
      ]
    },
    {
      "cell_type": "markdown",
      "source": [
        "**clear()**\n",
        "\n",
        "Python’da clear() metodu, listedeki tüm öğeleri siler."
      ],
      "metadata": {
        "id": "ohL56LHB_wWt"
      }
    },
    {
      "cell_type": "code",
      "source": [
        "meyveler = ['elma','armut','kiraz','armut']\n",
        "meyveler.clear()\n",
        "print(meyveler)"
      ],
      "metadata": {
        "id": "CAGNsk0n_zs5",
        "outputId": "c43b6f12-76e2-4fff-d3ca-395995b4659c",
        "colab": {
          "base_uri": "https://localhost:8080/"
        }
      },
      "execution_count": 31,
      "outputs": [
        {
          "output_type": "stream",
          "name": "stdout",
          "text": [
            "[]\n"
          ]
        }
      ]
    },
    {
      "cell_type": "markdown",
      "source": [
        "**copy()**\n",
        "\n",
        "Python’da copy() metodu, bir listenin kopyasını oluşturmak için\n",
        "kullanılır. Bir liste liste2=liste1 şeklinde kopyalanamaz. Bu komut\n",
        "sadece liste2’yi liste1'in referansı yapar. Yani liste1'de yapılan\n",
        "değişiklikler otomatik olarak liste2'ye de yansır."
      ],
      "metadata": {
        "id": "9vZRw8WZ_yrM"
      }
    },
    {
      "cell_type": "code",
      "source": [
        "# Orjinal liste\n",
        "meyveler = ['elma','armut','kiraz','armut']\n",
        "# copy() ile kopyalama\n",
        "meyveler2 = meyveler.copy()\n",
        "# eşitlik ile kopyalama denemesi\n",
        "meyveler3 = meyveler\n",
        "# Orjinalden elma öğesini silme\n",
        "meyveler.remove('elma')\n",
        "# Silme (remove) işleminin iki kopya liste\n",
        "# üzerindeki etkisini görmek için her ikisini de\n",
        "# yazdır\n",
        "print(meyveler2)\n",
        "print(meyveler3)"
      ],
      "metadata": {
        "id": "bdKDdXmPAR85",
        "outputId": "2f12615b-4955-44fb-b491-b7c764633365",
        "colab": {
          "base_uri": "https://localhost:8080/"
        }
      },
      "execution_count": 32,
      "outputs": [
        {
          "output_type": "stream",
          "name": "stdout",
          "text": [
            "['elma', 'armut', 'kiraz', 'armut']\n",
            "['armut', 'kiraz', 'armut']\n"
          ]
        }
      ]
    }
  ],
  "metadata": {
    "colab": {
      "name": "Colaboratory'ye Hoş Geldiniz",
      "toc_visible": true,
      "provenance": []
    },
    "kernelspec": {
      "display_name": "Python 3",
      "name": "python3"
    }
  },
  "nbformat": 4,
  "nbformat_minor": 0
}