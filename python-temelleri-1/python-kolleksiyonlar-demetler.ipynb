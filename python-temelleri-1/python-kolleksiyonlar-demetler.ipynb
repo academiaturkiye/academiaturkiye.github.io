{
  "cells": [
    {
      "cell_type": "markdown",
      "source": [
        "**KOLLEKSİYONLAR - DEMETLER**\n",
        "\n",
        "https://www.degisimkitap.com/UserFiles/Image/files/Temel_Python_Degisim%281%29.pdf\n",
        "\n",
        "Koleksiyonlar, bir değişkenin birden fazla değer taşıması gerektiğinde\n",
        "kullanılan veri türlerdir. Python programlama dilinde başlıca dört\n",
        "koleksiyon türü vardır:\n",
        "1. List (liste), öğeleri sıralı, indeksli ve değiştirilebilir bir\n",
        "koleksiyondur. Aynı öğeden birden fazla içermeye izin verir.\n",
        "2. Tuple (demet), öğeleri sıralı, indeksli ancak değiştirilemeyen bir\n",
        "koleksiyondur. Aynı öğeden birden fazla içermeye izin verir.\n",
        "3. Set (küme), öğeleri sıralı olmayan, indeksli olmayan ve\n",
        "değiştirilemeyen bir koleksiyondur. Aynı öğeden birden fazla\n",
        "içermeye izin vermez.\n",
        "4. Dictionary (sözlük), öğeleri sıralı5\n",
        ", anahtar indeksli ve\n",
        "değiştirilebilir bir koleksiyondur. Aynı öğeden (anahtardan) birden\n",
        "fazla içermeye izin vermez."
      ],
      "metadata": {
        "id": "zwmUoHJM0zDk"
      }
    },
    {
      "cell_type": "markdown",
      "source": [
        "**DEMETLER**\n",
        "\n",
        "Demetler öğeleri sıralı, indeksli ve değiştirilemeyen koleksiyon türüdür.\n",
        "Bu tür aynı öğeden birden fazla içermeye izin verir. Yazımları standart\n",
        "parantez () ile olur."
      ],
      "metadata": {
        "id": "dLrdyxnZCGxR"
      }
    },
    {
      "cell_type": "code",
      "source": [
        "# tuple\n",
        "birDemet = (\"elma\", \"armut\", \"kiraz\", \"kiraz\")\n",
        "print(birDemet)"
      ],
      "metadata": {
        "id": "1DR5Zx93CUaR",
        "outputId": "7a799f43-505f-4fdb-a498-5577cc25884a",
        "colab": {
          "base_uri": "https://localhost:8080/"
        }
      },
      "execution_count": 33,
      "outputs": [
        {
          "output_type": "stream",
          "name": "stdout",
          "text": [
            "('elma', 'armut', 'kiraz', 'kiraz')\n"
          ]
        }
      ]
    },
    {
      "cell_type": "markdown",
      "source": [
        "**Demet Öğelerine Erişim**\n",
        "\n",
        "Demet öğelerine erişim için indeks numarası kullanılır. İndekslenen diğer\n",
        "koleksiyonlarda olduğu gibi indeks 0’dan başlar. Ayrıca negatif indeks\n",
        "numaraları da öğelere erişim için pratik bir yöntem olarak\n",
        "kullanılabilmektedir. Bu durumda 0. öğe listenin ilk öğesidir ve -1. öğe\n",
        "ise sondan 1. öğedir. Erişilmek istenen öğenin indeks numarası köşeli\n",
        "parantez içinde verilir."
      ],
      "metadata": {
        "id": "nFr_ma6wCM23"
      }
    },
    {
      "cell_type": "code",
      "source": [
        "# tuple\n",
        "birDemet = (\"elma\", \"armut\", \"kiraz\", \"kiraz\")\n",
        "a = birDemet[0]\n",
        "b = birDemet[-1]\n",
        "print(a)\n",
        "print(b)"
      ],
      "metadata": {
        "id": "Vh4xPwMoCnhN",
        "outputId": "c0e8d154-dd26-4d77-b5e6-c85556148379",
        "colab": {
          "base_uri": "https://localhost:8080/"
        }
      },
      "execution_count": 34,
      "outputs": [
        {
          "output_type": "stream",
          "name": "stdout",
          "text": [
            "elma\n",
            "kiraz\n"
          ]
        }
      ]
    },
    {
      "cell_type": "markdown",
      "source": [
        "Eğer belli bir indeks aralığındaki öğeler çağrılmak isteniyorsa bu,\n",
        "listelerde olduğu gibi iki nokta (:) kullanımı ile gerçekleştirilir. İki nokta (:),\n",
        "her iki yanına değer alabildiği gibi, sadece sağına veya sadece soluna\n",
        "da değer alabilir. İki yanına [a:b] gibi değerler aldığında a’dan b’ye kadar\n",
        "(a dahil b hariç) olan öğelerin tümünü çağırır. Sadece soluna [a:] gibi tek\n",
        "bir değer aldığında a’dan listenin sonuna kadarki (a dahil) tüm öğeleri\n",
        "çağırır. Sadece sağına [:b] gibi tek bir değer aldığında listenin başından\n",
        "b’ye kadar (b hariç) tüm öğeleri çağırır. Bir demetten belli bir indeks\n",
        "aralığındaki öğeler çağrıldığında gelen dönüt, yeni bir demeti oluşturur."
      ],
      "metadata": {
        "id": "oIrgQLLOC-NR"
      }
    },
    {
      "cell_type": "code",
      "source": [
        "# Orjinal Demet\n",
        "şifre = (\"sıfır\", \"bir\", \"iki\", \"üç\", \"dört\")\n",
        "# Yeni Demetler\n",
        "x = şifre[1:4]\n",
        "y = şifre[2:]\n",
        "z = şifre[:2]\n",
        "print(x)\n",
        "print(y)\n",
        "print(z)"
      ],
      "metadata": {
        "id": "lyFqqFGmC-8l",
        "outputId": "fcda3056-58b0-4385-e2b6-04be2939b936",
        "colab": {
          "base_uri": "https://localhost:8080/"
        }
      },
      "execution_count": 35,
      "outputs": [
        {
          "output_type": "stream",
          "name": "stdout",
          "text": [
            "('bir', 'iki', 'üç')\n",
            "('iki', 'üç', 'dört')\n",
            "('sıfır', 'bir')\n"
          ]
        }
      ]
    },
    {
      "cell_type": "markdown",
      "source": [
        "**Değer Değiştirme**\n",
        "\n",
        "Demetlerin değiştirilemez özellikte olmaları sebebiyle demet öğelerinin\n",
        "taşıdıkları değerler değiştirilemez. Ayrıca bir demete yeni bir öğe\n",
        "eklenemez ve mevcut bir öğe demetten çıkarılamaz. Bir demet, listeye\n",
        "dönüştürülürse üzerinde istenilen değişiklikler yapılabilir. Demetten\n",
        "listeye dönüşüm list() fonksiyonuyla yapılır. Üzerinde istenilen\n",
        "değişiklik yapılan liste daha sonra tuple() fonksiyonuyla orjinal demet\n",
        "ile aynı isimde bir demete dönüştürülür. Böylece orjinal demet üzerinde\n",
        "değişiklik gerçekleşmiş olur."
      ],
      "metadata": {
        "id": "rw0Bx-YODNnU"
      }
    },
    {
      "cell_type": "code",
      "source": [
        "# orjinal demet\n",
        "birDemet = (\"elma\", \"armut\", \"kiraz\", \"kiraz\")\n",
        "print(birDemet)\n",
        "# demetten listeye dönüşüm ve değişiklik\n",
        "birListe = list(birDemet)\n",
        "birListe[2] = \"dut\"\n",
        "# listeden geri demete dönüşüm\n",
        "birDemet = tuple(birListe)\n",
        "print(birDemet)"
      ],
      "metadata": {
        "id": "lnxZ7GWUC_aW",
        "outputId": "1ef7235b-61ca-42f5-9826-ad22e22aa614",
        "colab": {
          "base_uri": "https://localhost:8080/"
        }
      },
      "execution_count": 36,
      "outputs": [
        {
          "output_type": "stream",
          "name": "stdout",
          "text": [
            "('elma', 'armut', 'kiraz', 'kiraz')\n",
            "('elma', 'armut', 'dut', 'kiraz')\n"
          ]
        }
      ]
    },
    {
      "cell_type": "markdown",
      "source": [
        "**Öğeleri Döndürme**\n",
        "\n",
        "Bir demetteki öğeleri döndürmek için for döngüsü ve in anahtar\n",
        "kelimesi kullanılabilir."
      ],
      "metadata": {
        "id": "OrJYcZAIC_Mo"
      }
    },
    {
      "cell_type": "code",
      "source": [
        "isimler = ('Ali', 'Zeynep', 'Mahir')\n",
        "for x in isimler:\n",
        "    print(x)"
      ],
      "metadata": {
        "id": "TiTjVAZZDsQh",
        "outputId": "87079b18-bd7a-46c7-f58a-86f765830fab",
        "colab": {
          "base_uri": "https://localhost:8080/"
        }
      },
      "execution_count": 37,
      "outputs": [
        {
          "output_type": "stream",
          "name": "stdout",
          "text": [
            "Ali\n",
            "Zeynep\n",
            "Mahir\n"
          ]
        }
      ]
    },
    {
      "cell_type": "markdown",
      "source": [
        "**Öğe Sorgulama**\n",
        "\n",
        "Bir demette bir öğenin var olup olmadığı, if ve in anahtar kelimeleri ile\n",
        "sorgulanabilir."
      ],
      "metadata": {
        "id": "p7GYWykzD2k7"
      }
    },
    {
      "cell_type": "code",
      "source": [
        "isimler = ('Ali', 'Zeynep', 'Mahir')\n",
        "if \"Mahir\" in isimler:\n",
        "    print(\"Mahir demette mevcuttur.\")"
      ],
      "metadata": {
        "id": "aWdc2y8AD4Vc",
        "outputId": "5a0141fa-a6d3-4c68-8a07-370663ddf030",
        "colab": {
          "base_uri": "https://localhost:8080/"
        }
      },
      "execution_count": 39,
      "outputs": [
        {
          "output_type": "stream",
          "name": "stdout",
          "text": [
            "Mahir demette mevcuttur.\n"
          ]
        }
      ]
    },
    {
      "cell_type": "markdown",
      "source": [
        "**Öğe Sayısı**\n",
        "\n",
        "Bir demetin sahip olduğu öğelerin toplam sayısı len() fonksiyonuyla\n",
        "elde edilebilir."
      ],
      "metadata": {
        "id": "O0zWU8g3EDBa"
      }
    },
    {
      "cell_type": "code",
      "source": [
        "isimler = ('Ali', 'Zeynep', 'Mahir')\n",
        "print(len(isimler))"
      ],
      "metadata": {
        "id": "LfD0DIpGEGuL",
        "outputId": "d6ff5adb-69f5-40b8-c6a9-90dfb44dd0d6",
        "colab": {
          "base_uri": "https://localhost:8080/"
        }
      },
      "execution_count": 40,
      "outputs": [
        {
          "output_type": "stream",
          "name": "stdout",
          "text": [
            "3\n"
          ]
        }
      ]
    },
    {
      "cell_type": "markdown",
      "source": [
        "**Tek Öğeli Demet**\n",
        "\n",
        "Demetler tek bir öğeye sahip olabilirler. Ancak tek öğeli demet\n",
        "tanımlarken aşağıdaki gibi öğeden sonra virgül kullanılması\n",
        "gerekmektedir. Aksi takdirde tanımlanan şey demet değil string olur."
      ],
      "metadata": {
        "id": "EkVFhafJESy_"
      }
    },
    {
      "cell_type": "code",
      "source": [
        "tekDemet = ('Ali',)\n",
        "birString = ('Ali')\n",
        "print(tekDemet)\n",
        "print(birString)"
      ],
      "metadata": {
        "id": "AdK3en75EUrD",
        "outputId": "352be990-c8dc-429d-bad1-5e603a33a1a9",
        "colab": {
          "base_uri": "https://localhost:8080/"
        }
      },
      "execution_count": 41,
      "outputs": [
        {
          "output_type": "stream",
          "name": "stdout",
          "text": [
            "('Ali',)\n",
            "Ali\n"
          ]
        }
      ]
    },
    {
      "cell_type": "markdown",
      "source": [
        "**İki Demeti Birleştirme**\n",
        "\n",
        "İki demeti birleştirmek için artı (+) işareti kullanılır."
      ],
      "metadata": {
        "id": "plw_7Od7EajD"
      }
    },
    {
      "cell_type": "code",
      "source": [
        "demet1 = ('Ali', 'Zeynep', 'Mahir')\n",
        "demet2 = (70,40,15)\n",
        "büyükDemet = demet1 + demet2\n",
        "print(büyükDemet)"
      ],
      "metadata": {
        "id": "wkwdN6VtEeFr",
        "outputId": "065c81c1-4f60-4268-f80e-35aa490701a2",
        "colab": {
          "base_uri": "https://localhost:8080/"
        }
      },
      "execution_count": 42,
      "outputs": [
        {
          "output_type": "stream",
          "name": "stdout",
          "text": [
            "('Ali', 'Zeynep', 'Mahir', 70, 40, 15)\n"
          ]
        }
      ]
    },
    {
      "cell_type": "markdown",
      "source": [
        "**Demet İnşası**\n",
        "\n",
        "Demet inşası programatik olarak tuple() fonksiyonu ile yapılmaktadır.\n",
        "Koleksiyon türlerinden demet türünde muhafaza edilmek istenen\n",
        "yinelenebilir (iterable) bir veri, tuple() fonksiyonuna parametre olarak\n",
        "gönderilirse kolaylıkla bir demet elde edilebilir. String verisi de\n",
        "yinelenebilir bir veridir. Bu fonksiyona parametre olarak verildiğinde\n",
        "karakterler tek tek demetin öğesi haline gelir."
      ],
      "metadata": {
        "id": "cKkZGJrOEmSD"
      }
    },
    {
      "cell_type": "code",
      "source": [
        "demet1 = tuple((\"elma\", \"armut\", \"kiraz\"))\n",
        "print(demet1)\n",
        "demet2 = tuple(range(10))\n",
        "print(demet2)\n",
        "demet3 = tuple(\"ADEM\")\n",
        "print(demet3)"
      ],
      "metadata": {
        "id": "rDUSFY-EEpri",
        "outputId": "c8994b3c-a672-4bf0-e286-2c299a6534b5",
        "colab": {
          "base_uri": "https://localhost:8080/"
        }
      },
      "execution_count": 43,
      "outputs": [
        {
          "output_type": "stream",
          "name": "stdout",
          "text": [
            "('elma', 'armut', 'kiraz')\n",
            "(0, 1, 2, 3, 4, 5, 6, 7, 8, 9)\n",
            "('A', 'D', 'E', 'M')\n"
          ]
        }
      ]
    },
    {
      "cell_type": "markdown",
      "source": [
        "**Demet Metodları**\n",
        "\n",
        "**count()**\n",
        "\n",
        "Python’da count() metodu, bağımsız değişken olarak aldığı arama\n",
        "terimini bir demette arar ve eşleşen öğelerin sayısını verir."
      ],
      "metadata": {
        "id": "cPfea41xE-xl"
      }
    },
    {
      "cell_type": "code",
      "source": [
        "çanta = ('klm', 'silgi', 'dftr', 'ktp', 'klm')\n",
        "kalemSayısı = çanta.count('klm')\n",
        "print(kalemSayısı)"
      ],
      "metadata": {
        "id": "zZ0wxm2WFDKy",
        "outputId": "b8594b71-1efc-4067-b686-4ec05c4c5c81",
        "colab": {
          "base_uri": "https://localhost:8080/"
        }
      },
      "execution_count": 44,
      "outputs": [
        {
          "output_type": "stream",
          "name": "stdout",
          "text": [
            "2\n"
          ]
        }
      ]
    },
    {
      "cell_type": "markdown",
      "source": [
        "**index()**\n",
        "\n",
        "Python’da index() metodu, verilen demet öğesinin ilk kez görüldüğü\n",
        "pozisyonu verir."
      ],
      "metadata": {
        "id": "qT5v40fgFNDd"
      }
    },
    {
      "cell_type": "code",
      "source": [
        "meyveler=('elma','armt','kiraz','şftali','kiraz')\n",
        "x = meyveler.index(\"kiraz\")\n",
        "print(x)"
      ],
      "metadata": {
        "id": "5KrjeCEBFOj_",
        "outputId": "ffcf5cde-2ff7-477d-ee58-4c49c7bbb275",
        "colab": {
          "base_uri": "https://localhost:8080/"
        }
      },
      "execution_count": 45,
      "outputs": [
        {
          "output_type": "stream",
          "name": "stdout",
          "text": [
            "2\n"
          ]
        }
      ]
    }
  ],
  "metadata": {
    "colab": {
      "name": "Colaboratory'ye Hoş Geldiniz",
      "toc_visible": true,
      "provenance": []
    },
    "kernelspec": {
      "display_name": "Python 3",
      "name": "python3"
    }
  },
  "nbformat": 4,
  "nbformat_minor": 0
}