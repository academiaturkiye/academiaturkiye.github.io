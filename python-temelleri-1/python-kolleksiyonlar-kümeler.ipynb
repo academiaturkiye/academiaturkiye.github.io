{
  "cells": [
    {
      "cell_type": "markdown",
      "source": [
        "**KOLLEKSİYONLAR - KÜMELER**\n",
        "\n",
        "https://www.degisimkitap.com/UserFiles/Image/files/Temel_Python_Degisim%281%29.pdf\n",
        "\n",
        "Koleksiyonlar, bir değişkenin birden fazla değer taşıması gerektiğinde\n",
        "kullanılan veri türlerdir. Python programlama dilinde başlıca dört\n",
        "koleksiyon türü vardır:\n",
        "1. List (liste), öğeleri sıralı, indeksli ve değiştirilebilir bir\n",
        "koleksiyondur. Aynı öğeden birden fazla içermeye izin verir.\n",
        "2. Tuple (demet), öğeleri sıralı, indeksli ancak değiştirilemeyen bir\n",
        "koleksiyondur. Aynı öğeden birden fazla içermeye izin verir.\n",
        "3. Set (küme), öğeleri sıralı olmayan, indeksli olmayan ve\n",
        "değiştirilemeyen bir koleksiyondur. Aynı öğeden birden fazla\n",
        "içermeye izin vermez.\n",
        "4. Dictionary (sözlük), öğeleri sıralı5\n",
        ", anahtar indeksli ve\n",
        "değiştirilebilir bir koleksiyondur. Aynı öğeden (anahtardan) birden\n",
        "fazla içermeye izin vermez."
      ],
      "metadata": {
        "id": "zwmUoHJM0zDk"
      }
    },
    {
      "cell_type": "markdown",
      "source": [
        "**KÜMELER**\n",
        "\n",
        "Kümeler, öğeleri sıralı olmayan, indekslenmeyen ve değiştirilemeyen\n",
        "koleksiyon türüdür. Bu tür aynı öğeden birden fazla içermeye izin\n",
        "vermez. Yazımları küme parantezi {} ile olur.\n"
      ],
      "metadata": {
        "id": "jcd3-Q_gGKhx"
      }
    },
    {
      "cell_type": "code",
      "source": [
        "# set\n",
        "birKüme = {\"elma\", \"armut\", \"kiraz\"}\n",
        "print(birKüme)"
      ],
      "metadata": {
        "colab": {
          "base_uri": "https://localhost:8080/"
        },
        "id": "5KrjeCEBFOj_",
        "outputId": "7f655c20-b036-4918-8dc1-1d11ec29dec4"
      },
      "execution_count": 46,
      "outputs": [
        {
          "output_type": "stream",
          "name": "stdout",
          "text": [
            "{'elma', 'kiraz', 'armut'}\n"
          ]
        }
      ]
    },
    {
      "cell_type": "markdown",
      "source": [
        "**Küme Öğelerine Erişim**\n",
        "\n",
        "Küme öğelerine indeks numaraları ile erişilmez. Erişilmeye çalışılırsa\n",
        "aşağıdaki gibi bir hata alınır."
      ],
      "metadata": {
        "id": "N_safUzVGe3i"
      }
    },
    {
      "cell_type": "code",
      "source": [
        "# set\n",
        "birKüme = {\"elma\", \"armut\", \"kiraz\"}\n",
        "print(birKüme[0])"
      ],
      "metadata": {
        "id": "Qa6fq7J3Gk4c",
        "outputId": "1faeadb8-382a-445e-e758-1f573fcd41bb",
        "colab": {
          "base_uri": "https://localhost:8080/",
          "height": 185
        }
      },
      "execution_count": 47,
      "outputs": [
        {
          "output_type": "error",
          "ename": "TypeError",
          "evalue": "'set' object is not subscriptable",
          "traceback": [
            "\u001b[0;31m---------------------------------------------------------------------------\u001b[0m",
            "\u001b[0;31mTypeError\u001b[0m                                 Traceback (most recent call last)",
            "\u001b[0;32m<ipython-input-47-2ce8ad646224>\u001b[0m in \u001b[0;36m<cell line: 3>\u001b[0;34m()\u001b[0m\n\u001b[1;32m      1\u001b[0m \u001b[0;31m# set\u001b[0m\u001b[0;34m\u001b[0m\u001b[0;34m\u001b[0m\u001b[0m\n\u001b[1;32m      2\u001b[0m \u001b[0mbirKüme\u001b[0m \u001b[0;34m=\u001b[0m \u001b[0;34m{\u001b[0m\u001b[0;34m\"elma\"\u001b[0m\u001b[0;34m,\u001b[0m \u001b[0;34m\"armut\"\u001b[0m\u001b[0;34m,\u001b[0m \u001b[0;34m\"kiraz\"\u001b[0m\u001b[0;34m}\u001b[0m\u001b[0;34m\u001b[0m\u001b[0;34m\u001b[0m\u001b[0m\n\u001b[0;32m----> 3\u001b[0;31m \u001b[0mprint\u001b[0m\u001b[0;34m(\u001b[0m\u001b[0mbirKüme\u001b[0m\u001b[0;34m[\u001b[0m\u001b[0;36m0\u001b[0m\u001b[0;34m]\u001b[0m\u001b[0;34m)\u001b[0m\u001b[0;34m\u001b[0m\u001b[0;34m\u001b[0m\u001b[0m\n\u001b[0m",
            "\u001b[0;31mTypeError\u001b[0m: 'set' object is not subscriptable"
          ]
        }
      ]
    },
    {
      "cell_type": "markdown",
      "source": [
        "**Öğeleri Döndürme**\n",
        "\n",
        "Bir kümedeki öğeleri döndürmek için for döngüsü ve in anahtar\n",
        "kelimesi kullanılabilir. Sizin konsoldan aldığınız sıralama bizimki ile aynı\n",
        "olmayabilir. Çünkü küme koleksiyonları en başta söylediğimiz gibi sıralı\n",
        "özellikte değildir. Her yeni döndürmede öğeleri farklı sıralamada\n",
        "önünüze getirebilir.\n"
      ],
      "metadata": {
        "id": "gR5lrr6LG4hk"
      }
    },
    {
      "cell_type": "code",
      "source": [
        "isimler = {'Ali', 'Zeynep', 'Mahir'}\n",
        "for i in isimler:\n",
        "    print(i)"
      ],
      "metadata": {
        "id": "NozzSAfLG6Po",
        "outputId": "d18ece0b-52e2-4ef8-8260-cacad559f848",
        "colab": {
          "base_uri": "https://localhost:8080/"
        }
      },
      "execution_count": 50,
      "outputs": [
        {
          "output_type": "stream",
          "name": "stdout",
          "text": [
            "Zeynep\n",
            "Ali\n",
            "Mahir\n"
          ]
        }
      ]
    },
    {
      "cell_type": "markdown",
      "source": [
        "**Öğe Sorgulama**\n",
        "\n",
        "Bir kümede bir öğenin var olup olmadığı, if ve in anahtar kelimeleri ile\n",
        "sorgulanabilir."
      ],
      "metadata": {
        "id": "zQPsj_-3HIPR"
      }
    },
    {
      "cell_type": "code",
      "source": [
        "isimler = {'Ali', 'Zeynep', 'Mahir'}\n",
        "if \"Mahir\" in isimler:\n",
        "    print(\"Mahir kümede mevcuttur.\")"
      ],
      "metadata": {
        "id": "douEvx63HRLG",
        "outputId": "91edcf78-0b01-4fbb-b686-7756cf2843a9",
        "colab": {
          "base_uri": "https://localhost:8080/"
        }
      },
      "execution_count": 51,
      "outputs": [
        {
          "output_type": "stream",
          "name": "stdout",
          "text": [
            "Mahir kümede mevcuttur.\n"
          ]
        }
      ]
    },
    {
      "cell_type": "code",
      "source": [
        "#Sorgulama sadece in anahtar kelimesi ile de yapılabilir\n",
        "isimler = {'Ali', 'Zeynep', 'Mahir'}\n",
        "print(\"Mahir\" in isimler)"
      ],
      "metadata": {
        "id": "Z4lYq3exHbn2",
        "outputId": "33624132-c1ad-491b-d06b-19019d59547e",
        "colab": {
          "base_uri": "https://localhost:8080/"
        }
      },
      "execution_count": 52,
      "outputs": [
        {
          "output_type": "stream",
          "name": "stdout",
          "text": [
            "True\n"
          ]
        }
      ]
    },
    {
      "cell_type": "markdown",
      "source": [
        "**Öğe Ekleme**\n",
        "\n",
        "Küme öğeleri değiştirilemez ancak kümelere yeni öğeler eklenebilir.\n",
        "Bunun için add() metodu kullanılır. Birden fazla ekleme yapılacaksa\n",
        "update() metodu daha kullanışlıdır. Aşağıdaki örnek kodlarda sizin\n",
        "print() ile alacağınız sıralamalar yukarıda açıkladığımız gerekçe\n",
        "sebebiyle farklı olabilir."
      ],
      "metadata": {
        "id": "WuvmtFIdHbLS"
      }
    },
    {
      "cell_type": "code",
      "source": [
        "isimler = {'Ali', 'Zeynep', 'Mahir'}\n",
        "isimler.add('Amine')\n",
        "print(isimler)"
      ],
      "metadata": {
        "id": "j7djjZv7HuPw",
        "outputId": "0523f242-afdf-4919-b2ed-a613ea628794",
        "colab": {
          "base_uri": "https://localhost:8080/"
        }
      },
      "execution_count": 53,
      "outputs": [
        {
          "output_type": "stream",
          "name": "stdout",
          "text": [
            "{'Amine', 'Zeynep', 'Ali', 'Mahir'}\n"
          ]
        }
      ]
    },
    {
      "cell_type": "code",
      "source": [
        "isimler = {'Ali', 'Zeynep', 'Mahir'}\n",
        "isimler.update(['Amine', 'Furkan', 'Elif'])\n",
        "print(isimler)"
      ],
      "metadata": {
        "id": "vySJkNWkH70C",
        "outputId": "932fb6f8-a401-4874-d784-0655d67c7d90",
        "colab": {
          "base_uri": "https://localhost:8080/"
        }
      },
      "execution_count": 54,
      "outputs": [
        {
          "output_type": "stream",
          "name": "stdout",
          "text": [
            "{'Mahir', 'Furkan', 'Elif', 'Amine', 'Zeynep', 'Ali'}\n"
          ]
        }
      ]
    },
    {
      "cell_type": "markdown",
      "source": [
        "**Öğe Silme**\n",
        "\n",
        "Kümeden öğe silmenin farklı yöntemleri vardır. Örneğin, remove()\n",
        "metodu, değeri bilinen öğeyi kümeden silmek için kullanılabilir. Yanlış\n",
        "değer girilirse hata verir. discard() metodunun kullanımı da aynıdır.\n",
        "Ancak bu metot aranan değer bulunamadığında hata vermez. Eğer tüm\n",
        "öğeler kümeden silinmek isteniyorsa clear() metodu kullanılmalıdır.\n",
        "Bunların kullanımına ilişkin örnek kodlar aşağıda verilmiştir. del anahtar\n",
        "kelimesi ise küme değişkenini ortadan kaldırır. Küme değişkeni ortadan kaldırıldığında aşağıdaki gibi NameError hatası verir."
      ],
      "metadata": {
        "id": "_PmASHwYIJev"
      }
    },
    {
      "cell_type": "code",
      "source": [
        "isimler = {'Ali', 'Zeynep', 'Mahir'}\n",
        "isimler.remove('Ali')\n",
        "print(isimler)\n",
        "isimler.discard('Zeynep')\n",
        "print(isimler)\n",
        "isimler.clear()\n",
        "print(isimler)\n",
        "print('***************')\n",
        "del isimler\n",
        "print(isimler)"
      ],
      "metadata": {
        "id": "hiIiL7XnILwZ",
        "outputId": "569f93b6-8017-46ac-fe85-b10f7b8a4c29",
        "colab": {
          "base_uri": "https://localhost:8080/",
          "height": 258
        }
      },
      "execution_count": 57,
      "outputs": [
        {
          "output_type": "stream",
          "name": "stdout",
          "text": [
            "{'Zeynep', 'Mahir'}\n",
            "{'Mahir'}\n",
            "set()\n",
            "***************\n"
          ]
        },
        {
          "output_type": "error",
          "ename": "NameError",
          "evalue": "name 'isimler' is not defined",
          "traceback": [
            "\u001b[0;31m---------------------------------------------------------------------------\u001b[0m",
            "\u001b[0;31mNameError\u001b[0m                                 Traceback (most recent call last)",
            "\u001b[0;32m<ipython-input-57-73b00ad33f3e>\u001b[0m in \u001b[0;36m<cell line: 10>\u001b[0;34m()\u001b[0m\n\u001b[1;32m      8\u001b[0m \u001b[0mprint\u001b[0m\u001b[0;34m(\u001b[0m\u001b[0;34m'***************'\u001b[0m\u001b[0;34m)\u001b[0m\u001b[0;34m\u001b[0m\u001b[0;34m\u001b[0m\u001b[0m\n\u001b[1;32m      9\u001b[0m \u001b[0;32mdel\u001b[0m \u001b[0misimler\u001b[0m\u001b[0;34m\u001b[0m\u001b[0;34m\u001b[0m\u001b[0m\n\u001b[0;32m---> 10\u001b[0;31m \u001b[0mprint\u001b[0m\u001b[0;34m(\u001b[0m\u001b[0misimler\u001b[0m\u001b[0;34m)\u001b[0m\u001b[0;34m\u001b[0m\u001b[0;34m\u001b[0m\u001b[0m\n\u001b[0m",
            "\u001b[0;31mNameError\u001b[0m: name 'isimler' is not defined"
          ]
        }
      ]
    },
    {
      "cell_type": "markdown",
      "source": [
        "**Öğe Sayısı**\n",
        "\n",
        "Bir kümenin sahip olduğu öğelerin toplam sayısı len() fonksiyonuyla\n",
        "elde edilebilir"
      ],
      "metadata": {
        "id": "sMklpy8cI7LA"
      }
    },
    {
      "cell_type": "code",
      "source": [
        "isimler = {'Ali', 'Zeynep', 'Mahir'}\n",
        "print(len(isimler))"
      ],
      "metadata": {
        "id": "jfAGz7HsI882",
        "outputId": "a2a62aa2-86bb-4d95-ca74-09fbfe08c39a",
        "colab": {
          "base_uri": "https://localhost:8080/"
        }
      },
      "execution_count": 58,
      "outputs": [
        {
          "output_type": "stream",
          "name": "stdout",
          "text": [
            "3\n"
          ]
        }
      ]
    },
    {
      "cell_type": "markdown",
      "source": [
        "**İki Kümeyi Birleştirme**\n",
        "\n",
        "İki kümeyi birleştirmek için union() veya update() metotları\n",
        "kullanılabilir. union() metodu birleşmeden doğan büyük kümeyi yeni\n",
        "bir değişken olarak geri döndürür. Yani diğer iki küçük kümenin orjinal\n",
        "halleri korunmuş olur. Ancak update() metodunda kümelerden biri\n",
        "diğerinin üzerine eklenir. Üzerine eklemleme yapılan kümenin orjinal hali\n",
        "kaybedilmiş olur. Her iki metot ile yapılan birleştirme işleminde mükerrer\n",
        "öğeler dışarıda bırakılır. Yani bir kümedeki tüm öğelerin birbirinden farklı\n",
        "olması sağlanır."
      ],
      "metadata": {
        "id": "BQ4-L5V4JCsq"
      }
    },
    {
      "cell_type": "code",
      "source": [
        "isimler1 = {'Ali', 'Zeynep', 'Mahir'}\n",
        "isimler2 = {'Mehmet', 'Ali'}\n",
        "isimler3 = isimler1.union(isimler2)\n",
        "print(isimler3)\n",
        "print(isimler1)\n",
        "isimler1.update(isimler2)\n",
        "print(isimler1)"
      ],
      "metadata": {
        "id": "FgnF-9KzJGbD",
        "outputId": "77d45970-6e4e-4866-c939-5f358bb9e5a6",
        "colab": {
          "base_uri": "https://localhost:8080/"
        }
      },
      "execution_count": 59,
      "outputs": [
        {
          "output_type": "stream",
          "name": "stdout",
          "text": [
            "{'Mahir', 'Zeynep', 'Ali', 'Mehmet'}\n",
            "{'Zeynep', 'Ali', 'Mahir'}\n",
            "{'Mahir', 'Zeynep', 'Ali', 'Mehmet'}\n"
          ]
        }
      ]
    },
    {
      "cell_type": "markdown",
      "source": [
        "**Küme İnşası**\n",
        "\n",
        "Küme inşası programatik olarak set() fonksiyonu ile yapılmaktadır.\n",
        "Koleksiyon türlerinden küme türünde muhafaza edilmek istenen\n",
        "yinelenebilir (iterable) bir veri, set() fonksiyonuna parametre olarak\n",
        "gönderilirse kolaylıkla bir küme elde edilebilir. String verisi de\n",
        "yinelenebilir bir veridir. Bu fonksiyona parametre olarak verildiğinde\n",
        "karakterler tek tek kümenin öğesi haline gelir. Mükerrer öğeler set()\n",
        "fonksiyonu ile küme inşası sırasında otomatik olarak dışarıda bırakılır."
      ],
      "metadata": {
        "id": "av9KH2VnJgM2"
      }
    },
    {
      "cell_type": "code",
      "source": [
        "küme1 = set((\"elma\", \"armut\", \"elma\"))\n",
        "print(küme1)\n",
        "küme2= set(range(10))\n",
        "print(küme2)\n",
        "küme3= set(\"DEDE\")\n",
        "print(küme3)"
      ],
      "metadata": {
        "id": "DO40nX_OJjLZ",
        "outputId": "ae11287a-70bd-4c30-8d65-a440c271d1ed",
        "colab": {
          "base_uri": "https://localhost:8080/"
        }
      },
      "execution_count": 60,
      "outputs": [
        {
          "output_type": "stream",
          "name": "stdout",
          "text": [
            "{'elma', 'armut'}\n",
            "{0, 1, 2, 3, 4, 5, 6, 7, 8, 9}\n",
            "{'D', 'E'}\n"
          ]
        }
      ]
    },
    {
      "cell_type": "markdown",
      "source": [
        "**Küme Metodları**\n",
        "\n",
        "**copy()**\n",
        "\n",
        "copy() metodu verilen bir kümenin bağımsız kopyasını oluşturur."
      ],
      "metadata": {
        "id": "89-usp42J7ig"
      }
    },
    {
      "cell_type": "code",
      "source": [
        "küme1 = {\"elma\", \"armut\"}\n",
        "küme2 = küme1.copy()\n",
        "küme1.remove(\"elma\")\n",
        "print(küme1)\n",
        "print(küme2)"
      ],
      "metadata": {
        "id": "4Nj95nx1J_5H",
        "outputId": "d5c63a2a-e6f0-48a0-e5cb-84ed7f07e034",
        "colab": {
          "base_uri": "https://localhost:8080/"
        }
      },
      "execution_count": 61,
      "outputs": [
        {
          "output_type": "stream",
          "name": "stdout",
          "text": [
            "{'armut'}\n",
            "{'elma', 'armut'}\n"
          ]
        }
      ]
    },
    {
      "cell_type": "markdown",
      "source": [
        "**difference()**\n",
        "\n",
        "A kümesinin B kümesinden farkını verir."
      ],
      "metadata": {
        "id": "x4vives6KHqS"
      }
    },
    {
      "cell_type": "code",
      "source": [
        "A = {\"elma\", \"armut\"}\n",
        "B = {\"elma\", \"dut\"}\n",
        "C = A.difference(B)\n",
        "print(C)\n",
        "print(A)"
      ],
      "metadata": {
        "id": "_4JQE__EKIFo",
        "outputId": "2eeea6b0-602a-4e62-97bc-7b9bea11ecbb",
        "colab": {
          "base_uri": "https://localhost:8080/"
        }
      },
      "execution_count": 62,
      "outputs": [
        {
          "output_type": "stream",
          "name": "stdout",
          "text": [
            "{'armut'}\n",
            "{'elma', 'armut'}\n"
          ]
        }
      ]
    },
    {
      "cell_type": "code",
      "source": [
        "#Hem A hem B kümesinde bulunan öğeler, A kümesinden çıkarılmak istenirse difference_update() metodu kullanılabilir.\n",
        "A = {\"elma\", \"armut\"}\n",
        "B = {\"elma\", \"dut\"}\n",
        "A.difference_update(B)\n",
        "print(A)"
      ],
      "metadata": {
        "id": "z8Lr0-EPKICp",
        "outputId": "ebcbd86f-7972-4899-9b68-c0d961e6f57d",
        "colab": {
          "base_uri": "https://localhost:8080/"
        }
      },
      "execution_count": 63,
      "outputs": [
        {
          "output_type": "stream",
          "name": "stdout",
          "text": [
            "{'armut'}\n"
          ]
        }
      ]
    },
    {
      "cell_type": "markdown",
      "source": [
        "**intersection()**\n",
        "\n",
        "A ve B kümesinin kesişimini verir."
      ],
      "metadata": {
        "id": "mr3z5LAYKHnB"
      }
    },
    {
      "cell_type": "code",
      "source": [
        "A = {\"elma\", \"armut\"}\n",
        "B = {\"elma\", \"dut\"}\n",
        "C = A.intersection(B)\n",
        "print(C)\n",
        "print(A)"
      ],
      "metadata": {
        "id": "BofZDjU6KH_J",
        "outputId": "929cd954-4eea-444b-ebcd-d1f7cd4c2ba0",
        "colab": {
          "base_uri": "https://localhost:8080/"
        }
      },
      "execution_count": 64,
      "outputs": [
        {
          "output_type": "stream",
          "name": "stdout",
          "text": [
            "{'elma'}\n",
            "{'elma', 'armut'}\n"
          ]
        }
      ]
    },
    {
      "cell_type": "code",
      "source": [
        "# A kümesi B kümesi ile olan farklılıklarından arındırılmak istenirse intersection_update() metodu kullanılabilir.\n",
        "\n",
        "A = {\"elma\", \"armut\"}\n",
        "B = {\"elma\", \"dut\"}\n",
        "A.intersection_update(B)\n",
        "print(A)"
      ],
      "metadata": {
        "id": "YehgbAAILG5Q",
        "outputId": "c8617d66-00fc-4d89-975b-346dd2153241",
        "colab": {
          "base_uri": "https://localhost:8080/"
        }
      },
      "execution_count": 65,
      "outputs": [
        {
          "output_type": "stream",
          "name": "stdout",
          "text": [
            "{'elma'}\n"
          ]
        }
      ]
    },
    {
      "cell_type": "markdown",
      "source": [
        "**symmetric_difference()**\n",
        "\n",
        "A kümesinin B kümesinden farklı olan öğeleri ile B kümesinin A\n",
        "kümesinden farklı olan öğelerini bir araya toplar ve geri döndürür."
      ],
      "metadata": {
        "id": "2Ii8YjRPKHjZ"
      }
    },
    {
      "cell_type": "code",
      "source": [
        "A = {\"elma\", \"armut\"}\n",
        "B = {\"elma\", \"dut\"}\n",
        "C = A.symmetric_difference(B)\n",
        "print(C)\n",
        "print(A)"
      ],
      "metadata": {
        "id": "fGadvE0mLX83",
        "outputId": "769f4cc4-b73d-495a-d6ba-45e73e8e00f6",
        "colab": {
          "base_uri": "https://localhost:8080/"
        }
      },
      "execution_count": 66,
      "outputs": [
        {
          "output_type": "stream",
          "name": "stdout",
          "text": [
            "{'armut', 'dut'}\n",
            "{'elma', 'armut'}\n"
          ]
        }
      ]
    },
    {
      "cell_type": "code",
      "source": [
        "# Eğer A kümesi, yukarıda elde edilen farklar kümesine dönüştürülmek istenirse symmetric_difference_update() metodu kullanılabilir.\n",
        "\n",
        "A = {\"elma\", \"armut\"}\n",
        "B = {\"elma\", \"dut\"}\n",
        "A.symmetric_difference_update(B)\n",
        "print(A)"
      ],
      "metadata": {
        "id": "cNX-FPH2LnI_",
        "outputId": "2a1ed508-e17c-4398-ea44-307879bb708d",
        "colab": {
          "base_uri": "https://localhost:8080/"
        }
      },
      "execution_count": 67,
      "outputs": [
        {
          "output_type": "stream",
          "name": "stdout",
          "text": [
            "{'armut', 'dut'}\n"
          ]
        }
      ]
    },
    {
      "cell_type": "markdown",
      "source": [
        "**isdisjoint()**\n",
        "\n",
        "A ve B kümelerinin ayrık kümeler olup olmadığını sorgular. A ve B\n",
        "kümeleri hiç ortak öğe bulundurmuyorsa True değeri geri döndürür."
      ],
      "metadata": {
        "id": "csFI2GvUKHS3"
      }
    },
    {
      "cell_type": "code",
      "source": [
        "A = {\"elma\", \"armut\"}\n",
        "B = {\"kiraz\", \"dut\"}\n",
        "ayrıkmı = A.isdisjoint(B)\n",
        "print(ayrıkmı)"
      ],
      "metadata": {
        "id": "lJKzKJwqL7W_",
        "outputId": "7c813f5c-5310-401c-dc6b-e30855921bfc",
        "colab": {
          "base_uri": "https://localhost:8080/"
        }
      },
      "execution_count": 68,
      "outputs": [
        {
          "output_type": "stream",
          "name": "stdout",
          "text": [
            "True\n"
          ]
        }
      ]
    },
    {
      "cell_type": "markdown",
      "source": [
        "**issubset()**\n",
        "\n",
        "A kümesinin B kümesinin alt kümesi olup olmadığını sorgular. Eğer A\n",
        "kümesinin tüm öğeleri B kümesinde mevcut ise True değerini döndürür."
      ],
      "metadata": {
        "id": "d8t61_FZMKGM"
      }
    },
    {
      "cell_type": "code",
      "source": [
        "A = {\"elma\", \"armut\"}\n",
        "B = {\"elma\", \"armut\", \"kiraz\", \"dut\"}\n",
        "altkümemi= A.issubset(B)\n",
        "print(altkümemi)"
      ],
      "metadata": {
        "id": "sCD8pFyhMMHB",
        "outputId": "4a6cf5c2-23a0-4f31-c730-9c75e50ed978",
        "colab": {
          "base_uri": "https://localhost:8080/"
        }
      },
      "execution_count": 69,
      "outputs": [
        {
          "output_type": "stream",
          "name": "stdout",
          "text": [
            "True\n"
          ]
        }
      ]
    },
    {
      "cell_type": "markdown",
      "source": [
        "**issuperset()**\n",
        "\n",
        "A kümesi B kümesinin kapsayan kümesi olup olmadığını sorgular. Eğer\n",
        "B kümesinin tüm öğeleri A kümesinde mevcut ise True değerini\n",
        "döndürür.\n"
      ],
      "metadata": {
        "id": "haP6jO4nMaPD"
      }
    },
    {
      "cell_type": "code",
      "source": [
        "A = {\"elma\", \"armut\"}\n",
        "B = {\"elma\"}\n",
        "altkümemi= A.issuperset(B)\n",
        "print(altkümemi)"
      ],
      "metadata": {
        "id": "Lp5cIsL_Mcky",
        "outputId": "60e9e5bb-582b-4cf6-ec70-9b9364fe7beb",
        "colab": {
          "base_uri": "https://localhost:8080/"
        }
      },
      "execution_count": 70,
      "outputs": [
        {
          "output_type": "stream",
          "name": "stdout",
          "text": [
            "True\n"
          ]
        }
      ]
    }
  ],
  "metadata": {
    "colab": {
      "name": "Colaboratory'ye Hoş Geldiniz",
      "toc_visible": true,
      "provenance": []
    },
    "kernelspec": {
      "display_name": "Python 3",
      "name": "python3"
    }
  },
  "nbformat": 4,
  "nbformat_minor": 0
}