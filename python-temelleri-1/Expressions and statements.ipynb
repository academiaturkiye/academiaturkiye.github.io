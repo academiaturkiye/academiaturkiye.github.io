{
  "cells": [
    {
      "cell_type": "markdown",
      "source": [
        "**Expressions and statements**\n",
        "\n",
        "---\n",
        "https://greenteapress.com/thinkpython2/thinkpython2.pdf (p.*italik metin* 10-11)\n",
        "\n",
        "An expression is a combination of values, variables, and operators. A value all by itself is\n",
        "considered an expression, and so is a variable, so the following are all legal expressions:\n"
      ],
      "metadata": {
        "id": "CDgRUOH0c8mM"
      }
    },
    {
      "cell_type": "code",
      "source": [
        "42"
      ],
      "metadata": {
        "id": "oy8ru4GxgfGb"
      },
      "execution_count": null,
      "outputs": []
    },
    {
      "cell_type": "code",
      "source": [
        "n"
      ],
      "metadata": {
        "id": "Tvd9pQ_4gfJp"
      },
      "execution_count": null,
      "outputs": []
    },
    {
      "cell_type": "code",
      "source": [
        "n + 25"
      ],
      "metadata": {
        "id": "liCwUqOmUM4r"
      },
      "execution_count": null,
      "outputs": []
    },
    {
      "cell_type": "markdown",
      "source": [
        "\n",
        "When you type an expression at the prompt, the interpreter evaluates it, which means that\n",
        "it finds the value of the expression. In this example, n has the value 17 and n + 25 has the\n",
        "value 42.\n",
        "A statement is a unit of code that has an effect, like creating a variable or displaying a\n",
        "value.\n"
      ],
      "metadata": {
        "id": "fJ6CDEscURxi"
      }
    },
    {
      "cell_type": "code",
      "source": [
        "n = 17\n",
        "print(n)"
      ],
      "metadata": {
        "id": "rvyqPrVrUVJ8",
        "outputId": "84e96778-59b6-4a5d-943e-a2955124494e",
        "colab": {
          "base_uri": "https://localhost:8080/"
        }
      },
      "execution_count": 1,
      "outputs": [
        {
          "output_type": "stream",
          "name": "stdout",
          "text": [
            "17\n"
          ]
        }
      ]
    },
    {
      "cell_type": "markdown",
      "source": [
        "The first line is an assignment statement that gives a value to n. The second line is a print\n",
        "statement that displays the value of n.\n",
        "When you type a statement, the interpreter executes it, which means that it does whatever\n",
        "the statement says. In general, statements don’t have values."
      ],
      "metadata": {
        "id": "tMd_CQRxUjAa"
      }
    },
    {
      "cell_type": "markdown",
      "source": [
        "**What is the difference between an expression and a statement in Python?**\n",
        "\n",
        "---\n",
        "\n",
        "StackOverFlow  https://stackoverflow.com/questions/4728073/what-is-the-difference-between-an-expression-and-a-statement-in-python"
      ],
      "metadata": {
        "id": "whl5tvlVUscV"
      }
    },
    {
      "cell_type": "markdown",
      "source": [
        "Due to python's definition that expressions are a subset of statements, the question can be revised as: which statements are not expressions?"
      ],
      "metadata": {
        "id": "_bGwvJPAU4uE"
      }
    },
    {
      "cell_type": "markdown",
      "source": [
        "Expressions only contain identifiers, literals and operators, where operators include arithmetic and boolean operators, the function call operator () the subscription operator [] and similar, and can be reduced to some kind of \"value\", which can be any Python object. Examples:"
      ],
      "metadata": {
        "id": "s0qGSAGkWp7I"
      }
    },
    {
      "cell_type": "code",
      "source": [
        "3 + 5\n",
        "map(lambda x: x*x, range(10))\n",
        "[a.x for a in some_iterable]\n",
        "yield 7"
      ],
      "metadata": {
        "id": "ySUsS-RB0a0m"
      },
      "execution_count": null,
      "outputs": []
    },
    {
      "cell_type": "markdown",
      "source": [
        "Statements, on the other hand, are everything that can make up a line (or several lines) of Python code. Note that expressions are statements as well. Examples:"
      ],
      "metadata": {
        "id": "8CrcuR0Y0Zuu"
      }
    },
    {
      "cell_type": "code",
      "source": [
        "# all the above expressions\n",
        "print 42\n",
        "if x: do_y()\n",
        "return\n",
        "a = 7"
      ],
      "metadata": {
        "id": "7BxW7ViI1Z54"
      },
      "execution_count": null,
      "outputs": []
    },
    {
      "cell_type": "markdown",
      "source": [
        "Expressions can also include function calls (including calling classes for object instantiation). Technically these are \"identifiers\" exactly like names bound to values in an = statement ... even though the binding is through the 'def' or 'class' keywords."
      ],
      "metadata": {
        "id": "I7ygnaoo1uWw"
      }
    },
    {
      "cell_type": "markdown",
      "source": [
        "Python expressions dökümanı: https://docs.python.org/3/reference/expressions.html"
      ],
      "metadata": {
        "id": "JoiETOPv1wUH"
      }
    }
  ],
  "metadata": {
    "colab": {
      "name": "Colaboratory'ye Hoş Geldiniz",
      "toc_visible": true,
      "provenance": []
    },
    "kernelspec": {
      "display_name": "Python 3",
      "name": "python3"
    }
  },
  "nbformat": 4,
  "nbformat_minor": 0
}