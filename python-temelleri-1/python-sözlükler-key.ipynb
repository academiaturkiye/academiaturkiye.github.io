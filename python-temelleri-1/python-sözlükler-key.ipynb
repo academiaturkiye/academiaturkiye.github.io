{
  "cells": [
    {
      "cell_type": "markdown",
      "source": [
        "\n",
        "**Section 71.5: Searching key(s) for a value in dict**\n",
        "\n",
        "https://unglueit-files.s3.amazonaws.com/ebf/617027d14a3046998f54b31503ab7bca.pdf\n",
        "\n",
        "dict have no builtin method for searching a value or key because dictionaries are unordered. You can create a function that gets the key (or keys) for a specified value:\n",
        "\n"
      ],
      "metadata": {
        "id": "gturV6J8eWOo"
      }
    },
    {
      "cell_type": "code",
      "source": [
        "def getKeysForValue(dictionary, value):\n",
        "    foundkeys = []\n",
        "    for keys in dictionary:\n",
        "        if dictionary[keys] == value:\n",
        "            foundkeys.append(keys)\n",
        "    return foundkeys\n"
      ],
      "metadata": {
        "id": "0nym69u2eYyg"
      },
      "execution_count": 12,
      "outputs": []
    },
    {
      "cell_type": "code",
      "source": [
        "#This could also be written as an equivalent list comprehension:\n",
        "def getKeysForValueComp(dictionary, value):\n",
        "    return [key for key in dictionary if dictionary[key] == value]"
      ],
      "metadata": {
        "id": "Y_oXyNApfBJG"
      },
      "execution_count": 9,
      "outputs": []
    },
    {
      "cell_type": "code",
      "source": [
        "#If you only care about one found key:\n",
        "def getOneKeyForValue(dictionary, value):\n",
        "    return next(key for key in dictionary if dictionary[key] == value)"
      ],
      "metadata": {
        "id": "i7tzteAbfZmR"
      },
      "execution_count": 10,
      "outputs": []
    },
    {
      "cell_type": "code",
      "source": [
        "#The first two functions will return a list of all keys that have the specified value:\n",
        "adict = {'a': 10, 'b': 20, 'c': 10}\n",
        "getKeysForValue(adict, 10) # ['c', 'a'] - order is random could as well be ['a', 'c']"
      ],
      "metadata": {
        "id": "A5cgoqclfhqN",
        "outputId": "0b21f8d5-0ec0-4f6c-f17b-630238a7f3e0",
        "colab": {
          "base_uri": "https://localhost:8080/"
        }
      },
      "execution_count": 15,
      "outputs": [
        {
          "output_type": "execute_result",
          "data": {
            "text/plain": [
              "['a', 'c']"
            ]
          },
          "metadata": {},
          "execution_count": 15
        }
      ]
    },
    {
      "cell_type": "code",
      "source": [
        "getKeysForValueComp(adict, 10) # ['c', 'a'] - dito"
      ],
      "metadata": {
        "id": "t1WidvHmiN4D",
        "outputId": "7dbdd8c7-0619-47ed-af9f-97547897a83a",
        "colab": {
          "base_uri": "https://localhost:8080/"
        }
      },
      "execution_count": 16,
      "outputs": [
        {
          "output_type": "execute_result",
          "data": {
            "text/plain": [
              "['a', 'c']"
            ]
          },
          "metadata": {},
          "execution_count": 16
        }
      ]
    },
    {
      "cell_type": "code",
      "source": [
        "getKeysForValueComp(adict, 20) # ['b']"
      ],
      "metadata": {
        "id": "PvuYjib3iNil",
        "outputId": "dd30dd88-a5e2-4095-9891-9d2dd64863cd",
        "colab": {
          "base_uri": "https://localhost:8080/"
        }
      },
      "execution_count": 17,
      "outputs": [
        {
          "output_type": "execute_result",
          "data": {
            "text/plain": [
              "['b']"
            ]
          },
          "metadata": {},
          "execution_count": 17
        }
      ]
    },
    {
      "cell_type": "code",
      "source": [
        "getKeysForValueComp(adict, 25) # []"
      ],
      "metadata": {
        "id": "wlY51g1fiNYg",
        "outputId": "8cb8edee-6cd1-4a64-be14-9522d7a79dce",
        "colab": {
          "base_uri": "https://localhost:8080/"
        }
      },
      "execution_count": 18,
      "outputs": [
        {
          "output_type": "execute_result",
          "data": {
            "text/plain": [
              "[]"
            ]
          },
          "metadata": {},
          "execution_count": 18
        }
      ]
    },
    {
      "cell_type": "code",
      "source": [
        "getOneKeyForValue(adict, 10) # 'c' - depending on the circumstances this could also be 'a'"
      ],
      "metadata": {
        "id": "KDC86c29iNUO",
        "outputId": "1a48774b-e59f-4f18-e6f7-1126a558296a",
        "colab": {
          "base_uri": "https://localhost:8080/",
          "height": 35
        }
      },
      "execution_count": 19,
      "outputs": [
        {
          "output_type": "execute_result",
          "data": {
            "text/plain": [
              "'a'"
            ],
            "application/vnd.google.colaboratory.intrinsic+json": {
              "type": "string"
            }
          },
          "metadata": {},
          "execution_count": 19
        }
      ]
    },
    {
      "cell_type": "code",
      "source": [
        "getOneKeyForValue(adict, 20) # 'b'"
      ],
      "metadata": {
        "id": "fsPtBMmUiNQX",
        "outputId": "1837f9e2-d707-434d-b4ee-0e1ff9bb3424",
        "colab": {
          "base_uri": "https://localhost:8080/",
          "height": 35
        }
      },
      "execution_count": 20,
      "outputs": [
        {
          "output_type": "execute_result",
          "data": {
            "text/plain": [
              "'b'"
            ],
            "application/vnd.google.colaboratory.intrinsic+json": {
              "type": "string"
            }
          },
          "metadata": {},
          "execution_count": 20
        }
      ]
    },
    {
      "cell_type": "code",
      "source": [
        "# and raise a StopIteration-Exception if the value is not in the dict:\n",
        "getOneKeyForValue(adict, 25)\n"
      ],
      "metadata": {
        "id": "97dISbPqfyxc",
        "outputId": "1ab7e0b1-8bfa-4d08-e6a3-b6a01151fd7f",
        "colab": {
          "base_uri": "https://localhost:8080/",
          "height": 245
        }
      },
      "execution_count": 21,
      "outputs": [
        {
          "output_type": "error",
          "ename": "StopIteration",
          "evalue": "",
          "traceback": [
            "\u001b[0;31m---------------------------------------------------------------------------\u001b[0m",
            "\u001b[0;31mStopIteration\u001b[0m                             Traceback (most recent call last)",
            "\u001b[0;32m<ipython-input-21-660eb8751730>\u001b[0m in \u001b[0;36m<cell line: 2>\u001b[0;34m()\u001b[0m\n\u001b[1;32m      1\u001b[0m \u001b[0;31m# and raise a StopIteration-Exception if the value is not in the dict:\u001b[0m\u001b[0;34m\u001b[0m\u001b[0;34m\u001b[0m\u001b[0m\n\u001b[0;32m----> 2\u001b[0;31m \u001b[0mgetOneKeyForValue\u001b[0m\u001b[0;34m(\u001b[0m\u001b[0madict\u001b[0m\u001b[0;34m,\u001b[0m \u001b[0;36m25\u001b[0m\u001b[0;34m)\u001b[0m\u001b[0;34m\u001b[0m\u001b[0;34m\u001b[0m\u001b[0m\n\u001b[0m",
            "\u001b[0;32m<ipython-input-10-06ee11b25b78>\u001b[0m in \u001b[0;36mgetOneKeyForValue\u001b[0;34m(dictionary, value)\u001b[0m\n\u001b[1;32m      1\u001b[0m \u001b[0;31m#If you only care about one found key:\u001b[0m\u001b[0;34m\u001b[0m\u001b[0;34m\u001b[0m\u001b[0m\n\u001b[1;32m      2\u001b[0m \u001b[0;32mdef\u001b[0m \u001b[0mgetOneKeyForValue\u001b[0m\u001b[0;34m(\u001b[0m\u001b[0mdictionary\u001b[0m\u001b[0;34m,\u001b[0m \u001b[0mvalue\u001b[0m\u001b[0;34m)\u001b[0m\u001b[0;34m:\u001b[0m\u001b[0;34m\u001b[0m\u001b[0;34m\u001b[0m\u001b[0m\n\u001b[0;32m----> 3\u001b[0;31m     \u001b[0;32mreturn\u001b[0m \u001b[0mnext\u001b[0m\u001b[0;34m(\u001b[0m\u001b[0mkey\u001b[0m \u001b[0;32mfor\u001b[0m \u001b[0mkey\u001b[0m \u001b[0;32min\u001b[0m \u001b[0mdictionary\u001b[0m \u001b[0;32mif\u001b[0m \u001b[0mdictionary\u001b[0m\u001b[0;34m[\u001b[0m\u001b[0mkey\u001b[0m\u001b[0;34m]\u001b[0m \u001b[0;34m==\u001b[0m \u001b[0mvalue\u001b[0m\u001b[0;34m)\u001b[0m\u001b[0;34m\u001b[0m\u001b[0;34m\u001b[0m\u001b[0m\n\u001b[0m",
            "\u001b[0;31mStopIteration\u001b[0m: "
          ]
        }
      ]
    }
  ],
  "metadata": {
    "colab": {
      "name": "Colaboratory'ye Hoş Geldiniz",
      "toc_visible": true,
      "provenance": []
    },
    "kernelspec": {
      "display_name": "Python 3",
      "name": "python3"
    }
  },
  "nbformat": 4,
  "nbformat_minor": 0
}