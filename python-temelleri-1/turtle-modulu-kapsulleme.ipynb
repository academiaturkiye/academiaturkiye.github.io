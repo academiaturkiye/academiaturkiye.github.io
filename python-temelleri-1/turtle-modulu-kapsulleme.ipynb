https://greenteapress.com/thinkpython2/thinkpython2.pdf s. 32







{
  "cells": [
    {
      "cell_type": "code",
      "source": [
        "!pip3 install ColabTurtle"
      ],
      "metadata": {
        "id": "1QdhhTczYOgl",
        "outputId": "98fb46e1-9474-46e7-d2ea-789fea09e364",
        "colab": {
          "base_uri": "https://localhost:8080/"
        }
      },
      "execution_count": 5,
      "outputs": [
        {
          "output_type": "stream",
          "name": "stdout",
          "text": [
            "Collecting ColabTurtle\n",
            "  Downloading ColabTurtle-2.1.0.tar.gz (6.8 kB)\n",
            "  Preparing metadata (setup.py) ... \u001b[?25l\u001b[?25hdone\n",
            "Building wheels for collected packages: ColabTurtle\n",
            "  Building wheel for ColabTurtle (setup.py) ... \u001b[?25l\u001b[?25hdone\n",
            "  Created wheel for ColabTurtle: filename=ColabTurtle-2.1.0-py3-none-any.whl size=7642 sha256=62e75c1e749f0767ba1ba5d0606db821fb6e9dcf96673e0b69d541897d04ccb3\n",
            "  Stored in directory: /root/.cache/pip/wheels/5b/86/e8/54f5c8c853606e3a3060bb2e60363cbed632374a12e0f33ffc\n",
            "Successfully built ColabTurtle\n",
            "Installing collected packages: ColabTurtle\n",
            "Successfully installed ColabTurtle-2.1.0\n"
          ]
        }
      ]
    },
    {
      "cell_type": "code",
      "source": [
        "from ColabTurtle.Turtle import *"
      ],
      "metadata": {
        "id": "BsP0HjYwZQA8"
      },
      "execution_count": 23,
      "outputs": []
    },
    {
      "cell_type": "code",
      "source": [
        "initializeTurtle()"
      ],
      "metadata": {
        "id": "fz3QR7sBZPlL"
      },
      "execution_count": null,
      "outputs": []
    },
    {
      "cell_type": "code",
      "source": [
        "import ColabTurtle.Turtle as lia\n",
        "lia.initializeTurtle(initial_speed=1)\n"
      ],
      "metadata": {
        "id": "JT_zcJ4CYP8P"
      },
      "execution_count": null,
      "outputs": []
    },
    {
      "cell_type": "code",
      "source": [
        "lia.fd(100)\n",
        "lia.lt(90)\n",
        "lia.fd(100)"
      ],
      "metadata": {
        "id": "R-ggvvs_dDXw"
      },
      "execution_count": null,
      "outputs": []
    },
    {
      "cell_type": "code",
      "source": [
        "for i in range(4):\n",
        "    lia.fd(100)\n",
        "    lia.lt(90)"
      ],
      "metadata": {
        "id": "YH3-TuooeoyB"
      },
      "execution_count": null,
      "outputs": []
    },
    {
      "cell_type": "code",
      "source": [
        "lia.fd(50)\n",
        "lia.color('blue')\n",
        "lia.forward(100)\n",
        "lia.right(45)\n",
        "lia.color('red')\n",
        "lia.forward(50)"
      ],
      "metadata": {
        "id": "rIIMUuwfczwM"
      },
      "execution_count": null,
      "outputs": []
    },
    {
      "cell_type": "code",
      "source": [
        "lia.fd(100)"
      ],
      "metadata": {
        "id": "SZvojpTXaZL_"
      },
      "execution_count": null,
      "outputs": []
    },
    {
      "cell_type": "code",
      "source": [
        "import ColabTurtle\n",
        "forward(100)\n",
        "right(90)\n",
        "forward(100)"
      ],
      "metadata": {
        "id": "82etTFOqZ0-c"
      },
      "execution_count": null,
      "outputs": []
    },
    {
      "cell_type": "markdown",
      "source": [
        "**Encapsulation**\n",
        "\n",
        " Write a function called square that takes a parameter named t, which is a turtle. It\n",
        "should use the turtle to draw a square.\n",
        "Write a function call that passes lia as an argument to square, and then run the\n",
        "program again."
      ],
      "metadata": {
        "id": "jZkK5QvchthI"
      }
    },
    {
      "cell_type": "code",
      "source": [
        "#exercise asks you to put your square-drawing code into a function definition and then call the function, passing the turtle as a parameter. Here is a solution:\n",
        "\n",
        "import ColabTurtle.Turtle as lia\n",
        "lia.initializeTurtle(initial_speed=1)\n",
        "\n",
        "def square(t):\n",
        "    for i in range(4):\n",
        "        t.fd(100)\n",
        "        t.lt(90)\n",
        "square(lia)\n"
      ],
      "metadata": {
        "id": "sPnT9wVZhsBj"
      },
      "execution_count": null,
      "outputs": []
    },
    {
      "cell_type": "markdown",
      "source": [
        "Fonksiyonun içinde, t aynı turtle lia'ya atıfta bulunur, bu yüzden t.lt(90) lia.lt(90) ile aynı etkiye sahiptir. Bu durumda, neden bob parametresini çağırmıyoruz? Buradaki fikir, t'nin sadece lia değil, herhangi bir kaplumbağa olabilmesidir, bu yüzden ikinci bir turtle yaratabilir ve bunu square'e argüman olarak geçirebilirsiniz:"
      ],
      "metadata": {
        "id": "VYcr71otjlhm"
      }
    },
    {
      "cell_type": "code",
      "source": [
        "import ColabTurtle.Turtle as lia\n",
        "lia.initializeTurtle(initial_speed=1)\n",
        "\n",
        "def square(t):\n",
        "    for i in range(4):\n",
        "        t.fd(100)\n",
        "        t.lt(90)\n",
        "square(lia)\n",
        "\n",
        "alice = ColabTurtle.Turtle\n",
        "square(alice)"
      ],
      "metadata": {
        "id": "fKZXfazYj4HE"
      },
      "execution_count": null,
      "outputs": []
    },
    {
      "cell_type": "markdown",
      "source": [
        "Bir kod parçasını bir fonksiyona sarmaya kapsülleme denir. Kapsüllemenin faydalarından biri, koda bir isim eklemesidir, bu da bir tür dokümantasyon görevi görür. Bir diğer avantajı ise kodu tekrar kullanırsanız, gövdeyi kopyalayıp yapıştırmaktansa bir fonksiyonu iki kez çağırmanın daha özlü olmasıdır!"
      ],
      "metadata": {
        "id": "7MgiPKA2lODQ"
      }
    }
  ],
  "metadata": {
    "colab": {
      "name": "Colaboratory'ye Hoş Geldiniz",
      "toc_visible": true,
      "provenance": []
    },
    "kernelspec": {
      "display_name": "Python 3",
      "name": "python3"
    }
  },
  "nbformat": 4,
  "nbformat_minor": 0
}
